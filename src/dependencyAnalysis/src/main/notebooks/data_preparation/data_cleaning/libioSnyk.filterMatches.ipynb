{
 "cells": [
  {
   "cell_type": "code",
   "metadata": {
    "collapsed": true
   },
   "source": [
    "import kotlinx.coroutines.Dispatchers\n",
    "import kotlinx.coroutines.async\n",
    "import kotlinx.coroutines.awaitAll\n",
    "import kotlinx.coroutines.runBlocking\n",
    "import com.google.common.hash.Hashing"
   ],
   "outputs": [],
   "execution_count": null
  },
  {
   "cell_type": "code",
   "source": [
    "import io.github.cdimascio.dotenv.Dotenv\n",
    "import java.nio.file.Paths\n",
    "\n",
    "val dotenv = Dotenv.load()\n",
    "val dataDir = dotenv.get(\"DATA_DIR\").let { Paths.get(it).toFile() }.also { it.mkdirs() }\n",
    "dataDir"
   ],
   "metadata": {
    "collapsed": false
   },
   "outputs": [],
   "execution_count": null
  },
  {
   "cell_type": "code",
   "source": [
    "import org.bson.BsonDocument\n",
    "import org.litote.kmongo.*\n",
    "\n",
    "val client = KMongo.createClient(\"mongodb://localhost:42692/\")\n",
    "val db = client.getDatabase(\"s5_snyk_libio\")\n",
    "val libioVuln = db.getCollection<BsonDocument>(\"libioVuln\")"
   ],
   "metadata": {
    "collapsed": false
   },
   "outputs": [],
   "execution_count": null
  },
  {
   "metadata": {},
   "cell_type": "code",
   "outputs": [],
   "execution_count": null,
   "source": [
    "import com.mongodb.client.*\n",
    "\n",
    "private class MongoCursorIterable<T>(private val cursor: MongoCursor<T>) : MongoCursor<T> by cursor, Iterable<T> {\n",
    "\n",
    "    override fun iterator(): Iterator<T> = cursor\n",
    "}\n",
    "\n",
    "private fun <T> MongoIterable<T>.kCursor(): MongoCursorIterable<T> = MongoCursorIterable(iterator())\n",
    "\n",
    "fun <T, R> MongoIterable<T>.useCursor(block: (Iterable<T>) -> R): R {\n",
    "    return kCursor().use(block)\n",
    "}"
   ]
  },
  {
   "cell_type": "code",
   "source": [
    "val vulnGavs = libioVuln.find().useCursor { blk ->\n",
    "    blk.map {\n",
    "        it[\"vuln_gav\"]!!.asString().value\n",
    "    }\n",
    "}.toSet()\n",
    "\n",
    "vulnGavs.count()"
   ],
   "metadata": {
    "collapsed": false
   },
   "outputs": [],
   "execution_count": null
  },
  {
   "cell_type": "code",
   "source": [
    "val jarsDir = dataDir.resolve(\"interim/jars\").also { it.mkdirs() }\n",
    "\n",
    "fun gavToJarUrl(packageGAV: String): String\n",
    "{\n",
    "    val parts = packageGAV.split(\":\")\n",
    "    return parts[0].replace('.', '/') + \"/\" + parts[1] + \"/\" + parts[2] + \"/\" + parts[1] + \"-\" + parts[2] + \".jar\"\n",
    "}"
   ],
   "metadata": {
    "collapsed": false
   },
   "outputs": [],
   "execution_count": null
  },
  {
   "cell_type": "code",
   "source": [
    "val gavToJar = vulnGavs\n",
    "    .map {\n",
    "        val jarPath = jarsDir.resolve(gavToJarUrl(it))\n",
    "        if (!jarPath.isFile()) null\n",
    "        else it to jarPath\n",
    "    }\n",
    "    .filterNotNull()\n",
    "    .toMap()\n",
    "gavToJar.count()  // 3856"
   ],
   "metadata": {
    "collapsed": false
   },
   "outputs": [],
   "execution_count": null
  },
  {
   "cell_type": "code",
   "source": [
    "import java.io.FileNotFoundException\n",
    "import java.util.zip.ZipFile\n",
    "\n",
    "fun classExistsInJar(jar: File, classFilePath: String): Boolean {\n",
    "    if (!jar.isFile()) {\n",
    "        throw FileNotFoundException(\"jar file not found: ${jar.absolutePath}\")\n",
    "    }\n",
    "    \n",
    "    val jarAsZip = ZipFile(jar)\n",
    "    val entry = jarAsZip.getEntry(classFilePath)\n",
    "    if (entry == null)\n",
    "        return false\n",
    "    \n",
    "    return true\n",
    "}"
   ],
   "metadata": {
    "collapsed": false
   },
   "outputs": [],
   "execution_count": null
  },
  {
   "cell_type": "code",
   "source": [
    "import org.bson.BsonArray\n",
    "\n",
    "val filteredItems = libioVuln.find().useCursor { blk ->\n",
    "    blk.filter {\n",
    "        gavToJar.containsKey(it[\"vuln_gav\"]!!.asString().value)\n",
    "    }.map {\n",
    "        val jar = gavToJar[it[\"vuln_gav\"]!!.asString().value]!!\n",
    "        val modifiedClassesInJar = it[\"vuln_classes\"]!!.asArray().values.filter {\n",
    "            classExistsInJar(\n",
    "                jar, it.asString().value.replace('.', '/') + \".class\"\n",
    "            )\n",
    "        }\n",
    "\n",
    "        if (modifiedClassesInJar.isEmpty()) return@map null\n",
    "\n",
    "        it[\"vuln_classes\"] = BsonArray(modifiedClassesInJar)\n",
    "        it\n",
    "    }.filterNotNull()\n",
    "}"
   ],
   "metadata": {
    "collapsed": false
   },
   "outputs": [],
   "execution_count": null
  },
  {
   "cell_type": "code",
   "source": [
    "filteredItems.count()"
   ],
   "metadata": {
    "collapsed": false
   },
   "outputs": [],
   "execution_count": null
  },
  {
   "cell_type": "code",
   "source": [
    "filteredItems.map { it[\"vuln_gav\"]!!.asString().value }.toSet().count()"
   ],
   "metadata": {
    "collapsed": false
   },
   "outputs": [],
   "execution_count": null
  },
  {
   "cell_type": "code",
   "source": [
    "libioVuln.drop()\n",
    "libioVuln.insertMany(filteredItems)"
   ],
   "metadata": {
    "collapsed": false
   },
   "outputs": [],
   "execution_count": null
  }
 ],
 "metadata": {
  "kernelspec": {
   "display_name": "Kotlin",
   "language": "kotlin",
   "name": "kotlin"
  },
  "language_info": {
   "name": "kotlin",
   "version": "1.9.0",
   "mimetype": "text/x-kotlin",
   "file_extension": ".kt",
   "pygments_lexer": "kotlin",
   "codemirror_mode": "text/x-kotlin",
   "nbconvert_exporter": ""
  },
  "ktnbPluginMetadata": {
   "projectDependencies": true
  }
 },
 "nbformat": 4,
 "nbformat_minor": 0
}
