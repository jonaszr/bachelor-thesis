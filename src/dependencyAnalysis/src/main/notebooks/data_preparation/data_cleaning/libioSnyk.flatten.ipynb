{
 "cells": [
  {
   "cell_type": "code",
   "id": "ca158c4586a264e2",
   "metadata": {},
   "source": [
    "from typing import *\n",
    "import pandas as pd\n",
    "from pathlib import Path\n",
    "import os\n",
    "import sys\n",
    "import re\n",
    "from dotenv import load_dotenv, dotenv_values\n",
    "from pydriller import Repository\n",
    "import json\n",
    "from multiprocessing import Pool\n",
    "from itertools import chain\n",
    "from pymongo import MongoClient\n",
    "import collections"
   ],
   "outputs": [],
   "execution_count": null
  },
  {
   "cell_type": "code",
   "id": "initial_id",
   "metadata": {
    "collapsed": false
   },
   "source": [
    "import dotenv\n",
    "dotenv.load_dotenv()\n",
    "ENV = dotenv.dotenv_values(\".env\")\n",
    "DATA_DIR = Path(ENV[\"DATA_DIR\"])\n",
    "\n",
    "client = MongoClient(\"localhost\", 42692)\n",
    "db = client.s5_snyk_libio"
   ],
   "outputs": [],
   "execution_count": null
  },
  {
   "cell_type": "code",
   "id": "cd39b7b100eb93e",
   "metadata": {
    "collapsed": false
   },
   "source": [
    "vuln_urls_data = list(db.vulnUrls.find())\n",
    "patch_urls_data = list(db.patchUrls.find())\n",
    "patch_commits_data = list(db.patchCommitsLibio.find())\n",
    "libio_data = list(db.libioExport.find())\n",
    "vuln_details_data = list(db.vulnUrlDetails.find())"
   ],
   "outputs": [],
   "execution_count": null
  },
  {
   "cell_type": "code",
   "id": "25d46e18db79abd9",
   "metadata": {
    "collapsed": false
   },
   "source": [
    "all_vuln_urls = set()\n",
    "for vuln_url_it in vuln_urls_data:\n",
    "    dep_vuln_info = dict()\n",
    "    for vuln_url in vuln_url_it['VulnUrls']:\n",
    "        all_vuln_urls.add(vuln_url)\n",
    "\n",
    "len(all_vuln_urls)"
   ],
   "outputs": [],
   "execution_count": null
  },
  {
   "cell_type": "code",
   "id": "89a8547c68ae05ed",
   "metadata": {
    "collapsed": false
   },
   "source": [
    "package_vuln_data = list()  # (dep_name:dep_ver) -> vuln_info\n",
    "\n",
    "for vuln_url_it in vuln_urls_data:\n",
    "    dep_vuln_info = dict()\n",
    "    for vuln_url in vuln_url_it['VulnUrls']:\n",
    "        patch_info: Dict[str, Dict] = dict()  # commit_url -> [commit_info] \n",
    "        _patch_urls_data = [pu for pu in patch_urls_data if pu['VulnUrl'] == vuln_url]\n",
    "\n",
    "        for patch_urls_it in _patch_urls_data:\n",
    "            for patch_url in patch_urls_it['PatchUrls']:\n",
    "                _patch_commits_data = [pc for pc in patch_commits_data if pc['snykPatchUrl'] == patch_url]\n",
    "                commit_info = list()\n",
    "\n",
    "                for patch_commit_it in _patch_commits_data:\n",
    "                    if patch_commit_it:\n",
    "                        commit_info.append(patch_commit_it)\n",
    "\n",
    "                if commit_info:\n",
    "                    patch_info[patch_url] = commit_info\n",
    "\n",
    "        if patch_info:\n",
    "            dep_vuln_info[vuln_url] = patch_info\n",
    "\n",
    "    if dep_vuln_info:\n",
    "        pvd = dict()\n",
    "        pvd[\"_id\"] = vuln_url_it['DependencyName'] + \":\" + vuln_url_it['DependencyVersion']\n",
    "        pvd['vulnInfo'] = dep_vuln_info\n",
    "        package_vuln_data.append(pvd)"
   ],
   "outputs": [],
   "execution_count": null
  },
  {
   "cell_type": "code",
   "id": "4b92738255de58b5",
   "metadata": {
    "collapsed": false
   },
   "source": [
    "# db.libioPackageVuln.insert_many(package_vuln_data)"
   ],
   "outputs": [],
   "execution_count": null
  },
  {
   "cell_type": "code",
   "source": [
    "vuln_details_dict = dict()\n",
    "for it in vuln_details_data:\n",
    "    vuln_details_dict[it['VulnUrl']] = it"
   ],
   "metadata": {
    "collapsed": false
   },
   "id": "3653659ed27c5f94",
   "outputs": [],
   "execution_count": null
  },
  {
   "cell_type": "code",
   "id": "6020ad46d7e24f21",
   "metadata": {
    "collapsed": false
   },
   "source": [
    "flattened_data = list()\n",
    "\n",
    "for package_vuln_data_it in package_vuln_data:\n",
    "    gav = package_vuln_data_it['_id']\n",
    "    for snyk_url, vuln_info_v in package_vuln_data_it['vulnInfo'].items():\n",
    "        modified_classes = set()\n",
    "        modified_methods = set()\n",
    "        patches = set()\n",
    "        \n",
    "        for commit_url, commit_v in vuln_info_v.items():  # all commits of a single vuln will be merged\n",
    "            patches.add(commit_url)\n",
    "            for commit_change in commit_v:\n",
    "                modified_classes.add(commit_change['modifiedClass'])\n",
    "                modified_methods.update(commit_change['changedMethods'])\n",
    "        \n",
    "        r = dict()\n",
    "        r['data_src'] = 'snyk'\n",
    "        r['cve_ref'] = vuln_details_dict[snyk_url]['CveId']\n",
    "        r['snyk_url'] = snyk_url\n",
    "        r['vuln_gav'] = gav\n",
    "        r['vuln_classes'] = list(modified_classes)\n",
    "        # r['vuln_method'] = list(modified_methods  omitting for now because we have to check if the method is present in the 'before' version\n",
    "        r['patches'] = list(patches)\n",
    "        \n",
    "        flattened_data.append(r)\n"
   ],
   "outputs": [],
   "execution_count": null
  },
  {
   "cell_type": "code",
   "source": [
    "len(flattened_data)"
   ],
   "metadata": {
    "collapsed": false
   },
   "id": "64772718cdc95610",
   "outputs": [],
   "execution_count": null
  },
  {
   "cell_type": "code",
   "source": [
    "uniq_cve_ga = set()\n",
    "uniq_snyk_ga = set()\n",
    "\n",
    "for it in flattened_data:\n",
    "    uniq_cve_ga.add((it['cve_ref'], ':'.join(it['vuln_gav'].split(':')[:-1])))\n",
    "    uniq_snyk_ga.add((it['snyk_url'], ':'.join(it['vuln_gav'].split(':')[:-1])))\n",
    "\n",
    "uniq_cve_ga.__len__(), len(uniq_snyk_ga)"
   ],
   "metadata": {
    "collapsed": false
   },
   "id": "fbfcc5f63e237785",
   "outputs": [],
   "execution_count": null
  },
  {
   "cell_type": "code",
   "source": [
    "# db.libioVuln.drop()\n",
    "# db.libioVuln.insert_many(flattened_data)"
   ],
   "metadata": {
    "collapsed": false
   },
   "id": "da96b5291a3f7923",
   "outputs": [],
   "execution_count": null
  }
 ],
 "metadata": {
  "kernelspec": {
   "display_name": "Python 3 (ipykernel)",
   "language": "python",
   "name": "python3"
  },
  "language_info": {
   "codemirror_mode": {
    "name": "ipython",
    "version": 3
   },
   "file_extension": ".py",
   "mimetype": "text/x-python",
   "name": "python",
   "nbconvert_exporter": "python",
   "pygments_lexer": "ipython3",
   "version": "3.11.6"
  }
 },
 "nbformat": 4,
 "nbformat_minor": 5
}
