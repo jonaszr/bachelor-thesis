{
 "cells": [
  {
   "cell_type": "code",
   "id": "initial_id",
   "metadata": {
    "collapsed": true
   },
   "source": [
    "from typing import *\n",
    "import pandas as pd\n",
    "from pathlib import Path\n",
    "import os\n",
    "import random\n",
    "import itertools\n",
    "import sys\n",
    "import re\n",
    "from dotenv import load_dotenv, dotenv_values\n",
    "from pydriller import Repository\n",
    "import json\n",
    "from multiprocessing import Pool\n",
    "from itertools import chain\n",
    "import numpy as np\n",
    "from pymongo import MongoClient\n",
    "import collections"
   ],
   "outputs": [],
   "execution_count": null
  },
  {
   "cell_type": "code",
   "source": [
    "import dotenv\n",
    "dotenv.load_dotenv()\n",
    "ENV = dotenv.dotenv_values(\".env\")\n",
    "DATA_DIR = Path(ENV[\"DATA_DIR\"])\n",
    "MVN_ECO_DIR = Path(ENV[\"MVN_ECO_DIR\"])\n",
    "JARS_DIR = DATA_DIR / 'interim' / 'jars'\n",
    "client = MongoClient(\"localhost\", 42692)\n",
    "db = client.s5_snyk_libio"
   ],
   "metadata": {
    "collapsed": false
   },
   "id": "42d961d9fb7b38a8",
   "outputs": [],
   "execution_count": null
  },
  {
   "cell_type": "code",
   "source": [
    "vuln_data = list(db.mergedVuln.find())\n",
    "libio_export_data = list(db.libioExport.find())"
   ],
   "metadata": {
    "collapsed": false
   },
   "id": "9853e48e3998b8f4",
   "outputs": [],
   "execution_count": null
  },
  {
   "cell_type": "code",
   "source": [
    "len(vuln_data), len(libio_export_data)"
   ],
   "metadata": {
    "collapsed": false
   },
   "id": "e16cd95e5ad690d8",
   "outputs": [],
   "execution_count": null
  },
  {
   "cell_type": "code",
   "source": [
    "dep_to_client_gavs = collections.defaultdict(set)\n",
    "for it in libio_export_data:\n",
    "    dep_gav = it['DependencyName'] + \":\" + it['DependencyVersion']\n",
    "    client_gav = it['DependentName'] + \":\" + it['DependentVersion']\n",
    "\n",
    "    dep_g = dep_gav.split(':')[0]\n",
    "    client_g = client_gav.split(':')[0]\n",
    "\n",
    "    if dep_g == client_g:    # we don't want dependencies in the same project\n",
    "        continue\n",
    "\n",
    "    dep_to_client_gavs[dep_gav].add(client_gav)\n",
    "\n",
    "len(dep_to_client_gavs.keys()) "
   ],
   "metadata": {
    "collapsed": false
   },
   "id": "b87353577388d820",
   "outputs": [],
   "execution_count": null
  },
  {
   "cell_type": "code",
   "source": [
    "mvn_eco_deps = pd.read_csv(MVN_ECO_DIR / 'csv' / 'DEP.csv').to_dict(orient='records')\n",
    "len(mvn_eco_deps), mvn_eco_deps[0].keys()"
   ],
   "metadata": {
    "collapsed": false
   },
   "id": "bb20c13615c82e2c",
   "outputs": [],
   "execution_count": null
  },
  {
   "cell_type": "code",
   "source": [
    "for it in mvn_eco_deps:\n",
    "    dep_gav = it['Upstream G:A:V']\n",
    "    client_gav = it['Downstream G:A:V']\n",
    "\n",
    "    dep_g = dep_gav.split(':')[0]\n",
    "    client_g = client_gav.split(':')[0]\n",
    "\n",
    "    if dep_g == client_g:    # we don't want dependencies in the same project\n",
    "        continue\n",
    "        \n",
    "    dep_to_client_gavs[dep_gav].add(client_gav)\n",
    "\n",
    "len(dep_to_client_gavs.keys())"
   ],
   "metadata": {
    "collapsed": false
   },
   "id": "82b8713120ce19cf",
   "outputs": [],
   "execution_count": null
  },
  {
   "cell_type": "code",
   "source": [
    "client_gav_set = set.union(*dep_to_client_gavs.values())\n",
    "len(client_gav_set)"
   ],
   "metadata": {
    "collapsed": false
   },
   "id": "65bcceefbb0e005e",
   "outputs": [],
   "execution_count": null
  },
  {
   "cell_type": "code",
   "source": [
    "def gav_to_jar_url(package_gav: str) -> str:\n",
    "    parts = package_gav.split(\":\")\n",
    "    return parts[0].replace('.', '/') + \"/\" + parts[1] + \"/\" + parts[2] + \"/\" + parts[1] + \"-\" + parts[2] + \".jar\"\n",
    "\n",
    "def gen_aria2c_dl_txt(repo_url: str) -> str:\n",
    "    lines = []\n",
    "    for gav in client_gav_set:\n",
    "        jar_url = gav_to_jar_url(gav)\n",
    "        (JARS_DIR / jar_url).parent.mkdir(parents=True, exist_ok=True)\n",
    "        dl_url = repo_url + '/' + jar_url\n",
    "        line = f\"{dl_url}\\n\\tout={jar_url}\"\n",
    "        lines.append(line)\n",
    "    \n",
    "    return '\\n'.join(lines)\n",
    "\n",
    "aria2c_dl_txt = gen_aria2c_dl_txt(\"https://repo1.maven.org/maven2\")\n",
    "(JARS_DIR / 'dl.txt').write_text(aria2c_dl_txt)"
   ],
   "metadata": {
    "collapsed": false
   },
   "id": "a5e08ce90f7d597d",
   "outputs": [],
   "execution_count": null
  },
  {
   "cell_type": "markdown",
   "source": [
    "manually download..."
   ],
   "metadata": {
    "collapsed": false
   },
   "id": "7950da16c7258e44"
  },
  {
   "cell_type": "code",
   "source": [
    "client_gav_set_with_jar = set()\n",
    "for gav in client_gav_set:\n",
    "    if (JARS_DIR / gav_to_jar_url(gav)).is_file():\n",
    "        client_gav_set_with_jar.add(gav)\n",
    "\n",
    "len(client_gav_set_with_jar)"
   ],
   "metadata": {
    "collapsed": false
   },
   "id": "f0caa60ff45b9857",
   "outputs": [],
   "execution_count": null
  },
  {
   "cell_type": "code",
   "source": [
    "blacklist_gavs = {\n",
    "    \"com.github.rockylomo:rxlib:2.13.3\",\n",
    "    \"org.dihedron.strutlets:strutlets:1.0.6\",\n",
    "    \"org.dihedron.zephyr:zephyr:1.0.0.RC2\",\n",
    "    \"com.github.rockylomo:rxlib:2.13.16\"\n",
    "}"
   ],
   "metadata": {
    "collapsed": false
   },
   "id": "921655dbc4b87006",
   "outputs": [],
   "execution_count": null
  },
  {
   "cell_type": "code",
   "source": [
    "uniq_cve_dep_client_set = set()\n",
    "for vd_it in vuln_data:\n",
    "    cve_ref = vd_it['cve_ref']\n",
    "    if cve_ref == '':\n",
    "        cve_ref = vd_it['snyk_url']\n",
    "    \n",
    "    vuln_gav = vd_it['vuln_gav']\n",
    "    \n",
    "    for client_gav in dep_to_client_gavs[vuln_gav]:\n",
    "        dep_g = vuln_gav.split(':')[0]\n",
    "        client_g = client_gav.split(':')[0]\n",
    "        \n",
    "        if client_gav not in client_gav_set_with_jar or client_gav in blacklist_gavs:\n",
    "            continue\n",
    "    \n",
    "        if dep_g == client_g:    # we don't want dependencies in the same project\n",
    "            continue\n",
    "            \n",
    "        uniq_cve_dep_client_set.add((cve_ref, vuln_gav, client_gav))\n",
    "\n",
    "len(uniq_cve_dep_client_set)"
   ],
   "metadata": {
    "collapsed": false
   },
   "id": "c513ddb04a94c45",
   "outputs": [],
   "execution_count": null
  },
  {
   "cell_type": "code",
   "source": [
    "groupby_cve__dep_ga__client_ga = collections.defaultdict(set)\n",
    "for cve, dep_gav, client_gav in uniq_cve_dep_client_set:\n",
    "    dep_ga = ':'.join(dep_gav.split(':')[:-1])\n",
    "    client_ga = ':'.join(client_gav.split(':')[:-1])\n",
    "    \n",
    "    dep_g = dep_ga.split(':')[0]\n",
    "    client_g = client_ga.split(':')[0]\n",
    "    \n",
    "    groupby_cve__dep_ga__client_ga[(cve, dep_ga, client_ga)].add((cve, dep_gav, client_gav))\n",
    "\n",
    "len(groupby_cve__dep_ga__client_ga.keys())"
   ],
   "metadata": {
    "collapsed": false
   },
   "id": "41656ff21a0e01c2",
   "outputs": [],
   "execution_count": null
  },
  {
   "cell_type": "code",
   "source": [
    "random_cve_triplets = set()\n",
    "random.seed(42)\n",
    "for k in groupby_cve__dep_ga__client_ga.keys():\n",
    "    random_triplet = random.choice(list(groupby_cve__dep_ga__client_ga[k]))\n",
    "    random_cve_triplets.add(random_triplet)\n",
    "\n",
    "len(random_cve_triplets)"
   ],
   "metadata": {
    "collapsed": false
   },
   "id": "ddcbfe416f5b5432",
   "outputs": [],
   "execution_count": null
  },
  {
   "cell_type": "code",
   "source": [
    "random.choice(list(random_cve_triplets))"
   ],
   "metadata": {
    "collapsed": false
   },
   "id": "f08cbcc20a5a4e99",
   "outputs": [],
   "execution_count": null
  },
  {
   "cell_type": "code",
   "source": [
    "col = db.mergedVulnClients\n",
    "col.drop()\n",
    "for cve, dep_gav, client_gav in random_cve_triplets:\n",
    "    it = dict()\n",
    "    it['cve'] = cve\n",
    "    it['dep_gav'] = dep_gav\n",
    "    it['client_gav'] = client_gav\n",
    "    col.insert_one(it)"
   ],
   "metadata": {
    "collapsed": false
   },
   "id": "6f6ea5522983a507",
   "outputs": [],
   "execution_count": null
  },
  {
   "cell_type": "code",
   "source": [
    "g = itertools.groupby(random_cve_triplets, key=lambda x: (x[1]))\n",
    "a = np.array([len(list(l)) for _, l in g])\n",
    "np.min(a), np.max(a), np.median(a), np.average(a)"
   ],
   "metadata": {
    "collapsed": false
   },
   "id": "f2e8d95b0957556a",
   "outputs": [],
   "execution_count": null
  },
  {
   "cell_type": "code",
   "source": [
    "cve_count = len(set(x[0] for x in random_cve_triplets))\n",
    "dep_count = len(set(x[1] for x in random_cve_triplets))\n",
    "client_count = len(set(x[2] for x in random_cve_triplets))\n",
    "cve_count, dep_count, client_count, client_count / dep_count, random_cve_triplets.__len__() / dep_count"
   ],
   "metadata": {
    "collapsed": false
   },
   "id": "fd014d1145596d5f",
   "outputs": [],
   "execution_count": null
  }
 ],
 "metadata": {
  "kernelspec": {
   "display_name": "Python 3",
   "language": "python",
   "name": "python3"
  },
  "language_info": {
   "codemirror_mode": {
    "name": "ipython",
    "version": 2
   },
   "file_extension": ".py",
   "mimetype": "text/x-python",
   "name": "python",
   "nbconvert_exporter": "python",
   "pygments_lexer": "ipython2",
   "version": "2.7.6"
  }
 },
 "nbformat": 4,
 "nbformat_minor": 5
}
