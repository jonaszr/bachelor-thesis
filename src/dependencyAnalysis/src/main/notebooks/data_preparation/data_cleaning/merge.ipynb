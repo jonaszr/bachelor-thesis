{
 "cells": [
  {
   "cell_type": "code",
   "id": "initial_id",
   "metadata": {
    "collapsed": true,
    "ExecuteTime": {
     "end_time": "2025-04-11T13:35:50.718965Z",
     "start_time": "2025-04-11T13:35:50.140867Z"
    }
   },
   "source": [
    "from typing import *\n",
    "import pandas as pd\n",
    "from pathlib import Path\n",
    "import os\n",
    "import random\n",
    "import sys\n",
    "import re\n",
    "from dotenv import load_dotenv, dotenv_values\n",
    "from pydriller import Repository\n",
    "import json\n",
    "from multiprocessing import Pool\n",
    "from itertools import chain\n",
    "from pymongo import MongoClient\n",
    "import collections"
   ],
   "outputs": [],
   "execution_count": 1
  },
  {
   "cell_type": "code",
   "source": [
    "import dotenv\n",
    "dotenv.load_dotenv()\n",
    "ENV = dotenv.dotenv_values(\".env\")\n",
    "DATA_DIR = Path(ENV[\"DATA_DIR\"])\n",
    "\n",
    "client = MongoClient(\"localhost\", 42692)\n",
    "db = client.s5_snyk_libio"
   ],
   "metadata": {
    "collapsed": false,
    "ExecuteTime": {
     "end_time": "2025-04-11T13:35:50.739195Z",
     "start_time": "2025-04-11T13:35:50.723363Z"
    }
   },
   "id": "42d961d9fb7b38a8",
   "outputs": [],
   "execution_count": 2
  },
  {
   "cell_type": "code",
   "source": "db.mergedVuln.drop()",
   "metadata": {
    "collapsed": false,
    "ExecuteTime": {
     "end_time": "2025-04-11T13:35:50.883895Z",
     "start_time": "2025-04-11T13:35:50.878888Z"
    }
   },
   "id": "9853e48e3998b8f4",
   "outputs": [],
   "execution_count": 3
  },
  {
   "cell_type": "code",
   "source": [
    "libio_vuln_data = list(db.libioVuln.find())\n",
    "mvn_eco_vuln_data = list(db.mvnEcoVuln.find())\n",
    "db.mergedVuln.insert_many(db.libioVuln.find())\n",
    "db.mergedVuln.insert_many(db.mvnEcoVuln.find())"
   ],
   "metadata": {
    "collapsed": false,
    "ExecuteTime": {
     "end_time": "2025-04-11T13:35:51.240303Z",
     "start_time": "2025-04-11T13:35:50.927312Z"
    }
   },
   "id": "f44e3b149b30af02",
   "outputs": [
    {
     "data": {
      "text/plain": [
       "InsertManyResult([ObjectId('67f9147e6e91fd4e04c23faf'), ObjectId('67f9147e6e91fd4e04c23fb0'), ObjectId('67f9147e6e91fd4e04c23fb1'), ObjectId('67f9147e6e91fd4e04c23fb2'), ObjectId('67f9147e6e91fd4e04c23fb3'), ObjectId('67f9147e6e91fd4e04c23fb4'), ObjectId('67f9147e6e91fd4e04c23fb5'), ObjectId('67f9147e6e91fd4e04c23fb6'), ObjectId('67f9147e6e91fd4e04c23fb7'), ObjectId('67f9147e6e91fd4e04c23fb9'), ObjectId('67f9147e6e91fd4e04c23fba'), ObjectId('67f9147e6e91fd4e04c23fbb'), ObjectId('67f9147e6e91fd4e04c23fbc'), ObjectId('67f9147e6e91fd4e04c23fbd'), ObjectId('67f9147e6e91fd4e04c23fbe'), ObjectId('67f9147e6e91fd4e04c23fbf'), ObjectId('67f9147e6e91fd4e04c23fc0'), ObjectId('67f9147e6e91fd4e04c23fc1'), ObjectId('67f9147e6e91fd4e04c23fc2'), ObjectId('67f9147e6e91fd4e04c23fc3'), ObjectId('67f9147e6e91fd4e04c23fc4'), ObjectId('67f9147e6e91fd4e04c23fc5'), ObjectId('67f9147e6e91fd4e04c23fc6'), ObjectId('67f9147e6e91fd4e04c23fc7'), ObjectId('67f9147e6e91fd4e04c23fc8'), ObjectId('67f9147e6e91fd4e04c23fc9'), ObjectId('67f9147e6e91fd4e04c23fca'), ObjectId('67f9147e6e91fd4e04c23fcb'), ObjectId('67f9147e6e91fd4e04c23fcc'), ObjectId('67f9147e6e91fd4e04c23fcd'), ObjectId('67f9147e6e91fd4e04c23fce'), ObjectId('67f9147e6e91fd4e04c23fcf'), ObjectId('67f9147e6e91fd4e04c23fd0'), ObjectId('67f9147e6e91fd4e04c23fd1'), ObjectId('67f9147e6e91fd4e04c23fd2'), ObjectId('67f9147e6e91fd4e04c23fd3'), ObjectId('67f9147e6e91fd4e04c23fd4'), ObjectId('67f9147e6e91fd4e04c23fd5'), ObjectId('67f9147e6e91fd4e04c23fd6'), ObjectId('67f9147e6e91fd4e04c23fd7'), ObjectId('67f9147e6e91fd4e04c23fd8'), ObjectId('67f9147e6e91fd4e04c23fd9'), ObjectId('67f9147e6e91fd4e04c23fda'), ObjectId('67f9147e6e91fd4e04c23fdb'), ObjectId('67f9147e6e91fd4e04c23fdc'), ObjectId('67f9147e6e91fd4e04c23fdd'), ObjectId('67f9147e6e91fd4e04c23fde'), ObjectId('67f9147e6e91fd4e04c23fdf'), ObjectId('67f9147e6e91fd4e04c23fe0'), ObjectId('67f9147e6e91fd4e04c23fe1'), ObjectId('67f9147e6e91fd4e04c23fe2'), ObjectId('67f9147e6e91fd4e04c23fe3'), ObjectId('67f9147e6e91fd4e04c23fe4'), ObjectId('67f9147e6e91fd4e04c23fe5'), ObjectId('67f9147e6e91fd4e04c23fe6'), ObjectId('67f9147e6e91fd4e04c23fe7'), ObjectId('67f9147e6e91fd4e04c23fe8'), ObjectId('67f9147e6e91fd4e04c23fe9'), ObjectId('67f9147e6e91fd4e04c23fea'), ObjectId('67f9147e6e91fd4e04c23feb'), ObjectId('67f9147e6e91fd4e04c23fec'), ObjectId('67f9147e6e91fd4e04c23fed'), ObjectId('67f9147e6e91fd4e04c23fee'), ObjectId('67f9147e6e91fd4e04c23fef'), ObjectId('67f9147e6e91fd4e04c23ff0'), ObjectId('67f9147e6e91fd4e04c23ff1'), ObjectId('67f9147e6e91fd4e04c23ff2'), ObjectId('67f9147e6e91fd4e04c23ff3'), ObjectId('67f9147e6e91fd4e04c23ff4'), ObjectId('67f9147e6e91fd4e04c23ff5'), ObjectId('67f9147e6e91fd4e04c23ff6'), ObjectId('67f9147e6e91fd4e04c23ff7'), ObjectId('67f9147e6e91fd4e04c23ff8'), ObjectId('67f9147e6e91fd4e04c23ff9'), ObjectId('67f9147e6e91fd4e04c23ffa'), ObjectId('67f9147e6e91fd4e04c23ffb'), ObjectId('67f9147e6e91fd4e04c23ffc'), ObjectId('67f9147e6e91fd4e04c23ffd'), ObjectId('67f9147e6e91fd4e04c23ffe'), ObjectId('67f9147e6e91fd4e04c23fff'), ObjectId('67f9147e6e91fd4e04c24000'), ObjectId('67f9147e6e91fd4e04c24001'), ObjectId('67f9147e6e91fd4e04c24002'), ObjectId('67f9147e6e91fd4e04c24003'), ObjectId('67f9147e6e91fd4e04c24004'), ObjectId('67f9147e6e91fd4e04c24005'), ObjectId('67f9147e6e91fd4e04c24006'), ObjectId('67f9147e6e91fd4e04c24007'), ObjectId('67f9147e6e91fd4e04c24008'), ObjectId('67f9147e6e91fd4e04c24009'), ObjectId('67f9147e6e91fd4e04c2400a'), ObjectId('67f9147e6e91fd4e04c2400b'), ObjectId('67f9147e6e91fd4e04c2400c'), ObjectId('67f9147e6e91fd4e04c2400d'), ObjectId('67f9147e6e91fd4e04c2400e'), ObjectId('67f9147e6e91fd4e04c2400f'), ObjectId('67f9147e6e91fd4e04c24010'), ObjectId('67f9147e6e91fd4e04c24011'), ObjectId('67f9147e6e91fd4e04c24012'), ObjectId('67f9147e6e91fd4e04c24013'), ObjectId('67f9147e6e91fd4e04c24014'), ObjectId('67f9147e6e91fd4e04c24015'), ObjectId('67f9147e6e91fd4e04c24016'), ObjectId('67f9147e6e91fd4e04c24017'), ObjectId('67f9147e6e91fd4e04c24018'), ObjectId('67f9147e6e91fd4e04c24019'), ObjectId('67f9147e6e91fd4e04c2401a'), ObjectId('67f9147e6e91fd4e04c2401b'), ObjectId('67f9147e6e91fd4e04c2401c'), ObjectId('67f9147e6e91fd4e04c2401d'), ObjectId('67f9147e6e91fd4e04c2401e'), ObjectId('67f9147e6e91fd4e04c2401f'), ObjectId('67f9147e6e91fd4e04c24020'), ObjectId('67f9147e6e91fd4e04c24021'), ObjectId('67f9147e6e91fd4e04c24022'), ObjectId('67f9147e6e91fd4e04c24023'), ObjectId('67f9147e6e91fd4e04c24024'), ObjectId('67f9147e6e91fd4e04c24025'), ObjectId('67f9147e6e91fd4e04c24026'), ObjectId('67f9147e6e91fd4e04c24027'), ObjectId('67f9147e6e91fd4e04c24028'), ObjectId('67f9147e6e91fd4e04c24029'), ObjectId('67f9147e6e91fd4e04c2402a'), ObjectId('67f9147e6e91fd4e04c2402b'), ObjectId('67f9147e6e91fd4e04c2402c'), ObjectId('67f9147e6e91fd4e04c2402d'), ObjectId('67f9147e6e91fd4e04c2402e'), ObjectId('67f9147e6e91fd4e04c2402f'), ObjectId('67f9147e6e91fd4e04c24030'), ObjectId('67f9147e6e91fd4e04c24031'), ObjectId('67f9147e6e91fd4e04c24032'), ObjectId('67f9147e6e91fd4e04c24033'), ObjectId('67f9147e6e91fd4e04c24034'), ObjectId('67f9147e6e91fd4e04c24035'), ObjectId('67f9147e6e91fd4e04c24036'), ObjectId('67f9147e6e91fd4e04c24037'), ObjectId('67f9147e6e91fd4e04c24038'), ObjectId('67f9147e6e91fd4e04c24039'), ObjectId('67f9147e6e91fd4e04c2403a'), ObjectId('67f9147e6e91fd4e04c2403b'), ObjectId('67f9147e6e91fd4e04c2403c'), ObjectId('67f9147e6e91fd4e04c2403d'), ObjectId('67f9147e6e91fd4e04c2403e'), ObjectId('67f9147e6e91fd4e04c2403f'), ObjectId('67f9147e6e91fd4e04c24040'), ObjectId('67f9147e6e91fd4e04c24041'), ObjectId('67f9147e6e91fd4e04c24042'), ObjectId('67f9147e6e91fd4e04c24043'), ObjectId('67f9147e6e91fd4e04c24044'), ObjectId('67f9147e6e91fd4e04c24045'), ObjectId('67f9147e6e91fd4e04c24046'), ObjectId('67f9147e6e91fd4e04c24047'), ObjectId('67f9147e6e91fd4e04c24048'), ObjectId('67f9147e6e91fd4e04c24049'), ObjectId('67f9147e6e91fd4e04c2404a'), ObjectId('67f9147e6e91fd4e04c2404b'), ObjectId('67f9147e6e91fd4e04c2404c'), ObjectId('67f9147e6e91fd4e04c2404d'), ObjectId('67f9147e6e91fd4e04c2404e'), ObjectId('67f9147e6e91fd4e04c2404f'), ObjectId('67f9147e6e91fd4e04c24050'), ObjectId('67f9147e6e91fd4e04c24051'), ObjectId('67f9147e6e91fd4e04c24052'), ObjectId('67f9147e6e91fd4e04c24053'), ObjectId('67f9147e6e91fd4e04c24054'), ObjectId('67f9147e6e91fd4e04c24055'), ObjectId('67f9147e6e91fd4e04c24056'), ObjectId('67f9147e6e91fd4e04c24057'), ObjectId('67f9147e6e91fd4e04c24058'), ObjectId('67f9147e6e91fd4e04c24059'), ObjectId('67f9147e6e91fd4e04c2405a'), ObjectId('67f9147e6e91fd4e04c2405b'), ObjectId('67f9147e6e91fd4e04c2405c'), ObjectId('67f9147e6e91fd4e04c2405d'), ObjectId('67f9147e6e91fd4e04c2405e'), ObjectId('67f9147e6e91fd4e04c2405f'), ObjectId('67f9147e6e91fd4e04c24060'), ObjectId('67f9147e6e91fd4e04c24061'), ObjectId('67f9147e6e91fd4e04c24062'), ObjectId('67f9147e6e91fd4e04c24063'), ObjectId('67f9147e6e91fd4e04c24064'), ObjectId('67f9147e6e91fd4e04c24065'), ObjectId('67f9147e6e91fd4e04c24066'), ObjectId('67f9147e6e91fd4e04c24067'), ObjectId('67f9147e6e91fd4e04c24068'), ObjectId('67f9147e6e91fd4e04c24069'), ObjectId('67f9147e6e91fd4e04c2406a'), ObjectId('67f9147e6e91fd4e04c2406b'), ObjectId('67f9147e6e91fd4e04c2406c'), ObjectId('67f9147e6e91fd4e04c2406d'), ObjectId('67f9147e6e91fd4e04c2406e'), ObjectId('67f9147e6e91fd4e04c2406f'), ObjectId('67f9147e6e91fd4e04c24070'), ObjectId('67f9147e6e91fd4e04c24071'), ObjectId('67f9147e6e91fd4e04c24072'), ObjectId('67f9147e6e91fd4e04c24073'), ObjectId('67f9147e6e91fd4e04c24074'), ObjectId('67f9147e6e91fd4e04c24075'), ObjectId('67f9147e6e91fd4e04c24076'), ObjectId('67f9147e6e91fd4e04c24077'), ObjectId('67f9147e6e91fd4e04c24078'), ObjectId('67f9147e6e91fd4e04c24079'), ObjectId('67f9147e6e91fd4e04c2407a'), ObjectId('67f9147e6e91fd4e04c2407b'), ObjectId('67f9147e6e91fd4e04c2407c'), ObjectId('67f9147e6e91fd4e04c2407d'), ObjectId('67f9147e6e91fd4e04c2407e'), ObjectId('67f9147e6e91fd4e04c2407f'), ObjectId('67f9147e6e91fd4e04c24080'), ObjectId('67f9147e6e91fd4e04c24081'), ObjectId('67f9147e6e91fd4e04c24082'), ObjectId('67f9147e6e91fd4e04c24083'), ObjectId('67f9147e6e91fd4e04c24084'), ObjectId('67f9147e6e91fd4e04c24085'), ObjectId('67f9147e6e91fd4e04c24086'), ObjectId('67f9147e6e91fd4e04c24087'), ObjectId('67f9147e6e91fd4e04c24088'), ObjectId('67f9147e6e91fd4e04c24089'), ObjectId('67f9147e6e91fd4e04c2408a'), ObjectId('67f9147e6e91fd4e04c2408b'), ObjectId('67f9147e6e91fd4e04c2408c'), ObjectId('67f9147e6e91fd4e04c2408d'), ObjectId('67f9147e6e91fd4e04c2408e'), ObjectId('67f9147e6e91fd4e04c2408f'), ObjectId('67f9147e6e91fd4e04c24090'), ObjectId('67f9147e6e91fd4e04c24091'), ObjectId('67f9147e6e91fd4e04c24092'), ObjectId('67f9147e6e91fd4e04c24093'), ObjectId('67f9147e6e91fd4e04c24094'), ObjectId('67f9147e6e91fd4e04c24095'), ObjectId('67f9147e6e91fd4e04c24096'), ObjectId('67f9147e6e91fd4e04c24097'), ObjectId('67f9147e6e91fd4e04c24098'), ObjectId('67f9147e6e91fd4e04c24099'), ObjectId('67f9147e6e91fd4e04c2409a'), ObjectId('67f9147e6e91fd4e04c2409b'), ObjectId('67f9147e6e91fd4e04c2409c'), ObjectId('67f9147e6e91fd4e04c2409d'), ObjectId('67f9147e6e91fd4e04c2409e'), ObjectId('67f9147e6e91fd4e04c2409f'), ObjectId('67f9147e6e91fd4e04c240a0'), ObjectId('67f9147e6e91fd4e04c240a1'), ObjectId('67f9147e6e91fd4e04c240a2'), ObjectId('67f9147e6e91fd4e04c240a3'), ObjectId('67f9147e6e91fd4e04c240a4'), ObjectId('67f9147e6e91fd4e04c240a5'), ObjectId('67f9147e6e91fd4e04c240a6'), ObjectId('67f9147e6e91fd4e04c240a7'), ObjectId('67f9147e6e91fd4e04c240a8'), ObjectId('67f9147e6e91fd4e04c240a9'), ObjectId('67f9147e6e91fd4e04c240aa'), ObjectId('67f9147e6e91fd4e04c240ab'), ObjectId('67f9147e6e91fd4e04c240ac'), ObjectId('67f9147e6e91fd4e04c240ad'), ObjectId('67f9147e6e91fd4e04c240ae'), ObjectId('67f9147e6e91fd4e04c240af'), ObjectId('67f9147e6e91fd4e04c240b0'), ObjectId('67f9147e6e91fd4e04c240b1'), ObjectId('67f9147e6e91fd4e04c240b2'), ObjectId('67f9147e6e91fd4e04c240b3'), ObjectId('67f9147e6e91fd4e04c240b4'), ObjectId('67f9147e6e91fd4e04c240b5'), ObjectId('67f9147e6e91fd4e04c240b6'), ObjectId('67f9147e6e91fd4e04c240b7'), ObjectId('67f9147e6e91fd4e04c240b8'), ObjectId('67f9147e6e91fd4e04c240b9'), ObjectId('67f9147e6e91fd4e04c240ba'), ObjectId('67f9147e6e91fd4e04c240bb'), ObjectId('67f9147e6e91fd4e04c240bc'), ObjectId('67f9147e6e91fd4e04c240bd'), ObjectId('67f9147e6e91fd4e04c240be'), ObjectId('67f9147e6e91fd4e04c240bf'), ObjectId('67f9147e6e91fd4e04c240c0'), ObjectId('67f9147e6e91fd4e04c240c1'), ObjectId('67f9147e6e91fd4e04c240c2'), ObjectId('67f9147e6e91fd4e04c240c3'), ObjectId('67f9147e6e91fd4e04c240c4'), ObjectId('67f9147e6e91fd4e04c240c5'), ObjectId('67f9147e6e91fd4e04c240c6'), ObjectId('67f9147e6e91fd4e04c240c7'), ObjectId('67f9147e6e91fd4e04c240c8'), ObjectId('67f9147e6e91fd4e04c240c9'), ObjectId('67f9147e6e91fd4e04c240ca'), ObjectId('67f9147e6e91fd4e04c240cb'), ObjectId('67f9147e6e91fd4e04c240cc'), ObjectId('67f9147e6e91fd4e04c240cd'), ObjectId('67f9147e6e91fd4e04c240ce'), ObjectId('67f9147e6e91fd4e04c240cf'), ObjectId('67f9147e6e91fd4e04c240d0'), ObjectId('67f9147e6e91fd4e04c240d1'), ObjectId('67f9147e6e91fd4e04c240d2'), ObjectId('67f9147e6e91fd4e04c240d3'), ObjectId('67f9147e6e91fd4e04c240d4'), ObjectId('67f9147e6e91fd4e04c240d5'), ObjectId('67f9147e6e91fd4e04c240d6'), ObjectId('67f9147e6e91fd4e04c240d7'), ObjectId('67f9147e6e91fd4e04c240d8'), ObjectId('67f9147e6e91fd4e04c240d9'), ObjectId('67f9147e6e91fd4e04c240da'), ObjectId('67f9147e6e91fd4e04c240db'), ObjectId('67f9147e6e91fd4e04c240dc'), ObjectId('67f9147e6e91fd4e04c240dd'), ObjectId('67f9147e6e91fd4e04c240de'), ObjectId('67f9147e6e91fd4e04c240df'), ObjectId('67f9147e6e91fd4e04c240e0'), ObjectId('67f9147e6e91fd4e04c240e1'), ObjectId('67f9147e6e91fd4e04c240e2'), ObjectId('67f9147e6e91fd4e04c240e3'), ObjectId('67f9147e6e91fd4e04c240e4'), ObjectId('67f9147e6e91fd4e04c240e5'), ObjectId('67f9147e6e91fd4e04c240e6'), ObjectId('67f9147e6e91fd4e04c240e7'), ObjectId('67f9147e6e91fd4e04c240e8'), ObjectId('67f9147e6e91fd4e04c240e9'), ObjectId('67f9147e6e91fd4e04c240ea'), ObjectId('67f9147e6e91fd4e04c240eb'), ObjectId('67f9147e6e91fd4e04c240ec'), ObjectId('67f9147e6e91fd4e04c240ed'), ObjectId('67f9147e6e91fd4e04c240ee'), ObjectId('67f9147e6e91fd4e04c240ef'), ObjectId('67f9147e6e91fd4e04c240f0'), ObjectId('67f9147e6e91fd4e04c240f1'), ObjectId('67f9147e6e91fd4e04c240f2'), ObjectId('67f9147e6e91fd4e04c240f3'), ObjectId('67f9147e6e91fd4e04c240f4'), ObjectId('67f9147e6e91fd4e04c240f5'), ObjectId('67f9147e6e91fd4e04c240f6'), ObjectId('67f9147e6e91fd4e04c240f7'), ObjectId('67f9147e6e91fd4e04c240f8'), ObjectId('67f9147e6e91fd4e04c240f9'), ObjectId('67f9147e6e91fd4e04c240fa'), ObjectId('67f9147e6e91fd4e04c240fb'), ObjectId('67f9147e6e91fd4e04c240fc'), ObjectId('67f9147e6e91fd4e04c240fd'), ObjectId('67f9147e6e91fd4e04c240fe'), ObjectId('67f9147e6e91fd4e04c240ff'), ObjectId('67f9147e6e91fd4e04c24100'), ObjectId('67f9147e6e91fd4e04c24101'), ObjectId('67f9147e6e91fd4e04c24102'), ObjectId('67f9147e6e91fd4e04c24103'), ObjectId('67f9147e6e91fd4e04c24104'), ObjectId('67f9147e6e91fd4e04c24105'), ObjectId('67f9147e6e91fd4e04c24106'), ObjectId('67f9147e6e91fd4e04c24107'), ObjectId('67f9147e6e91fd4e04c24108'), ObjectId('67f9147e6e91fd4e04c24109'), ObjectId('67f9147e6e91fd4e04c2410a'), ObjectId('67f9147e6e91fd4e04c2410b'), ObjectId('67f9147e6e91fd4e04c2410c'), ObjectId('67f9147e6e91fd4e04c2410d'), ObjectId('67f9147e6e91fd4e04c2410e'), ObjectId('67f9147e6e91fd4e04c2410f'), ObjectId('67f9147e6e91fd4e04c24110'), ObjectId('67f9147e6e91fd4e04c24111'), ObjectId('67f9147e6e91fd4e04c24112'), ObjectId('67f9147e6e91fd4e04c24113'), ObjectId('67f9147e6e91fd4e04c24114'), ObjectId('67f9147e6e91fd4e04c24115'), ObjectId('67f9147e6e91fd4e04c24116'), ObjectId('67f9147e6e91fd4e04c24117'), ObjectId('67f9147e6e91fd4e04c24118'), ObjectId('67f9147e6e91fd4e04c24119'), ObjectId('67f9147e6e91fd4e04c2411a'), ObjectId('67f9147e6e91fd4e04c2411b'), ObjectId('67f9147e6e91fd4e04c2411c'), ObjectId('67f9147e6e91fd4e04c2411d'), ObjectId('67f9147e6e91fd4e04c2411e'), ObjectId('67f9147e6e91fd4e04c2411f'), ObjectId('67f9147e6e91fd4e04c24120'), ObjectId('67f9147e6e91fd4e04c24122'), ObjectId('67f9147e6e91fd4e04c24123'), ObjectId('67f9147e6e91fd4e04c24124'), ObjectId('67f9147e6e91fd4e04c24125'), ObjectId('67f9147e6e91fd4e04c24126'), ObjectId('67f9147e6e91fd4e04c24127'), ObjectId('67f9147e6e91fd4e04c24128'), ObjectId('67f9147e6e91fd4e04c24129'), ObjectId('67f9147e6e91fd4e04c2412a'), ObjectId('67f9147e6e91fd4e04c2412b'), ObjectId('67f9147e6e91fd4e04c2412c'), ObjectId('67f9147e6e91fd4e04c2412d'), ObjectId('67f9147e6e91fd4e04c2412e'), ObjectId('67f9147e6e91fd4e04c2412f'), ObjectId('67f9147e6e91fd4e04c24130'), ObjectId('67f9147e6e91fd4e04c24131'), ObjectId('67f9147e6e91fd4e04c24132'), ObjectId('67f9147e6e91fd4e04c24133'), ObjectId('67f9147e6e91fd4e04c24134'), ObjectId('67f9147e6e91fd4e04c24135'), ObjectId('67f9147e6e91fd4e04c24136'), ObjectId('67f9147e6e91fd4e04c24137'), ObjectId('67f9147e6e91fd4e04c24138'), ObjectId('67f9147e6e91fd4e04c24139'), ObjectId('67f9147e6e91fd4e04c2413a'), ObjectId('67f9147e6e91fd4e04c2413b'), ObjectId('67f9147e6e91fd4e04c2413c'), ObjectId('67f9147e6e91fd4e04c2413d'), ObjectId('67f9147e6e91fd4e04c2413e'), ObjectId('67f9147e6e91fd4e04c2413f'), ObjectId('67f9147e6e91fd4e04c24140'), ObjectId('67f9147e6e91fd4e04c24141'), ObjectId('67f9147e6e91fd4e04c24142'), ObjectId('67f9147e6e91fd4e04c24143'), ObjectId('67f9147e6e91fd4e04c24144'), ObjectId('67f9147e6e91fd4e04c24145'), ObjectId('67f9147e6e91fd4e04c24146'), ObjectId('67f9147e6e91fd4e04c24147'), ObjectId('67f9147e6e91fd4e04c24148'), ObjectId('67f9147e6e91fd4e04c24149'), ObjectId('67f9147e6e91fd4e04c2414a'), ObjectId('67f9147e6e91fd4e04c2414b'), ObjectId('67f9147e6e91fd4e04c2414c'), ObjectId('67f9147e6e91fd4e04c2414d'), ObjectId('67f9147e6e91fd4e04c2414e'), ObjectId('67f9147e6e91fd4e04c2414f'), ObjectId('67f9147e6e91fd4e04c24150'), ObjectId('67f9147e6e91fd4e04c24151'), ObjectId('67f9147e6e91fd4e04c24152'), ObjectId('67f9147e6e91fd4e04c24153'), ObjectId('67f9147e6e91fd4e04c24154'), ObjectId('67f9147e6e91fd4e04c24155'), ObjectId('67f9147e6e91fd4e04c24156'), ObjectId('67f9147e6e91fd4e04c24157'), ObjectId('67f9147e6e91fd4e04c24158'), ObjectId('67f9147e6e91fd4e04c24159'), ObjectId('67f9147e6e91fd4e04c2415a'), ObjectId('67f9147e6e91fd4e04c2415b'), ObjectId('67f9147e6e91fd4e04c2415c'), ObjectId('67f9147e6e91fd4e04c2415d'), ObjectId('67f9147e6e91fd4e04c2415e'), ObjectId('67f9147e6e91fd4e04c2415f'), ObjectId('67f9147e6e91fd4e04c24160'), ObjectId('67f9147e6e91fd4e04c24161'), ObjectId('67f9147e6e91fd4e04c24162'), ObjectId('67f9147e6e91fd4e04c24164'), ObjectId('67f9147e6e91fd4e04c24165'), ObjectId('67f9147e6e91fd4e04c24166'), ObjectId('67f9147e6e91fd4e04c24167'), ObjectId('67f9147e6e91fd4e04c24168'), ObjectId('67f9147e6e91fd4e04c24169'), ObjectId('67f9147e6e91fd4e04c2416a'), ObjectId('67f9147e6e91fd4e04c2416b'), ObjectId('67f9147e6e91fd4e04c2416c'), ObjectId('67f9147e6e91fd4e04c2416d'), ObjectId('67f9147e6e91fd4e04c2416e'), ObjectId('67f9147e6e91fd4e04c2416f'), ObjectId('67f9147e6e91fd4e04c24170'), ObjectId('67f9147e6e91fd4e04c24171'), ObjectId('67f9147e6e91fd4e04c24172'), ObjectId('67f9147e6e91fd4e04c24173'), ObjectId('67f9147e6e91fd4e04c24174'), ObjectId('67f9147e6e91fd4e04c24175'), ObjectId('67f9147e6e91fd4e04c24176'), ObjectId('67f9147e6e91fd4e04c24177'), ObjectId('67f9147e6e91fd4e04c24178'), ObjectId('67f9147e6e91fd4e04c24179'), ObjectId('67f9147e6e91fd4e04c2417a'), ObjectId('67f9147e6e91fd4e04c2417b'), ObjectId('67f9147e6e91fd4e04c2417c'), ObjectId('67f9147e6e91fd4e04c2417d'), ObjectId('67f9147e6e91fd4e04c2417e'), ObjectId('67f9147e6e91fd4e04c2417f'), ObjectId('67f9147e6e91fd4e04c24180'), ObjectId('67f9147e6e91fd4e04c24181'), ObjectId('67f9147e6e91fd4e04c24182'), ObjectId('67f9147e6e91fd4e04c24183'), ObjectId('67f9147e6e91fd4e04c24184'), ObjectId('67f9147e6e91fd4e04c24185'), ObjectId('67f9147e6e91fd4e04c24186'), ObjectId('67f9147e6e91fd4e04c24187'), ObjectId('67f9147e6e91fd4e04c24188'), ObjectId('67f9147e6e91fd4e04c24189'), ObjectId('67f9147e6e91fd4e04c2418a'), ObjectId('67f9147e6e91fd4e04c2418b'), ObjectId('67f9147e6e91fd4e04c2418c'), ObjectId('67f9147e6e91fd4e04c2418d'), ObjectId('67f9147e6e91fd4e04c2418e'), ObjectId('67f9147e6e91fd4e04c2418f'), ObjectId('67f9147e6e91fd4e04c24190'), ObjectId('67f9147e6e91fd4e04c24191'), ObjectId('67f9147e6e91fd4e04c24192'), ObjectId('67f9147e6e91fd4e04c24193'), ObjectId('67f9147e6e91fd4e04c24194'), ObjectId('67f9147e6e91fd4e04c24195'), ObjectId('67f9147e6e91fd4e04c24196'), ObjectId('67f9147e6e91fd4e04c24197'), ObjectId('67f9147e6e91fd4e04c24198'), ObjectId('67f9147e6e91fd4e04c24199'), ObjectId('67f9147e6e91fd4e04c2419a'), ObjectId('67f9147e6e91fd4e04c2419b'), ObjectId('67f9147e6e91fd4e04c2419c'), ObjectId('67f9147e6e91fd4e04c2419d'), ObjectId('67f9147e6e91fd4e04c2419e'), ObjectId('67f9147e6e91fd4e04c2419f'), ObjectId('67f9147e6e91fd4e04c241a0'), ObjectId('67f9147e6e91fd4e04c241a1'), ObjectId('67f9147e6e91fd4e04c241a2'), ObjectId('67f9147e6e91fd4e04c241a3'), ObjectId('67f9147e6e91fd4e04c241a4'), ObjectId('67f9147e6e91fd4e04c241a5'), ObjectId('67f9147e6e91fd4e04c241a6'), ObjectId('67f9147e6e91fd4e04c241a7'), ObjectId('67f9147e6e91fd4e04c241a8'), ObjectId('67f9147e6e91fd4e04c241a9'), ObjectId('67f9147e6e91fd4e04c241aa'), ObjectId('67f9147e6e91fd4e04c241ab'), ObjectId('67f9147e6e91fd4e04c241ac'), ObjectId('67f9147e6e91fd4e04c241ad'), ObjectId('67f9147e6e91fd4e04c241ae'), ObjectId('67f9147e6e91fd4e04c241af'), ObjectId('67f9147e6e91fd4e04c241b0'), ObjectId('67f9147e6e91fd4e04c241b1'), ObjectId('67f9147e6e91fd4e04c241b2'), ObjectId('67f9147e6e91fd4e04c241b3'), ObjectId('67f9147e6e91fd4e04c241b4'), ObjectId('67f9147e6e91fd4e04c241b5'), ObjectId('67f9147e6e91fd4e04c241b6'), ObjectId('67f9147e6e91fd4e04c241b7'), ObjectId('67f9147e6e91fd4e04c241b8'), ObjectId('67f9147e6e91fd4e04c241b9'), ObjectId('67f9147e6e91fd4e04c241ba'), ObjectId('67f9147e6e91fd4e04c241bb'), ObjectId('67f9147e6e91fd4e04c241bc'), ObjectId('67f9147e6e91fd4e04c241bd'), ObjectId('67f9147e6e91fd4e04c241be'), ObjectId('67f9147e6e91fd4e04c241bf'), ObjectId('67f9147e6e91fd4e04c241c0'), ObjectId('67f9147e6e91fd4e04c241c1'), ObjectId('67f9147e6e91fd4e04c241c2'), ObjectId('67f9147e6e91fd4e04c241c3'), ObjectId('67f9147e6e91fd4e04c241c4'), ObjectId('67f9147e6e91fd4e04c241c5'), ObjectId('67f9147e6e91fd4e04c241c6'), ObjectId('67f9147e6e91fd4e04c241c7'), ObjectId('67f9147e6e91fd4e04c241c8'), ObjectId('67f9147e6e91fd4e04c241c9'), ObjectId('67f9147e6e91fd4e04c241ca'), ObjectId('67f9147e6e91fd4e04c241cb'), ObjectId('67f9147e6e91fd4e04c241cc'), ObjectId('67f9147e6e91fd4e04c241cd'), ObjectId('67f9147e6e91fd4e04c241ce'), ObjectId('67f9147e6e91fd4e04c241cf'), ObjectId('67f9147e6e91fd4e04c241d0'), ObjectId('67f9147e6e91fd4e04c241d1'), ObjectId('67f9147e6e91fd4e04c241d2'), ObjectId('67f9147e6e91fd4e04c241d3'), ObjectId('67f9147e6e91fd4e04c241d4'), ObjectId('67f9147e6e91fd4e04c241d5'), ObjectId('67f9147e6e91fd4e04c241d6'), ObjectId('67f9147e6e91fd4e04c241d7'), ObjectId('67f9147e6e91fd4e04c241d8'), ObjectId('67f9147e6e91fd4e04c241d9'), ObjectId('67f9147e6e91fd4e04c241da'), ObjectId('67f9147e6e91fd4e04c241db'), ObjectId('67f9147e6e91fd4e04c241dc'), ObjectId('67f9147e6e91fd4e04c241dd'), ObjectId('67f9147e6e91fd4e04c241de'), ObjectId('67f9147e6e91fd4e04c241df'), ObjectId('67f9147e6e91fd4e04c241e0'), ObjectId('67f9147e6e91fd4e04c241e1'), ObjectId('67f9147e6e91fd4e04c241e2'), ObjectId('67f9147e6e91fd4e04c241e3'), ObjectId('67f9147e6e91fd4e04c241e4'), ObjectId('67f9147e6e91fd4e04c241e5'), ObjectId('67f9147e6e91fd4e04c241e6'), ObjectId('67f9147e6e91fd4e04c241e7'), ObjectId('67f9147e6e91fd4e04c241e8'), ObjectId('67f9147e6e91fd4e04c241e9'), ObjectId('67f9147e6e91fd4e04c241ea'), ObjectId('67f9147e6e91fd4e04c241eb'), ObjectId('67f9147e6e91fd4e04c241ec'), ObjectId('67f9147e6e91fd4e04c241ed'), ObjectId('67f9147e6e91fd4e04c241ee'), ObjectId('67f9147e6e91fd4e04c241ef'), ObjectId('67f9147e6e91fd4e04c241f0'), ObjectId('67f9147e6e91fd4e04c241f1'), ObjectId('67f9147e6e91fd4e04c241f2'), ObjectId('67f9147e6e91fd4e04c241f3'), ObjectId('67f9147e6e91fd4e04c241f4'), ObjectId('67f9147e6e91fd4e04c241f5'), ObjectId('67f9147e6e91fd4e04c241f6'), ObjectId('67f9147e6e91fd4e04c241f7'), ObjectId('67f9147e6e91fd4e04c241f8'), ObjectId('67f9147e6e91fd4e04c241f9'), ObjectId('67f9147e6e91fd4e04c241fa'), ObjectId('67f9147e6e91fd4e04c241fb'), ObjectId('67f9147e6e91fd4e04c241fc'), ObjectId('67f9147e6e91fd4e04c241fd'), ObjectId('67f9147e6e91fd4e04c241fe'), ObjectId('67f9147e6e91fd4e04c241ff'), ObjectId('67f9147e6e91fd4e04c24200'), ObjectId('67f9147e6e91fd4e04c24201'), ObjectId('67f9147e6e91fd4e04c24202'), ObjectId('67f9147e6e91fd4e04c24203'), ObjectId('67f9147e6e91fd4e04c24204'), ObjectId('67f9147e6e91fd4e04c24205'), ObjectId('67f9147e6e91fd4e04c24206'), ObjectId('67f9147e6e91fd4e04c24207'), ObjectId('67f9147e6e91fd4e04c24208'), ObjectId('67f9147e6e91fd4e04c24209'), ObjectId('67f9147e6e91fd4e04c2420a'), ObjectId('67f9147e6e91fd4e04c2420b'), ObjectId('67f9147e6e91fd4e04c2420c'), ObjectId('67f9147e6e91fd4e04c2420d'), ObjectId('67f9147e6e91fd4e04c2420e'), ObjectId('67f9147e6e91fd4e04c2420f'), ObjectId('67f9147e6e91fd4e04c24210'), ObjectId('67f9147e6e91fd4e04c24211'), ObjectId('67f9147e6e91fd4e04c24212'), ObjectId('67f9147e6e91fd4e04c24213'), ObjectId('67f9147e6e91fd4e04c24214'), ObjectId('67f9147e6e91fd4e04c24215'), ObjectId('67f9147e6e91fd4e04c24216'), ObjectId('67f9147e6e91fd4e04c24217'), ObjectId('67f9147e6e91fd4e04c24218'), ObjectId('67f9147e6e91fd4e04c24219'), ObjectId('67f9147e6e91fd4e04c2421a'), ObjectId('67f9147e6e91fd4e04c2421b'), ObjectId('67f9147e6e91fd4e04c2421c'), ObjectId('67f9147e6e91fd4e04c2421d'), ObjectId('67f9147e6e91fd4e04c2421e'), ObjectId('67f9147e6e91fd4e04c2421f'), ObjectId('67f9147e6e91fd4e04c24220'), ObjectId('67f9147e6e91fd4e04c24221'), ObjectId('67f9147e6e91fd4e04c24222'), ObjectId('67f9147e6e91fd4e04c24223'), ObjectId('67f9147e6e91fd4e04c24224'), ObjectId('67f9147e6e91fd4e04c24225'), ObjectId('67f9147e6e91fd4e04c24226'), ObjectId('67f9147e6e91fd4e04c24227'), ObjectId('67f9147e6e91fd4e04c24228'), ObjectId('67f9147e6e91fd4e04c24229'), ObjectId('67f9147e6e91fd4e04c2422a'), ObjectId('67f9147e6e91fd4e04c2422b'), ObjectId('67f9147e6e91fd4e04c2422c'), ObjectId('67f9147e6e91fd4e04c2422d'), ObjectId('67f9147e6e91fd4e04c2422e'), ObjectId('67f9147e6e91fd4e04c2422f'), ObjectId('67f9147e6e91fd4e04c24230'), ObjectId('67f9147e6e91fd4e04c24231'), ObjectId('67f9147e6e91fd4e04c24232'), ObjectId('67f9147e6e91fd4e04c24233'), ObjectId('67f9147e6e91fd4e04c24234'), ObjectId('67f9147e6e91fd4e04c24235'), ObjectId('67f9147e6e91fd4e04c24236'), ObjectId('67f9147e6e91fd4e04c24237'), ObjectId('67f9147e6e91fd4e04c24238'), ObjectId('67f9147e6e91fd4e04c24239'), ObjectId('67f9147e6e91fd4e04c2423a'), ObjectId('67f9147e6e91fd4e04c2423b'), ObjectId('67f9147e6e91fd4e04c2423c'), ObjectId('67f9147e6e91fd4e04c2423d'), ObjectId('67f9147e6e91fd4e04c2423e'), ObjectId('67f9147e6e91fd4e04c2423f'), ObjectId('67f9147e6e91fd4e04c24240'), ObjectId('67f9147e6e91fd4e04c24241'), ObjectId('67f9147e6e91fd4e04c24242'), ObjectId('67f9147e6e91fd4e04c24243'), ObjectId('67f9147e6e91fd4e04c24244'), ObjectId('67f9147e6e91fd4e04c24245'), ObjectId('67f9147e6e91fd4e04c24246'), ObjectId('67f9147e6e91fd4e04c24247'), ObjectId('67f9147e6e91fd4e04c24248'), ObjectId('67f9147e6e91fd4e04c24249'), ObjectId('67f9147e6e91fd4e04c2424a'), ObjectId('67f9147e6e91fd4e04c2424b'), ObjectId('67f9147e6e91fd4e04c2424c'), ObjectId('67f9147e6e91fd4e04c2424d'), ObjectId('67f9147e6e91fd4e04c2424e'), ObjectId('67f9147e6e91fd4e04c2424f'), ObjectId('67f9147e6e91fd4e04c24250'), ObjectId('67f9147e6e91fd4e04c24251'), ObjectId('67f9147e6e91fd4e04c24252'), ObjectId('67f9147e6e91fd4e04c24253'), ObjectId('67f9147e6e91fd4e04c24254'), ObjectId('67f9147e6e91fd4e04c24255'), ObjectId('67f9147e6e91fd4e04c24256'), ObjectId('67f9147e6e91fd4e04c24257'), ObjectId('67f9147e6e91fd4e04c24258'), ObjectId('67f9147e6e91fd4e04c24259'), ObjectId('67f9147e6e91fd4e04c2425a'), ObjectId('67f9147e6e91fd4e04c2425b'), ObjectId('67f9147e6e91fd4e04c2425c'), ObjectId('67f9147e6e91fd4e04c2425d'), ObjectId('67f9147e6e91fd4e04c2425e'), ObjectId('67f9147e6e91fd4e04c2425f'), ObjectId('67f9147e6e91fd4e04c24260'), ObjectId('67f9147e6e91fd4e04c24261'), ObjectId('67f9147e6e91fd4e04c24262'), ObjectId('67f9147e6e91fd4e04c24263'), ObjectId('67f9147e6e91fd4e04c24264'), ObjectId('67f9147e6e91fd4e04c24265'), ObjectId('67f9147e6e91fd4e04c24266'), ObjectId('67f9147e6e91fd4e04c24267'), ObjectId('67f9147e6e91fd4e04c24268'), ObjectId('67f9147e6e91fd4e04c24269'), ObjectId('67f9147e6e91fd4e04c2426a'), ObjectId('67f9147e6e91fd4e04c2426b'), ObjectId('67f9147e6e91fd4e04c2426c'), ObjectId('67f9147e6e91fd4e04c2426d'), ObjectId('67f9147e6e91fd4e04c2426e'), ObjectId('67f9147e6e91fd4e04c2426f'), ObjectId('67f9147e6e91fd4e04c24270'), ObjectId('67f9147e6e91fd4e04c24271'), ObjectId('67f9147e6e91fd4e04c24272'), ObjectId('67f9147e6e91fd4e04c24273'), ObjectId('67f9147e6e91fd4e04c24274'), ObjectId('67f9147e6e91fd4e04c24275'), ObjectId('67f9147e6e91fd4e04c24276'), ObjectId('67f9147e6e91fd4e04c24277'), ObjectId('67f9147e6e91fd4e04c24278'), ObjectId('67f9147e6e91fd4e04c24279'), ObjectId('67f9147e6e91fd4e04c2427a'), ObjectId('67f9147e6e91fd4e04c2427b'), ObjectId('67f9147e6e91fd4e04c2427c'), ObjectId('67f9147e6e91fd4e04c2427d'), ObjectId('67f9147e6e91fd4e04c2427e'), ObjectId('67f9147e6e91fd4e04c2427f'), ObjectId('67f9147e6e91fd4e04c24280'), ObjectId('67f9147e6e91fd4e04c24281'), ObjectId('67f9147e6e91fd4e04c24282'), ObjectId('67f9147e6e91fd4e04c24283'), ObjectId('67f9147e6e91fd4e04c24284'), ObjectId('67f9147e6e91fd4e04c24285'), ObjectId('67f9147e6e91fd4e04c24286'), ObjectId('67f9147e6e91fd4e04c24287'), ObjectId('67f9147e6e91fd4e04c24288'), ObjectId('67f9147e6e91fd4e04c24289'), ObjectId('67f9147e6e91fd4e04c2428a'), ObjectId('67f9147e6e91fd4e04c2428b'), ObjectId('67f9147e6e91fd4e04c2428c'), ObjectId('67f9147e6e91fd4e04c2428d'), ObjectId('67f9147e6e91fd4e04c2428e'), ObjectId('67f9147e6e91fd4e04c2428f'), ObjectId('67f9147e6e91fd4e04c24290'), ObjectId('67f9147e6e91fd4e04c24291'), ObjectId('67f9147e6e91fd4e04c24292'), ObjectId('67f9147e6e91fd4e04c24293'), ObjectId('67f9147e6e91fd4e04c24294'), ObjectId('67f9147e6e91fd4e04c24295'), ObjectId('67f9147e6e91fd4e04c24296'), ObjectId('67f9147e6e91fd4e04c24297'), ObjectId('67f9147e6e91fd4e04c24298'), ObjectId('67f9147e6e91fd4e04c24299'), ObjectId('67f9147e6e91fd4e04c2429a'), ObjectId('67f9147e6e91fd4e04c2429b'), ObjectId('67f9147e6e91fd4e04c2429c'), ObjectId('67f9147e6e91fd4e04c2429d'), ObjectId('67f9147e6e91fd4e04c2429e'), ObjectId('67f9147e6e91fd4e04c2429f'), ObjectId('67f9147e6e91fd4e04c242a0'), ObjectId('67f9147e6e91fd4e04c242a1'), ObjectId('67f9147e6e91fd4e04c242a2'), ObjectId('67f9147e6e91fd4e04c242a3'), ObjectId('67f9147e6e91fd4e04c242a4'), ObjectId('67f9147e6e91fd4e04c242a5'), ObjectId('67f9147e6e91fd4e04c242a6'), ObjectId('67f9147e6e91fd4e04c242a7'), ObjectId('67f9147e6e91fd4e04c242a8'), ObjectId('67f9147e6e91fd4e04c242a9'), ObjectId('67f9147e6e91fd4e04c242aa'), ObjectId('67f9147e6e91fd4e04c242ab'), ObjectId('67f9147e6e91fd4e04c242ac'), ObjectId('67f9147e6e91fd4e04c242ad'), ObjectId('67f9147e6e91fd4e04c242ae'), ObjectId('67f9147e6e91fd4e04c242af'), ObjectId('67f9147e6e91fd4e04c242b0'), ObjectId('67f9147e6e91fd4e04c242b1'), ObjectId('67f9147e6e91fd4e04c242b2'), ObjectId('67f9147e6e91fd4e04c242b3'), ObjectId('67f9147e6e91fd4e04c242b4'), ObjectId('67f9147e6e91fd4e04c242b5'), ObjectId('67f9147e6e91fd4e04c242b6'), ObjectId('67f9147e6e91fd4e04c242b7'), ObjectId('67f9147e6e91fd4e04c242b8'), ObjectId('67f9147e6e91fd4e04c242b9'), ObjectId('67f9147e6e91fd4e04c242ba'), ObjectId('67f9147e6e91fd4e04c242bb'), ObjectId('67f9147e6e91fd4e04c242bc'), ObjectId('67f9147e6e91fd4e04c242bd'), ObjectId('67f9147e6e91fd4e04c242be'), ObjectId('67f9147e6e91fd4e04c242bf'), ObjectId('67f9147e6e91fd4e04c242c0'), ObjectId('67f9147e6e91fd4e04c242c1'), ObjectId('67f9147e6e91fd4e04c242c2'), ObjectId('67f9147e6e91fd4e04c242c3'), ObjectId('67f9147e6e91fd4e04c242c4'), ObjectId('67f9147e6e91fd4e04c242c5'), ObjectId('67f9147e6e91fd4e04c242c6'), ObjectId('67f9147e6e91fd4e04c242c7'), ObjectId('67f9147e6e91fd4e04c242c8'), ObjectId('67f9147e6e91fd4e04c242c9'), ObjectId('67f9147e6e91fd4e04c242ca'), ObjectId('67f9147e6e91fd4e04c242cb'), ObjectId('67f9147e6e91fd4e04c242cc'), ObjectId('67f9147e6e91fd4e04c242cd'), ObjectId('67f9147e6e91fd4e04c242ce'), ObjectId('67f9147e6e91fd4e04c242cf'), ObjectId('67f9147e6e91fd4e04c242d0'), ObjectId('67f9147e6e91fd4e04c242d1'), ObjectId('67f9147e6e91fd4e04c242d2'), ObjectId('67f9147e6e91fd4e04c242d3'), ObjectId('67f9147e6e91fd4e04c242d4'), ObjectId('67f9147e6e91fd4e04c242d5'), ObjectId('67f9147e6e91fd4e04c242d6'), ObjectId('67f9147e6e91fd4e04c242d7'), ObjectId('67f9147e6e91fd4e04c242d8'), ObjectId('67f9147e6e91fd4e04c242d9'), ObjectId('67f9147e6e91fd4e04c242da'), ObjectId('67f9147e6e91fd4e04c242db'), ObjectId('67f9147e6e91fd4e04c242dc'), ObjectId('67f9147e6e91fd4e04c242dd'), ObjectId('67f9147e6e91fd4e04c242de'), ObjectId('67f9147e6e91fd4e04c242df'), ObjectId('67f9147e6e91fd4e04c242e0'), ObjectId('67f9147e6e91fd4e04c242e1'), ObjectId('67f9147e6e91fd4e04c242e2'), ObjectId('67f9147e6e91fd4e04c242e3'), ObjectId('67f9147e6e91fd4e04c242e4'), ObjectId('67f9147e6e91fd4e04c242e5'), ObjectId('67f9147e6e91fd4e04c242e6'), ObjectId('67f9147e6e91fd4e04c242e7'), ObjectId('67f9147e6e91fd4e04c242e8'), ObjectId('67f9147e6e91fd4e04c242e9'), ObjectId('67f9147e6e91fd4e04c242ea'), ObjectId('67f9147e6e91fd4e04c242eb'), ObjectId('67f9147e6e91fd4e04c242ec'), ObjectId('67f9147e6e91fd4e04c242ed'), ObjectId('67f9147e6e91fd4e04c242ee')], acknowledged=True)"
      ]
     },
     "execution_count": 4,
     "metadata": {},
     "output_type": "execute_result"
    }
   ],
   "execution_count": 4
  },
  {
   "cell_type": "code",
   "source": [
    "len(libio_vuln_data), len(mvn_eco_vuln_data)"
   ],
   "metadata": {
    "collapsed": false,
    "ExecuteTime": {
     "end_time": "2025-04-11T13:35:53.551550Z",
     "start_time": "2025-04-11T13:35:53.544982Z"
    }
   },
   "id": "246f017ed34f3f82",
   "outputs": [
    {
     "data": {
      "text/plain": [
       "(6028, 829)"
      ]
     },
     "execution_count": 5,
     "metadata": {},
     "output_type": "execute_result"
    }
   ],
   "execution_count": 5
  },
  {
   "cell_type": "code",
   "source": [
    "print(len(set((':'.join(x['vuln_gav'].split(':')[:-1]), x['cve_ref']) for x in libio_vuln_data)))\n",
    "print(len(set((':'.join(x['vuln_gav'].split(':')[:-1]), x['cve_ref']) for x in mvn_eco_vuln_data)))\n",
    "print(len(set((':'.join(x['vuln_gav'].split(':')[:-1]), x['cve_ref']) for x in libio_vuln_data + mvn_eco_vuln_data)))"
   ],
   "metadata": {
    "collapsed": false,
    "ExecuteTime": {
     "end_time": "2025-04-11T13:35:54.995753Z",
     "start_time": "2025-04-11T13:35:54.974454Z"
    }
   },
   "id": "812d284662424b08",
   "outputs": [
    {
     "name": "stdout",
     "output_type": "stream",
     "text": [
      "268\n",
      "829\n",
      "977\n"
     ]
    }
   ],
   "execution_count": 6
  },
  {
   "cell_type": "code",
   "source": [
    "print(len(set((x['vuln_gav'], x['cve_ref']) for x in libio_vuln_data)))  # 6726  some do not have CVE ID\n",
    "print(len(set((x['vuln_gav'], x['cve_ref']) for x in mvn_eco_vuln_data)))  # 829\n",
    "print(len(set((x['vuln_gav'], x['cve_ref']) for x in libio_vuln_data + mvn_eco_vuln_data)))  # 7490"
   ],
   "metadata": {
    "collapsed": false,
    "ExecuteTime": {
     "end_time": "2025-04-11T13:35:57.095887Z",
     "start_time": "2025-04-11T13:35:57.073974Z"
    }
   },
   "id": "ff3602254a798263",
   "outputs": [
    {
     "name": "stdout",
     "output_type": "stream",
     "text": [
      "6028\n",
      "829\n",
      "6787\n"
     ]
    }
   ],
   "execution_count": 7
  },
  {
   "cell_type": "code",
   "source": [
    "libio_group_by_gav_cve = collections.defaultdict(list)\n",
    "for it in libio_vuln_data:\n",
    "    libio_group_by_gav_cve[(it['vuln_gav'], it['cve_ref'])].append(it)\n",
    "\n",
    "mvn_eco_group_by_gav_cve = collections.defaultdict(list)\n",
    "for it in mvn_eco_vuln_data:\n",
    "    mvn_eco_group_by_gav_cve[(it['vuln_gav'], it['cve_ref'])].append(it)"
   ],
   "metadata": {
    "collapsed": false,
    "ExecuteTime": {
     "end_time": "2025-04-11T13:35:59.333918Z",
     "start_time": "2025-04-11T13:35:59.316279Z"
    }
   },
   "id": "d72c93fd84acc952",
   "outputs": [],
   "execution_count": 8
  },
  {
   "cell_type": "code",
   "source": [
    "l = list(sorted(libio_group_by_gav_cve.items(), key=lambda x: len(x[1]), reverse=True))\n",
    "l[0]"
   ],
   "metadata": {
    "collapsed": false,
    "ExecuteTime": {
     "end_time": "2025-04-11T13:36:00.305509Z",
     "start_time": "2025-04-11T13:36:00.296307Z"
    }
   },
   "id": "617453b216bfe711",
   "outputs": [
    {
     "data": {
      "text/plain": [
       "(('ch.qos.logback:logback-classic:1.0.12', 'CVE-2017-5929'),\n",
       " [{'_id': ObjectId('67f919b35878e3c56f2efb85'),\n",
       "   'data_src': 'snyk',\n",
       "   'cve_ref': 'CVE-2017-5929',\n",
       "   'snyk_url': 'https://security.snyk.io/vuln/SNYK-JAVA-CHQOSLOGBACK-31407',\n",
       "   'vuln_gav': 'ch.qos.logback:logback-classic:1.0.12',\n",
       "   'vuln_classes': ['ch.qos.logback.classic.net.server.RemoteAppenderStreamClient'],\n",
       "   'patches': ['https://github.com/qos-ch/logback/commit/979b042cb1f0b4c1e5869ccc8912e68c39f769f9']}])"
      ]
     },
     "execution_count": 9,
     "metadata": {},
     "output_type": "execute_result"
    }
   ],
   "execution_count": 9
  },
  {
   "cell_type": "code",
   "source": [
    "shared_gav_cve_items = list(set(libio_group_by_gav_cve.keys()).intersection(set(mvn_eco_group_by_gav_cve.keys())))\n",
    "len(shared_gav_cve_items)"
   ],
   "metadata": {
    "collapsed": false,
    "ExecuteTime": {
     "end_time": "2025-04-11T13:36:06.283339Z",
     "start_time": "2025-04-11T13:36:06.275356Z"
    }
   },
   "id": "99a2d1b360bb4ef4",
   "outputs": [
    {
     "data": {
      "text/plain": [
       "70"
      ]
     },
     "execution_count": 10,
     "metadata": {},
     "output_type": "execute_result"
    }
   ],
   "execution_count": 10
  },
  {
   "cell_type": "code",
   "source": [
    "_rk = random.choice(shared_gav_cve_items)\n",
    "libio_group_by_gav_cve[_rk], mvn_eco_group_by_gav_cve[_rk]  \n",
    "# 'CVE-2021-37137', 'io.netty:netty-codec:4.1.5.Final'   mvn_eco data has the wrong cve_ref\n",
    "# 'CVE-2013-7285' mvn_eco data includes 'ReflectionConverter' which is wrong\n",
    "# "
   ],
   "metadata": {
    "collapsed": false,
    "ExecuteTime": {
     "end_time": "2025-04-11T13:36:14.433301Z",
     "start_time": "2025-04-11T13:36:14.417365Z"
    }
   },
   "id": "f205363e4fd89e7",
   "outputs": [
    {
     "data": {
      "text/plain": [
       "([{'_id': ObjectId('67f919b35878e3c56f2efee4'),\n",
       "   'data_src': 'snyk',\n",
       "   'cve_ref': 'CVE-2020-7692',\n",
       "   'snyk_url': 'https://security.snyk.io/vuln/SNYK-JAVA-COMGOOGLEOAUTHCLIENT-575276',\n",
       "   'vuln_gav': 'com.google.oauth-client:google-oauth-client:1.23.0',\n",
       "   'vuln_classes': ['com.google.api.client.auth.oauth2.AuthorizationCodeFlow',\n",
       "    'com.google.api.client.auth.oauth2.AuthorizationCodeRequestUrl'],\n",
       "   'patches': ['https://github.com/googleapis/google-oauth-java-client/commit/13433cd7dd06267fc261f0b1d4764f8e3432c824']}],\n",
       " [{'_id': ObjectId('67f9147e6e91fd4e04c24246'),\n",
       "   'data_src': 'mvn_eco',\n",
       "   'cve_ref': 'CVE-2020-7692',\n",
       "   'vuln_gav': 'com.google.oauth-client:google-oauth-client:1.23.0',\n",
       "   'vuln_classes': ['com.google.api.client.auth.oauth2.AuthorizationCodeFlow'],\n",
       "   'patches': ['https://github.com/googleapis/google-oauth-java-client/commit/13433cd7dd06267fc261f0b1d4764f8e3432c824']}])"
      ]
     },
     "execution_count": 11,
     "metadata": {},
     "output_type": "execute_result"
    }
   ],
   "execution_count": 11
  },
  {
   "cell_type": "code",
   "source": [
    "import pprint\n",
    "\n",
    "diff_class_counter = 0\n",
    "\n",
    "for k in shared_gav_cve_items:\n",
    "    x = libio_group_by_gav_cve[k]\n",
    "    if len(x) > 1:\n",
    "        continue\n",
    "    x = x[0]\n",
    "    y = mvn_eco_group_by_gav_cve[k]\n",
    "    if len(y) > 1:\n",
    "        continue\n",
    "    y = y[0]\n",
    "    \n",
    "    if set(x['vuln_classes']) == set(y['vuln_classes']):\n",
    "        continue\n",
    "\n",
    "    if set(y['vuln_classes']).issubset(set(x['vuln_classes'])):\n",
    "        continue\n",
    "\n",
    "    # if set(x['vuln_classes']).issubset(set(y['vuln_classes'])):\n",
    "    #     continue\n",
    "        \n",
    "    diff_class_counter += 1\n",
    "    pprint.pprint(x)\n",
    "    print(\"\\n------------\\n\")\n",
    "    pprint.pprint(y)\n",
    "    print(\"\\n@@@@@@@@@@@@@@@\\n\")\n",
    "\n",
    "diff_class_counter"
   ],
   "metadata": {
    "collapsed": false,
    "ExecuteTime": {
     "end_time": "2025-04-11T13:36:22.495877Z",
     "start_time": "2025-04-11T13:36:22.476886Z"
    }
   },
   "id": "8bcd7f29000dde44",
   "outputs": [
    {
     "name": "stdout",
     "output_type": "stream",
     "text": [
      "{'_id': ObjectId('67f919b35878e3c56f2f1500'),\n",
      " 'cve_ref': 'CVE-2016-5007',\n",
      " 'data_src': 'snyk',\n",
      " 'patches': ['https://github.com/spring-projects/spring-security/commit/e4c13e',\n",
      "             'https://github.com/spring-projects/spring-framework/commit/a30ab30e4e9ae021fdda04e9abfc228476b846b5'],\n",
      " 'snyk_url': 'https://security.snyk.io/vuln/SNYK-JAVA-ORGSPRINGFRAMEWORKSECURITY-31336',\n",
      " 'vuln_classes': ['org.springframework.security.config.annotation.web.AbstractRequestMatcherRegistry',\n",
      "                  'org.springframework.security.config.annotation.web.builders.HttpSecurity',\n",
      "                  'org.springframework.security.config.http.MatcherType',\n",
      "                  'org.springframework.security.config.annotation.web.configurers.UrlAuthorizationConfigurer',\n",
      "                  'org.springframework.security.config.annotation.web.builders.WebSecurity',\n",
      "                  'org.springframework.security.config.annotation.web.configurers.ExpressionUrlAuthorizationConfigurer',\n",
      "                  'org.springframework.security.config.annotation.web.configurers.CsrfConfigurer',\n",
      "                  'org.springframework.security.config.http.FilterChainBeanDefinitionParser',\n",
      "                  'org.springframework.security.config.http.HttpSecurityBeanDefinitionParser',\n",
      "                  'org.springframework.security.config.http.FilterChainMapBeanDefinitionDecorator',\n",
      "                  'org.springframework.security.config.annotation.web.configurers.ChannelSecurityConfigurer',\n",
      "                  'org.springframework.security.config.annotation.AbstractConfiguredSecurityBuilder'],\n",
      " 'vuln_gav': 'org.springframework.security:spring-security-config:4.0.4.RELEASE'}\n",
      "\n",
      "------------\n",
      "\n",
      "{'_id': ObjectId('67f9147e6e91fd4e04c24023'),\n",
      " 'cve_ref': 'CVE-2016-5007',\n",
      " 'data_src': 'mvn_eco',\n",
      " 'patches': ['https://github.com/spring-projects/spring-security/commit/e4c13e'],\n",
      " 'vuln_classes': ['org.springframework.security.config.http.FilterChainBeanDefinitionParser',\n",
      "                  'org.springframework.security.config.annotation.AbstractConfiguredSecurityBuilder',\n",
      "                  'org.springframework.security.config.annotation.web.builders.HttpSecurity',\n",
      "                  'org.springframework.security.config.annotation.web.configurers.ExpressionUrlAuthorizationConfigurer',\n",
      "                  'org.springframework.security.config.annotation.web.configurers.CsrfConfigurer',\n",
      "                  'org.springframework.security.config.http.FilterChainMapBeanDefinitionDecorator',\n",
      "                  'org.springframework.security.config.http.FilterInvocationSecurityMetadataSourceParser',\n",
      "                  'org.springframework.security.config.http.HttpConfigurationBuilder',\n",
      "                  'org.springframework.security.config.http.HttpSecurityBeanDefinitionParser',\n",
      "                  'org.springframework.security.config.annotation.web.builders.WebSecurity',\n",
      "                  'org.springframework.security.config.annotation.web.configurers.ChannelSecurityConfigurer'],\n",
      " 'vuln_gav': 'org.springframework.security:spring-security-config:4.0.4.RELEASE'}\n",
      "\n",
      "@@@@@@@@@@@@@@@\n",
      "\n",
      "{'_id': ObjectId('67f919b35878e3c56f2f0226'),\n",
      " 'cve_ref': 'CVE-2021-37136',\n",
      " 'data_src': 'snyk',\n",
      " 'patches': ['https://github.com/netty/netty/commit/41d3d61a61608f2223bb364955ab2045dd5e4020'],\n",
      " 'snyk_url': 'https://security.snyk.io/vuln/SNYK-JAVA-IONETTY-1584064',\n",
      " 'vuln_classes': ['io.netty.handler.codec.compression.Bzip2BlockDecompressor',\n",
      "                  'io.netty.handler.codec.compression.Bzip2Decoder'],\n",
      " 'vuln_gav': 'io.netty:netty-codec:4.1.5.Final'}\n",
      "\n",
      "------------\n",
      "\n",
      "{'_id': ObjectId('67f9147e6e91fd4e04c24237'),\n",
      " 'cve_ref': 'CVE-2021-37136',\n",
      " 'data_src': 'mvn_eco',\n",
      " 'patches': ['https://github.com/netty/netty/commit/6da4956b31023ae967451e1d94ff51a746a9194f'],\n",
      " 'vuln_classes': ['io.netty.handler.codec.compression.SnappyFrameDecoder',\n",
      "                  'io.netty.handler.codec.compression.Snappy'],\n",
      " 'vuln_gav': 'io.netty:netty-codec:4.1.5.Final'}\n",
      "\n",
      "@@@@@@@@@@@@@@@\n",
      "\n",
      "{'_id': ObjectId('67f919b35878e3c56f2f0a49'),\n",
      " 'cve_ref': 'CVE-2016-1000352',\n",
      " 'data_src': 'snyk',\n",
      " 'patches': ['https://github.com/bcgit/bc-java/commit/9385b0ebd277724b167fe1d1456e3c112112be1f'],\n",
      " 'snyk_url': 'https://security.snyk.io/vuln/SNYK-JAVA-ORGBOUNCYCASTLE-32366',\n",
      " 'vuln_classes': ['org.bouncycastle.jce.spec.IESParameterSpec',\n",
      "                  'org.bouncycastle.jcajce.provider.asymmetric.EC',\n",
      "                  'org.bouncycastle.jcajce.provider.asymmetric.dh.IESCipher',\n",
      "                  'org.bouncycastle.jcajce.provider.asymmetric.ec.IESCipher',\n",
      "                  'org.bouncycastle.jcajce.provider.asymmetric.ies.AlgorithmParametersSpi',\n",
      "                  'org.bouncycastle.jcajce.provider.asymmetric.DH',\n",
      "                  'org.bouncycastle.jcajce.provider.asymmetric.util.IESUtil'],\n",
      " 'vuln_gav': 'org.bouncycastle:bcprov-jdk15on:1.54'}\n",
      "\n",
      "------------\n",
      "\n",
      "{'_id': ObjectId('67f9147e6e91fd4e04c2410e'),\n",
      " 'cve_ref': 'CVE-2016-1000352',\n",
      " 'data_src': 'mvn_eco',\n",
      " 'patches': ['https://github.com/bcgit/bc-java/commit/9385b0ebd277724b167fe1d1456e3c112112be1f'],\n",
      " 'vuln_classes': ['org.bouncycastle.jcajce.provider.asymmetric.ec.IESCipher',\n",
      "                  'org.bouncycastle.jcajce.provider.asymmetric.DH',\n",
      "                  'org.bouncycastle.jce.spec.IESParameterSpec',\n",
      "                  'org.bouncycastle.jcajce.provider.asymmetric.EC',\n",
      "                  'org.bouncycastle.jcajce.provider.asymmetric.util.IESUtil',\n",
      "                  'org.bouncycastle.jcajce.provider.asymmetric.dh.AlgorithmParametersSpi',\n",
      "                  'org.bouncycastle.jcajce.provider.asymmetric.dh.IESCipher'],\n",
      " 'vuln_gav': 'org.bouncycastle:bcprov-jdk15on:1.54'}\n",
      "\n",
      "@@@@@@@@@@@@@@@\n",
      "\n",
      "{'_id': ObjectId('67f919b35878e3c56f2f0a46'),\n",
      " 'cve_ref': 'CVE-2016-1000343',\n",
      " 'data_src': 'snyk',\n",
      " 'patches': ['https://github.com/bcgit/bc-java/commit/50a53068c094d6cff37659da33c9b4505becd389#diff-5578e61500abb2b87b300d3114bdfd7d'],\n",
      " 'snyk_url': 'https://security.snyk.io/vuln/SNYK-JAVA-ORGBOUNCYCASTLE-32361',\n",
      " 'vuln_classes': ['org.bouncycastle.jcajce.provider.asymmetric.dsa.KeyPairGeneratorSpi'],\n",
      " 'vuln_gav': 'org.bouncycastle:bcprov-jdk15on:1.54'}\n",
      "\n",
      "------------\n",
      "\n",
      "{'_id': ObjectId('67f9147e6e91fd4e04c24227'),\n",
      " 'cve_ref': 'CVE-2016-1000343',\n",
      " 'data_src': 'mvn_eco',\n",
      " 'patches': ['https://github.com/bcgit/bc-java/commit/50a53068c094d6cff37659da33c9b4505becd389'],\n",
      " 'vuln_classes': ['org.bouncycastle.jcajce.provider.asymmetric.dh.KeyPairGeneratorSpi'],\n",
      " 'vuln_gav': 'org.bouncycastle:bcprov-jdk15on:1.54'}\n",
      "\n",
      "@@@@@@@@@@@@@@@\n",
      "\n",
      "{'_id': ObjectId('67f919b35878e3c56f2f1214'),\n",
      " 'cve_ref': 'CVE-2017-7536',\n",
      " 'data_src': 'snyk',\n",
      " 'patches': ['https://github.com/hibernate/hibernate-validator/commit/0ed45f37c4680998167179e631113a2c9cb5d11',\n",
      "             'https://github.com/hibernate/hibernate-validator/commit/0886e89900d343ea20fde5137c9a3086e6da9ac',\n",
      "             'https://github.com/hibernate/hibernate-validator/commit/0778a5c98b817771a645c6f4ba0b28dd8b5437b'],\n",
      " 'snyk_url': 'https://security.snyk.io/vuln/SNYK-JAVA-ORGHIBERNATE-451605',\n",
      " 'vuln_classes': ['org.hibernate.validator.internal.util.privilegedactions.GetDeclaredField',\n",
      "                  'org.hibernate.validator.internal.metadata.aggregated.PropertyMetaData'],\n",
      " 'vuln_gav': 'org.hibernate:hibernate-validator:5.3.4.Final'}\n",
      "\n",
      "------------\n",
      "\n",
      "{'_id': ObjectId('67f9147e6e91fd4e04c242ca'),\n",
      " 'cve_ref': 'CVE-2017-7536',\n",
      " 'data_src': 'mvn_eco',\n",
      " 'patches': ['https://github.com/hibernate/hibernate-validator/commit/0886e89900d343ea20fde5137c9a3086e6da9ac',\n",
      "             'https://github.com/hibernate/hibernate-validator/commit/0ed45f37c4680998167179e631113a2c9cb5d11'],\n",
      " 'vuln_classes': ['org.hibernate.validator.internal.engine.ValidatorImpl',\n",
      "                  'org.hibernate.validator.internal.util.privilegedactions.GetDeclaredField'],\n",
      " 'vuln_gav': 'org.hibernate:hibernate-validator:5.3.4.Final'}\n",
      "\n",
      "@@@@@@@@@@@@@@@\n",
      "\n",
      "{'_id': ObjectId('67f919b35878e3c56f2f1198'),\n",
      " 'cve_ref': 'CVE-2014-3558',\n",
      " 'data_src': 'snyk',\n",
      " 'patches': ['https://github.com/hibernate/hibernate-validator/commit/fd4eaed7fb930db6a5e4c03742b4b3adcfecc90e',\n",
      "             'https://github.com/hibernate/hibernate-validator/commit/c489416f699a46859c134796b3ccfea41ef3ce52',\n",
      "             'https://github.com/hibernate/hibernate-validator/commit/e8c42b689df8c6752d635d02c6518da3fece3870',\n",
      "             'https://github.com/hibernate/hibernate-validator/commit/c9525ca544b1281e2b7c7347e86e87c86dc1dc6e',\n",
      "             'https://github.com/hibernate/hibernate-validator/commit/7e7131939a4361a7cad3e77ab89a8462132c561c',\n",
      "             'https://github.com/hibernate/hibernate-validator/commit/67fdff14831c035c25e098fe14bd86523d17f726'],\n",
      " 'snyk_url': 'https://security.snyk.io/vuln/SNYK-JAVA-ORGHIBERNATE-30098',\n",
      " 'vuln_classes': ['org.hibernate.validator.resourceloading.PlatformResourceBundleLocator',\n",
      "                  'org.hibernate.validator.internal.metadata.aggregated.PropertyMetaData',\n",
      "                  'org.hibernate.validator.internal.util.ReflectionHelper',\n",
      "                  'org.hibernate.validator.internal.xml.ValidationBootstrapParameters',\n",
      "                  'org.hibernate.validator.internal.xml.ConstrainedParameterBuilder',\n",
      "                  'org.hibernate.validator.internal.util.annotationfactory.AnnotationProxy',\n",
      "                  'org.hibernate.validator.internal.metadata.aggregated.ReturnValueMetaData',\n",
      "                  'org.hibernate.validator.internal.xml.ConstrainedFieldBuilder',\n",
      "                  'org.hibernate.validator.internal.engine.ConfigurationImpl',\n",
      "                  'org.hibernate.validator.internal.cfg.context.PropertyConstraintMappingContextImpl',\n",
      "                  'org.hibernate.validator.internal.metadata.core.MetaConstraint',\n",
      "                  'org.hibernate.validator.internal.metadata.raw.ConstrainedExecutable',\n",
      "                  'org.hibernate.validator.internal.metadata.raw.ConstrainedField',\n",
      "                  'org.hibernate.validator.internal.engine.constraintvalidation.ConstraintValidatorFactoryImpl',\n",
      "                  'org.hibernate.validator.internal.xml.ConstrainedTypeBuilder',\n",
      "                  'org.hibernate.validator.internal.xml.XmlParserHelper',\n",
      "                  'org.hibernate.validator.internal.xml.XmlMappingParser',\n",
      "                  'org.hibernate.validator.internal.xml.ConstrainedGetterBuilder',\n",
      "                  'org.hibernate.validator.internal.cfg.context.TypeConstraintMappingContextImpl',\n",
      "                  'org.hibernate.validator.internal.xml.GroupConversionBuilder',\n",
      "                  'org.hibernate.validator.internal.xml.ConstrainedExecutableBuilder',\n",
      "                  'org.hibernate.validator.internal.metadata.aggregated.ParameterMetaData',\n",
      "                  'org.hibernate.validator.internal.cfg.context.ParameterConstraintMappingContextImpl',\n",
      "                  'org.hibernate.validator.internal.cfg.context.ReturnValueConstraintMappingContextImpl',\n",
      "                  'org.hibernate.validator.internal.engine.resolver.DefaultTraversableResolver',\n",
      "                  'org.hibernate.validator.internal.util.classhierarchy.ClassHierarchyHelper',\n",
      "                  'org.hibernate.validator.internal.xml.MetaConstraintBuilder',\n",
      "                  'org.hibernate.validator.internal.cfg.context.ConstraintMappingContextImplBase',\n",
      "                  'org.hibernate.validator.internal.cfg.context.ConfiguredConstraint',\n",
      "                  'org.hibernate.validator.internal.util.annotationfactory.AnnotationFactory'],\n",
      " 'vuln_gav': 'org.hibernate:hibernate-validator:5.0.1.Final'}\n",
      "\n",
      "------------\n",
      "\n",
      "{'_id': ObjectId('67f9147e6e91fd4e04c24016'),\n",
      " 'cve_ref': 'CVE-2014-3558',\n",
      " 'data_src': 'mvn_eco',\n",
      " 'patches': ['https://github.com/hibernate/hibernate-validator/commit/e8c42b689df8c6752d635d02c6518da3fece3870',\n",
      "             'https://github.com/hibernate/hibernate-validator/commit/2c95d4ea0ef20977be249e31a4a4f4f4f71c945d',\n",
      "             'https://github.com/hibernate/hibernate-validator/commit/c489416f699a46859c134796b3ccfea41ef3ce52',\n",
      "             'https://github.com/hibernate/hibernate-validator/commit/c9525ca544b1281e2b7c7347e86e87c86dc1dc6e',\n",
      "             'https://github.com/hibernate/hibernate-validator/commit/fd4eaed7fb930db6a5e4c03742b4b3adcfecc90e',\n",
      "             'https://github.com/hibernate/hibernate-validator/commit/f97c2021a03c825abdeca1692f5be51e77e76a8f',\n",
      "             'https://github.com/hibernate/hibernate-validator/commit/67fdff14831c035c25e098fe14bd86523d17f726',\n",
      "             'https://github.com/hibernate/hibernate-validator/commit/7e7131939a4361a7cad3e77ab89a8462132c561c'],\n",
      " 'vuln_classes': ['org.hibernate.validator.internal.xml.XmlMappingParser',\n",
      "                  'org.hibernate.validator.internal.xml.GroupConversionBuilder',\n",
      "                  'org.hibernate.validator.internal.util.ResourceLoaderHelper',\n",
      "                  'org.hibernate.validator.internal.metadata.core.MetaConstraint',\n",
      "                  'org.hibernate.validator.internal.util.ReflectionHelper',\n",
      "                  'org.hibernate.validator.internal.util.annotationfactory.AnnotationFactory',\n",
      "                  'org.hibernate.validator.internal.util.annotationfactory.AnnotationProxy',\n",
      "                  'org.hibernate.validator.internal.xml.MetaConstraintBuilder',\n",
      "                  'org.hibernate.validator.internal.engine.resolver.DefaultTraversableResolver',\n",
      "                  'org.hibernate.validator.internal.util.classhierarchy.ClassHierarchyHelper',\n",
      "                  'org.hibernate.validator.internal.xml.ValidationXmlParser',\n",
      "                  'org.hibernate.validator.internal.engine.constraintvalidation.ConstraintValidatorFactoryImpl',\n",
      "                  'org.hibernate.validator.internal.cfg.context.ConfiguredConstraint',\n",
      "                  'org.hibernate.validator.internal.metadata.descriptor.ConstraintDescriptorImpl',\n",
      "                  'org.hibernate.validator.internal.engine.ValidatorImpl',\n",
      "                  'org.hibernate.validator.internal.xml.ValidationBootstrapParameters',\n",
      "                  'org.hibernate.validator.internal.metadata.core.ConstraintHelper',\n",
      "                  'org.hibernate.validator.internal.xml.ConstrainedExecutableBuilder',\n",
      "                  'org.hibernate.validator.internal.xml.XmlParserHelper',\n",
      "                  'org.hibernate.validator.internal.xml.ConstrainedTypeBuilder',\n",
      "                  'org.hibernate.validator.internal.xml.ConstrainedFieldBuilder',\n",
      "                  'org.hibernate.validator.internal.xml.ConstrainedParameterBuilder',\n",
      "                  'org.hibernate.validator.resourceloading.PlatformResourceBundleLocator',\n",
      "                  'org.hibernate.validator.internal.metadata.provider.AnnotationMetaDataProvider',\n",
      "                  'org.hibernate.validator.internal.xml.ConstrainedGetterBuilder'],\n",
      " 'vuln_gav': 'org.hibernate:hibernate-validator:5.0.1.Final'}\n",
      "\n",
      "@@@@@@@@@@@@@@@\n",
      "\n",
      "{'_id': ObjectId('67f919b35878e3c56f2f0227'),\n",
      " 'cve_ref': 'CVE-2021-37137',\n",
      " 'data_src': 'snyk',\n",
      " 'patches': ['https://github.com/netty/netty/commit/6da4956b31023ae967451e1d94ff51a746a9194f'],\n",
      " 'snyk_url': 'https://security.snyk.io/vuln/SNYK-JAVA-IONETTY-1584063',\n",
      " 'vuln_classes': ['io.netty.handler.codec.compression.SnappyFrameDecoder',\n",
      "                  'io.netty.handler.codec.compression.Snappy'],\n",
      " 'vuln_gav': 'io.netty:netty-codec:4.1.5.Final'}\n",
      "\n",
      "------------\n",
      "\n",
      "{'_id': ObjectId('67f9147e6e91fd4e04c241e1'),\n",
      " 'cve_ref': 'CVE-2021-37137',\n",
      " 'data_src': 'mvn_eco',\n",
      " 'patches': ['https://github.com/netty/netty/commit/41d3d61a61608f2223bb364955ab2045dd5e4020'],\n",
      " 'vuln_classes': ['io.netty.handler.codec.compression.Bzip2BlockDecompressor',\n",
      "                  'io.netty.handler.codec.compression.Bzip2Decoder'],\n",
      " 'vuln_gav': 'io.netty:netty-codec:4.1.5.Final'}\n",
      "\n",
      "@@@@@@@@@@@@@@@\n",
      "\n",
      "{'_id': ObjectId('67f919b35878e3c56f2f0b58'),\n",
      " 'cve_ref': 'CVE-2018-1000632',\n",
      " 'data_src': 'snyk',\n",
      " 'patches': ['https://github.com/dom4j/dom4j/commit/e598eb43d418744c4dbf62f647dd2381c9ce9387'],\n",
      " 'snyk_url': 'https://security.snyk.io/vuln/SNYK-JAVA-ORGDOM4J-32474',\n",
      " 'vuln_classes': ['org.dom4j.QName',\n",
      "                  'org.dom4j.tree.QNameCache',\n",
      "                  'org.dom4j.Namespace'],\n",
      " 'vuln_gav': 'org.dom4j:dom4j:2.1.0'}\n",
      "\n",
      "------------\n",
      "\n",
      "{'_id': ObjectId('67f9147e6e91fd4e04c24283'),\n",
      " 'cve_ref': 'CVE-2018-1000632',\n",
      " 'data_src': 'mvn_eco',\n",
      " 'patches': ['https://github.com/dom4j/dom4j/commit/e598eb43d418744c4dbf62f647dd2381c9ce9387'],\n",
      " 'vuln_classes': ['org.dom4j.QName',\n",
      "                  'org.dom4j.tree.QNameCache',\n",
      "                  'org.dom4j.dom.DOMNamespace'],\n",
      " 'vuln_gav': 'org.dom4j:dom4j:2.1.0'}\n",
      "\n",
      "@@@@@@@@@@@@@@@\n",
      "\n",
      "{'_id': ObjectId('67f919b35878e3c56f2f00ca'),\n",
      " 'cve_ref': 'CVE-2021-43859',\n",
      " 'data_src': 'snyk',\n",
      " 'patches': ['https://github.com/x-stream/xstream/commit/e8e88621ba1c85ac3b8620337dd672e0c0c3a846'],\n",
      " 'snyk_url': 'https://security.snyk.io/vuln/SNYK-JAVA-COMTHOUGHTWORKSXSTREAM-2388977',\n",
      " 'vuln_classes': ['com.thoughtworks.xstream.core.TreeUnmarshaller'],\n",
      " 'vuln_gav': 'com.thoughtworks.xstream:xstream:1.3.1'}\n",
      "\n",
      "------------\n",
      "\n",
      "{'_id': ObjectId('67f9147e6e91fd4e04c2412e'),\n",
      " 'cve_ref': 'CVE-2021-43859',\n",
      " 'data_src': 'mvn_eco',\n",
      " 'patches': ['https://github.com/x-stream/xstream/commit/e8e88621ba1c85ac3b8620337dd672e0c0c3a846'],\n",
      " 'vuln_classes': ['com.thoughtworks.xstream.core.TreeUnmarshaller',\n",
      "                  'com.thoughtworks.xstream.XStream'],\n",
      " 'vuln_gav': 'com.thoughtworks.xstream:xstream:1.3.1'}\n",
      "\n",
      "@@@@@@@@@@@@@@@\n",
      "\n",
      "{'_id': ObjectId('67f919b35878e3c56f2f131c'),\n",
      " 'cve_ref': 'CVE-2018-10936',\n",
      " 'data_src': 'snyk',\n",
      " 'patches': ['https://github.com/pgjdbc/pgjdbc/commit/cdeeaca47dc3bc6f727c79a582c9e4123099526e'],\n",
      " 'snyk_url': 'https://security.snyk.io/vuln/SNYK-JAVA-ORGPOSTGRESQL-173997',\n",
      " 'vuln_classes': ['org.postgresql.core.v3.QueryExecutorImpl',\n",
      "                  'org.postgresql.core.SocketFactoryFactory',\n",
      "                  'org.postgresql.core.PGStream',\n",
      "                  'org.postgresql.ssl.MakeSSL',\n",
      "                  'org.postgresql.ssl.jdbc4.LazyKeyManager',\n",
      "                  'org.postgresql.ssl.jdbc4.LibPQFactory'],\n",
      " 'vuln_gav': 'org.postgresql:postgresql:42.2.2'}\n",
      "\n",
      "------------\n",
      "\n",
      "{'_id': ObjectId('67f9147e6e91fd4e04c2425b'),\n",
      " 'cve_ref': 'CVE-2018-10936',\n",
      " 'data_src': 'mvn_eco',\n",
      " 'patches': ['https://github.com/pgjdbc/pgjdbc/commit/cdeeaca47dc3bc6f727c79a582c9e4123099526e'],\n",
      " 'vuln_classes': ['org.postgresql.core.PGStream',\n",
      "                  'org.postgresql.core.v3.ConnectionFactoryImpl',\n",
      "                  'org.postgresql.ssl.MakeSSL',\n",
      "                  'org.postgresql.core.v3.QueryExecutorImpl'],\n",
      " 'vuln_gav': 'org.postgresql:postgresql:42.2.2'}\n",
      "\n",
      "@@@@@@@@@@@@@@@\n",
      "\n",
      "{'_id': ObjectId('67f919b35878e3c56f2f000b'),\n",
      " 'cve_ref': 'CVE-2013-7398',\n",
      " 'data_src': 'snyk',\n",
      " 'patches': ['https://github.com/AsyncHttpClient/async-http-client/commit/dfacb8e05d0822c7b2024c452554bd8e1d6221d8'],\n",
      " 'snyk_url': 'https://security.snyk.io/vuln/SNYK-JAVA-COMNING-30318',\n",
      " 'vuln_classes': ['com.ning.http.client.providers.netty.NettyAsyncHttpProvider',\n",
      "                  'com.ning.http.util.SslUtils',\n",
      "                  'com.ning.http.client.SimpleAsyncHttpClient',\n",
      "                  'com.ning.http.client.AsyncHttpClientConfigBean',\n",
      "                  'com.ning.http.client.AsyncHttpClientConfig'],\n",
      " 'vuln_gav': 'com.ning:async-http-client:1.6.5'}\n",
      "\n",
      "------------\n",
      "\n",
      "{'_id': ObjectId('67f9147e6e91fd4e04c242bf'),\n",
      " 'cve_ref': 'CVE-2013-7398',\n",
      " 'data_src': 'mvn_eco',\n",
      " 'patches': ['https://github.com/AsyncHttpClient/async-http-client/commit/dfacb8e05d0822c7b2024c452554bd8e1d6221d8',\n",
      "             'https://github.com/AsyncHttpClient/async-http-client/commit/a894583921c11c3b01f160ada36a8bb9d5158e9'],\n",
      " 'vuln_classes': ['com.ning.http.util.SslUtils',\n",
      "                  'com.ning.http.client.AsyncHttpClientConfig',\n",
      "                  'com.ning.http.client.providers.jdk.JDKAsyncHttpProvider',\n",
      "                  'com.ning.http.client.SimpleAsyncHttpClient',\n",
      "                  'com.ning.http.client.providers.netty.NettyAsyncHttpProvider',\n",
      "                  'com.ning.http.client.AsyncHttpClientConfigBean'],\n",
      " 'vuln_gav': 'com.ning:async-http-client:1.6.5'}\n",
      "\n",
      "@@@@@@@@@@@@@@@\n",
      "\n",
      "{'_id': ObjectId('67f919b35878e3c56f2f0030'),\n",
      " 'cve_ref': 'CVE-2013-7397',\n",
      " 'data_src': 'snyk',\n",
      " 'patches': ['https://github.com/AsyncHttpClient/async-http-client/commit/dfacb8e05d0822c7b2024c452554bd8e1d6221d8'],\n",
      " 'snyk_url': 'https://security.snyk.io/vuln/SNYK-JAVA-COMNING-30317',\n",
      " 'vuln_classes': ['com.ning.http.client.providers.netty.NettyAsyncHttpProvider',\n",
      "                  'com.ning.http.client.providers.grizzly.GrizzlyAsyncHttpProvider',\n",
      "                  'com.ning.http.util.SslUtils',\n",
      "                  'com.ning.http.client.SimpleAsyncHttpClient',\n",
      "                  'com.ning.http.client.AsyncHttpClientConfigBean',\n",
      "                  'com.ning.http.client.AsyncHttpClientConfig'],\n",
      " 'vuln_gav': 'com.ning:async-http-client:1.8.7'}\n",
      "\n",
      "------------\n",
      "\n",
      "{'_id': ObjectId('67f9147e6e91fd4e04c2420b'),\n",
      " 'cve_ref': 'CVE-2013-7397',\n",
      " 'data_src': 'mvn_eco',\n",
      " 'patches': ['https://github.com/AsyncHttpClient/async-http-client/commit/df6ed70e86c8fc340ed75563e016c8baa94d7e72'],\n",
      " 'vuln_classes': ['com.ning.http.client.providers.grizzly.GrizzlyAsyncHttpProvider',\n",
      "                  'com.ning.http.util.SslUtils',\n",
      "                  'com.ning.http.client.AsyncHttpClientConfig',\n",
      "                  'com.ning.http.client.providers.jdk.JDKAsyncHttpProvider',\n",
      "                  'com.ning.http.client.SimpleAsyncHttpClient',\n",
      "                  'com.ning.http.client.providers.netty.NettyAsyncHttpProvider',\n",
      "                  'com.ning.http.client.AsyncHttpClientConfigBean'],\n",
      " 'vuln_gav': 'com.ning:async-http-client:1.8.7'}\n",
      "\n",
      "@@@@@@@@@@@@@@@\n",
      "\n",
      "{'_id': ObjectId('67f919b35878e3c56f2f0a42'),\n",
      " 'cve_ref': 'CVE-2016-1000339',\n",
      " 'data_src': 'snyk',\n",
      " 'patches': ['https://github.com/bcgit/bc-java/commit/413b42f4d770456508585c830cfcde95f9b0e93b#diff-54656f860db94b867ba7542430cd2ef0',\n",
      "             'https://github.com/bcgit/bc-java/commit/8a73f08931450c17c749af067b6a8185abdfd2c0#diff-494fb066bed02aeb76b6c005632943f2'],\n",
      " 'snyk_url': 'https://security.snyk.io/vuln/SNYK-JAVA-ORGBOUNCYCASTLE-173771',\n",
      " 'vuln_classes': ['org.bouncycastle.jcajce.provider.symmetric.AES',\n",
      "                  'org.bouncycastle.crypto.params.DHPublicKeyParameters',\n",
      "                  'org.bouncycastle.jcajce.provider.asymmetric.util.DHUtil',\n",
      "                  'org.bouncycastle.jcajce.provider.asymmetric.ec.IESCipher',\n",
      "                  'org.bouncycastle.jcajce.provider.asymmetric.dh.BCDHPublicKey',\n",
      "                  'org.bouncycastle.crypto.engines.AESEngine'],\n",
      " 'vuln_gav': 'org.bouncycastle:bcprov-jdk15on:1.54'}\n",
      "\n",
      "------------\n",
      "\n",
      "{'_id': ObjectId('67f9147e6e91fd4e04c23fe4'),\n",
      " 'cve_ref': 'CVE-2016-1000339',\n",
      " 'data_src': 'mvn_eco',\n",
      " 'patches': ['https://github.com/bcgit/bc-java/commit/413b42f4d770456508585c830cfcde95f9b0e93b',\n",
      "             'https://github.com/bcgit/bc-java/commit/8a73f08931450c17c749af067b6a8185abdfd2c0'],\n",
      " 'vuln_classes': ['org.bouncycastle.jcajce.provider.asymmetric.dh.KeyFactorySpi',\n",
      "                  'org.bouncycastle.jcajce.provider.asymmetric.ec.IESCipher',\n",
      "                  'org.bouncycastle.jcajce.provider.asymmetric.dh.BCDHPublicKey',\n",
      "                  'org.bouncycastle.crypto.engines.AESEngine',\n",
      "                  'org.bouncycastle.jcajce.provider.symmetric.AES',\n",
      "                  'org.bouncycastle.jcajce.provider.asymmetric.util.DHUtil'],\n",
      " 'vuln_gav': 'org.bouncycastle:bcprov-jdk15on:1.54'}\n",
      "\n",
      "@@@@@@@@@@@@@@@\n",
      "\n",
      "{'_id': ObjectId('67f919b35878e3c56f2f00d2'),\n",
      " 'cve_ref': 'CVE-2013-7285',\n",
      " 'data_src': 'snyk',\n",
      " 'patches': ['https://github.com/x-stream/xstream/commit/6344867dce6767af7d0fe34fb393271a6456672d'],\n",
      " 'snyk_url': 'https://security.snyk.io/vuln/SNYK-JAVA-COMTHOUGHTWORKSXSTREAM-460764',\n",
      " 'vuln_classes': ['com.thoughtworks.xstream.mapper.CachingMapper',\n",
      "                  'com.thoughtworks.xstream.XStream'],\n",
      " 'vuln_gav': 'com.thoughtworks.xstream:xstream:1.4.10'}\n",
      "\n",
      "------------\n",
      "\n",
      "{'_id': ObjectId('67f9147e6e91fd4e04c241c4'),\n",
      " 'cve_ref': 'CVE-2013-7285',\n",
      " 'data_src': 'mvn_eco',\n",
      " 'patches': ['https://github.com/x-stream/xstream/commit/6344867dce6767af7d0fe34fb393271a6456672d'],\n",
      " 'vuln_classes': ['com.thoughtworks.xstream.XStream',\n",
      "                  'com.thoughtworks.xstream.converters.reflection.ReflectionConverter',\n",
      "                  'com.thoughtworks.xstream.mapper.CachingMapper'],\n",
      " 'vuln_gav': 'com.thoughtworks.xstream:xstream:1.4.10'}\n",
      "\n",
      "@@@@@@@@@@@@@@@\n",
      "\n",
      "{'_id': ObjectId('67f919b35878e3c56f2f0a4a'),\n",
      " 'cve_ref': 'CVE-2016-1000345',\n",
      " 'data_src': 'snyk',\n",
      " 'patches': ['https://github.com/bcgit/bc-java/commit/21dcb3d9744c83dcf2ff8fcee06dbca7bfa4ef35#diff-4439ce586bf9a13bfec05c0d113b8098'],\n",
      " 'snyk_url': 'https://security.snyk.io/vuln/SNYK-JAVA-ORGBOUNCYCASTLE-32367',\n",
      " 'vuln_classes': ['org.bouncycastle.jcajce.provider.asymmetric.rsa.CipherSpi',\n",
      "                  'org.bouncycastle.crypto.engines.IESEngine'],\n",
      " 'vuln_gav': 'org.bouncycastle:bcprov-jdk15on:1.54'}\n",
      "\n",
      "------------\n",
      "\n",
      "{'_id': ObjectId('67f9147e6e91fd4e04c24077'),\n",
      " 'cve_ref': 'CVE-2016-1000345',\n",
      " 'data_src': 'mvn_eco',\n",
      " 'patches': ['https://github.com/bcgit/bc-java/commit/21dcb3d9744c83dcf2ff8fcee06dbca7bfa4ef35'],\n",
      " 'vuln_classes': ['org.bouncycastle.crypto.engines.IESEngine',\n",
      "                  'org.bouncycastle.jcajce.provider.asymmetric.dh.IESCipher'],\n",
      " 'vuln_gav': 'org.bouncycastle:bcprov-jdk15on:1.54'}\n",
      "\n",
      "@@@@@@@@@@@@@@@\n",
      "\n",
      "{'_id': ObjectId('67f919b35878e3c56f2f170c'),\n",
      " 'cve_ref': 'CVE-2015-3192',\n",
      " 'data_src': 'snyk',\n",
      " 'patches': ['https://github.com/spring-projects/spring-framework/commit/5a711c05ec750f069235597173084c2ee796242'],\n",
      " 'snyk_url': 'https://security.snyk.io/vuln/SNYK-JAVA-ORGSPRINGFRAMEWORK-30164',\n",
      " 'vuln_classes': ['org.springframework.http.converter.xml.Jaxb2CollectionHttpMessageConverter',\n",
      "                  'org.springframework.http.converter.xml.Jaxb2RootElementHttpMessageConverter',\n",
      "                  'org.springframework.http.converter.xml.SourceHttpMessageConverter'],\n",
      " 'vuln_gav': 'org.springframework:spring-web:4.1.6.RELEASE'}\n",
      "\n",
      "------------\n",
      "\n",
      "{'_id': ObjectId('67f9147e6e91fd4e04c24039'),\n",
      " 'cve_ref': 'CVE-2015-3192',\n",
      " 'data_src': 'mvn_eco',\n",
      " 'patches': ['https://github.com/spring-projects/spring-framework/commit/9c3580d04e84d25a90ef4c249baee1b4e02df15e',\n",
      "             'https://github.com/spring-projects/spring-framework/commit/5a711c05ec750f069235597173084c2ee796242'],\n",
      " 'vuln_classes': ['org.springframework.http.converter.xml.Jaxb2RootElementHttpMessageConverter',\n",
      "                  'org.springframework.http.converter.xml.Jaxb2CollectionHttpMessageConverter',\n",
      "                  'org.springframework.http.converter.xml.SourceHttpMessageConverter',\n",
      "                  'org.springframework.http.converter.json.Jackson2ObjectMapperBuilder'],\n",
      " 'vuln_gav': 'org.springframework:spring-web:4.1.6.RELEASE'}\n",
      "\n",
      "@@@@@@@@@@@@@@@\n",
      "\n",
      "{'_id': ObjectId('67f919b35878e3c56f2f00bf'),\n",
      " 'cve_ref': 'CVE-2016-2402',\n",
      " 'data_src': 'snyk',\n",
      " 'patches': ['https://github.com/square/okhttp/commit/a7d3396047a75183398f339310774ee415c1c4e8',\n",
      "             'https://github.com/square/okhttp/commit/a2bf207c980e4d2a0ecf457eadae9048e63d09aa',\n",
      "             'https://github.com/square/okhttp/commit/e121ed1ad291cbe04de989683d23f549d8e305db',\n",
      "             'https://github.com/square/okhttp/commit/ddbabf77803112fe804d1f44e5071244b00b9cfb',\n",
      "             'https://github.com/square/okhttp/commit/18b2660873ed8f028ee72981c882ed676aa08030',\n",
      "             'https://github.com/square/okhttp/commit/62b42bf27589fd8128f6d1a202455c5731c890c2'],\n",
      " 'snyk_url': 'https://security.snyk.io/vuln/SNYK-JAVA-COMSQUAREUPOKHTTP3-73572',\n",
      " 'vuln_classes': ['okhttp3.CertificatePinner',\n",
      "                  'okhttp3.internal.Platform',\n",
      "                  'okhttp3.OkHttpClient'],\n",
      " 'vuln_gav': 'com.squareup.okhttp3:okhttp:3.0.1'}\n",
      "\n",
      "------------\n",
      "\n",
      "{'_id': ObjectId('67f9147e6e91fd4e04c2417f'),\n",
      " 'cve_ref': 'CVE-2016-2402',\n",
      " 'data_src': 'mvn_eco',\n",
      " 'patches': ['https://github.com/square/okhttp/commit/784fabac7d1586a5614bd4bc8854fd62850dbe26',\n",
      "             'https://github.com/square/okhttp/commit/3ccb46dd16b6ec98f70b0ee53eafe5ed6380891e'],\n",
      " 'vuln_classes': ['okhttp3.OkHttpClient',\n",
      "                  'okhttp3.internal.io.RealConnection',\n",
      "                  'okhttp3.CertificatePinner'],\n",
      " 'vuln_gav': 'com.squareup.okhttp3:okhttp:3.0.1'}\n",
      "\n",
      "@@@@@@@@@@@@@@@\n",
      "\n"
     ]
    },
    {
     "data": {
      "text/plain": [
       "17"
      ]
     },
     "execution_count": 12,
     "metadata": {},
     "output_type": "execute_result"
    }
   ],
   "execution_count": 12
  },
  {
   "cell_type": "markdown",
   "source": [
    "have to remove modified classes that are not in the jar (libio)"
   ],
   "metadata": {
    "collapsed": false
   },
   "id": "e0111a22731d2270"
  },
  {
   "metadata": {},
   "cell_type": "code",
   "outputs": [],
   "execution_count": null,
   "source": "",
   "id": "c93598da86a7a528"
  },
  {
   "cell_type": "code",
   "source": [
    "mvn_eco_vuln_gav_cve_ref = set((x['vuln_gav'], x['cve_ref']) for x in mvn_eco_vuln_data)\n",
    "len(mvn_eco_vuln_gav_cve_ref), len(list(x for x in libio_vuln_data if (x['vuln_gav'], x['cve_ref']) not in mvn_eco_vuln_gav_cve_ref))"
   ],
   "metadata": {
    "collapsed": false,
    "ExecuteTime": {
     "end_time": "2025-04-11T13:59:09.802823Z",
     "start_time": "2025-04-11T13:59:09.792875Z"
    }
   },
   "id": "5543efed099f56a4",
   "outputs": [
    {
     "data": {
      "text/plain": [
       "(829, 5958)"
      ]
     },
     "execution_count": 13,
     "metadata": {},
     "output_type": "execute_result"
    }
   ],
   "execution_count": 13
  },
  {
   "cell_type": "code",
   "source": [
    "libio_vuln_gav_cve_ref = set((x['vuln_gav'], x['cve_ref']) for x in libio_vuln_data)\n",
    "len(libio_vuln_gav_cve_ref), len(list(x for x in mvn_eco_vuln_data if (x['vuln_gav'], x['cve_ref']) not in libio_vuln_gav_cve_ref))"
   ],
   "metadata": {
    "collapsed": false,
    "ExecuteTime": {
     "end_time": "2025-04-11T13:59:14.147325Z",
     "start_time": "2025-04-11T13:59:14.136142Z"
    }
   },
   "id": "49def78880cc56ee",
   "outputs": [
    {
     "data": {
      "text/plain": [
       "(6028, 759)"
      ]
     },
     "execution_count": 14,
     "metadata": {},
     "output_type": "execute_result"
    }
   ],
   "execution_count": 14
  },
  {
   "cell_type": "code",
   "source": [
    "db.mergedVuln.drop()\n",
    "db.mergedVuln.insert_many(libio_vuln_data)\n",
    "_ = db.mergedVuln.insert_many(x for x in mvn_eco_vuln_data if (x['vuln_gav'], x['cve_ref']) not in libio_vuln_gav_cve_ref)"
   ],
   "metadata": {
    "collapsed": false,
    "ExecuteTime": {
     "end_time": "2025-04-11T13:59:20.021376Z",
     "start_time": "2025-04-11T13:59:19.905077Z"
    }
   },
   "id": "a190e3ee0556938",
   "outputs": [],
   "execution_count": 15
  },
  {
   "cell_type": "code",
   "source": [
    "uniq_cve = set()\n",
    "uniq_cve_ga = set()\n",
    "uniq_cve_gav_set = set()\n",
    "\n",
    "for it in db.mergedVuln.find():\n",
    "    cve_ref = it['cve_ref']\n",
    "    if cve_ref == '':\n",
    "        cve_ref = it['snyk_url']\n",
    "    \n",
    "    assert cve_ref != '' and cve_ref is not None\n",
    "    \n",
    "    uniq_cve.add(cve_ref)\n",
    "    uniq_cve_ga.add((cve_ref, ':'.join(it['vuln_gav'].split(':')[:-1])))\n",
    "    uniq_cve_gav_set.add((cve_ref, it['vuln_gav']))\n",
    "\n",
    "print(len(uniq_cve))  \n",
    "print(len(uniq_cve_ga))\n",
    "print(len(uniq_cve_gav_set))"
   ],
   "metadata": {
    "collapsed": false,
    "ExecuteTime": {
     "end_time": "2025-04-11T13:59:23.224641Z",
     "start_time": "2025-04-11T13:59:23.090277Z"
    }
   },
   "id": "438e8d247e163149",
   "outputs": [
    {
     "name": "stdout",
     "output_type": "stream",
     "text": [
      "941\n",
      "977\n",
      "6787\n"
     ]
    }
   ],
   "execution_count": 16
  }
 ],
 "metadata": {
  "kernelspec": {
   "display_name": "Python 3",
   "language": "python",
   "name": "python3"
  },
  "language_info": {
   "codemirror_mode": {
    "name": "ipython",
    "version": 2
   },
   "file_extension": ".py",
   "mimetype": "text/x-python",
   "name": "python",
   "nbconvert_exporter": "python",
   "pygments_lexer": "ipython2",
   "version": "2.7.6"
  }
 },
 "nbformat": 4,
 "nbformat_minor": 5
}
