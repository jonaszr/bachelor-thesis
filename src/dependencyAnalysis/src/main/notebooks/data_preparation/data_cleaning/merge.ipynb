{
 "cells": [
  {
   "cell_type": "code",
   "id": "initial_id",
   "metadata": {
    "collapsed": true
   },
   "source": [
    "from typing import *\n",
    "import pandas as pd\n",
    "from pathlib import Path\n",
    "import os\n",
    "import random\n",
    "import sys\n",
    "import re\n",
    "from dotenv import load_dotenv, dotenv_values\n",
    "from pydriller import Repository\n",
    "import json\n",
    "from multiprocessing import Pool\n",
    "from itertools import chain\n",
    "from pymongo import MongoClient\n",
    "import collections"
   ],
   "outputs": [],
   "execution_count": null
  },
  {
   "cell_type": "code",
   "source": [
    "import dotenv\n",
    "dotenv.load_dotenv()\n",
    "ENV = dotenv.dotenv_values(\".env\")\n",
    "DATA_DIR = Path(ENV[\"DATA_DIR\"])\n",
    "\n",
    "client = MongoClient(\"localhost\", 42692)\n",
    "db = client.s5_snyk_libio"
   ],
   "metadata": {
    "collapsed": false
   },
   "id": "42d961d9fb7b38a8",
   "outputs": [],
   "execution_count": null
  },
  {
   "cell_type": "code",
   "source": [
    "# db.mergedVuln.drop()"
   ],
   "metadata": {
    "collapsed": false
   },
   "id": "9853e48e3998b8f4",
   "outputs": [],
   "execution_count": null
  },
  {
   "cell_type": "code",
   "source": [
    "libio_vuln_data = list(db.libioVuln.find())\n",
    "mvn_eco_vuln_data = list(db.mvnEcoVuln.find())\n",
    "# db.mergedVuln.insert_many(db.libioVuln.find())\n",
    "# db.mergedVuln.insert_many(db.mvnEcoVuln.find())"
   ],
   "metadata": {
    "collapsed": false
   },
   "id": "f44e3b149b30af02",
   "outputs": [],
   "execution_count": null
  },
  {
   "cell_type": "code",
   "source": [
    "len(libio_vuln_data), len(mvn_eco_vuln_data)"
   ],
   "metadata": {
    "collapsed": false
   },
   "id": "246f017ed34f3f82",
   "outputs": [],
   "execution_count": null
  },
  {
   "cell_type": "code",
   "source": [
    "print(len(set((':'.join(x['vuln_gav'].split(':')[:-1]), x['cve_ref']) for x in libio_vuln_data)))\n",
    "print(len(set((':'.join(x['vuln_gav'].split(':')[:-1]), x['cve_ref']) for x in mvn_eco_vuln_data)))\n",
    "print(len(set((':'.join(x['vuln_gav'].split(':')[:-1]), x['cve_ref']) for x in libio_vuln_data + mvn_eco_vuln_data)))"
   ],
   "metadata": {
    "collapsed": false
   },
   "id": "812d284662424b08",
   "outputs": [],
   "execution_count": null
  },
  {
   "cell_type": "code",
   "source": [
    "print(len(set((x['vuln_gav'], x['cve_ref']) for x in libio_vuln_data)))  # 6726  some do not have CVE ID\n",
    "print(len(set((x['vuln_gav'], x['cve_ref']) for x in mvn_eco_vuln_data)))  # 829\n",
    "print(len(set((x['vuln_gav'], x['cve_ref']) for x in libio_vuln_data + mvn_eco_vuln_data)))  # 7490"
   ],
   "metadata": {
    "collapsed": false
   },
   "id": "ff3602254a798263",
   "outputs": [],
   "execution_count": null
  },
  {
   "cell_type": "code",
   "source": [
    "libio_group_by_gav_cve = collections.defaultdict(list)\n",
    "for it in libio_vuln_data:\n",
    "    libio_group_by_gav_cve[(it['vuln_gav'], it['cve_ref'])].append(it)\n",
    "\n",
    "mvn_eco_group_by_gav_cve = collections.defaultdict(list)\n",
    "for it in mvn_eco_vuln_data:\n",
    "    mvn_eco_group_by_gav_cve[(it['vuln_gav'], it['cve_ref'])].append(it)"
   ],
   "metadata": {
    "collapsed": false
   },
   "id": "d72c93fd84acc952",
   "outputs": [],
   "execution_count": null
  },
  {
   "cell_type": "code",
   "source": [
    "l = list(sorted(libio_group_by_gav_cve.items(), key=lambda x: len(x[1]), reverse=True))\n",
    "l[0]"
   ],
   "metadata": {
    "collapsed": false
   },
   "id": "617453b216bfe711",
   "outputs": [],
   "execution_count": null
  },
  {
   "cell_type": "code",
   "source": [
    "shared_gav_cve_items = list(set(libio_group_by_gav_cve.keys()).intersection(set(mvn_eco_group_by_gav_cve.keys())))\n",
    "len(shared_gav_cve_items)"
   ],
   "metadata": {
    "collapsed": false
   },
   "id": "99a2d1b360bb4ef4",
   "outputs": [],
   "execution_count": null
  },
  {
   "cell_type": "code",
   "source": [
    "_rk = random.choice(shared_gav_cve_items)\n",
    "libio_group_by_gav_cve[_rk], mvn_eco_group_by_gav_cve[_rk]  \n",
    "# 'CVE-2021-37137', 'io.netty:netty-codec:4.1.5.Final'   mvn_eco data has the wrong cve_ref\n",
    "# 'CVE-2013-7285' mvn_eco data includes 'ReflectionConverter' which is wrong\n",
    "# "
   ],
   "metadata": {
    "collapsed": false
   },
   "id": "f205363e4fd89e7",
   "outputs": [],
   "execution_count": null
  },
  {
   "cell_type": "code",
   "source": [
    "import pprint\n",
    "\n",
    "diff_class_counter = 0\n",
    "\n",
    "for k in shared_gav_cve_items:\n",
    "    x = libio_group_by_gav_cve[k]\n",
    "    if len(x) > 1:\n",
    "        continue\n",
    "    x = x[0]\n",
    "    y = mvn_eco_group_by_gav_cve[k]\n",
    "    if len(y) > 1:\n",
    "        continue\n",
    "    y = y[0]\n",
    "    \n",
    "    if set(x['vuln_classes']) == set(y['vuln_classes']):\n",
    "        continue\n",
    "\n",
    "    if set(y['vuln_classes']).issubset(set(x['vuln_classes'])):\n",
    "        continue\n",
    "\n",
    "    # if set(x['vuln_classes']).issubset(set(y['vuln_classes'])):\n",
    "    #     continue\n",
    "        \n",
    "    diff_class_counter += 1\n",
    "    pprint.pprint(x)\n",
    "    print(\"\\n------------\\n\")\n",
    "    pprint.pprint(y)\n",
    "    print(\"\\n@@@@@@@@@@@@@@@\\n\")\n",
    "\n",
    "diff_class_counter"
   ],
   "metadata": {
    "collapsed": false
   },
   "id": "8bcd7f29000dde44",
   "outputs": [],
   "execution_count": null
  },
  {
   "cell_type": "markdown",
   "source": [
    "have to remove modified classes that are not in the jar (libio)"
   ],
   "metadata": {
    "collapsed": false
   },
   "id": "e0111a22731d2270"
  },
  {
   "cell_type": "code",
   "source": [
    "mvn_eco_vuln_gav_cve_ref = set((x['vuln_gav'], x['cve_ref']) for x in mvn_eco_vuln_data)\n",
    "len(mvn_eco_vuln_gav_cve_ref), len(list(x for x in libio_vuln_data if (x['vuln_gav'], x['cve_ref']) not in mvn_eco_vuln_gav_cve_ref))"
   ],
   "metadata": {
    "collapsed": false
   },
   "id": "5543efed099f56a4",
   "outputs": [],
   "execution_count": null
  },
  {
   "cell_type": "code",
   "source": [
    "libio_vuln_gav_cve_ref = set((x['vuln_gav'], x['cve_ref']) for x in libio_vuln_data)\n",
    "len(libio_vuln_gav_cve_ref), len(list(x for x in mvn_eco_vuln_data if (x['vuln_gav'], x['cve_ref']) not in libio_vuln_gav_cve_ref))"
   ],
   "metadata": {
    "collapsed": false
   },
   "id": "49def78880cc56ee",
   "outputs": [],
   "execution_count": null
  },
  {
   "cell_type": "code",
   "source": [
    "# db.mergedVuln.drop()\n",
    "# db.mergedVuln.insert_many(libio_vuln_data)\n",
    "# _ = db.mergedVuln.insert_many(x for x in mvn_eco_vuln_data if (x['vuln_gav'], x['cve_ref']) not in libio_vuln_gav_cve_ref)"
   ],
   "metadata": {
    "collapsed": false
   },
   "id": "a190e3ee0556938",
   "outputs": [],
   "execution_count": null
  },
  {
   "cell_type": "code",
   "source": [
    "uniq_cve = set()\n",
    "uniq_cve_ga = set()\n",
    "uniq_cve_gav_set = set()\n",
    "\n",
    "for it in db.mergedVuln.find():\n",
    "    cve_ref = it['cve_ref']\n",
    "    if cve_ref == '':\n",
    "        cve_ref = it['snyk_url']\n",
    "    \n",
    "    assert cve_ref != '' and cve_ref is not None\n",
    "    \n",
    "    uniq_cve.add(cve_ref)\n",
    "    uniq_cve_ga.add((cve_ref, ':'.join(it['vuln_gav'].split(':')[:-1])))\n",
    "    uniq_cve_gav_set.add((cve_ref, it['vuln_gav']))\n",
    "\n",
    "print(len(uniq_cve))  \n",
    "print(len(uniq_cve_ga))\n",
    "print(len(uniq_cve_gav_set))"
   ],
   "metadata": {
    "collapsed": false
   },
   "id": "438e8d247e163149",
   "outputs": [],
   "execution_count": null
  }
 ],
 "metadata": {
  "kernelspec": {
   "display_name": "Python 3",
   "language": "python",
   "name": "python3"
  },
  "language_info": {
   "codemirror_mode": {
    "name": "ipython",
    "version": 2
   },
   "file_extension": ".py",
   "mimetype": "text/x-python",
   "name": "python",
   "nbconvert_exporter": "python",
   "pygments_lexer": "ipython2",
   "version": "2.7.6"
  }
 },
 "nbformat": 4,
 "nbformat_minor": 5
}
