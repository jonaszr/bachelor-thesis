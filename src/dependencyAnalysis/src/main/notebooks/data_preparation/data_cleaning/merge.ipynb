{
 "cells": [
  {
   "cell_type": "code",
   "id": "initial_id",
   "metadata": {
    "collapsed": true,
    "ExecuteTime": {
     "end_time": "2025-02-25T09:56:54.958448Z",
     "start_time": "2025-02-25T09:56:53.512822Z"
    }
   },
   "source": [
    "from typing import *\n",
    "import pandas as pd\n",
    "from pathlib import Path\n",
    "import os\n",
    "import random\n",
    "import sys\n",
    "import re\n",
    "from dotenv import load_dotenv, dotenv_values\n",
    "from pydriller import Repository\n",
    "import json\n",
    "from multiprocessing import Pool\n",
    "from itertools import chain\n",
    "from pymongo import MongoClient\n",
    "import collections"
   ],
   "outputs": [],
   "execution_count": 1
  },
  {
   "cell_type": "code",
   "source": [
    "import dotenv\n",
    "dotenv.load_dotenv()\n",
    "ENV = dotenv.dotenv_values(\".env\")\n",
    "DATA_DIR = Path(ENV[\"DATA_DIR\"])\n",
    "\n",
    "client = MongoClient(\"localhost\", 42692)\n",
    "db = client.s5_snyk_libio"
   ],
   "metadata": {
    "collapsed": false,
    "ExecuteTime": {
     "end_time": "2025-02-25T09:56:55.453721Z",
     "start_time": "2025-02-25T09:56:54.974017Z"
    }
   },
   "id": "42d961d9fb7b38a8",
   "outputs": [],
   "execution_count": 2
  },
  {
   "cell_type": "code",
   "source": "db.mergedVuln.drop()",
   "metadata": {
    "collapsed": false,
    "ExecuteTime": {
     "end_time": "2025-02-25T09:56:55.658925Z",
     "start_time": "2025-02-25T09:56:55.654489Z"
    }
   },
   "id": "9853e48e3998b8f4",
   "outputs": [],
   "execution_count": 3
  },
  {
   "cell_type": "code",
   "source": [
    "libio_vuln_data = list(db.libioVuln.find())\n",
    "mvn_eco_vuln_data = list(db.mvnEcoVuln.find())\n",
    "db.mergedVuln.insert_many(db.libioVuln.find())\n",
    "db.mergedVuln.insert_many(db.mvnEcoVuln.find())"
   ],
   "metadata": {
    "collapsed": false,
    "ExecuteTime": {
     "end_time": "2025-02-25T09:56:55.952603Z",
     "start_time": "2025-02-25T09:56:55.770830Z"
    }
   },
   "id": "f44e3b149b30af02",
   "outputs": [
    {
     "data": {
      "text/plain": [
       "InsertManyResult([ObjectId('67bc44645de95ee4df78f007'), ObjectId('67bc44645de95ee4df78f008'), ObjectId('67bc44645de95ee4df78f009'), ObjectId('67bc44645de95ee4df78f00a'), ObjectId('67bc44645de95ee4df78f00b'), ObjectId('67bc44645de95ee4df78f00c'), ObjectId('67bc44645de95ee4df78f00d'), ObjectId('67bc44645de95ee4df78f00e'), ObjectId('67bc44645de95ee4df78f00f'), ObjectId('67bc44645de95ee4df78f011'), ObjectId('67bc44645de95ee4df78f012'), ObjectId('67bc44645de95ee4df78f013'), ObjectId('67bc44645de95ee4df78f014'), ObjectId('67bc44645de95ee4df78f015'), ObjectId('67bc44645de95ee4df78f016'), ObjectId('67bc44645de95ee4df78f017'), ObjectId('67bc44645de95ee4df78f018'), ObjectId('67bc44645de95ee4df78f019'), ObjectId('67bc44645de95ee4df78f01a'), ObjectId('67bc44645de95ee4df78f01b'), ObjectId('67bc44645de95ee4df78f01c'), ObjectId('67bc44645de95ee4df78f01d'), ObjectId('67bc44645de95ee4df78f01e'), ObjectId('67bc44645de95ee4df78f01f'), ObjectId('67bc44645de95ee4df78f020'), ObjectId('67bc44645de95ee4df78f021'), ObjectId('67bc44645de95ee4df78f022'), ObjectId('67bc44645de95ee4df78f023'), ObjectId('67bc44645de95ee4df78f024'), ObjectId('67bc44645de95ee4df78f025'), ObjectId('67bc44645de95ee4df78f026'), ObjectId('67bc44645de95ee4df78f027'), ObjectId('67bc44645de95ee4df78f028'), ObjectId('67bc44645de95ee4df78f029'), ObjectId('67bc44645de95ee4df78f02a'), ObjectId('67bc44645de95ee4df78f02b'), ObjectId('67bc44645de95ee4df78f02c'), ObjectId('67bc44645de95ee4df78f02d'), ObjectId('67bc44645de95ee4df78f02e'), ObjectId('67bc44645de95ee4df78f02f'), ObjectId('67bc44645de95ee4df78f030'), ObjectId('67bc44645de95ee4df78f031'), ObjectId('67bc44645de95ee4df78f032'), ObjectId('67bc44645de95ee4df78f033'), ObjectId('67bc44645de95ee4df78f034'), ObjectId('67bc44645de95ee4df78f035'), ObjectId('67bc44645de95ee4df78f036'), ObjectId('67bc44645de95ee4df78f037'), ObjectId('67bc44645de95ee4df78f038'), ObjectId('67bc44645de95ee4df78f039'), ObjectId('67bc44645de95ee4df78f03a'), ObjectId('67bc44645de95ee4df78f03b'), ObjectId('67bc44645de95ee4df78f03c'), ObjectId('67bc44645de95ee4df78f03d'), ObjectId('67bc44645de95ee4df78f03e'), ObjectId('67bc44645de95ee4df78f03f'), ObjectId('67bc44645de95ee4df78f040'), ObjectId('67bc44645de95ee4df78f041'), ObjectId('67bc44645de95ee4df78f042'), ObjectId('67bc44645de95ee4df78f043'), ObjectId('67bc44645de95ee4df78f044'), ObjectId('67bc44645de95ee4df78f045'), ObjectId('67bc44645de95ee4df78f046'), ObjectId('67bc44645de95ee4df78f047'), ObjectId('67bc44645de95ee4df78f048'), ObjectId('67bc44645de95ee4df78f049'), ObjectId('67bc44645de95ee4df78f04a'), ObjectId('67bc44645de95ee4df78f04b'), ObjectId('67bc44645de95ee4df78f04c'), ObjectId('67bc44645de95ee4df78f04d'), ObjectId('67bc44645de95ee4df78f04e'), ObjectId('67bc44645de95ee4df78f04f'), ObjectId('67bc44645de95ee4df78f050'), ObjectId('67bc44645de95ee4df78f051'), ObjectId('67bc44645de95ee4df78f052'), ObjectId('67bc44645de95ee4df78f053'), ObjectId('67bc44645de95ee4df78f054'), ObjectId('67bc44645de95ee4df78f055'), ObjectId('67bc44645de95ee4df78f056'), ObjectId('67bc44645de95ee4df78f057'), ObjectId('67bc44645de95ee4df78f058'), ObjectId('67bc44645de95ee4df78f059'), ObjectId('67bc44645de95ee4df78f05a'), ObjectId('67bc44645de95ee4df78f05b'), ObjectId('67bc44645de95ee4df78f05c'), ObjectId('67bc44645de95ee4df78f05d'), ObjectId('67bc44645de95ee4df78f05e'), ObjectId('67bc44645de95ee4df78f05f'), ObjectId('67bc44645de95ee4df78f060'), ObjectId('67bc44645de95ee4df78f061'), ObjectId('67bc44645de95ee4df78f062'), ObjectId('67bc44645de95ee4df78f063'), ObjectId('67bc44645de95ee4df78f064'), ObjectId('67bc44645de95ee4df78f065'), ObjectId('67bc44645de95ee4df78f066'), ObjectId('67bc44645de95ee4df78f067'), ObjectId('67bc44645de95ee4df78f068'), ObjectId('67bc44645de95ee4df78f069'), ObjectId('67bc44645de95ee4df78f06a'), ObjectId('67bc44645de95ee4df78f06b'), ObjectId('67bc44645de95ee4df78f06c'), ObjectId('67bc44645de95ee4df78f06d'), ObjectId('67bc44645de95ee4df78f06e'), ObjectId('67bc44645de95ee4df78f06f'), ObjectId('67bc44645de95ee4df78f070'), ObjectId('67bc44645de95ee4df78f071'), ObjectId('67bc44645de95ee4df78f072'), ObjectId('67bc44645de95ee4df78f073'), ObjectId('67bc44645de95ee4df78f074'), ObjectId('67bc44645de95ee4df78f075'), ObjectId('67bc44645de95ee4df78f076'), ObjectId('67bc44645de95ee4df78f077'), ObjectId('67bc44645de95ee4df78f078'), ObjectId('67bc44645de95ee4df78f079'), ObjectId('67bc44645de95ee4df78f07a'), ObjectId('67bc44645de95ee4df78f07b'), ObjectId('67bc44645de95ee4df78f07c'), ObjectId('67bc44645de95ee4df78f07d'), ObjectId('67bc44645de95ee4df78f07e'), ObjectId('67bc44645de95ee4df78f07f'), ObjectId('67bc44645de95ee4df78f080'), ObjectId('67bc44645de95ee4df78f081'), ObjectId('67bc44645de95ee4df78f082'), ObjectId('67bc44645de95ee4df78f083'), ObjectId('67bc44645de95ee4df78f084'), ObjectId('67bc44645de95ee4df78f085'), ObjectId('67bc44645de95ee4df78f086'), ObjectId('67bc44645de95ee4df78f087'), ObjectId('67bc44645de95ee4df78f088'), ObjectId('67bc44645de95ee4df78f089'), ObjectId('67bc44645de95ee4df78f08a'), ObjectId('67bc44645de95ee4df78f08b'), ObjectId('67bc44645de95ee4df78f08c'), ObjectId('67bc44645de95ee4df78f08d'), ObjectId('67bc44645de95ee4df78f08e'), ObjectId('67bc44645de95ee4df78f08f'), ObjectId('67bc44645de95ee4df78f090'), ObjectId('67bc44645de95ee4df78f091'), ObjectId('67bc44645de95ee4df78f092'), ObjectId('67bc44645de95ee4df78f093'), ObjectId('67bc44645de95ee4df78f094'), ObjectId('67bc44645de95ee4df78f095'), ObjectId('67bc44645de95ee4df78f096'), ObjectId('67bc44645de95ee4df78f097'), ObjectId('67bc44645de95ee4df78f098'), ObjectId('67bc44645de95ee4df78f099'), ObjectId('67bc44645de95ee4df78f09a'), ObjectId('67bc44645de95ee4df78f09b'), ObjectId('67bc44645de95ee4df78f09c'), ObjectId('67bc44645de95ee4df78f09d'), ObjectId('67bc44645de95ee4df78f09e'), ObjectId('67bc44645de95ee4df78f09f'), ObjectId('67bc44645de95ee4df78f0a0'), ObjectId('67bc44645de95ee4df78f0a1'), ObjectId('67bc44645de95ee4df78f0a2'), ObjectId('67bc44645de95ee4df78f0a3'), ObjectId('67bc44645de95ee4df78f0a4'), ObjectId('67bc44645de95ee4df78f0a5'), ObjectId('67bc44645de95ee4df78f0a6'), ObjectId('67bc44645de95ee4df78f0a7'), ObjectId('67bc44645de95ee4df78f0a8'), ObjectId('67bc44645de95ee4df78f0a9'), ObjectId('67bc44645de95ee4df78f0aa'), ObjectId('67bc44645de95ee4df78f0ab'), ObjectId('67bc44645de95ee4df78f0ac'), ObjectId('67bc44645de95ee4df78f0ad'), ObjectId('67bc44645de95ee4df78f0ae'), ObjectId('67bc44645de95ee4df78f0af'), ObjectId('67bc44645de95ee4df78f0b0'), ObjectId('67bc44645de95ee4df78f0b1'), ObjectId('67bc44645de95ee4df78f0b2'), ObjectId('67bc44645de95ee4df78f0b3'), ObjectId('67bc44645de95ee4df78f0b4'), ObjectId('67bc44645de95ee4df78f0b5'), ObjectId('67bc44645de95ee4df78f0b6'), ObjectId('67bc44645de95ee4df78f0b7'), ObjectId('67bc44645de95ee4df78f0b8'), ObjectId('67bc44645de95ee4df78f0b9'), ObjectId('67bc44645de95ee4df78f0ba'), ObjectId('67bc44645de95ee4df78f0bb'), ObjectId('67bc44645de95ee4df78f0bc'), ObjectId('67bc44645de95ee4df78f0bd'), ObjectId('67bc44645de95ee4df78f0be'), ObjectId('67bc44645de95ee4df78f0bf'), ObjectId('67bc44645de95ee4df78f0c0'), ObjectId('67bc44645de95ee4df78f0c1'), ObjectId('67bc44645de95ee4df78f0c2'), ObjectId('67bc44645de95ee4df78f0c3'), ObjectId('67bc44645de95ee4df78f0c4'), ObjectId('67bc44645de95ee4df78f0c5'), ObjectId('67bc44645de95ee4df78f0c6'), ObjectId('67bc44645de95ee4df78f0c7'), ObjectId('67bc44645de95ee4df78f0c8'), ObjectId('67bc44645de95ee4df78f0c9'), ObjectId('67bc44645de95ee4df78f0ca'), ObjectId('67bc44645de95ee4df78f0cb'), ObjectId('67bc44645de95ee4df78f0cc'), ObjectId('67bc44645de95ee4df78f0cd'), ObjectId('67bc44645de95ee4df78f0ce'), ObjectId('67bc44645de95ee4df78f0cf'), ObjectId('67bc44645de95ee4df78f0d0'), ObjectId('67bc44645de95ee4df78f0d1'), ObjectId('67bc44645de95ee4df78f0d2'), ObjectId('67bc44645de95ee4df78f0d3'), ObjectId('67bc44645de95ee4df78f0d4'), ObjectId('67bc44645de95ee4df78f0d5'), ObjectId('67bc44645de95ee4df78f0d6'), ObjectId('67bc44645de95ee4df78f0d7'), ObjectId('67bc44645de95ee4df78f0d8'), ObjectId('67bc44645de95ee4df78f0d9'), ObjectId('67bc44645de95ee4df78f0da'), ObjectId('67bc44645de95ee4df78f0db'), ObjectId('67bc44645de95ee4df78f0dc'), ObjectId('67bc44645de95ee4df78f0dd'), ObjectId('67bc44645de95ee4df78f0de'), ObjectId('67bc44645de95ee4df78f0df'), ObjectId('67bc44645de95ee4df78f0e0'), ObjectId('67bc44645de95ee4df78f0e1'), ObjectId('67bc44645de95ee4df78f0e2'), ObjectId('67bc44645de95ee4df78f0e3'), ObjectId('67bc44645de95ee4df78f0e4'), ObjectId('67bc44645de95ee4df78f0e5'), ObjectId('67bc44645de95ee4df78f0e6'), ObjectId('67bc44645de95ee4df78f0e7'), ObjectId('67bc44645de95ee4df78f0e8'), ObjectId('67bc44645de95ee4df78f0e9'), ObjectId('67bc44645de95ee4df78f0ea'), ObjectId('67bc44645de95ee4df78f0eb'), ObjectId('67bc44645de95ee4df78f0ec'), ObjectId('67bc44645de95ee4df78f0ed'), ObjectId('67bc44645de95ee4df78f0ee'), ObjectId('67bc44645de95ee4df78f0ef'), ObjectId('67bc44645de95ee4df78f0f0'), ObjectId('67bc44645de95ee4df78f0f1'), ObjectId('67bc44645de95ee4df78f0f2'), ObjectId('67bc44645de95ee4df78f0f3'), ObjectId('67bc44645de95ee4df78f0f4'), ObjectId('67bc44645de95ee4df78f0f5'), ObjectId('67bc44645de95ee4df78f0f6'), ObjectId('67bc44645de95ee4df78f0f7'), ObjectId('67bc44645de95ee4df78f0f8'), ObjectId('67bc44645de95ee4df78f0f9'), ObjectId('67bc44645de95ee4df78f0fa'), ObjectId('67bc44645de95ee4df78f0fb'), ObjectId('67bc44645de95ee4df78f0fc'), ObjectId('67bc44645de95ee4df78f0fd'), ObjectId('67bc44645de95ee4df78f0fe'), ObjectId('67bc44645de95ee4df78f0ff'), ObjectId('67bc44645de95ee4df78f100'), ObjectId('67bc44645de95ee4df78f101'), ObjectId('67bc44645de95ee4df78f102'), ObjectId('67bc44645de95ee4df78f103'), ObjectId('67bc44645de95ee4df78f104'), ObjectId('67bc44645de95ee4df78f105'), ObjectId('67bc44645de95ee4df78f106'), ObjectId('67bc44645de95ee4df78f107'), ObjectId('67bc44645de95ee4df78f108'), ObjectId('67bc44645de95ee4df78f109'), ObjectId('67bc44645de95ee4df78f10a'), ObjectId('67bc44645de95ee4df78f10b'), ObjectId('67bc44645de95ee4df78f10c'), ObjectId('67bc44645de95ee4df78f10d'), ObjectId('67bc44645de95ee4df78f10e'), ObjectId('67bc44645de95ee4df78f10f'), ObjectId('67bc44645de95ee4df78f110'), ObjectId('67bc44645de95ee4df78f111'), ObjectId('67bc44645de95ee4df78f112'), ObjectId('67bc44645de95ee4df78f113'), ObjectId('67bc44645de95ee4df78f114'), ObjectId('67bc44645de95ee4df78f115'), ObjectId('67bc44645de95ee4df78f116'), ObjectId('67bc44645de95ee4df78f117'), ObjectId('67bc44645de95ee4df78f118'), ObjectId('67bc44645de95ee4df78f119'), ObjectId('67bc44645de95ee4df78f11a'), ObjectId('67bc44645de95ee4df78f11b'), ObjectId('67bc44645de95ee4df78f11c'), ObjectId('67bc44645de95ee4df78f11d'), ObjectId('67bc44645de95ee4df78f11e'), ObjectId('67bc44645de95ee4df78f11f'), ObjectId('67bc44645de95ee4df78f120'), ObjectId('67bc44645de95ee4df78f121'), ObjectId('67bc44645de95ee4df78f122'), ObjectId('67bc44645de95ee4df78f123'), ObjectId('67bc44645de95ee4df78f124'), ObjectId('67bc44645de95ee4df78f125'), ObjectId('67bc44645de95ee4df78f126'), ObjectId('67bc44645de95ee4df78f127'), ObjectId('67bc44645de95ee4df78f128'), ObjectId('67bc44645de95ee4df78f129'), ObjectId('67bc44645de95ee4df78f12a'), ObjectId('67bc44645de95ee4df78f12b'), ObjectId('67bc44645de95ee4df78f12c'), ObjectId('67bc44645de95ee4df78f12d'), ObjectId('67bc44645de95ee4df78f12e'), ObjectId('67bc44645de95ee4df78f12f'), ObjectId('67bc44645de95ee4df78f130'), ObjectId('67bc44645de95ee4df78f131'), ObjectId('67bc44645de95ee4df78f132'), ObjectId('67bc44645de95ee4df78f133'), ObjectId('67bc44645de95ee4df78f134'), ObjectId('67bc44645de95ee4df78f135'), ObjectId('67bc44645de95ee4df78f136'), ObjectId('67bc44645de95ee4df78f137'), ObjectId('67bc44645de95ee4df78f138'), ObjectId('67bc44645de95ee4df78f139'), ObjectId('67bc44645de95ee4df78f13a'), ObjectId('67bc44645de95ee4df78f13b'), ObjectId('67bc44645de95ee4df78f13c'), ObjectId('67bc44645de95ee4df78f13d'), ObjectId('67bc44645de95ee4df78f13e'), ObjectId('67bc44645de95ee4df78f13f'), ObjectId('67bc44645de95ee4df78f140'), ObjectId('67bc44645de95ee4df78f141'), ObjectId('67bc44645de95ee4df78f142'), ObjectId('67bc44645de95ee4df78f143'), ObjectId('67bc44645de95ee4df78f144'), ObjectId('67bc44645de95ee4df78f145'), ObjectId('67bc44645de95ee4df78f146'), ObjectId('67bc44645de95ee4df78f147'), ObjectId('67bc44645de95ee4df78f148'), ObjectId('67bc44645de95ee4df78f149'), ObjectId('67bc44645de95ee4df78f14a'), ObjectId('67bc44645de95ee4df78f14b'), ObjectId('67bc44645de95ee4df78f14c'), ObjectId('67bc44645de95ee4df78f14d'), ObjectId('67bc44645de95ee4df78f14e'), ObjectId('67bc44645de95ee4df78f14f'), ObjectId('67bc44645de95ee4df78f150'), ObjectId('67bc44645de95ee4df78f151'), ObjectId('67bc44645de95ee4df78f152'), ObjectId('67bc44645de95ee4df78f153'), ObjectId('67bc44645de95ee4df78f154'), ObjectId('67bc44645de95ee4df78f155'), ObjectId('67bc44645de95ee4df78f156'), ObjectId('67bc44645de95ee4df78f157'), ObjectId('67bc44645de95ee4df78f158'), ObjectId('67bc44645de95ee4df78f159'), ObjectId('67bc44645de95ee4df78f15a'), ObjectId('67bc44645de95ee4df78f15b'), ObjectId('67bc44645de95ee4df78f15c'), ObjectId('67bc44645de95ee4df78f15d'), ObjectId('67bc44645de95ee4df78f15e'), ObjectId('67bc44645de95ee4df78f15f'), ObjectId('67bc44645de95ee4df78f160'), ObjectId('67bc44645de95ee4df78f161'), ObjectId('67bc44645de95ee4df78f162'), ObjectId('67bc44645de95ee4df78f163'), ObjectId('67bc44645de95ee4df78f164'), ObjectId('67bc44645de95ee4df78f165'), ObjectId('67bc44645de95ee4df78f166'), ObjectId('67bc44645de95ee4df78f167'), ObjectId('67bc44645de95ee4df78f168'), ObjectId('67bc44645de95ee4df78f169'), ObjectId('67bc44645de95ee4df78f16a'), ObjectId('67bc44645de95ee4df78f16b'), ObjectId('67bc44645de95ee4df78f16c'), ObjectId('67bc44645de95ee4df78f16d'), ObjectId('67bc44645de95ee4df78f16e'), ObjectId('67bc44645de95ee4df78f16f'), ObjectId('67bc44645de95ee4df78f170'), ObjectId('67bc44645de95ee4df78f171'), ObjectId('67bc44645de95ee4df78f172'), ObjectId('67bc44645de95ee4df78f173'), ObjectId('67bc44645de95ee4df78f174'), ObjectId('67bc44645de95ee4df78f175'), ObjectId('67bc44645de95ee4df78f176'), ObjectId('67bc44645de95ee4df78f177'), ObjectId('67bc44645de95ee4df78f178'), ObjectId('67bc44645de95ee4df78f17a'), ObjectId('67bc44645de95ee4df78f17b'), ObjectId('67bc44645de95ee4df78f17c'), ObjectId('67bc44645de95ee4df78f17d'), ObjectId('67bc44645de95ee4df78f17e'), ObjectId('67bc44645de95ee4df78f17f'), ObjectId('67bc44645de95ee4df78f180'), ObjectId('67bc44645de95ee4df78f181'), ObjectId('67bc44645de95ee4df78f182'), ObjectId('67bc44645de95ee4df78f183'), ObjectId('67bc44645de95ee4df78f184'), ObjectId('67bc44645de95ee4df78f185'), ObjectId('67bc44645de95ee4df78f186'), ObjectId('67bc44645de95ee4df78f187'), ObjectId('67bc44645de95ee4df78f188'), ObjectId('67bc44645de95ee4df78f189'), ObjectId('67bc44645de95ee4df78f18a'), ObjectId('67bc44645de95ee4df78f18b'), ObjectId('67bc44645de95ee4df78f18c'), ObjectId('67bc44645de95ee4df78f18d'), ObjectId('67bc44645de95ee4df78f18e'), ObjectId('67bc44645de95ee4df78f18f'), ObjectId('67bc44645de95ee4df78f190'), ObjectId('67bc44645de95ee4df78f191'), ObjectId('67bc44645de95ee4df78f192'), ObjectId('67bc44645de95ee4df78f193'), ObjectId('67bc44645de95ee4df78f194'), ObjectId('67bc44645de95ee4df78f195'), ObjectId('67bc44645de95ee4df78f196'), ObjectId('67bc44645de95ee4df78f197'), ObjectId('67bc44645de95ee4df78f198'), ObjectId('67bc44645de95ee4df78f199'), ObjectId('67bc44645de95ee4df78f19a'), ObjectId('67bc44645de95ee4df78f19b'), ObjectId('67bc44645de95ee4df78f19c'), ObjectId('67bc44645de95ee4df78f19d'), ObjectId('67bc44645de95ee4df78f19e'), ObjectId('67bc44645de95ee4df78f19f'), ObjectId('67bc44645de95ee4df78f1a0'), ObjectId('67bc44645de95ee4df78f1a1'), ObjectId('67bc44645de95ee4df78f1a2'), ObjectId('67bc44645de95ee4df78f1a3'), ObjectId('67bc44645de95ee4df78f1a4'), ObjectId('67bc44645de95ee4df78f1a5'), ObjectId('67bc44645de95ee4df78f1a6'), ObjectId('67bc44645de95ee4df78f1a7'), ObjectId('67bc44645de95ee4df78f1a8'), ObjectId('67bc44645de95ee4df78f1a9'), ObjectId('67bc44645de95ee4df78f1aa'), ObjectId('67bc44645de95ee4df78f1ab'), ObjectId('67bc44645de95ee4df78f1ac'), ObjectId('67bc44645de95ee4df78f1ad'), ObjectId('67bc44645de95ee4df78f1ae'), ObjectId('67bc44645de95ee4df78f1af'), ObjectId('67bc44645de95ee4df78f1b0'), ObjectId('67bc44645de95ee4df78f1b1'), ObjectId('67bc44645de95ee4df78f1b2'), ObjectId('67bc44645de95ee4df78f1b3'), ObjectId('67bc44645de95ee4df78f1b4'), ObjectId('67bc44645de95ee4df78f1b5'), ObjectId('67bc44645de95ee4df78f1b6'), ObjectId('67bc44645de95ee4df78f1b7'), ObjectId('67bc44645de95ee4df78f1b8'), ObjectId('67bc44645de95ee4df78f1b9'), ObjectId('67bc44645de95ee4df78f1ba'), ObjectId('67bc44645de95ee4df78f1bc'), ObjectId('67bc44645de95ee4df78f1bd'), ObjectId('67bc44645de95ee4df78f1be'), ObjectId('67bc44645de95ee4df78f1bf'), ObjectId('67bc44645de95ee4df78f1c0'), ObjectId('67bc44645de95ee4df78f1c1'), ObjectId('67bc44645de95ee4df78f1c2'), ObjectId('67bc44645de95ee4df78f1c3'), ObjectId('67bc44645de95ee4df78f1c4'), ObjectId('67bc44645de95ee4df78f1c5'), ObjectId('67bc44645de95ee4df78f1c6'), ObjectId('67bc44645de95ee4df78f1c7'), ObjectId('67bc44645de95ee4df78f1c8'), ObjectId('67bc44645de95ee4df78f1c9'), ObjectId('67bc44645de95ee4df78f1ca'), ObjectId('67bc44645de95ee4df78f1cb'), ObjectId('67bc44645de95ee4df78f1cc'), ObjectId('67bc44645de95ee4df78f1cd'), ObjectId('67bc44645de95ee4df78f1ce'), ObjectId('67bc44645de95ee4df78f1cf'), ObjectId('67bc44645de95ee4df78f1d0'), ObjectId('67bc44645de95ee4df78f1d1'), ObjectId('67bc44645de95ee4df78f1d2'), ObjectId('67bc44645de95ee4df78f1d3'), ObjectId('67bc44645de95ee4df78f1d4'), ObjectId('67bc44645de95ee4df78f1d5'), ObjectId('67bc44645de95ee4df78f1d6'), ObjectId('67bc44645de95ee4df78f1d7'), ObjectId('67bc44645de95ee4df78f1d8'), ObjectId('67bc44645de95ee4df78f1d9'), ObjectId('67bc44645de95ee4df78f1da'), ObjectId('67bc44645de95ee4df78f1db'), ObjectId('67bc44645de95ee4df78f1dc'), ObjectId('67bc44645de95ee4df78f1dd'), ObjectId('67bc44645de95ee4df78f1de'), ObjectId('67bc44645de95ee4df78f1df'), ObjectId('67bc44645de95ee4df78f1e0'), ObjectId('67bc44645de95ee4df78f1e1'), ObjectId('67bc44645de95ee4df78f1e2'), ObjectId('67bc44645de95ee4df78f1e3'), ObjectId('67bc44645de95ee4df78f1e4'), ObjectId('67bc44645de95ee4df78f1e5'), ObjectId('67bc44645de95ee4df78f1e6'), ObjectId('67bc44645de95ee4df78f1e7'), ObjectId('67bc44645de95ee4df78f1e8'), ObjectId('67bc44645de95ee4df78f1e9'), ObjectId('67bc44645de95ee4df78f1ea'), ObjectId('67bc44645de95ee4df78f1eb'), ObjectId('67bc44645de95ee4df78f1ec'), ObjectId('67bc44645de95ee4df78f1ed'), ObjectId('67bc44645de95ee4df78f1ee'), ObjectId('67bc44645de95ee4df78f1ef'), ObjectId('67bc44645de95ee4df78f1f0'), ObjectId('67bc44645de95ee4df78f1f1'), ObjectId('67bc44645de95ee4df78f1f2'), ObjectId('67bc44645de95ee4df78f1f3'), ObjectId('67bc44645de95ee4df78f1f4'), ObjectId('67bc44645de95ee4df78f1f5'), ObjectId('67bc44645de95ee4df78f1f6'), ObjectId('67bc44645de95ee4df78f1f7'), ObjectId('67bc44645de95ee4df78f1f8'), ObjectId('67bc44645de95ee4df78f1f9'), ObjectId('67bc44645de95ee4df78f1fa'), ObjectId('67bc44645de95ee4df78f1fb'), ObjectId('67bc44645de95ee4df78f1fc'), ObjectId('67bc44645de95ee4df78f1fd'), ObjectId('67bc44645de95ee4df78f1fe'), ObjectId('67bc44645de95ee4df78f1ff'), ObjectId('67bc44645de95ee4df78f200'), ObjectId('67bc44645de95ee4df78f201'), ObjectId('67bc44645de95ee4df78f202'), ObjectId('67bc44645de95ee4df78f203'), ObjectId('67bc44645de95ee4df78f204'), ObjectId('67bc44645de95ee4df78f205'), ObjectId('67bc44645de95ee4df78f206'), ObjectId('67bc44645de95ee4df78f207'), ObjectId('67bc44645de95ee4df78f208'), ObjectId('67bc44645de95ee4df78f209'), ObjectId('67bc44645de95ee4df78f20a'), ObjectId('67bc44645de95ee4df78f20b'), ObjectId('67bc44645de95ee4df78f20c'), ObjectId('67bc44645de95ee4df78f20d'), ObjectId('67bc44645de95ee4df78f20e'), ObjectId('67bc44645de95ee4df78f20f'), ObjectId('67bc44645de95ee4df78f210'), ObjectId('67bc44645de95ee4df78f211'), ObjectId('67bc44645de95ee4df78f212'), ObjectId('67bc44645de95ee4df78f213'), ObjectId('67bc44645de95ee4df78f214'), ObjectId('67bc44645de95ee4df78f215'), ObjectId('67bc44645de95ee4df78f216'), ObjectId('67bc44645de95ee4df78f217'), ObjectId('67bc44645de95ee4df78f218'), ObjectId('67bc44645de95ee4df78f219'), ObjectId('67bc44645de95ee4df78f21a'), ObjectId('67bc44645de95ee4df78f21b'), ObjectId('67bc44645de95ee4df78f21c'), ObjectId('67bc44645de95ee4df78f21d'), ObjectId('67bc44645de95ee4df78f21e'), ObjectId('67bc44645de95ee4df78f21f'), ObjectId('67bc44645de95ee4df78f220'), ObjectId('67bc44645de95ee4df78f221'), ObjectId('67bc44645de95ee4df78f222'), ObjectId('67bc44645de95ee4df78f223'), ObjectId('67bc44645de95ee4df78f224'), ObjectId('67bc44645de95ee4df78f225'), ObjectId('67bc44645de95ee4df78f226'), ObjectId('67bc44645de95ee4df78f227'), ObjectId('67bc44645de95ee4df78f228'), ObjectId('67bc44645de95ee4df78f229'), ObjectId('67bc44645de95ee4df78f22a'), ObjectId('67bc44645de95ee4df78f22b'), ObjectId('67bc44645de95ee4df78f22c'), ObjectId('67bc44645de95ee4df78f22d'), ObjectId('67bc44645de95ee4df78f22e'), ObjectId('67bc44645de95ee4df78f22f'), ObjectId('67bc44645de95ee4df78f230'), ObjectId('67bc44645de95ee4df78f231'), ObjectId('67bc44645de95ee4df78f232'), ObjectId('67bc44645de95ee4df78f233'), ObjectId('67bc44645de95ee4df78f234'), ObjectId('67bc44645de95ee4df78f235'), ObjectId('67bc44645de95ee4df78f236'), ObjectId('67bc44645de95ee4df78f237'), ObjectId('67bc44645de95ee4df78f238'), ObjectId('67bc44645de95ee4df78f239'), ObjectId('67bc44645de95ee4df78f23a'), ObjectId('67bc44645de95ee4df78f23b'), ObjectId('67bc44645de95ee4df78f23c'), ObjectId('67bc44645de95ee4df78f23d'), ObjectId('67bc44645de95ee4df78f23e'), ObjectId('67bc44645de95ee4df78f23f'), ObjectId('67bc44645de95ee4df78f240'), ObjectId('67bc44645de95ee4df78f241'), ObjectId('67bc44645de95ee4df78f242'), ObjectId('67bc44645de95ee4df78f243'), ObjectId('67bc44645de95ee4df78f244'), ObjectId('67bc44645de95ee4df78f245'), ObjectId('67bc44645de95ee4df78f246'), ObjectId('67bc44645de95ee4df78f247'), ObjectId('67bc44645de95ee4df78f248'), ObjectId('67bc44645de95ee4df78f249'), ObjectId('67bc44645de95ee4df78f24a'), ObjectId('67bc44645de95ee4df78f24b'), ObjectId('67bc44645de95ee4df78f24c'), ObjectId('67bc44645de95ee4df78f24d'), ObjectId('67bc44645de95ee4df78f24e'), ObjectId('67bc44645de95ee4df78f24f'), ObjectId('67bc44645de95ee4df78f250'), ObjectId('67bc44645de95ee4df78f251'), ObjectId('67bc44645de95ee4df78f252'), ObjectId('67bc44645de95ee4df78f253'), ObjectId('67bc44645de95ee4df78f254'), ObjectId('67bc44645de95ee4df78f255'), ObjectId('67bc44645de95ee4df78f256'), ObjectId('67bc44645de95ee4df78f257'), ObjectId('67bc44645de95ee4df78f258'), ObjectId('67bc44645de95ee4df78f259'), ObjectId('67bc44645de95ee4df78f25a'), ObjectId('67bc44645de95ee4df78f25b'), ObjectId('67bc44645de95ee4df78f25c'), ObjectId('67bc44645de95ee4df78f25d'), ObjectId('67bc44645de95ee4df78f25e'), ObjectId('67bc44645de95ee4df78f25f'), ObjectId('67bc44645de95ee4df78f260'), ObjectId('67bc44645de95ee4df78f261'), ObjectId('67bc44645de95ee4df78f262'), ObjectId('67bc44645de95ee4df78f263'), ObjectId('67bc44645de95ee4df78f264'), ObjectId('67bc44645de95ee4df78f265'), ObjectId('67bc44645de95ee4df78f266'), ObjectId('67bc44645de95ee4df78f267'), ObjectId('67bc44645de95ee4df78f268'), ObjectId('67bc44645de95ee4df78f269'), ObjectId('67bc44645de95ee4df78f26a'), ObjectId('67bc44645de95ee4df78f26b'), ObjectId('67bc44645de95ee4df78f26c'), ObjectId('67bc44645de95ee4df78f26d'), ObjectId('67bc44645de95ee4df78f26e'), ObjectId('67bc44645de95ee4df78f26f'), ObjectId('67bc44645de95ee4df78f270'), ObjectId('67bc44645de95ee4df78f271'), ObjectId('67bc44645de95ee4df78f272'), ObjectId('67bc44645de95ee4df78f273'), ObjectId('67bc44645de95ee4df78f274'), ObjectId('67bc44645de95ee4df78f275'), ObjectId('67bc44645de95ee4df78f276'), ObjectId('67bc44645de95ee4df78f277'), ObjectId('67bc44645de95ee4df78f278'), ObjectId('67bc44645de95ee4df78f279'), ObjectId('67bc44645de95ee4df78f27a'), ObjectId('67bc44645de95ee4df78f27b'), ObjectId('67bc44645de95ee4df78f27c'), ObjectId('67bc44645de95ee4df78f27d'), ObjectId('67bc44645de95ee4df78f27e'), ObjectId('67bc44645de95ee4df78f27f'), ObjectId('67bc44645de95ee4df78f280'), ObjectId('67bc44645de95ee4df78f281'), ObjectId('67bc44645de95ee4df78f282'), ObjectId('67bc44645de95ee4df78f283'), ObjectId('67bc44645de95ee4df78f284'), ObjectId('67bc44645de95ee4df78f285'), ObjectId('67bc44645de95ee4df78f286'), ObjectId('67bc44645de95ee4df78f287'), ObjectId('67bc44645de95ee4df78f288'), ObjectId('67bc44645de95ee4df78f289'), ObjectId('67bc44645de95ee4df78f28a'), ObjectId('67bc44645de95ee4df78f28b'), ObjectId('67bc44645de95ee4df78f28c'), ObjectId('67bc44645de95ee4df78f28d'), ObjectId('67bc44645de95ee4df78f28e'), ObjectId('67bc44645de95ee4df78f28f'), ObjectId('67bc44645de95ee4df78f290'), ObjectId('67bc44645de95ee4df78f291'), ObjectId('67bc44645de95ee4df78f292'), ObjectId('67bc44645de95ee4df78f293'), ObjectId('67bc44645de95ee4df78f294'), ObjectId('67bc44645de95ee4df78f295'), ObjectId('67bc44645de95ee4df78f296'), ObjectId('67bc44645de95ee4df78f297'), ObjectId('67bc44645de95ee4df78f298'), ObjectId('67bc44645de95ee4df78f299'), ObjectId('67bc44645de95ee4df78f29a'), ObjectId('67bc44645de95ee4df78f29b'), ObjectId('67bc44645de95ee4df78f29c'), ObjectId('67bc44645de95ee4df78f29d'), ObjectId('67bc44645de95ee4df78f29e'), ObjectId('67bc44645de95ee4df78f29f'), ObjectId('67bc44645de95ee4df78f2a0'), ObjectId('67bc44645de95ee4df78f2a1'), ObjectId('67bc44645de95ee4df78f2a2'), ObjectId('67bc44645de95ee4df78f2a3'), ObjectId('67bc44645de95ee4df78f2a4'), ObjectId('67bc44645de95ee4df78f2a5'), ObjectId('67bc44645de95ee4df78f2a6'), ObjectId('67bc44645de95ee4df78f2a7'), ObjectId('67bc44645de95ee4df78f2a8'), ObjectId('67bc44645de95ee4df78f2a9'), ObjectId('67bc44645de95ee4df78f2aa'), ObjectId('67bc44645de95ee4df78f2ab'), ObjectId('67bc44645de95ee4df78f2ac'), ObjectId('67bc44645de95ee4df78f2ad'), ObjectId('67bc44645de95ee4df78f2ae'), ObjectId('67bc44645de95ee4df78f2af'), ObjectId('67bc44645de95ee4df78f2b0'), ObjectId('67bc44645de95ee4df78f2b1'), ObjectId('67bc44645de95ee4df78f2b2'), ObjectId('67bc44645de95ee4df78f2b3'), ObjectId('67bc44645de95ee4df78f2b4'), ObjectId('67bc44645de95ee4df78f2b5'), ObjectId('67bc44645de95ee4df78f2b6'), ObjectId('67bc44645de95ee4df78f2b7'), ObjectId('67bc44645de95ee4df78f2b8'), ObjectId('67bc44645de95ee4df78f2b9'), ObjectId('67bc44645de95ee4df78f2ba'), ObjectId('67bc44645de95ee4df78f2bb'), ObjectId('67bc44645de95ee4df78f2bc'), ObjectId('67bc44645de95ee4df78f2bd'), ObjectId('67bc44645de95ee4df78f2be'), ObjectId('67bc44645de95ee4df78f2bf'), ObjectId('67bc44645de95ee4df78f2c0'), ObjectId('67bc44645de95ee4df78f2c1'), ObjectId('67bc44645de95ee4df78f2c2'), ObjectId('67bc44645de95ee4df78f2c3'), ObjectId('67bc44645de95ee4df78f2c4'), ObjectId('67bc44645de95ee4df78f2c5'), ObjectId('67bc44645de95ee4df78f2c6'), ObjectId('67bc44645de95ee4df78f2c7'), ObjectId('67bc44645de95ee4df78f2c8'), ObjectId('67bc44645de95ee4df78f2c9'), ObjectId('67bc44645de95ee4df78f2ca'), ObjectId('67bc44645de95ee4df78f2cb'), ObjectId('67bc44645de95ee4df78f2cc'), ObjectId('67bc44645de95ee4df78f2cd'), ObjectId('67bc44645de95ee4df78f2ce'), ObjectId('67bc44645de95ee4df78f2cf'), ObjectId('67bc44645de95ee4df78f2d0'), ObjectId('67bc44645de95ee4df78f2d1'), ObjectId('67bc44645de95ee4df78f2d2'), ObjectId('67bc44645de95ee4df78f2d3'), ObjectId('67bc44645de95ee4df78f2d4'), ObjectId('67bc44645de95ee4df78f2d5'), ObjectId('67bc44645de95ee4df78f2d6'), ObjectId('67bc44645de95ee4df78f2d7'), ObjectId('67bc44645de95ee4df78f2d8'), ObjectId('67bc44645de95ee4df78f2d9'), ObjectId('67bc44645de95ee4df78f2da'), ObjectId('67bc44645de95ee4df78f2db'), ObjectId('67bc44645de95ee4df78f2dc'), ObjectId('67bc44645de95ee4df78f2dd'), ObjectId('67bc44645de95ee4df78f2de'), ObjectId('67bc44645de95ee4df78f2df'), ObjectId('67bc44645de95ee4df78f2e0'), ObjectId('67bc44645de95ee4df78f2e1'), ObjectId('67bc44645de95ee4df78f2e2'), ObjectId('67bc44645de95ee4df78f2e3'), ObjectId('67bc44645de95ee4df78f2e4'), ObjectId('67bc44645de95ee4df78f2e5'), ObjectId('67bc44645de95ee4df78f2e6'), ObjectId('67bc44645de95ee4df78f2e7'), ObjectId('67bc44645de95ee4df78f2e8'), ObjectId('67bc44645de95ee4df78f2e9'), ObjectId('67bc44645de95ee4df78f2ea'), ObjectId('67bc44645de95ee4df78f2eb'), ObjectId('67bc44645de95ee4df78f2ec'), ObjectId('67bc44645de95ee4df78f2ed'), ObjectId('67bc44645de95ee4df78f2ee'), ObjectId('67bc44645de95ee4df78f2ef'), ObjectId('67bc44645de95ee4df78f2f0'), ObjectId('67bc44645de95ee4df78f2f1'), ObjectId('67bc44645de95ee4df78f2f2'), ObjectId('67bc44645de95ee4df78f2f3'), ObjectId('67bc44645de95ee4df78f2f4'), ObjectId('67bc44645de95ee4df78f2f5'), ObjectId('67bc44645de95ee4df78f2f6'), ObjectId('67bc44645de95ee4df78f2f7'), ObjectId('67bc44645de95ee4df78f2f8'), ObjectId('67bc44645de95ee4df78f2f9'), ObjectId('67bc44645de95ee4df78f2fa'), ObjectId('67bc44645de95ee4df78f2fb'), ObjectId('67bc44645de95ee4df78f2fc'), ObjectId('67bc44645de95ee4df78f2fd'), ObjectId('67bc44645de95ee4df78f2fe'), ObjectId('67bc44645de95ee4df78f2ff'), ObjectId('67bc44645de95ee4df78f300'), ObjectId('67bc44645de95ee4df78f301'), ObjectId('67bc44645de95ee4df78f302'), ObjectId('67bc44645de95ee4df78f303'), ObjectId('67bc44645de95ee4df78f304'), ObjectId('67bc44645de95ee4df78f305'), ObjectId('67bc44645de95ee4df78f306'), ObjectId('67bc44645de95ee4df78f307'), ObjectId('67bc44645de95ee4df78f308'), ObjectId('67bc44645de95ee4df78f309'), ObjectId('67bc44645de95ee4df78f30a'), ObjectId('67bc44645de95ee4df78f30b'), ObjectId('67bc44645de95ee4df78f30c'), ObjectId('67bc44645de95ee4df78f30d'), ObjectId('67bc44645de95ee4df78f30e'), ObjectId('67bc44645de95ee4df78f30f'), ObjectId('67bc44645de95ee4df78f310'), ObjectId('67bc44645de95ee4df78f311'), ObjectId('67bc44645de95ee4df78f312'), ObjectId('67bc44645de95ee4df78f313'), ObjectId('67bc44645de95ee4df78f314'), ObjectId('67bc44645de95ee4df78f315'), ObjectId('67bc44645de95ee4df78f316'), ObjectId('67bc44645de95ee4df78f317'), ObjectId('67bc44645de95ee4df78f318'), ObjectId('67bc44645de95ee4df78f319'), ObjectId('67bc44645de95ee4df78f31a'), ObjectId('67bc44645de95ee4df78f31b'), ObjectId('67bc44645de95ee4df78f31c'), ObjectId('67bc44645de95ee4df78f31d'), ObjectId('67bc44645de95ee4df78f31e'), ObjectId('67bc44645de95ee4df78f31f'), ObjectId('67bc44645de95ee4df78f320'), ObjectId('67bc44645de95ee4df78f321'), ObjectId('67bc44645de95ee4df78f322'), ObjectId('67bc44645de95ee4df78f323'), ObjectId('67bc44645de95ee4df78f324'), ObjectId('67bc44645de95ee4df78f325'), ObjectId('67bc44645de95ee4df78f326'), ObjectId('67bc44645de95ee4df78f327'), ObjectId('67bc44645de95ee4df78f328'), ObjectId('67bc44645de95ee4df78f329'), ObjectId('67bc44645de95ee4df78f32a'), ObjectId('67bc44645de95ee4df78f32b'), ObjectId('67bc44645de95ee4df78f32c'), ObjectId('67bc44645de95ee4df78f32d'), ObjectId('67bc44645de95ee4df78f32e'), ObjectId('67bc44645de95ee4df78f32f'), ObjectId('67bc44645de95ee4df78f330'), ObjectId('67bc44645de95ee4df78f331'), ObjectId('67bc44645de95ee4df78f332'), ObjectId('67bc44645de95ee4df78f333'), ObjectId('67bc44645de95ee4df78f334'), ObjectId('67bc44645de95ee4df78f335'), ObjectId('67bc44645de95ee4df78f336'), ObjectId('67bc44645de95ee4df78f337'), ObjectId('67bc44645de95ee4df78f338'), ObjectId('67bc44645de95ee4df78f339'), ObjectId('67bc44645de95ee4df78f33a'), ObjectId('67bc44645de95ee4df78f33b'), ObjectId('67bc44645de95ee4df78f33c'), ObjectId('67bc44645de95ee4df78f33d'), ObjectId('67bc44645de95ee4df78f33e'), ObjectId('67bc44645de95ee4df78f33f'), ObjectId('67bc44645de95ee4df78f340'), ObjectId('67bc44645de95ee4df78f341'), ObjectId('67bc44645de95ee4df78f342'), ObjectId('67bc44645de95ee4df78f343'), ObjectId('67bc44645de95ee4df78f344'), ObjectId('67bc44645de95ee4df78f345'), ObjectId('67bc44645de95ee4df78f346')], acknowledged=True)"
      ]
     },
     "execution_count": 4,
     "metadata": {},
     "output_type": "execute_result"
    }
   ],
   "execution_count": 4
  },
  {
   "cell_type": "code",
   "source": [
    "len(libio_vuln_data), len(mvn_eco_vuln_data)"
   ],
   "metadata": {
    "collapsed": false,
    "ExecuteTime": {
     "end_time": "2025-02-25T09:56:55.982788Z",
     "start_time": "2025-02-25T09:56:55.976793Z"
    }
   },
   "id": "246f017ed34f3f82",
   "outputs": [
    {
     "data": {
      "text/plain": [
       "(6841, 829)"
      ]
     },
     "execution_count": 5,
     "metadata": {},
     "output_type": "execute_result"
    }
   ],
   "execution_count": 5
  },
  {
   "cell_type": "code",
   "source": [
    "print(len(set((':'.join(x['vuln_gav'].split(':')[:-1]), x['cve_ref']) for x in libio_vuln_data)))\n",
    "print(len(set((':'.join(x['vuln_gav'].split(':')[:-1]), x['cve_ref']) for x in mvn_eco_vuln_data)))\n",
    "print(len(set((':'.join(x['vuln_gav'].split(':')[:-1]), x['cve_ref']) for x in libio_vuln_data + mvn_eco_vuln_data)))"
   ],
   "metadata": {
    "collapsed": false,
    "ExecuteTime": {
     "end_time": "2025-02-25T09:56:56.060078Z",
     "start_time": "2025-02-25T09:56:56.036135Z"
    }
   },
   "id": "812d284662424b08",
   "outputs": [
    {
     "name": "stdout",
     "output_type": "stream",
     "text": [
      "287\n",
      "829\n",
      "990\n"
     ]
    }
   ],
   "execution_count": 6
  },
  {
   "cell_type": "code",
   "source": [
    "print(len(set((x['vuln_gav'], x['cve_ref']) for x in libio_vuln_data)))  # 6726  some do not have CVE ID\n",
    "print(len(set((x['vuln_gav'], x['cve_ref']) for x in mvn_eco_vuln_data)))  # 829\n",
    "print(len(set((x['vuln_gav'], x['cve_ref']) for x in libio_vuln_data + mvn_eco_vuln_data)))  # 7490"
   ],
   "metadata": {
    "collapsed": false,
    "ExecuteTime": {
     "end_time": "2025-02-25T09:56:56.126383Z",
     "start_time": "2025-02-25T09:56:56.109456Z"
    }
   },
   "id": "ff3602254a798263",
   "outputs": [
    {
     "name": "stdout",
     "output_type": "stream",
     "text": [
      "6833\n",
      "829\n",
      "7587\n"
     ]
    }
   ],
   "execution_count": 7
  },
  {
   "cell_type": "code",
   "source": [
    "libio_group_by_gav_cve = collections.defaultdict(list)\n",
    "for it in libio_vuln_data:\n",
    "    libio_group_by_gav_cve[(it['vuln_gav'], it['cve_ref'])].append(it)\n",
    "\n",
    "mvn_eco_group_by_gav_cve = collections.defaultdict(list)\n",
    "for it in mvn_eco_vuln_data:\n",
    "    mvn_eco_group_by_gav_cve[(it['vuln_gav'], it['cve_ref'])].append(it)"
   ],
   "metadata": {
    "collapsed": false,
    "ExecuteTime": {
     "end_time": "2025-02-25T09:56:56.186757Z",
     "start_time": "2025-02-25T09:56:56.175957Z"
    }
   },
   "id": "d72c93fd84acc952",
   "outputs": [],
   "execution_count": 8
  },
  {
   "cell_type": "code",
   "source": [
    "l = list(sorted(libio_group_by_gav_cve.items(), key=lambda x: len(x[1]), reverse=True))\n",
    "l[0]"
   ],
   "metadata": {
    "collapsed": false,
    "ExecuteTime": {
     "end_time": "2025-02-25T09:56:56.253841Z",
     "start_time": "2025-02-25T09:56:56.247116Z"
    }
   },
   "id": "617453b216bfe711",
   "outputs": [
    {
     "data": {
      "text/plain": [
       "(('io.netty:netty-handler:4.0.21.Final', ''),\n",
       " [{'_id': ObjectId('67b73873a59659fdd4da59e5'),\n",
       "   'data_src': 'snyk',\n",
       "   'cve_ref': '',\n",
       "   'snyk_url': 'https://security.snyk.io/vuln/SNYK-JAVA-IONETTY-2342128',\n",
       "   'vuln_gav': 'io.netty:netty-handler:4.0.21.Final',\n",
       "   'vuln_classes': ['io.netty.handler.ssl.OpenSslEngine'],\n",
       "   'patches': ['https://github.com/netty/netty/commit/4581c441c99e1d5524870abca38d0ad2d553932a']},\n",
       "  {'_id': ObjectId('67b73873a59659fdd4da59e7'),\n",
       "   'data_src': 'snyk',\n",
       "   'cve_ref': '',\n",
       "   'snyk_url': 'https://security.snyk.io/vuln/SNYK-JAVA-IONETTY-31518',\n",
       "   'vuln_gav': 'io.netty:netty-handler:4.0.21.Final',\n",
       "   'vuln_classes': ['io.netty.handler.ssl.OpenSslServerContext'],\n",
       "   'patches': ['https://github.com/netty/netty/commit/a1af35313cc8414109e7a411bb2401ae31046289']},\n",
       "  {'_id': ObjectId('67b73873a59659fdd4da59e8'),\n",
       "   'data_src': 'snyk',\n",
       "   'cve_ref': '',\n",
       "   'snyk_url': 'https://security.snyk.io/vuln/SNYK-JAVA-IONETTY-31515',\n",
       "   'vuln_gav': 'io.netty:netty-handler:4.0.21.Final',\n",
       "   'vuln_classes': ['io.netty.handler.ssl.OpenSsl'],\n",
       "   'patches': ['https://github.com/netty/netty/commit/d8e6fbb9c3656663f41797a15f38bb25fdcab834']}])"
      ]
     },
     "execution_count": 9,
     "metadata": {},
     "output_type": "execute_result"
    }
   ],
   "execution_count": 9
  },
  {
   "cell_type": "code",
   "source": [
    "shared_gav_cve_items = list(set(libio_group_by_gav_cve.keys()).intersection(set(mvn_eco_group_by_gav_cve.keys())))\n",
    "len(shared_gav_cve_items)"
   ],
   "metadata": {
    "collapsed": false,
    "ExecuteTime": {
     "end_time": "2025-02-25T09:56:56.312599Z",
     "start_time": "2025-02-25T09:56:56.305451Z"
    }
   },
   "id": "99a2d1b360bb4ef4",
   "outputs": [
    {
     "data": {
      "text/plain": [
       "75"
      ]
     },
     "execution_count": 10,
     "metadata": {},
     "output_type": "execute_result"
    }
   ],
   "execution_count": 10
  },
  {
   "cell_type": "code",
   "source": [
    "_rk = random.choice(shared_gav_cve_items)\n",
    "libio_group_by_gav_cve[_rk], mvn_eco_group_by_gav_cve[_rk]  \n",
    "# 'CVE-2021-37137', 'io.netty:netty-codec:4.1.5.Final'   mvn_eco data has the wrong cve_ref\n",
    "# 'CVE-2013-7285' mvn_eco data includes 'ReflectionConverter' which is wrong\n",
    "# "
   ],
   "metadata": {
    "collapsed": false,
    "ExecuteTime": {
     "end_time": "2025-02-25T09:56:56.375691Z",
     "start_time": "2025-02-25T09:56:56.368676Z"
    }
   },
   "id": "f205363e4fd89e7",
   "outputs": [
    {
     "data": {
      "text/plain": [
       "([{'_id': ObjectId('67b73873a59659fdd4da69f6'),\n",
       "   'data_src': 'snyk',\n",
       "   'cve_ref': 'CVE-2016-5007',\n",
       "   'snyk_url': 'https://security.snyk.io/vuln/SNYK-JAVA-ORGSPRINGFRAMEWORKSECURITY-31336',\n",
       "   'vuln_gav': 'org.springframework.security:spring-security-config:4.0.4.RELEASE',\n",
       "   'vuln_classes': ['org.springframework.security.config.annotation.web.configurers.CsrfConfigurer',\n",
       "    'org.springframework.security.config.annotation.web.configurers.ChannelSecurityConfigurer',\n",
       "    'org.springframework.security.config.http.FilterInvocationSecurityMetadataSourceParser',\n",
       "    'org.springframework.security.config.annotation.web.configurers.UrlAuthorizationConfigurer',\n",
       "    'org.springframework.security.config.http.FilterChainMapBeanDefinitionDecorator',\n",
       "    'org.springframework.security.config.annotation.web.AbstractRequestMatcherRegistry',\n",
       "    'org.springframework.security.config.annotation.web.configuration.WebSecurityConfigurerAdapter',\n",
       "    'org.springframework.security.config.http.HttpConfigurationBuilder',\n",
       "    'org.springframework.security.config.http.HttpSecurityBeanDefinitionParser',\n",
       "    'org.springframework.security.config.annotation.web.configurers.ExpressionUrlAuthorizationConfigurer',\n",
       "    'org.springframework.security.config.annotation.web.builders.HttpSecurity',\n",
       "    'org.springframework.security.config.annotation.AbstractConfiguredSecurityBuilder',\n",
       "    'org.springframework.security.config.annotation.web.builders.WebSecurity',\n",
       "    'org.springframework.security.config.http.MatcherType',\n",
       "    'org.springframework.security.config.http.FilterChainBeanDefinitionParser'],\n",
       "   'patches': ['https://github.com/spring-projects/spring-security/commit/e4c13e',\n",
       "    'https://github.com/spring-projects/spring-framework/commit/a30ab30e4e9ae021fdda04e9abfc228476b846b5']}],\n",
       " [{'_id': ObjectId('67bc44645de95ee4df78f07b'),\n",
       "   'data_src': 'mvn_eco',\n",
       "   'cve_ref': 'CVE-2016-5007',\n",
       "   'vuln_gav': 'org.springframework.security:spring-security-config:4.0.4.RELEASE',\n",
       "   'vuln_classes': ['org.springframework.security.config.annotation.web.configurers.CsrfConfigurer',\n",
       "    'org.springframework.security.config.http.HttpConfigurationBuilder',\n",
       "    'org.springframework.security.config.annotation.web.configurers.ExpressionUrlAuthorizationConfigurer',\n",
       "    'org.springframework.security.config.annotation.web.builders.WebSecurity',\n",
       "    'org.springframework.security.config.http.FilterChainBeanDefinitionParser',\n",
       "    'org.springframework.security.config.http.FilterChainMapBeanDefinitionDecorator',\n",
       "    'org.springframework.security.config.annotation.web.configurers.ChannelSecurityConfigurer',\n",
       "    'org.springframework.security.config.http.FilterInvocationSecurityMetadataSourceParser',\n",
       "    'org.springframework.security.config.annotation.AbstractConfiguredSecurityBuilder',\n",
       "    'org.springframework.security.config.annotation.web.builders.HttpSecurity',\n",
       "    'org.springframework.security.config.http.HttpSecurityBeanDefinitionParser'],\n",
       "   'patches': ['https://github.com/spring-projects/spring-security/commit/e4c13e']}])"
      ]
     },
     "execution_count": 11,
     "metadata": {},
     "output_type": "execute_result"
    }
   ],
   "execution_count": 11
  },
  {
   "cell_type": "code",
   "source": [
    "import pprint\n",
    "\n",
    "diff_class_counter = 0\n",
    "\n",
    "for k in shared_gav_cve_items:\n",
    "    x = libio_group_by_gav_cve[k]\n",
    "    if len(x) > 1:\n",
    "        continue\n",
    "    x = x[0]\n",
    "    y = mvn_eco_group_by_gav_cve[k]\n",
    "    if len(y) > 1:\n",
    "        continue\n",
    "    y = y[0]\n",
    "    \n",
    "    if set(x['vuln_classes']) == set(y['vuln_classes']):\n",
    "        continue\n",
    "\n",
    "    if set(y['vuln_classes']).issubset(set(x['vuln_classes'])):\n",
    "        continue\n",
    "\n",
    "    # if set(x['vuln_classes']).issubset(set(y['vuln_classes'])):\n",
    "    #     continue\n",
    "        \n",
    "    diff_class_counter += 1\n",
    "    pprint.pprint(x)\n",
    "    print(\"\\n------------\\n\")\n",
    "    pprint.pprint(y)\n",
    "    print(\"\\n@@@@@@@@@@@@@@@\\n\")\n",
    "\n",
    "diff_class_counter"
   ],
   "metadata": {
    "collapsed": false,
    "ExecuteTime": {
     "end_time": "2025-02-25T09:56:56.447002Z",
     "start_time": "2025-02-25T09:56:56.434286Z"
    }
   },
   "id": "8bcd7f29000dde44",
   "outputs": [
    {
     "name": "stdout",
     "output_type": "stream",
     "text": [
      "{'_id': ObjectId('67b73873a59659fdd4da5f78'),\n",
      " 'cve_ref': 'CVE-2016-1000352',\n",
      " 'data_src': 'snyk',\n",
      " 'patches': ['https://github.com/bcgit/bc-java/commit/9385b0ebd277724b167fe1d1456e3c112112be1f'],\n",
      " 'snyk_url': 'https://security.snyk.io/vuln/SNYK-JAVA-ORGBOUNCYCASTLE-32366',\n",
      " 'vuln_classes': ['org.bouncycastle.jcajce.provider.asymmetric.ec.IESCipher',\n",
      "                  'org.bouncycastle.jcajce.provider.asymmetric.ies.AlgorithmParametersSpi',\n",
      "                  'org.bouncycastle.jcajce.provider.asymmetric.DH',\n",
      "                  'org.bouncycastle.jcajce.provider.asymmetric.dh.IESCipher',\n",
      "                  'org.bouncycastle.jce.spec.IESParameterSpec',\n",
      "                  'org.bouncycastle.jcajce.provider.asymmetric.EC',\n",
      "                  'org.bouncycastle.jcajce.provider.asymmetric.util.IESUtil'],\n",
      " 'vuln_gav': 'org.bouncycastle:bcprov-jdk15on:1.54'}\n",
      "\n",
      "------------\n",
      "\n",
      "{'_id': ObjectId('67bc44645de95ee4df78f166'),\n",
      " 'cve_ref': 'CVE-2016-1000352',\n",
      " 'data_src': 'mvn_eco',\n",
      " 'patches': ['https://github.com/bcgit/bc-java/commit/9385b0ebd277724b167fe1d1456e3c112112be1f'],\n",
      " 'vuln_classes': ['org.bouncycastle.jcajce.provider.asymmetric.ec.IESCipher',\n",
      "                  'org.bouncycastle.jcajce.provider.asymmetric.EC',\n",
      "                  'org.bouncycastle.jce.spec.IESParameterSpec',\n",
      "                  'org.bouncycastle.jcajce.provider.asymmetric.dh.IESCipher',\n",
      "                  'org.bouncycastle.jcajce.provider.asymmetric.util.IESUtil',\n",
      "                  'org.bouncycastle.jcajce.provider.asymmetric.DH',\n",
      "                  'org.bouncycastle.jcajce.provider.asymmetric.dh.AlgorithmParametersSpi'],\n",
      " 'vuln_gav': 'org.bouncycastle:bcprov-jdk15on:1.54'}\n",
      "\n",
      "@@@@@@@@@@@@@@@\n",
      "\n",
      "{'_id': ObjectId('67b73873a59659fdd4da568b'),\n",
      " 'cve_ref': 'CVE-2021-37137',\n",
      " 'data_src': 'snyk',\n",
      " 'patches': ['https://github.com/netty/netty/commit/6da4956b31023ae967451e1d94ff51a746a9194f'],\n",
      " 'snyk_url': 'https://security.snyk.io/vuln/SNYK-JAVA-IONETTY-1584063',\n",
      " 'vuln_classes': ['io.netty.handler.codec.compression.SnappyFrameDecoder',\n",
      "                  'io.netty.handler.codec.compression.Snappy'],\n",
      " 'vuln_gav': 'io.netty:netty-codec:4.1.5.Final'}\n",
      "\n",
      "------------\n",
      "\n",
      "{'_id': ObjectId('67bc44645de95ee4df78f239'),\n",
      " 'cve_ref': 'CVE-2021-37137',\n",
      " 'data_src': 'mvn_eco',\n",
      " 'patches': ['https://github.com/netty/netty/commit/41d3d61a61608f2223bb364955ab2045dd5e4020'],\n",
      " 'vuln_classes': ['io.netty.handler.codec.compression.Bzip2Decoder',\n",
      "                  'io.netty.handler.codec.compression.Bzip2BlockDecompressor'],\n",
      " 'vuln_gav': 'io.netty:netty-codec:4.1.5.Final'}\n",
      "\n",
      "@@@@@@@@@@@@@@@\n",
      "\n",
      "{'_id': ObjectId('67b73873a59659fdd4da5f75'),\n",
      " 'cve_ref': 'CVE-2016-1000343',\n",
      " 'data_src': 'snyk',\n",
      " 'patches': ['https://github.com/bcgit/bc-java/commit/50a53068c094d6cff37659da33c9b4505becd389#diff-5578e61500abb2b87b300d3114bdfd7d'],\n",
      " 'snyk_url': 'https://security.snyk.io/vuln/SNYK-JAVA-ORGBOUNCYCASTLE-32361',\n",
      " 'vuln_classes': ['org.bouncycastle.jcajce.provider.asymmetric.dsa.KeyPairGeneratorSpi'],\n",
      " 'vuln_gav': 'org.bouncycastle:bcprov-jdk15on:1.54'}\n",
      "\n",
      "------------\n",
      "\n",
      "{'_id': ObjectId('67bc44645de95ee4df78f27f'),\n",
      " 'cve_ref': 'CVE-2016-1000343',\n",
      " 'data_src': 'mvn_eco',\n",
      " 'patches': ['https://github.com/bcgit/bc-java/commit/50a53068c094d6cff37659da33c9b4505becd389'],\n",
      " 'vuln_classes': ['org.bouncycastle.jcajce.provider.asymmetric.dh.KeyPairGeneratorSpi'],\n",
      " 'vuln_gav': 'org.bouncycastle:bcprov-jdk15on:1.54'}\n",
      "\n",
      "@@@@@@@@@@@@@@@\n",
      "\n",
      "{'_id': ObjectId('67b73873a59659fdd4da55c3'),\n",
      " 'cve_ref': 'CVE-2013-7285',\n",
      " 'data_src': 'snyk',\n",
      " 'patches': ['https://github.com/x-stream/xstream/commit/6344867dce6767af7d0fe34fb393271a6456672d'],\n",
      " 'snyk_url': 'https://security.snyk.io/vuln/SNYK-JAVA-COMTHOUGHTWORKSXSTREAM-460764',\n",
      " 'vuln_classes': ['com.thoughtworks.xstream.XStream',\n",
      "                  'com.thoughtworks.xstream.mapper.CachingMapper'],\n",
      " 'vuln_gav': 'com.thoughtworks.xstream:xstream:1.4.10'}\n",
      "\n",
      "------------\n",
      "\n",
      "{'_id': ObjectId('67bc44645de95ee4df78f21c'),\n",
      " 'cve_ref': 'CVE-2013-7285',\n",
      " 'data_src': 'mvn_eco',\n",
      " 'patches': ['https://github.com/x-stream/xstream/commit/6344867dce6767af7d0fe34fb393271a6456672d'],\n",
      " 'vuln_classes': ['com.thoughtworks.xstream.converters.reflection.ReflectionConverter',\n",
      "                  'com.thoughtworks.xstream.XStream',\n",
      "                  'com.thoughtworks.xstream.mapper.CachingMapper'],\n",
      " 'vuln_gav': 'com.thoughtworks.xstream:xstream:1.4.10'}\n",
      "\n",
      "@@@@@@@@@@@@@@@\n",
      "\n",
      "{'_id': ObjectId('67b73873a59659fdd4da6eb5'),\n",
      " 'cve_ref': 'CVE-2015-3192',\n",
      " 'data_src': 'snyk',\n",
      " 'patches': ['https://github.com/spring-projects/spring-framework/commit/5a711c05ec750f069235597173084c2ee796242'],\n",
      " 'snyk_url': 'https://security.snyk.io/vuln/SNYK-JAVA-ORGSPRINGFRAMEWORK-30164',\n",
      " 'vuln_classes': ['org.springframework.http.converter.xml.Jaxb2CollectionHttpMessageConverter',\n",
      "                  'org.springframework.http.converter.xml.SourceHttpMessageConverter',\n",
      "                  'org.springframework.http.converter.xml.Jaxb2RootElementHttpMessageConverter'],\n",
      " 'vuln_gav': 'org.springframework:spring-web:4.1.6.RELEASE'}\n",
      "\n",
      "------------\n",
      "\n",
      "{'_id': ObjectId('67bc44645de95ee4df78f091'),\n",
      " 'cve_ref': 'CVE-2015-3192',\n",
      " 'data_src': 'mvn_eco',\n",
      " 'patches': ['https://github.com/spring-projects/spring-framework/commit/9c3580d04e84d25a90ef4c249baee1b4e02df15e',\n",
      "             'https://github.com/spring-projects/spring-framework/commit/5a711c05ec750f069235597173084c2ee796242'],\n",
      " 'vuln_classes': ['org.springframework.http.converter.json.Jackson2ObjectMapperBuilder',\n",
      "                  'org.springframework.http.converter.xml.Jaxb2RootElementHttpMessageConverter',\n",
      "                  'org.springframework.http.converter.xml.SourceHttpMessageConverter',\n",
      "                  'org.springframework.http.converter.xml.Jaxb2CollectionHttpMessageConverter'],\n",
      " 'vuln_gav': 'org.springframework:spring-web:4.1.6.RELEASE'}\n",
      "\n",
      "@@@@@@@@@@@@@@@\n",
      "\n",
      "{'_id': ObjectId('67b73873a59659fdd4da54f1'),\n",
      " 'cve_ref': 'CVE-2016-2402',\n",
      " 'data_src': 'snyk',\n",
      " 'patches': ['https://github.com/square/okhttp/commit/a7d3396047a75183398f339310774ee415c1c4e8',\n",
      "             'https://github.com/square/okhttp/commit/e121ed1ad291cbe04de989683d23f549d8e305db',\n",
      "             'https://github.com/square/okhttp/commit/a2bf207c980e4d2a0ecf457eadae9048e63d09aa',\n",
      "             'https://github.com/square/okhttp/commit/18b2660873ed8f028ee72981c882ed676aa08030',\n",
      "             'https://github.com/square/okhttp/commit/62b42bf27589fd8128f6d1a202455c5731c890c2',\n",
      "             'https://github.com/square/okhttp/commit/ddbabf77803112fe804d1f44e5071244b00b9cfb'],\n",
      " 'snyk_url': 'https://security.snyk.io/vuln/SNYK-JAVA-COMSQUAREUPOKHTTP3-73572',\n",
      " 'vuln_classes': ['okhttp3.OkHttpClient',\n",
      "                  'okhttp3.internal.Platform',\n",
      "                  'okhttp3.CertificatePinner'],\n",
      " 'vuln_gav': 'com.squareup.okhttp3:okhttp:3.0.1'}\n",
      "\n",
      "------------\n",
      "\n",
      "{'_id': ObjectId('67bc44645de95ee4df78f1d7'),\n",
      " 'cve_ref': 'CVE-2016-2402',\n",
      " 'data_src': 'mvn_eco',\n",
      " 'patches': ['https://github.com/square/okhttp/commit/784fabac7d1586a5614bd4bc8854fd62850dbe26',\n",
      "             'https://github.com/square/okhttp/commit/3ccb46dd16b6ec98f70b0ee53eafe5ed6380891e'],\n",
      " 'vuln_classes': ['okhttp3.internal.io.RealConnection',\n",
      "                  'okhttp3.OkHttpClient',\n",
      "                  'okhttp3.CertificatePinner'],\n",
      " 'vuln_gav': 'com.squareup.okhttp3:okhttp:3.0.1'}\n",
      "\n",
      "@@@@@@@@@@@@@@@\n",
      "\n",
      "{'_id': ObjectId('67b73873a59659fdd4da6476'),\n",
      " 'cve_ref': 'CVE-2018-1000632',\n",
      " 'data_src': 'snyk',\n",
      " 'patches': ['https://github.com/dom4j/dom4j/commit/e598eb43d418744c4dbf62f647dd2381c9ce9387'],\n",
      " 'snyk_url': 'https://security.snyk.io/vuln/SNYK-JAVA-ORGDOM4J-32474',\n",
      " 'vuln_classes': ['org.dom4j.Namespace',\n",
      "                  'org.dom4j.QName',\n",
      "                  'org.dom4j.tree.QNameCache'],\n",
      " 'vuln_gav': 'org.dom4j:dom4j:2.1.0'}\n",
      "\n",
      "------------\n",
      "\n",
      "{'_id': ObjectId('67bc44645de95ee4df78f2db'),\n",
      " 'cve_ref': 'CVE-2018-1000632',\n",
      " 'data_src': 'mvn_eco',\n",
      " 'patches': ['https://github.com/dom4j/dom4j/commit/e598eb43d418744c4dbf62f647dd2381c9ce9387'],\n",
      " 'vuln_classes': ['org.dom4j.tree.QNameCache',\n",
      "                  'org.dom4j.QName',\n",
      "                  'org.dom4j.dom.DOMNamespace'],\n",
      " 'vuln_gav': 'org.dom4j:dom4j:2.1.0'}\n",
      "\n",
      "@@@@@@@@@@@@@@@\n",
      "\n",
      "{'_id': ObjectId('67b73873a59659fdd4da568a'),\n",
      " 'cve_ref': 'CVE-2021-37136',\n",
      " 'data_src': 'snyk',\n",
      " 'patches': ['https://github.com/netty/netty/commit/41d3d61a61608f2223bb364955ab2045dd5e4020'],\n",
      " 'snyk_url': 'https://security.snyk.io/vuln/SNYK-JAVA-IONETTY-1584064',\n",
      " 'vuln_classes': ['io.netty.handler.codec.compression.Bzip2BlockDecompressor',\n",
      "                  'io.netty.handler.codec.compression.Bzip2Decoder'],\n",
      " 'vuln_gav': 'io.netty:netty-codec:4.1.5.Final'}\n",
      "\n",
      "------------\n",
      "\n",
      "{'_id': ObjectId('67bc44645de95ee4df78f28f'),\n",
      " 'cve_ref': 'CVE-2021-37136',\n",
      " 'data_src': 'mvn_eco',\n",
      " 'patches': ['https://github.com/netty/netty/commit/6da4956b31023ae967451e1d94ff51a746a9194f'],\n",
      " 'vuln_classes': ['io.netty.handler.codec.compression.SnappyFrameDecoder',\n",
      "                  'io.netty.handler.codec.compression.Snappy'],\n",
      " 'vuln_gav': 'io.netty:netty-codec:4.1.5.Final'}\n",
      "\n",
      "@@@@@@@@@@@@@@@\n",
      "\n"
     ]
    },
    {
     "data": {
      "text/plain": [
       "8"
      ]
     },
     "execution_count": 12,
     "metadata": {},
     "output_type": "execute_result"
    }
   ],
   "execution_count": 12
  },
  {
   "cell_type": "markdown",
   "source": [
    "have to remove modified classes that are not in the jar (libio)"
   ],
   "metadata": {
    "collapsed": false
   },
   "id": "e0111a22731d2270"
  },
  {
   "cell_type": "code",
   "source": [
    "mvn_eco_vuln_gav_cve_ref = set((x['vuln_gav'], x['cve_ref']) for x in mvn_eco_vuln_data)\n",
    "len(mvn_eco_vuln_gav_cve_ref), len(list(x for x in libio_vuln_data if (x['vuln_gav'], x['cve_ref']) not in mvn_eco_vuln_gav_cve_ref))"
   ],
   "metadata": {
    "collapsed": false,
    "ExecuteTime": {
     "end_time": "2025-02-25T09:56:56.630913Z",
     "start_time": "2025-02-25T09:56:56.621738Z"
    }
   },
   "id": "5543efed099f56a4",
   "outputs": [
    {
     "data": {
      "text/plain": [
       "(829, 6766)"
      ]
     },
     "execution_count": 13,
     "metadata": {},
     "output_type": "execute_result"
    }
   ],
   "execution_count": 13
  },
  {
   "cell_type": "code",
   "source": [
    "libio_vuln_gav_cve_ref = set((x['vuln_gav'], x['cve_ref']) for x in libio_vuln_data)\n",
    "len(libio_vuln_gav_cve_ref), len(list(x for x in mvn_eco_vuln_data if (x['vuln_gav'], x['cve_ref']) not in libio_vuln_gav_cve_ref))"
   ],
   "metadata": {
    "collapsed": false,
    "ExecuteTime": {
     "end_time": "2025-02-25T09:56:56.741459Z",
     "start_time": "2025-02-25T09:56:56.710057Z"
    }
   },
   "id": "49def78880cc56ee",
   "outputs": [
    {
     "data": {
      "text/plain": [
       "(6833, 754)"
      ]
     },
     "execution_count": 14,
     "metadata": {},
     "output_type": "execute_result"
    }
   ],
   "execution_count": 14
  },
  {
   "cell_type": "code",
   "source": [
    "db.mergedVuln.drop()\n",
    "db.mergedVuln.insert_many(libio_vuln_data)\n",
    "_ = db.mergedVuln.insert_many(x for x in mvn_eco_vuln_data if (x['vuln_gav'], x['cve_ref']) not in libio_vuln_gav_cve_ref)"
   ],
   "metadata": {
    "collapsed": false,
    "ExecuteTime": {
     "end_time": "2025-02-25T09:56:56.866655Z",
     "start_time": "2025-02-25T09:56:56.799359Z"
    }
   },
   "id": "a190e3ee0556938",
   "outputs": [],
   "execution_count": 15
  },
  {
   "cell_type": "code",
   "source": [
    "uniq_cve = set()\n",
    "uniq_cve_ga = set()\n",
    "uniq_cve_gav_set = set()\n",
    "\n",
    "for it in db.mergedVuln.find():\n",
    "    cve_ref = it['cve_ref']\n",
    "    if cve_ref == '':\n",
    "        cve_ref = it['snyk_url']\n",
    "    \n",
    "    assert cve_ref != '' and cve_ref is not None\n",
    "    \n",
    "    uniq_cve.add(cve_ref)\n",
    "    uniq_cve_ga.add((cve_ref, ':'.join(it['vuln_gav'].split(':')[:-1])))\n",
    "    uniq_cve_gav_set.add((cve_ref, it['vuln_gav']))\n",
    "\n",
    "print(len(uniq_cve))  \n",
    "print(len(uniq_cve_ga))\n",
    "print(len(uniq_cve_gav_set))"
   ],
   "metadata": {
    "collapsed": false,
    "ExecuteTime": {
     "end_time": "2025-02-25T09:56:57.020317Z",
     "start_time": "2025-02-25T09:56:56.921267Z"
    }
   },
   "id": "438e8d247e163149",
   "outputs": [
    {
     "name": "stdout",
     "output_type": "stream",
     "text": [
      "954\n",
      "992\n",
      "7595\n"
     ]
    }
   ],
   "execution_count": 16
  }
 ],
 "metadata": {
  "kernelspec": {
   "display_name": "Python 3",
   "language": "python",
   "name": "python3"
  },
  "language_info": {
   "codemirror_mode": {
    "name": "ipython",
    "version": 2
   },
   "file_extension": ".py",
   "mimetype": "text/x-python",
   "name": "python",
   "nbconvert_exporter": "python",
   "pygments_lexer": "ipython2",
   "version": "2.7.6"
  }
 },
 "nbformat": 4,
 "nbformat_minor": 5
}
