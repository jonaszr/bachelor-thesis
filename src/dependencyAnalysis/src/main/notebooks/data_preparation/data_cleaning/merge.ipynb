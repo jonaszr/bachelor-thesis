{
 "cells": [
  {
   "cell_type": "code",
   "id": "initial_id",
   "metadata": {
    "collapsed": true,
    "ExecuteTime": {
     "end_time": "2025-04-13T22:38:38.135348Z",
     "start_time": "2025-04-13T22:38:37.752034Z"
    }
   },
   "source": [
    "from typing import *\n",
    "import pandas as pd\n",
    "from pathlib import Path\n",
    "import os\n",
    "import random\n",
    "import sys\n",
    "import re\n",
    "from dotenv import load_dotenv, dotenv_values\n",
    "from pydriller import Repository\n",
    "import json\n",
    "from multiprocessing import Pool\n",
    "from itertools import chain\n",
    "from pymongo import MongoClient\n",
    "import collections"
   ],
   "outputs": [],
   "execution_count": 1
  },
  {
   "cell_type": "code",
   "source": [
    "import dotenv\n",
    "dotenv.load_dotenv()\n",
    "ENV = dotenv.dotenv_values(\".env\")\n",
    "DATA_DIR = Path(ENV[\"DATA_DIR\"])\n",
    "\n",
    "client = MongoClient(\"localhost\", 42692)\n",
    "db = client.s5_snyk_libio"
   ],
   "metadata": {
    "collapsed": false,
    "ExecuteTime": {
     "end_time": "2025-04-13T22:38:38.153398Z",
     "start_time": "2025-04-13T22:38:38.140280Z"
    }
   },
   "id": "42d961d9fb7b38a8",
   "outputs": [],
   "execution_count": 2
  },
  {
   "cell_type": "code",
   "source": "db.mergedVuln.drop()",
   "metadata": {
    "collapsed": false,
    "ExecuteTime": {
     "end_time": "2025-04-13T22:38:38.281458Z",
     "start_time": "2025-04-13T22:38:38.277527Z"
    }
   },
   "id": "9853e48e3998b8f4",
   "outputs": [],
   "execution_count": 3
  },
  {
   "cell_type": "code",
   "source": [
    "libio_vuln_data = list(db.libioVuln.find())\n",
    "mvn_eco_vuln_data = list(db.mvnEcoVuln.find())\n",
    "db.mergedVuln.insert_many(db.libioVuln.find())\n",
    "db.mergedVuln.insert_many(db.mvnEcoVuln.find())"
   ],
   "metadata": {
    "collapsed": false,
    "ExecuteTime": {
     "end_time": "2025-04-13T22:38:38.523830Z",
     "start_time": "2025-04-13T22:38:38.323771Z"
    }
   },
   "id": "f44e3b149b30af02",
   "outputs": [
    {
     "data": {
      "text/plain": [
       "InsertManyResult([ObjectId('67fc3c9a6baaaadb2f3e0852'), ObjectId('67fc3c9a6baaaadb2f3e0853'), ObjectId('67fc3c9a6baaaadb2f3e0854'), ObjectId('67fc3c9a6baaaadb2f3e0855'), ObjectId('67fc3c9a6baaaadb2f3e0856'), ObjectId('67fc3c9a6baaaadb2f3e0857'), ObjectId('67fc3c9a6baaaadb2f3e0858'), ObjectId('67fc3c9a6baaaadb2f3e0859'), ObjectId('67fc3c9a6baaaadb2f3e085a'), ObjectId('67fc3c9a6baaaadb2f3e085c'), ObjectId('67fc3c9a6baaaadb2f3e085d'), ObjectId('67fc3c9a6baaaadb2f3e085e'), ObjectId('67fc3c9a6baaaadb2f3e085f'), ObjectId('67fc3c9a6baaaadb2f3e0860'), ObjectId('67fc3c9a6baaaadb2f3e0861'), ObjectId('67fc3c9a6baaaadb2f3e0862'), ObjectId('67fc3c9a6baaaadb2f3e0863'), ObjectId('67fc3c9a6baaaadb2f3e0864'), ObjectId('67fc3c9a6baaaadb2f3e0865'), ObjectId('67fc3c9a6baaaadb2f3e0866'), ObjectId('67fc3c9a6baaaadb2f3e0867'), ObjectId('67fc3c9a6baaaadb2f3e0868'), ObjectId('67fc3c9a6baaaadb2f3e0869'), ObjectId('67fc3c9a6baaaadb2f3e086a'), ObjectId('67fc3c9a6baaaadb2f3e086b'), ObjectId('67fc3c9a6baaaadb2f3e086c'), ObjectId('67fc3c9a6baaaadb2f3e086d'), ObjectId('67fc3c9a6baaaadb2f3e086e'), ObjectId('67fc3c9a6baaaadb2f3e086f'), ObjectId('67fc3c9a6baaaadb2f3e0870'), ObjectId('67fc3c9a6baaaadb2f3e0871'), ObjectId('67fc3c9a6baaaadb2f3e0872'), ObjectId('67fc3c9a6baaaadb2f3e0873'), ObjectId('67fc3c9a6baaaadb2f3e0874'), ObjectId('67fc3c9a6baaaadb2f3e0875'), ObjectId('67fc3c9a6baaaadb2f3e0876'), ObjectId('67fc3c9a6baaaadb2f3e0877'), ObjectId('67fc3c9a6baaaadb2f3e0878'), ObjectId('67fc3c9a6baaaadb2f3e0879'), ObjectId('67fc3c9a6baaaadb2f3e087a'), ObjectId('67fc3c9a6baaaadb2f3e087b'), ObjectId('67fc3c9a6baaaadb2f3e087c'), ObjectId('67fc3c9a6baaaadb2f3e087d'), ObjectId('67fc3c9a6baaaadb2f3e087e'), ObjectId('67fc3c9a6baaaadb2f3e087f'), ObjectId('67fc3c9a6baaaadb2f3e0880'), ObjectId('67fc3c9a6baaaadb2f3e0881'), ObjectId('67fc3c9a6baaaadb2f3e0882'), ObjectId('67fc3c9a6baaaadb2f3e0883'), ObjectId('67fc3c9a6baaaadb2f3e0884'), ObjectId('67fc3c9a6baaaadb2f3e0885'), ObjectId('67fc3c9a6baaaadb2f3e0886'), ObjectId('67fc3c9a6baaaadb2f3e0887'), ObjectId('67fc3c9a6baaaadb2f3e0888'), ObjectId('67fc3c9a6baaaadb2f3e0889'), ObjectId('67fc3c9a6baaaadb2f3e088a'), ObjectId('67fc3c9a6baaaadb2f3e088b'), ObjectId('67fc3c9a6baaaadb2f3e088c'), ObjectId('67fc3c9a6baaaadb2f3e088d'), ObjectId('67fc3c9a6baaaadb2f3e088e'), ObjectId('67fc3c9a6baaaadb2f3e088f'), ObjectId('67fc3c9a6baaaadb2f3e0890'), ObjectId('67fc3c9a6baaaadb2f3e0891'), ObjectId('67fc3c9a6baaaadb2f3e0892'), ObjectId('67fc3c9a6baaaadb2f3e0893'), ObjectId('67fc3c9a6baaaadb2f3e0894'), ObjectId('67fc3c9a6baaaadb2f3e0895'), ObjectId('67fc3c9a6baaaadb2f3e0896'), ObjectId('67fc3c9a6baaaadb2f3e0897'), ObjectId('67fc3c9a6baaaadb2f3e0898'), ObjectId('67fc3c9a6baaaadb2f3e0899'), ObjectId('67fc3c9a6baaaadb2f3e089a'), ObjectId('67fc3c9a6baaaadb2f3e089b'), ObjectId('67fc3c9a6baaaadb2f3e089c'), ObjectId('67fc3c9a6baaaadb2f3e089d'), ObjectId('67fc3c9a6baaaadb2f3e089e'), ObjectId('67fc3c9a6baaaadb2f3e089f'), ObjectId('67fc3c9a6baaaadb2f3e08a0'), ObjectId('67fc3c9a6baaaadb2f3e08a1'), ObjectId('67fc3c9a6baaaadb2f3e08a2'), ObjectId('67fc3c9a6baaaadb2f3e08a3'), ObjectId('67fc3c9a6baaaadb2f3e08a4'), ObjectId('67fc3c9a6baaaadb2f3e08a5'), ObjectId('67fc3c9a6baaaadb2f3e08a6'), ObjectId('67fc3c9a6baaaadb2f3e08a7'), ObjectId('67fc3c9a6baaaadb2f3e08a8'), ObjectId('67fc3c9a6baaaadb2f3e08a9'), ObjectId('67fc3c9a6baaaadb2f3e08aa'), ObjectId('67fc3c9a6baaaadb2f3e08ab'), ObjectId('67fc3c9a6baaaadb2f3e08ac'), ObjectId('67fc3c9a6baaaadb2f3e08ad'), ObjectId('67fc3c9a6baaaadb2f3e08ae'), ObjectId('67fc3c9a6baaaadb2f3e08af'), ObjectId('67fc3c9a6baaaadb2f3e08b0'), ObjectId('67fc3c9a6baaaadb2f3e08b1'), ObjectId('67fc3c9a6baaaadb2f3e08b2'), ObjectId('67fc3c9a6baaaadb2f3e08b3'), ObjectId('67fc3c9a6baaaadb2f3e08b4'), ObjectId('67fc3c9a6baaaadb2f3e08b5'), ObjectId('67fc3c9a6baaaadb2f3e08b6'), ObjectId('67fc3c9a6baaaadb2f3e08b7'), ObjectId('67fc3c9a6baaaadb2f3e08b8'), ObjectId('67fc3c9a6baaaadb2f3e08b9'), ObjectId('67fc3c9a6baaaadb2f3e08ba'), ObjectId('67fc3c9a6baaaadb2f3e08bb'), ObjectId('67fc3c9a6baaaadb2f3e08bc'), ObjectId('67fc3c9a6baaaadb2f3e08bd'), ObjectId('67fc3c9a6baaaadb2f3e08be'), ObjectId('67fc3c9a6baaaadb2f3e08bf'), ObjectId('67fc3c9a6baaaadb2f3e08c0'), ObjectId('67fc3c9a6baaaadb2f3e08c1'), ObjectId('67fc3c9a6baaaadb2f3e08c2'), ObjectId('67fc3c9a6baaaadb2f3e08c3'), ObjectId('67fc3c9a6baaaadb2f3e08c4'), ObjectId('67fc3c9a6baaaadb2f3e08c5'), ObjectId('67fc3c9a6baaaadb2f3e08c6'), ObjectId('67fc3c9a6baaaadb2f3e08c7'), ObjectId('67fc3c9a6baaaadb2f3e08c8'), ObjectId('67fc3c9a6baaaadb2f3e08c9'), ObjectId('67fc3c9a6baaaadb2f3e08ca'), ObjectId('67fc3c9a6baaaadb2f3e08cb'), ObjectId('67fc3c9a6baaaadb2f3e08cc'), ObjectId('67fc3c9a6baaaadb2f3e08cd'), ObjectId('67fc3c9a6baaaadb2f3e08ce'), ObjectId('67fc3c9a6baaaadb2f3e08cf'), ObjectId('67fc3c9a6baaaadb2f3e08d0'), ObjectId('67fc3c9a6baaaadb2f3e08d1'), ObjectId('67fc3c9a6baaaadb2f3e08d2'), ObjectId('67fc3c9a6baaaadb2f3e08d3'), ObjectId('67fc3c9a6baaaadb2f3e08d4'), ObjectId('67fc3c9a6baaaadb2f3e08d5'), ObjectId('67fc3c9a6baaaadb2f3e08d6'), ObjectId('67fc3c9a6baaaadb2f3e08d7'), ObjectId('67fc3c9a6baaaadb2f3e08d8'), ObjectId('67fc3c9a6baaaadb2f3e08d9'), ObjectId('67fc3c9a6baaaadb2f3e08da'), ObjectId('67fc3c9a6baaaadb2f3e08db'), ObjectId('67fc3c9a6baaaadb2f3e08dc'), ObjectId('67fc3c9a6baaaadb2f3e08dd'), ObjectId('67fc3c9a6baaaadb2f3e08de'), ObjectId('67fc3c9a6baaaadb2f3e08df'), ObjectId('67fc3c9a6baaaadb2f3e08e0'), ObjectId('67fc3c9a6baaaadb2f3e08e1'), ObjectId('67fc3c9a6baaaadb2f3e08e2'), ObjectId('67fc3c9a6baaaadb2f3e08e3'), ObjectId('67fc3c9a6baaaadb2f3e08e4'), ObjectId('67fc3c9a6baaaadb2f3e08e5'), ObjectId('67fc3c9a6baaaadb2f3e08e6'), ObjectId('67fc3c9a6baaaadb2f3e08e7'), ObjectId('67fc3c9a6baaaadb2f3e08e8'), ObjectId('67fc3c9a6baaaadb2f3e08e9'), ObjectId('67fc3c9a6baaaadb2f3e08ea'), ObjectId('67fc3c9a6baaaadb2f3e08eb'), ObjectId('67fc3c9a6baaaadb2f3e08ec'), ObjectId('67fc3c9a6baaaadb2f3e08ed'), ObjectId('67fc3c9a6baaaadb2f3e08ee'), ObjectId('67fc3c9a6baaaadb2f3e08ef'), ObjectId('67fc3c9a6baaaadb2f3e08f0'), ObjectId('67fc3c9a6baaaadb2f3e08f1'), ObjectId('67fc3c9a6baaaadb2f3e08f2'), ObjectId('67fc3c9a6baaaadb2f3e08f3'), ObjectId('67fc3c9a6baaaadb2f3e08f4'), ObjectId('67fc3c9a6baaaadb2f3e08f5'), ObjectId('67fc3c9a6baaaadb2f3e08f6'), ObjectId('67fc3c9a6baaaadb2f3e08f7'), ObjectId('67fc3c9a6baaaadb2f3e08f8'), ObjectId('67fc3c9a6baaaadb2f3e08f9'), ObjectId('67fc3c9a6baaaadb2f3e08fa'), ObjectId('67fc3c9a6baaaadb2f3e08fb'), ObjectId('67fc3c9a6baaaadb2f3e08fc'), ObjectId('67fc3c9a6baaaadb2f3e08fd'), ObjectId('67fc3c9a6baaaadb2f3e08fe'), ObjectId('67fc3c9a6baaaadb2f3e08ff'), ObjectId('67fc3c9a6baaaadb2f3e0900'), ObjectId('67fc3c9a6baaaadb2f3e0901'), ObjectId('67fc3c9a6baaaadb2f3e0902'), ObjectId('67fc3c9a6baaaadb2f3e0903'), ObjectId('67fc3c9a6baaaadb2f3e0904'), ObjectId('67fc3c9a6baaaadb2f3e0905'), ObjectId('67fc3c9a6baaaadb2f3e0906'), ObjectId('67fc3c9a6baaaadb2f3e0907'), ObjectId('67fc3c9a6baaaadb2f3e0908'), ObjectId('67fc3c9a6baaaadb2f3e0909'), ObjectId('67fc3c9a6baaaadb2f3e090a'), ObjectId('67fc3c9a6baaaadb2f3e090b'), ObjectId('67fc3c9a6baaaadb2f3e090c'), ObjectId('67fc3c9a6baaaadb2f3e090d'), ObjectId('67fc3c9a6baaaadb2f3e090e'), ObjectId('67fc3c9a6baaaadb2f3e090f'), ObjectId('67fc3c9a6baaaadb2f3e0910'), ObjectId('67fc3c9a6baaaadb2f3e0911'), ObjectId('67fc3c9a6baaaadb2f3e0912'), ObjectId('67fc3c9a6baaaadb2f3e0913'), ObjectId('67fc3c9a6baaaadb2f3e0914'), ObjectId('67fc3c9a6baaaadb2f3e0915'), ObjectId('67fc3c9a6baaaadb2f3e0916'), ObjectId('67fc3c9a6baaaadb2f3e0917'), ObjectId('67fc3c9a6baaaadb2f3e0918'), ObjectId('67fc3c9a6baaaadb2f3e0919'), ObjectId('67fc3c9a6baaaadb2f3e091a'), ObjectId('67fc3c9a6baaaadb2f3e091b'), ObjectId('67fc3c9a6baaaadb2f3e091c'), ObjectId('67fc3c9a6baaaadb2f3e091d'), ObjectId('67fc3c9a6baaaadb2f3e091e'), ObjectId('67fc3c9a6baaaadb2f3e091f'), ObjectId('67fc3c9a6baaaadb2f3e0920'), ObjectId('67fc3c9a6baaaadb2f3e0921'), ObjectId('67fc3c9a6baaaadb2f3e0922'), ObjectId('67fc3c9a6baaaadb2f3e0923'), ObjectId('67fc3c9a6baaaadb2f3e0924'), ObjectId('67fc3c9a6baaaadb2f3e0925'), ObjectId('67fc3c9a6baaaadb2f3e0926'), ObjectId('67fc3c9a6baaaadb2f3e0927'), ObjectId('67fc3c9a6baaaadb2f3e0928'), ObjectId('67fc3c9a6baaaadb2f3e0929'), ObjectId('67fc3c9a6baaaadb2f3e092a'), ObjectId('67fc3c9a6baaaadb2f3e092b'), ObjectId('67fc3c9a6baaaadb2f3e092c'), ObjectId('67fc3c9a6baaaadb2f3e092d'), ObjectId('67fc3c9a6baaaadb2f3e092e'), ObjectId('67fc3c9a6baaaadb2f3e092f'), ObjectId('67fc3c9a6baaaadb2f3e0930'), ObjectId('67fc3c9a6baaaadb2f3e0931'), ObjectId('67fc3c9a6baaaadb2f3e0932'), ObjectId('67fc3c9a6baaaadb2f3e0933'), ObjectId('67fc3c9a6baaaadb2f3e0934'), ObjectId('67fc3c9a6baaaadb2f3e0935'), ObjectId('67fc3c9a6baaaadb2f3e0936'), ObjectId('67fc3c9a6baaaadb2f3e0937'), ObjectId('67fc3c9a6baaaadb2f3e0938'), ObjectId('67fc3c9a6baaaadb2f3e0939'), ObjectId('67fc3c9a6baaaadb2f3e093a'), ObjectId('67fc3c9a6baaaadb2f3e093b'), ObjectId('67fc3c9a6baaaadb2f3e093c'), ObjectId('67fc3c9a6baaaadb2f3e093d'), ObjectId('67fc3c9a6baaaadb2f3e093e'), ObjectId('67fc3c9a6baaaadb2f3e093f'), ObjectId('67fc3c9a6baaaadb2f3e0940'), ObjectId('67fc3c9a6baaaadb2f3e0941'), ObjectId('67fc3c9a6baaaadb2f3e0942'), ObjectId('67fc3c9a6baaaadb2f3e0943'), ObjectId('67fc3c9a6baaaadb2f3e0944'), ObjectId('67fc3c9a6baaaadb2f3e0945'), ObjectId('67fc3c9a6baaaadb2f3e0946'), ObjectId('67fc3c9a6baaaadb2f3e0947'), ObjectId('67fc3c9a6baaaadb2f3e0948'), ObjectId('67fc3c9a6baaaadb2f3e0949'), ObjectId('67fc3c9a6baaaadb2f3e094a'), ObjectId('67fc3c9a6baaaadb2f3e094b'), ObjectId('67fc3c9a6baaaadb2f3e094c'), ObjectId('67fc3c9a6baaaadb2f3e094d'), ObjectId('67fc3c9a6baaaadb2f3e094e'), ObjectId('67fc3c9a6baaaadb2f3e094f'), ObjectId('67fc3c9a6baaaadb2f3e0950'), ObjectId('67fc3c9a6baaaadb2f3e0951'), ObjectId('67fc3c9a6baaaadb2f3e0952'), ObjectId('67fc3c9a6baaaadb2f3e0953'), ObjectId('67fc3c9a6baaaadb2f3e0954'), ObjectId('67fc3c9a6baaaadb2f3e0955'), ObjectId('67fc3c9a6baaaadb2f3e0956'), ObjectId('67fc3c9a6baaaadb2f3e0957'), ObjectId('67fc3c9a6baaaadb2f3e0958'), ObjectId('67fc3c9a6baaaadb2f3e0959'), ObjectId('67fc3c9a6baaaadb2f3e095a'), ObjectId('67fc3c9a6baaaadb2f3e095b'), ObjectId('67fc3c9a6baaaadb2f3e095c'), ObjectId('67fc3c9a6baaaadb2f3e095d'), ObjectId('67fc3c9a6baaaadb2f3e095e'), ObjectId('67fc3c9a6baaaadb2f3e095f'), ObjectId('67fc3c9a6baaaadb2f3e0960'), ObjectId('67fc3c9a6baaaadb2f3e0961'), ObjectId('67fc3c9a6baaaadb2f3e0962'), ObjectId('67fc3c9a6baaaadb2f3e0963'), ObjectId('67fc3c9a6baaaadb2f3e0964'), ObjectId('67fc3c9a6baaaadb2f3e0965'), ObjectId('67fc3c9a6baaaadb2f3e0966'), ObjectId('67fc3c9a6baaaadb2f3e0967'), ObjectId('67fc3c9a6baaaadb2f3e0968'), ObjectId('67fc3c9a6baaaadb2f3e0969'), ObjectId('67fc3c9a6baaaadb2f3e096a'), ObjectId('67fc3c9a6baaaadb2f3e096b'), ObjectId('67fc3c9a6baaaadb2f3e096c'), ObjectId('67fc3c9a6baaaadb2f3e096d'), ObjectId('67fc3c9a6baaaadb2f3e096e'), ObjectId('67fc3c9a6baaaadb2f3e096f'), ObjectId('67fc3c9a6baaaadb2f3e0970'), ObjectId('67fc3c9a6baaaadb2f3e0971'), ObjectId('67fc3c9a6baaaadb2f3e0972'), ObjectId('67fc3c9a6baaaadb2f3e0973'), ObjectId('67fc3c9a6baaaadb2f3e0974'), ObjectId('67fc3c9a6baaaadb2f3e0975'), ObjectId('67fc3c9a6baaaadb2f3e0976'), ObjectId('67fc3c9a6baaaadb2f3e0977'), ObjectId('67fc3c9a6baaaadb2f3e0978'), ObjectId('67fc3c9a6baaaadb2f3e0979'), ObjectId('67fc3c9a6baaaadb2f3e097a'), ObjectId('67fc3c9a6baaaadb2f3e097b'), ObjectId('67fc3c9a6baaaadb2f3e097c'), ObjectId('67fc3c9a6baaaadb2f3e097d'), ObjectId('67fc3c9a6baaaadb2f3e097e'), ObjectId('67fc3c9a6baaaadb2f3e097f'), ObjectId('67fc3c9a6baaaadb2f3e0980'), ObjectId('67fc3c9a6baaaadb2f3e0981'), ObjectId('67fc3c9a6baaaadb2f3e0982'), ObjectId('67fc3c9a6baaaadb2f3e0983'), ObjectId('67fc3c9a6baaaadb2f3e0984'), ObjectId('67fc3c9a6baaaadb2f3e0985'), ObjectId('67fc3c9a6baaaadb2f3e0986'), ObjectId('67fc3c9a6baaaadb2f3e0987'), ObjectId('67fc3c9a6baaaadb2f3e0988'), ObjectId('67fc3c9a6baaaadb2f3e0989'), ObjectId('67fc3c9a6baaaadb2f3e098a'), ObjectId('67fc3c9a6baaaadb2f3e098b'), ObjectId('67fc3c9a6baaaadb2f3e098c'), ObjectId('67fc3c9a6baaaadb2f3e098d'), ObjectId('67fc3c9a6baaaadb2f3e098e'), ObjectId('67fc3c9a6baaaadb2f3e098f'), ObjectId('67fc3c9a6baaaadb2f3e0990'), ObjectId('67fc3c9a6baaaadb2f3e0991'), ObjectId('67fc3c9a6baaaadb2f3e0992'), ObjectId('67fc3c9a6baaaadb2f3e0993'), ObjectId('67fc3c9a6baaaadb2f3e0994'), ObjectId('67fc3c9a6baaaadb2f3e0995'), ObjectId('67fc3c9a6baaaadb2f3e0996'), ObjectId('67fc3c9a6baaaadb2f3e0997'), ObjectId('67fc3c9a6baaaadb2f3e0998'), ObjectId('67fc3c9a6baaaadb2f3e0999'), ObjectId('67fc3c9a6baaaadb2f3e099a'), ObjectId('67fc3c9a6baaaadb2f3e099b'), ObjectId('67fc3c9a6baaaadb2f3e099c'), ObjectId('67fc3c9a6baaaadb2f3e099d'), ObjectId('67fc3c9a6baaaadb2f3e099e'), ObjectId('67fc3c9a6baaaadb2f3e099f'), ObjectId('67fc3c9a6baaaadb2f3e09a0'), ObjectId('67fc3c9a6baaaadb2f3e09a1'), ObjectId('67fc3c9a6baaaadb2f3e09a2'), ObjectId('67fc3c9a6baaaadb2f3e09a3'), ObjectId('67fc3c9a6baaaadb2f3e09a4'), ObjectId('67fc3c9a6baaaadb2f3e09a5'), ObjectId('67fc3c9a6baaaadb2f3e09a6'), ObjectId('67fc3c9a6baaaadb2f3e09a7'), ObjectId('67fc3c9a6baaaadb2f3e09a8'), ObjectId('67fc3c9a6baaaadb2f3e09a9'), ObjectId('67fc3c9a6baaaadb2f3e09aa'), ObjectId('67fc3c9a6baaaadb2f3e09ab'), ObjectId('67fc3c9a6baaaadb2f3e09ac'), ObjectId('67fc3c9a6baaaadb2f3e09ad'), ObjectId('67fc3c9a6baaaadb2f3e09ae'), ObjectId('67fc3c9a6baaaadb2f3e09af'), ObjectId('67fc3c9a6baaaadb2f3e09b0'), ObjectId('67fc3c9a6baaaadb2f3e09b1'), ObjectId('67fc3c9a6baaaadb2f3e09b2'), ObjectId('67fc3c9a6baaaadb2f3e09b3'), ObjectId('67fc3c9a6baaaadb2f3e09b4'), ObjectId('67fc3c9a6baaaadb2f3e09b5'), ObjectId('67fc3c9a6baaaadb2f3e09b6'), ObjectId('67fc3c9a6baaaadb2f3e09b7'), ObjectId('67fc3c9a6baaaadb2f3e09b8'), ObjectId('67fc3c9a6baaaadb2f3e09b9'), ObjectId('67fc3c9a6baaaadb2f3e09ba'), ObjectId('67fc3c9a6baaaadb2f3e09bb'), ObjectId('67fc3c9a6baaaadb2f3e09bc'), ObjectId('67fc3c9a6baaaadb2f3e09bd'), ObjectId('67fc3c9a6baaaadb2f3e09be'), ObjectId('67fc3c9a6baaaadb2f3e09bf'), ObjectId('67fc3c9a6baaaadb2f3e09c0'), ObjectId('67fc3c9a6baaaadb2f3e09c1'), ObjectId('67fc3c9a6baaaadb2f3e09c2'), ObjectId('67fc3c9a6baaaadb2f3e09c3'), ObjectId('67fc3c9a6baaaadb2f3e09c5'), ObjectId('67fc3c9a6baaaadb2f3e09c6'), ObjectId('67fc3c9a6baaaadb2f3e09c7'), ObjectId('67fc3c9a6baaaadb2f3e09c8'), ObjectId('67fc3c9a6baaaadb2f3e09c9'), ObjectId('67fc3c9a6baaaadb2f3e09ca'), ObjectId('67fc3c9a6baaaadb2f3e09cb'), ObjectId('67fc3c9a6baaaadb2f3e09cc'), ObjectId('67fc3c9a6baaaadb2f3e09cd'), ObjectId('67fc3c9a6baaaadb2f3e09ce'), ObjectId('67fc3c9a6baaaadb2f3e09cf'), ObjectId('67fc3c9a6baaaadb2f3e09d0'), ObjectId('67fc3c9a6baaaadb2f3e09d1'), ObjectId('67fc3c9a6baaaadb2f3e09d2'), ObjectId('67fc3c9a6baaaadb2f3e09d3'), ObjectId('67fc3c9a6baaaadb2f3e09d4'), ObjectId('67fc3c9a6baaaadb2f3e09d5'), ObjectId('67fc3c9a6baaaadb2f3e09d6'), ObjectId('67fc3c9a6baaaadb2f3e09d7'), ObjectId('67fc3c9a6baaaadb2f3e09d8'), ObjectId('67fc3c9a6baaaadb2f3e09d9'), ObjectId('67fc3c9a6baaaadb2f3e09da'), ObjectId('67fc3c9a6baaaadb2f3e09db'), ObjectId('67fc3c9a6baaaadb2f3e09dc'), ObjectId('67fc3c9a6baaaadb2f3e09dd'), ObjectId('67fc3c9a6baaaadb2f3e09de'), ObjectId('67fc3c9a6baaaadb2f3e09df'), ObjectId('67fc3c9a6baaaadb2f3e09e0'), ObjectId('67fc3c9a6baaaadb2f3e09e1'), ObjectId('67fc3c9a6baaaadb2f3e09e2'), ObjectId('67fc3c9a6baaaadb2f3e09e3'), ObjectId('67fc3c9a6baaaadb2f3e09e4'), ObjectId('67fc3c9a6baaaadb2f3e09e5'), ObjectId('67fc3c9a6baaaadb2f3e09e6'), ObjectId('67fc3c9a6baaaadb2f3e09e7'), ObjectId('67fc3c9a6baaaadb2f3e09e8'), ObjectId('67fc3c9a6baaaadb2f3e09e9'), ObjectId('67fc3c9a6baaaadb2f3e09ea'), ObjectId('67fc3c9a6baaaadb2f3e09eb'), ObjectId('67fc3c9a6baaaadb2f3e09ec'), ObjectId('67fc3c9a6baaaadb2f3e09ed'), ObjectId('67fc3c9a6baaaadb2f3e09ee'), ObjectId('67fc3c9a6baaaadb2f3e09ef'), ObjectId('67fc3c9a6baaaadb2f3e09f0'), ObjectId('67fc3c9a6baaaadb2f3e09f1'), ObjectId('67fc3c9a6baaaadb2f3e09f2'), ObjectId('67fc3c9a6baaaadb2f3e09f3'), ObjectId('67fc3c9a6baaaadb2f3e09f4'), ObjectId('67fc3c9a6baaaadb2f3e09f5'), ObjectId('67fc3c9a6baaaadb2f3e09f6'), ObjectId('67fc3c9a6baaaadb2f3e09f7'), ObjectId('67fc3c9a6baaaadb2f3e09f8'), ObjectId('67fc3c9a6baaaadb2f3e09f9'), ObjectId('67fc3c9a6baaaadb2f3e09fa'), ObjectId('67fc3c9a6baaaadb2f3e09fb'), ObjectId('67fc3c9a6baaaadb2f3e09fc'), ObjectId('67fc3c9a6baaaadb2f3e09fd'), ObjectId('67fc3c9a6baaaadb2f3e09fe'), ObjectId('67fc3c9a6baaaadb2f3e09ff'), ObjectId('67fc3c9a6baaaadb2f3e0a00'), ObjectId('67fc3c9a6baaaadb2f3e0a01'), ObjectId('67fc3c9a6baaaadb2f3e0a02'), ObjectId('67fc3c9a6baaaadb2f3e0a03'), ObjectId('67fc3c9a6baaaadb2f3e0a04'), ObjectId('67fc3c9a6baaaadb2f3e0a05'), ObjectId('67fc3c9a6baaaadb2f3e0a07'), ObjectId('67fc3c9a6baaaadb2f3e0a08'), ObjectId('67fc3c9a6baaaadb2f3e0a09'), ObjectId('67fc3c9a6baaaadb2f3e0a0a'), ObjectId('67fc3c9a6baaaadb2f3e0a0b'), ObjectId('67fc3c9a6baaaadb2f3e0a0c'), ObjectId('67fc3c9a6baaaadb2f3e0a0d'), ObjectId('67fc3c9a6baaaadb2f3e0a0e'), ObjectId('67fc3c9a6baaaadb2f3e0a0f'), ObjectId('67fc3c9a6baaaadb2f3e0a10'), ObjectId('67fc3c9a6baaaadb2f3e0a11'), ObjectId('67fc3c9a6baaaadb2f3e0a12'), ObjectId('67fc3c9a6baaaadb2f3e0a13'), ObjectId('67fc3c9a6baaaadb2f3e0a14'), ObjectId('67fc3c9a6baaaadb2f3e0a15'), ObjectId('67fc3c9a6baaaadb2f3e0a16'), ObjectId('67fc3c9a6baaaadb2f3e0a17'), ObjectId('67fc3c9a6baaaadb2f3e0a18'), ObjectId('67fc3c9a6baaaadb2f3e0a19'), ObjectId('67fc3c9a6baaaadb2f3e0a1a'), ObjectId('67fc3c9a6baaaadb2f3e0a1b'), ObjectId('67fc3c9a6baaaadb2f3e0a1c'), ObjectId('67fc3c9a6baaaadb2f3e0a1d'), ObjectId('67fc3c9a6baaaadb2f3e0a1e'), ObjectId('67fc3c9a6baaaadb2f3e0a1f'), ObjectId('67fc3c9a6baaaadb2f3e0a20'), ObjectId('67fc3c9a6baaaadb2f3e0a21'), ObjectId('67fc3c9a6baaaadb2f3e0a22'), ObjectId('67fc3c9a6baaaadb2f3e0a23'), ObjectId('67fc3c9a6baaaadb2f3e0a24'), ObjectId('67fc3c9a6baaaadb2f3e0a25'), ObjectId('67fc3c9a6baaaadb2f3e0a26'), ObjectId('67fc3c9a6baaaadb2f3e0a27'), ObjectId('67fc3c9a6baaaadb2f3e0a28'), ObjectId('67fc3c9a6baaaadb2f3e0a29'), ObjectId('67fc3c9a6baaaadb2f3e0a2a'), ObjectId('67fc3c9a6baaaadb2f3e0a2b'), ObjectId('67fc3c9a6baaaadb2f3e0a2c'), ObjectId('67fc3c9a6baaaadb2f3e0a2d'), ObjectId('67fc3c9a6baaaadb2f3e0a2e'), ObjectId('67fc3c9a6baaaadb2f3e0a2f'), ObjectId('67fc3c9a6baaaadb2f3e0a30'), ObjectId('67fc3c9a6baaaadb2f3e0a31'), ObjectId('67fc3c9a6baaaadb2f3e0a32'), ObjectId('67fc3c9a6baaaadb2f3e0a33'), ObjectId('67fc3c9a6baaaadb2f3e0a34'), ObjectId('67fc3c9a6baaaadb2f3e0a35'), ObjectId('67fc3c9a6baaaadb2f3e0a36'), ObjectId('67fc3c9a6baaaadb2f3e0a37'), ObjectId('67fc3c9a6baaaadb2f3e0a38'), ObjectId('67fc3c9a6baaaadb2f3e0a39'), ObjectId('67fc3c9a6baaaadb2f3e0a3a'), ObjectId('67fc3c9a6baaaadb2f3e0a3b'), ObjectId('67fc3c9a6baaaadb2f3e0a3c'), ObjectId('67fc3c9a6baaaadb2f3e0a3d'), ObjectId('67fc3c9a6baaaadb2f3e0a3e'), ObjectId('67fc3c9a6baaaadb2f3e0a3f'), ObjectId('67fc3c9a6baaaadb2f3e0a40'), ObjectId('67fc3c9a6baaaadb2f3e0a41'), ObjectId('67fc3c9a6baaaadb2f3e0a42'), ObjectId('67fc3c9a6baaaadb2f3e0a43'), ObjectId('67fc3c9a6baaaadb2f3e0a44'), ObjectId('67fc3c9a6baaaadb2f3e0a45'), ObjectId('67fc3c9a6baaaadb2f3e0a46'), ObjectId('67fc3c9a6baaaadb2f3e0a47'), ObjectId('67fc3c9a6baaaadb2f3e0a48'), ObjectId('67fc3c9a6baaaadb2f3e0a49'), ObjectId('67fc3c9a6baaaadb2f3e0a4a'), ObjectId('67fc3c9a6baaaadb2f3e0a4b'), ObjectId('67fc3c9a6baaaadb2f3e0a4c'), ObjectId('67fc3c9a6baaaadb2f3e0a4d'), ObjectId('67fc3c9a6baaaadb2f3e0a4e'), ObjectId('67fc3c9a6baaaadb2f3e0a4f'), ObjectId('67fc3c9a6baaaadb2f3e0a50'), ObjectId('67fc3c9a6baaaadb2f3e0a51'), ObjectId('67fc3c9a6baaaadb2f3e0a52'), ObjectId('67fc3c9a6baaaadb2f3e0a53'), ObjectId('67fc3c9a6baaaadb2f3e0a54'), ObjectId('67fc3c9a6baaaadb2f3e0a55'), ObjectId('67fc3c9a6baaaadb2f3e0a56'), ObjectId('67fc3c9a6baaaadb2f3e0a57'), ObjectId('67fc3c9a6baaaadb2f3e0a58'), ObjectId('67fc3c9a6baaaadb2f3e0a59'), ObjectId('67fc3c9a6baaaadb2f3e0a5a'), ObjectId('67fc3c9a6baaaadb2f3e0a5b'), ObjectId('67fc3c9a6baaaadb2f3e0a5c'), ObjectId('67fc3c9a6baaaadb2f3e0a5d'), ObjectId('67fc3c9a6baaaadb2f3e0a5e'), ObjectId('67fc3c9a6baaaadb2f3e0a5f'), ObjectId('67fc3c9a6baaaadb2f3e0a60'), ObjectId('67fc3c9a6baaaadb2f3e0a61'), ObjectId('67fc3c9a6baaaadb2f3e0a62'), ObjectId('67fc3c9a6baaaadb2f3e0a63'), ObjectId('67fc3c9a6baaaadb2f3e0a64'), ObjectId('67fc3c9a6baaaadb2f3e0a65'), ObjectId('67fc3c9a6baaaadb2f3e0a66'), ObjectId('67fc3c9a6baaaadb2f3e0a67'), ObjectId('67fc3c9a6baaaadb2f3e0a68'), ObjectId('67fc3c9a6baaaadb2f3e0a69'), ObjectId('67fc3c9a6baaaadb2f3e0a6a'), ObjectId('67fc3c9a6baaaadb2f3e0a6b'), ObjectId('67fc3c9a6baaaadb2f3e0a6c'), ObjectId('67fc3c9a6baaaadb2f3e0a6d'), ObjectId('67fc3c9a6baaaadb2f3e0a6e'), ObjectId('67fc3c9a6baaaadb2f3e0a6f'), ObjectId('67fc3c9a6baaaadb2f3e0a70'), ObjectId('67fc3c9a6baaaadb2f3e0a71'), ObjectId('67fc3c9a6baaaadb2f3e0a72'), ObjectId('67fc3c9a6baaaadb2f3e0a73'), ObjectId('67fc3c9a6baaaadb2f3e0a74'), ObjectId('67fc3c9a6baaaadb2f3e0a75'), ObjectId('67fc3c9a6baaaadb2f3e0a76'), ObjectId('67fc3c9a6baaaadb2f3e0a77'), ObjectId('67fc3c9a6baaaadb2f3e0a78'), ObjectId('67fc3c9a6baaaadb2f3e0a79'), ObjectId('67fc3c9a6baaaadb2f3e0a7a'), ObjectId('67fc3c9a6baaaadb2f3e0a7b'), ObjectId('67fc3c9a6baaaadb2f3e0a7c'), ObjectId('67fc3c9a6baaaadb2f3e0a7d'), ObjectId('67fc3c9a6baaaadb2f3e0a7e'), ObjectId('67fc3c9a6baaaadb2f3e0a7f'), ObjectId('67fc3c9a6baaaadb2f3e0a80'), ObjectId('67fc3c9a6baaaadb2f3e0a81'), ObjectId('67fc3c9a6baaaadb2f3e0a82'), ObjectId('67fc3c9a6baaaadb2f3e0a83'), ObjectId('67fc3c9a6baaaadb2f3e0a84'), ObjectId('67fc3c9a6baaaadb2f3e0a85'), ObjectId('67fc3c9a6baaaadb2f3e0a86'), ObjectId('67fc3c9a6baaaadb2f3e0a87'), ObjectId('67fc3c9a6baaaadb2f3e0a88'), ObjectId('67fc3c9a6baaaadb2f3e0a89'), ObjectId('67fc3c9a6baaaadb2f3e0a8a'), ObjectId('67fc3c9a6baaaadb2f3e0a8b'), ObjectId('67fc3c9a6baaaadb2f3e0a8c'), ObjectId('67fc3c9a6baaaadb2f3e0a8d'), ObjectId('67fc3c9a6baaaadb2f3e0a8e'), ObjectId('67fc3c9a6baaaadb2f3e0a8f'), ObjectId('67fc3c9a6baaaadb2f3e0a90'), ObjectId('67fc3c9a6baaaadb2f3e0a91'), ObjectId('67fc3c9a6baaaadb2f3e0a92'), ObjectId('67fc3c9a6baaaadb2f3e0a93'), ObjectId('67fc3c9a6baaaadb2f3e0a94'), ObjectId('67fc3c9a6baaaadb2f3e0a95'), ObjectId('67fc3c9a6baaaadb2f3e0a96'), ObjectId('67fc3c9a6baaaadb2f3e0a97'), ObjectId('67fc3c9a6baaaadb2f3e0a98'), ObjectId('67fc3c9a6baaaadb2f3e0a99'), ObjectId('67fc3c9a6baaaadb2f3e0a9a'), ObjectId('67fc3c9a6baaaadb2f3e0a9b'), ObjectId('67fc3c9a6baaaadb2f3e0a9c'), ObjectId('67fc3c9a6baaaadb2f3e0a9d'), ObjectId('67fc3c9a6baaaadb2f3e0a9e'), ObjectId('67fc3c9a6baaaadb2f3e0a9f'), ObjectId('67fc3c9a6baaaadb2f3e0aa0'), ObjectId('67fc3c9a6baaaadb2f3e0aa1'), ObjectId('67fc3c9a6baaaadb2f3e0aa2'), ObjectId('67fc3c9a6baaaadb2f3e0aa3'), ObjectId('67fc3c9a6baaaadb2f3e0aa4'), ObjectId('67fc3c9a6baaaadb2f3e0aa5'), ObjectId('67fc3c9a6baaaadb2f3e0aa6'), ObjectId('67fc3c9a6baaaadb2f3e0aa7'), ObjectId('67fc3c9a6baaaadb2f3e0aa8'), ObjectId('67fc3c9a6baaaadb2f3e0aa9'), ObjectId('67fc3c9a6baaaadb2f3e0aaa'), ObjectId('67fc3c9a6baaaadb2f3e0aab'), ObjectId('67fc3c9a6baaaadb2f3e0aac'), ObjectId('67fc3c9a6baaaadb2f3e0aad'), ObjectId('67fc3c9a6baaaadb2f3e0aae'), ObjectId('67fc3c9a6baaaadb2f3e0aaf'), ObjectId('67fc3c9a6baaaadb2f3e0ab0'), ObjectId('67fc3c9a6baaaadb2f3e0ab1'), ObjectId('67fc3c9a6baaaadb2f3e0ab2'), ObjectId('67fc3c9a6baaaadb2f3e0ab3'), ObjectId('67fc3c9a6baaaadb2f3e0ab4'), ObjectId('67fc3c9a6baaaadb2f3e0ab5'), ObjectId('67fc3c9a6baaaadb2f3e0ab6'), ObjectId('67fc3c9a6baaaadb2f3e0ab7'), ObjectId('67fc3c9a6baaaadb2f3e0ab8'), ObjectId('67fc3c9a6baaaadb2f3e0ab9'), ObjectId('67fc3c9a6baaaadb2f3e0aba'), ObjectId('67fc3c9a6baaaadb2f3e0abb'), ObjectId('67fc3c9a6baaaadb2f3e0abc'), ObjectId('67fc3c9a6baaaadb2f3e0abd'), ObjectId('67fc3c9a6baaaadb2f3e0abe'), ObjectId('67fc3c9a6baaaadb2f3e0abf'), ObjectId('67fc3c9a6baaaadb2f3e0ac0'), ObjectId('67fc3c9a6baaaadb2f3e0ac1'), ObjectId('67fc3c9a6baaaadb2f3e0ac2'), ObjectId('67fc3c9a6baaaadb2f3e0ac3'), ObjectId('67fc3c9a6baaaadb2f3e0ac4'), ObjectId('67fc3c9a6baaaadb2f3e0ac5'), ObjectId('67fc3c9a6baaaadb2f3e0ac6'), ObjectId('67fc3c9a6baaaadb2f3e0ac7'), ObjectId('67fc3c9a6baaaadb2f3e0ac8'), ObjectId('67fc3c9a6baaaadb2f3e0ac9'), ObjectId('67fc3c9a6baaaadb2f3e0aca'), ObjectId('67fc3c9a6baaaadb2f3e0acb'), ObjectId('67fc3c9a6baaaadb2f3e0acc'), ObjectId('67fc3c9a6baaaadb2f3e0acd'), ObjectId('67fc3c9a6baaaadb2f3e0ace'), ObjectId('67fc3c9a6baaaadb2f3e0acf'), ObjectId('67fc3c9a6baaaadb2f3e0ad0'), ObjectId('67fc3c9a6baaaadb2f3e0ad1'), ObjectId('67fc3c9a6baaaadb2f3e0ad2'), ObjectId('67fc3c9a6baaaadb2f3e0ad3'), ObjectId('67fc3c9a6baaaadb2f3e0ad4'), ObjectId('67fc3c9a6baaaadb2f3e0ad5'), ObjectId('67fc3c9a6baaaadb2f3e0ad6'), ObjectId('67fc3c9a6baaaadb2f3e0ad7'), ObjectId('67fc3c9a6baaaadb2f3e0ad8'), ObjectId('67fc3c9a6baaaadb2f3e0ad9'), ObjectId('67fc3c9a6baaaadb2f3e0ada'), ObjectId('67fc3c9a6baaaadb2f3e0adb'), ObjectId('67fc3c9a6baaaadb2f3e0adc'), ObjectId('67fc3c9a6baaaadb2f3e0add'), ObjectId('67fc3c9a6baaaadb2f3e0ade'), ObjectId('67fc3c9a6baaaadb2f3e0adf'), ObjectId('67fc3c9a6baaaadb2f3e0ae0'), ObjectId('67fc3c9a6baaaadb2f3e0ae1'), ObjectId('67fc3c9a6baaaadb2f3e0ae2'), ObjectId('67fc3c9a6baaaadb2f3e0ae3'), ObjectId('67fc3c9a6baaaadb2f3e0ae4'), ObjectId('67fc3c9a6baaaadb2f3e0ae5'), ObjectId('67fc3c9a6baaaadb2f3e0ae6'), ObjectId('67fc3c9a6baaaadb2f3e0ae7'), ObjectId('67fc3c9a6baaaadb2f3e0ae8'), ObjectId('67fc3c9a6baaaadb2f3e0ae9'), ObjectId('67fc3c9a6baaaadb2f3e0aea'), ObjectId('67fc3c9a6baaaadb2f3e0aeb'), ObjectId('67fc3c9a6baaaadb2f3e0aec'), ObjectId('67fc3c9a6baaaadb2f3e0aed'), ObjectId('67fc3c9a6baaaadb2f3e0aee'), ObjectId('67fc3c9a6baaaadb2f3e0aef'), ObjectId('67fc3c9a6baaaadb2f3e0af0'), ObjectId('67fc3c9a6baaaadb2f3e0af1'), ObjectId('67fc3c9a6baaaadb2f3e0af2'), ObjectId('67fc3c9a6baaaadb2f3e0af3'), ObjectId('67fc3c9a6baaaadb2f3e0af4'), ObjectId('67fc3c9a6baaaadb2f3e0af5'), ObjectId('67fc3c9a6baaaadb2f3e0af6'), ObjectId('67fc3c9a6baaaadb2f3e0af7'), ObjectId('67fc3c9a6baaaadb2f3e0af8'), ObjectId('67fc3c9a6baaaadb2f3e0af9'), ObjectId('67fc3c9a6baaaadb2f3e0afa'), ObjectId('67fc3c9a6baaaadb2f3e0afb'), ObjectId('67fc3c9a6baaaadb2f3e0afc'), ObjectId('67fc3c9a6baaaadb2f3e0afd'), ObjectId('67fc3c9a6baaaadb2f3e0afe'), ObjectId('67fc3c9a6baaaadb2f3e0aff'), ObjectId('67fc3c9a6baaaadb2f3e0b00'), ObjectId('67fc3c9a6baaaadb2f3e0b01'), ObjectId('67fc3c9a6baaaadb2f3e0b02'), ObjectId('67fc3c9a6baaaadb2f3e0b03'), ObjectId('67fc3c9a6baaaadb2f3e0b04'), ObjectId('67fc3c9a6baaaadb2f3e0b05'), ObjectId('67fc3c9a6baaaadb2f3e0b06'), ObjectId('67fc3c9a6baaaadb2f3e0b07'), ObjectId('67fc3c9a6baaaadb2f3e0b08'), ObjectId('67fc3c9a6baaaadb2f3e0b09'), ObjectId('67fc3c9a6baaaadb2f3e0b0a'), ObjectId('67fc3c9a6baaaadb2f3e0b0b'), ObjectId('67fc3c9a6baaaadb2f3e0b0c'), ObjectId('67fc3c9a6baaaadb2f3e0b0d'), ObjectId('67fc3c9a6baaaadb2f3e0b0e'), ObjectId('67fc3c9a6baaaadb2f3e0b0f'), ObjectId('67fc3c9a6baaaadb2f3e0b10'), ObjectId('67fc3c9a6baaaadb2f3e0b11'), ObjectId('67fc3c9a6baaaadb2f3e0b12'), ObjectId('67fc3c9a6baaaadb2f3e0b13'), ObjectId('67fc3c9a6baaaadb2f3e0b14'), ObjectId('67fc3c9a6baaaadb2f3e0b15'), ObjectId('67fc3c9a6baaaadb2f3e0b16'), ObjectId('67fc3c9a6baaaadb2f3e0b17'), ObjectId('67fc3c9a6baaaadb2f3e0b18'), ObjectId('67fc3c9a6baaaadb2f3e0b19'), ObjectId('67fc3c9a6baaaadb2f3e0b1a'), ObjectId('67fc3c9a6baaaadb2f3e0b1b'), ObjectId('67fc3c9a6baaaadb2f3e0b1c'), ObjectId('67fc3c9a6baaaadb2f3e0b1d'), ObjectId('67fc3c9a6baaaadb2f3e0b1e'), ObjectId('67fc3c9a6baaaadb2f3e0b1f'), ObjectId('67fc3c9a6baaaadb2f3e0b20'), ObjectId('67fc3c9a6baaaadb2f3e0b21'), ObjectId('67fc3c9a6baaaadb2f3e0b22'), ObjectId('67fc3c9a6baaaadb2f3e0b23'), ObjectId('67fc3c9a6baaaadb2f3e0b24'), ObjectId('67fc3c9a6baaaadb2f3e0b25'), ObjectId('67fc3c9a6baaaadb2f3e0b26'), ObjectId('67fc3c9a6baaaadb2f3e0b27'), ObjectId('67fc3c9a6baaaadb2f3e0b28'), ObjectId('67fc3c9a6baaaadb2f3e0b29'), ObjectId('67fc3c9a6baaaadb2f3e0b2a'), ObjectId('67fc3c9a6baaaadb2f3e0b2b'), ObjectId('67fc3c9a6baaaadb2f3e0b2c'), ObjectId('67fc3c9a6baaaadb2f3e0b2d'), ObjectId('67fc3c9a6baaaadb2f3e0b2e'), ObjectId('67fc3c9a6baaaadb2f3e0b2f'), ObjectId('67fc3c9a6baaaadb2f3e0b30'), ObjectId('67fc3c9a6baaaadb2f3e0b31'), ObjectId('67fc3c9a6baaaadb2f3e0b32'), ObjectId('67fc3c9a6baaaadb2f3e0b33'), ObjectId('67fc3c9a6baaaadb2f3e0b34'), ObjectId('67fc3c9a6baaaadb2f3e0b35'), ObjectId('67fc3c9a6baaaadb2f3e0b36'), ObjectId('67fc3c9a6baaaadb2f3e0b37'), ObjectId('67fc3c9a6baaaadb2f3e0b38'), ObjectId('67fc3c9a6baaaadb2f3e0b39'), ObjectId('67fc3c9a6baaaadb2f3e0b3a'), ObjectId('67fc3c9a6baaaadb2f3e0b3b'), ObjectId('67fc3c9a6baaaadb2f3e0b3c'), ObjectId('67fc3c9a6baaaadb2f3e0b3d'), ObjectId('67fc3c9a6baaaadb2f3e0b3e'), ObjectId('67fc3c9a6baaaadb2f3e0b3f'), ObjectId('67fc3c9a6baaaadb2f3e0b40'), ObjectId('67fc3c9a6baaaadb2f3e0b41'), ObjectId('67fc3c9a6baaaadb2f3e0b42'), ObjectId('67fc3c9a6baaaadb2f3e0b43'), ObjectId('67fc3c9a6baaaadb2f3e0b44'), ObjectId('67fc3c9a6baaaadb2f3e0b45'), ObjectId('67fc3c9a6baaaadb2f3e0b46'), ObjectId('67fc3c9a6baaaadb2f3e0b47'), ObjectId('67fc3c9a6baaaadb2f3e0b48'), ObjectId('67fc3c9a6baaaadb2f3e0b49'), ObjectId('67fc3c9a6baaaadb2f3e0b4a'), ObjectId('67fc3c9a6baaaadb2f3e0b4b'), ObjectId('67fc3c9a6baaaadb2f3e0b4c'), ObjectId('67fc3c9a6baaaadb2f3e0b4d'), ObjectId('67fc3c9a6baaaadb2f3e0b4e'), ObjectId('67fc3c9a6baaaadb2f3e0b4f'), ObjectId('67fc3c9a6baaaadb2f3e0b50'), ObjectId('67fc3c9a6baaaadb2f3e0b51'), ObjectId('67fc3c9a6baaaadb2f3e0b52'), ObjectId('67fc3c9a6baaaadb2f3e0b53'), ObjectId('67fc3c9a6baaaadb2f3e0b54'), ObjectId('67fc3c9a6baaaadb2f3e0b55'), ObjectId('67fc3c9a6baaaadb2f3e0b56'), ObjectId('67fc3c9a6baaaadb2f3e0b57'), ObjectId('67fc3c9a6baaaadb2f3e0b58'), ObjectId('67fc3c9a6baaaadb2f3e0b59'), ObjectId('67fc3c9a6baaaadb2f3e0b5a'), ObjectId('67fc3c9a6baaaadb2f3e0b5b'), ObjectId('67fc3c9a6baaaadb2f3e0b5c'), ObjectId('67fc3c9a6baaaadb2f3e0b5d'), ObjectId('67fc3c9a6baaaadb2f3e0b5e'), ObjectId('67fc3c9a6baaaadb2f3e0b5f'), ObjectId('67fc3c9a6baaaadb2f3e0b60'), ObjectId('67fc3c9a6baaaadb2f3e0b61'), ObjectId('67fc3c9a6baaaadb2f3e0b62'), ObjectId('67fc3c9a6baaaadb2f3e0b63'), ObjectId('67fc3c9a6baaaadb2f3e0b64'), ObjectId('67fc3c9a6baaaadb2f3e0b65'), ObjectId('67fc3c9a6baaaadb2f3e0b66'), ObjectId('67fc3c9a6baaaadb2f3e0b67'), ObjectId('67fc3c9a6baaaadb2f3e0b68'), ObjectId('67fc3c9a6baaaadb2f3e0b69'), ObjectId('67fc3c9a6baaaadb2f3e0b6a'), ObjectId('67fc3c9a6baaaadb2f3e0b6b'), ObjectId('67fc3c9a6baaaadb2f3e0b6c'), ObjectId('67fc3c9a6baaaadb2f3e0b6d'), ObjectId('67fc3c9a6baaaadb2f3e0b6e'), ObjectId('67fc3c9a6baaaadb2f3e0b6f'), ObjectId('67fc3c9a6baaaadb2f3e0b70'), ObjectId('67fc3c9a6baaaadb2f3e0b71'), ObjectId('67fc3c9a6baaaadb2f3e0b72'), ObjectId('67fc3c9a6baaaadb2f3e0b73'), ObjectId('67fc3c9a6baaaadb2f3e0b74'), ObjectId('67fc3c9a6baaaadb2f3e0b75'), ObjectId('67fc3c9a6baaaadb2f3e0b76'), ObjectId('67fc3c9a6baaaadb2f3e0b77'), ObjectId('67fc3c9a6baaaadb2f3e0b78'), ObjectId('67fc3c9a6baaaadb2f3e0b79'), ObjectId('67fc3c9a6baaaadb2f3e0b7a'), ObjectId('67fc3c9a6baaaadb2f3e0b7b'), ObjectId('67fc3c9a6baaaadb2f3e0b7c'), ObjectId('67fc3c9a6baaaadb2f3e0b7d'), ObjectId('67fc3c9a6baaaadb2f3e0b7e'), ObjectId('67fc3c9a6baaaadb2f3e0b7f'), ObjectId('67fc3c9a6baaaadb2f3e0b80'), ObjectId('67fc3c9a6baaaadb2f3e0b81'), ObjectId('67fc3c9a6baaaadb2f3e0b82'), ObjectId('67fc3c9a6baaaadb2f3e0b83'), ObjectId('67fc3c9a6baaaadb2f3e0b84'), ObjectId('67fc3c9a6baaaadb2f3e0b85'), ObjectId('67fc3c9a6baaaadb2f3e0b86'), ObjectId('67fc3c9a6baaaadb2f3e0b87'), ObjectId('67fc3c9a6baaaadb2f3e0b88'), ObjectId('67fc3c9a6baaaadb2f3e0b89'), ObjectId('67fc3c9a6baaaadb2f3e0b8a'), ObjectId('67fc3c9a6baaaadb2f3e0b8b'), ObjectId('67fc3c9a6baaaadb2f3e0b8c'), ObjectId('67fc3c9a6baaaadb2f3e0b8d'), ObjectId('67fc3c9a6baaaadb2f3e0b8e'), ObjectId('67fc3c9a6baaaadb2f3e0b8f'), ObjectId('67fc3c9a6baaaadb2f3e0b90'), ObjectId('67fc3c9a6baaaadb2f3e0b91')], acknowledged=True)"
      ]
     },
     "execution_count": 4,
     "metadata": {},
     "output_type": "execute_result"
    }
   ],
   "execution_count": 4
  },
  {
   "cell_type": "code",
   "source": [
    "len(libio_vuln_data), len(mvn_eco_vuln_data)"
   ],
   "metadata": {
    "collapsed": false,
    "ExecuteTime": {
     "end_time": "2025-04-13T22:38:38.594374Z",
     "start_time": "2025-04-13T22:38:38.590437Z"
    }
   },
   "id": "246f017ed34f3f82",
   "outputs": [
    {
     "data": {
      "text/plain": [
       "(6864, 829)"
      ]
     },
     "execution_count": 5,
     "metadata": {},
     "output_type": "execute_result"
    }
   ],
   "execution_count": 5
  },
  {
   "cell_type": "code",
   "source": [
    "print(len(set((':'.join(x['vuln_gav'].split(':')[:-1]), x['cve_ref']) for x in libio_vuln_data)))\n",
    "print(len(set((':'.join(x['vuln_gav'].split(':')[:-1]), x['cve_ref']) for x in mvn_eco_vuln_data)))\n",
    "print(len(set((':'.join(x['vuln_gav'].split(':')[:-1]), x['cve_ref']) for x in libio_vuln_data + mvn_eco_vuln_data)))"
   ],
   "metadata": {
    "collapsed": false,
    "ExecuteTime": {
     "end_time": "2025-04-13T22:38:38.755093Z",
     "start_time": "2025-04-13T22:38:38.735237Z"
    }
   },
   "id": "812d284662424b08",
   "outputs": [
    {
     "name": "stdout",
     "output_type": "stream",
     "text": [
      "287\n",
      "829\n",
      "991\n"
     ]
    }
   ],
   "execution_count": 6
  },
  {
   "cell_type": "code",
   "source": [
    "print(len(set((x['vuln_gav'], x['cve_ref']) for x in libio_vuln_data)))  # 6726  some do not have CVE ID\n",
    "print(len(set((x['vuln_gav'], x['cve_ref']) for x in mvn_eco_vuln_data)))  # 829\n",
    "print(len(set((x['vuln_gav'], x['cve_ref']) for x in libio_vuln_data + mvn_eco_vuln_data)))  # 7490"
   ],
   "metadata": {
    "collapsed": false,
    "ExecuteTime": {
     "end_time": "2025-04-13T22:38:38.892315Z",
     "start_time": "2025-04-13T22:38:38.865923Z"
    }
   },
   "id": "ff3602254a798263",
   "outputs": [
    {
     "name": "stdout",
     "output_type": "stream",
     "text": [
      "6856\n",
      "829\n",
      "7610\n"
     ]
    }
   ],
   "execution_count": 7
  },
  {
   "cell_type": "code",
   "source": [
    "libio_group_by_gav_cve = collections.defaultdict(list)\n",
    "for it in libio_vuln_data:\n",
    "    libio_group_by_gav_cve[(it['vuln_gav'], it['cve_ref'])].append(it)\n",
    "\n",
    "mvn_eco_group_by_gav_cve = collections.defaultdict(list)\n",
    "for it in mvn_eco_vuln_data:\n",
    "    mvn_eco_group_by_gav_cve[(it['vuln_gav'], it['cve_ref'])].append(it)"
   ],
   "metadata": {
    "collapsed": false,
    "ExecuteTime": {
     "end_time": "2025-04-13T22:38:38.949294Z",
     "start_time": "2025-04-13T22:38:38.938250Z"
    }
   },
   "id": "d72c93fd84acc952",
   "outputs": [],
   "execution_count": 8
  },
  {
   "cell_type": "code",
   "source": [
    "l = list(sorted(libio_group_by_gav_cve.items(), key=lambda x: len(x[1]), reverse=True))\n",
    "l[0]"
   ],
   "metadata": {
    "collapsed": false,
    "ExecuteTime": {
     "end_time": "2025-04-13T22:38:39.012617Z",
     "start_time": "2025-04-13T22:38:39.006607Z"
    }
   },
   "id": "617453b216bfe711",
   "outputs": [
    {
     "data": {
      "text/plain": [
       "(('io.netty:netty-handler:4.0.21.Final', ''),\n",
       " [{'_id': ObjectId('67fc3a33251ac280f228a41c'),\n",
       "   'data_src': 'snyk',\n",
       "   'cve_ref': '',\n",
       "   'snyk_url': 'https://security.snyk.io/vuln/SNYK-JAVA-IONETTY-2342128',\n",
       "   'vuln_gav': 'io.netty:netty-handler:4.0.21.Final',\n",
       "   'vuln_classes': ['io.netty.handler.ssl.OpenSslEngine'],\n",
       "   'patches': ['https://github.com/netty/netty/commit/4581c441c99e1d5524870abca38d0ad2d553932a']},\n",
       "  {'_id': ObjectId('67fc3a33251ac280f228a41e'),\n",
       "   'data_src': 'snyk',\n",
       "   'cve_ref': '',\n",
       "   'snyk_url': 'https://security.snyk.io/vuln/SNYK-JAVA-IONETTY-31518',\n",
       "   'vuln_gav': 'io.netty:netty-handler:4.0.21.Final',\n",
       "   'vuln_classes': ['io.netty.handler.ssl.OpenSslServerContext'],\n",
       "   'patches': ['https://github.com/netty/netty/commit/a1af35313cc8414109e7a411bb2401ae31046289']},\n",
       "  {'_id': ObjectId('67fc3a33251ac280f228a41f'),\n",
       "   'data_src': 'snyk',\n",
       "   'cve_ref': '',\n",
       "   'snyk_url': 'https://security.snyk.io/vuln/SNYK-JAVA-IONETTY-31515',\n",
       "   'vuln_gav': 'io.netty:netty-handler:4.0.21.Final',\n",
       "   'vuln_classes': ['io.netty.handler.ssl.OpenSsl'],\n",
       "   'patches': ['https://github.com/netty/netty/commit/d8e6fbb9c3656663f41797a15f38bb25fdcab834']}])"
      ]
     },
     "execution_count": 9,
     "metadata": {},
     "output_type": "execute_result"
    }
   ],
   "execution_count": 9
  },
  {
   "cell_type": "code",
   "source": [
    "shared_gav_cve_items = list(set(libio_group_by_gav_cve.keys()).intersection(set(mvn_eco_group_by_gav_cve.keys())))\n",
    "len(shared_gav_cve_items)"
   ],
   "metadata": {
    "collapsed": false,
    "ExecuteTime": {
     "end_time": "2025-04-13T22:38:39.080072Z",
     "start_time": "2025-04-13T22:38:39.072305Z"
    }
   },
   "id": "99a2d1b360bb4ef4",
   "outputs": [
    {
     "data": {
      "text/plain": [
       "75"
      ]
     },
     "execution_count": 10,
     "metadata": {},
     "output_type": "execute_result"
    }
   ],
   "execution_count": 10
  },
  {
   "cell_type": "code",
   "source": [
    "_rk = random.choice(shared_gav_cve_items)\n",
    "libio_group_by_gav_cve[_rk], mvn_eco_group_by_gav_cve[_rk]  \n",
    "# 'CVE-2021-37137', 'io.netty:netty-codec:4.1.5.Final'   mvn_eco data has the wrong cve_ref\n",
    "# 'CVE-2013-7285' mvn_eco data includes 'ReflectionConverter' which is wrong\n",
    "# "
   ],
   "metadata": {
    "collapsed": false,
    "ExecuteTime": {
     "end_time": "2025-04-13T22:38:39.203896Z",
     "start_time": "2025-04-13T22:38:39.197806Z"
    }
   },
   "id": "f205363e4fd89e7",
   "outputs": [
    {
     "data": {
      "text/plain": [
       "([{'_id': ObjectId('67fc3a33251ac280f228aab5'),\n",
       "   'data_src': 'snyk',\n",
       "   'cve_ref': 'CVE-2018-12537',\n",
       "   'snyk_url': 'https://security.snyk.io/vuln/SNYK-JAVA-IOVERTX-32470',\n",
       "   'vuln_gav': 'io.vertx:vertx-core:3.3.3',\n",
       "   'vuln_classes': ['io.vertx.core.http.impl.HttpClientRequestImpl',\n",
       "    'io.vertx.core.http.HttpHeaders',\n",
       "    'io.vertx.core.http.impl.HttpUtils',\n",
       "    'io.vertx.core.http.impl.Http2HeadersAdaptor'],\n",
       "   'patches': ['https://github.com/eclipse/vert.x/commit/1bb6445226c39a95e7d07ce3caaf56828e8aab72']}],\n",
       " [{'_id': ObjectId('67fc3c9a6baaaadb2f3e0a41'),\n",
       "   'data_src': 'mvn_eco',\n",
       "   'cve_ref': 'CVE-2018-12537',\n",
       "   'vuln_gav': 'io.vertx:vertx-core:3.3.3',\n",
       "   'vuln_classes': ['io.vertx.core.http.impl.Http2HeadersAdaptor',\n",
       "    'io.vertx.core.http.impl.HttpClientRequestImpl',\n",
       "    'io.vertx.core.http.HttpHeaders'],\n",
       "   'patches': ['https://github.com/eclipse/vert.x/commit/1bb6445226c39a95e7d07ce3caaf56828e8aab72',\n",
       "    'https://github.com/eclipse-vertx/vert.x/commit/3a6512695a9d610687081eb13d2a1681151fd7fb']}])"
      ]
     },
     "execution_count": 11,
     "metadata": {},
     "output_type": "execute_result"
    }
   ],
   "execution_count": 11
  },
  {
   "cell_type": "code",
   "source": [
    "import pprint\n",
    "\n",
    "diff_class_counter = 0\n",
    "\n",
    "for k in shared_gav_cve_items:\n",
    "    x = libio_group_by_gav_cve[k]\n",
    "    if len(x) > 1:\n",
    "        continue\n",
    "    x = x[0]\n",
    "    y = mvn_eco_group_by_gav_cve[k]\n",
    "    if len(y) > 1:\n",
    "        continue\n",
    "    y = y[0]\n",
    "    \n",
    "    if set(x['vuln_classes']) == set(y['vuln_classes']):\n",
    "        continue\n",
    "\n",
    "    if set(y['vuln_classes']).issubset(set(x['vuln_classes'])):\n",
    "        continue\n",
    "\n",
    "    # if set(x['vuln_classes']).issubset(set(y['vuln_classes'])):\n",
    "    #     continue\n",
    "        \n",
    "    diff_class_counter += 1\n",
    "    pprint.pprint(x)\n",
    "    print(\"\\n------------\\n\")\n",
    "    pprint.pprint(y)\n",
    "    print(\"\\n@@@@@@@@@@@@@@@\\n\")\n",
    "\n",
    "diff_class_counter"
   ],
   "metadata": {
    "collapsed": false,
    "ExecuteTime": {
     "end_time": "2025-04-13T22:38:39.318405Z",
     "start_time": "2025-04-13T22:38:39.253257Z"
    }
   },
   "id": "8bcd7f29000dde44",
   "outputs": [
    {
     "name": "stdout",
     "output_type": "stream",
     "text": [
      "{'_id': ObjectId('67fc3a33251ac280f228a2e6'),\n",
      " 'cve_ref': 'CVE-2016-2402',\n",
      " 'data_src': 'snyk',\n",
      " 'patches': ['https://github.com/square/okhttp/commit/62b42bf27589fd8128f6d1a202455c5731c890c2',\n",
      "             'https://github.com/square/okhttp/commit/a7d3396047a75183398f339310774ee415c1c4e8',\n",
      "             'https://github.com/square/okhttp/commit/e121ed1ad291cbe04de989683d23f549d8e305db',\n",
      "             'https://github.com/square/okhttp/commit/18b2660873ed8f028ee72981c882ed676aa08030',\n",
      "             'https://github.com/square/okhttp/commit/a2bf207c980e4d2a0ecf457eadae9048e63d09aa',\n",
      "             'https://github.com/square/okhttp/commit/ddbabf77803112fe804d1f44e5071244b00b9cfb'],\n",
      " 'snyk_url': 'https://security.snyk.io/vuln/SNYK-JAVA-COMSQUAREUPOKHTTP3-73572',\n",
      " 'vuln_classes': ['okhttp3.OkHttpClient',\n",
      "                  'okhttp3.CertificatePinner',\n",
      "                  'okhttp3.internal.Platform'],\n",
      " 'vuln_gav': 'com.squareup.okhttp3:okhttp:3.0.1'}\n",
      "\n",
      "------------\n",
      "\n",
      "{'_id': ObjectId('67fc3c9a6baaaadb2f3e0a22'),\n",
      " 'cve_ref': 'CVE-2016-2402',\n",
      " 'data_src': 'mvn_eco',\n",
      " 'patches': ['https://github.com/square/okhttp/commit/784fabac7d1586a5614bd4bc8854fd62850dbe26',\n",
      "             'https://github.com/square/okhttp/commit/3ccb46dd16b6ec98f70b0ee53eafe5ed6380891e'],\n",
      " 'vuln_classes': ['okhttp3.OkHttpClient',\n",
      "                  'okhttp3.internal.io.RealConnection',\n",
      "                  'okhttp3.CertificatePinner'],\n",
      " 'vuln_gav': 'com.squareup.okhttp3:okhttp:3.0.1'}\n",
      "\n",
      "@@@@@@@@@@@@@@@\n",
      "\n",
      "{'_id': ObjectId('67fc3a33251ac280f228abee'),\n",
      " 'cve_ref': 'CVE-2016-1000343',\n",
      " 'data_src': 'snyk',\n",
      " 'patches': ['https://github.com/bcgit/bc-java/commit/50a53068c094d6cff37659da33c9b4505becd389#diff-5578e61500abb2b87b300d3114bdfd7d'],\n",
      " 'snyk_url': 'https://security.snyk.io/vuln/SNYK-JAVA-ORGBOUNCYCASTLE-32361',\n",
      " 'vuln_classes': ['org.bouncycastle.jcajce.provider.asymmetric.dsa.KeyPairGeneratorSpi'],\n",
      " 'vuln_gav': 'org.bouncycastle:bcprov-jdk15on:1.54'}\n",
      "\n",
      "------------\n",
      "\n",
      "{'_id': ObjectId('67fc3c9a6baaaadb2f3e0aca'),\n",
      " 'cve_ref': 'CVE-2016-1000343',\n",
      " 'data_src': 'mvn_eco',\n",
      " 'patches': ['https://github.com/bcgit/bc-java/commit/50a53068c094d6cff37659da33c9b4505becd389'],\n",
      " 'vuln_classes': ['org.bouncycastle.jcajce.provider.asymmetric.dh.KeyPairGeneratorSpi'],\n",
      " 'vuln_gav': 'org.bouncycastle:bcprov-jdk15on:1.54'}\n",
      "\n",
      "@@@@@@@@@@@@@@@\n",
      "\n",
      "{'_id': ObjectId('67fc3a33251ac280f228a7ae'),\n",
      " 'cve_ref': 'CVE-2021-37136',\n",
      " 'data_src': 'snyk',\n",
      " 'patches': ['https://github.com/netty/netty/commit/41d3d61a61608f2223bb364955ab2045dd5e4020'],\n",
      " 'snyk_url': 'https://security.snyk.io/vuln/SNYK-JAVA-IONETTY-1584064',\n",
      " 'vuln_classes': ['io.netty.handler.codec.compression.Bzip2Decoder',\n",
      "                  'io.netty.handler.codec.compression.Bzip2BlockDecompressor'],\n",
      " 'vuln_gav': 'io.netty:netty-codec:4.1.5.Final'}\n",
      "\n",
      "------------\n",
      "\n",
      "{'_id': ObjectId('67fc3c9a6baaaadb2f3e0ada'),\n",
      " 'cve_ref': 'CVE-2021-37136',\n",
      " 'data_src': 'mvn_eco',\n",
      " 'patches': ['https://github.com/netty/netty/commit/6da4956b31023ae967451e1d94ff51a746a9194f'],\n",
      " 'vuln_classes': ['io.netty.handler.codec.compression.SnappyFrameDecoder',\n",
      "                  'io.netty.handler.codec.compression.Snappy'],\n",
      " 'vuln_gav': 'io.netty:netty-codec:4.1.5.Final'}\n",
      "\n",
      "@@@@@@@@@@@@@@@\n",
      "\n",
      "{'_id': ObjectId('67fc3a33251ac280f228a7af'),\n",
      " 'cve_ref': 'CVE-2021-37137',\n",
      " 'data_src': 'snyk',\n",
      " 'patches': ['https://github.com/netty/netty/commit/6da4956b31023ae967451e1d94ff51a746a9194f'],\n",
      " 'snyk_url': 'https://security.snyk.io/vuln/SNYK-JAVA-IONETTY-1584063',\n",
      " 'vuln_classes': ['io.netty.handler.codec.compression.Snappy',\n",
      "                  'io.netty.handler.codec.compression.SnappyFrameDecoder'],\n",
      " 'vuln_gav': 'io.netty:netty-codec:4.1.5.Final'}\n",
      "\n",
      "------------\n",
      "\n",
      "{'_id': ObjectId('67fc3c9a6baaaadb2f3e0a84'),\n",
      " 'cve_ref': 'CVE-2021-37137',\n",
      " 'data_src': 'mvn_eco',\n",
      " 'patches': ['https://github.com/netty/netty/commit/41d3d61a61608f2223bb364955ab2045dd5e4020'],\n",
      " 'vuln_classes': ['io.netty.handler.codec.compression.Bzip2BlockDecompressor',\n",
      "                  'io.netty.handler.codec.compression.Bzip2Decoder'],\n",
      " 'vuln_gav': 'io.netty:netty-codec:4.1.5.Final'}\n",
      "\n",
      "@@@@@@@@@@@@@@@\n",
      "\n",
      "{'_id': ObjectId('67fc3a33251ac280f228baa7'),\n",
      " 'cve_ref': 'CVE-2018-1270',\n",
      " 'data_src': 'snyk',\n",
      " 'patches': ['https://github.com/spring-projects/spring-framework/commit/e0de9126ed8cf25cf141d3e66420da94e350708'],\n",
      " 'snyk_url': 'https://security.snyk.io/vuln/SNYK-JAVA-ORGSPRINGFRAMEWORK-32201',\n",
      " 'vuln_classes': ['org.springframework.messaging.simp.broker.DefaultSubscriptionRegistry'],\n",
      " 'vuln_gav': 'org.springframework:spring-messaging:5.0.2.RELEASE'}\n",
      "\n",
      "------------\n",
      "\n",
      "{'_id': ObjectId('67fc3c9a6baaaadb2f3e0a79'),\n",
      " 'cve_ref': 'CVE-2018-1270',\n",
      " 'data_src': 'mvn_eco',\n",
      " 'patches': ['https://github.com/spring-projects/spring-framework/commit/1db7e02de3eb0c011ee6681f5a12eb9d166fea8',\n",
      "             'https://github.com/spring-projects/spring-framework/commit/e0de9126ed8cf25cf141d3e66420da94e350708'],\n",
      " 'vuln_classes': ['org.springframework.messaging.simp.config.StompBrokerRelayRegistration',\n",
      "                  'org.springframework.messaging.simp.broker.DefaultSubscriptionRegistry'],\n",
      " 'vuln_gav': 'org.springframework:spring-messaging:5.0.2.RELEASE'}\n",
      "\n",
      "@@@@@@@@@@@@@@@\n",
      "\n",
      "{'_id': ObjectId('67fc3a33251ac280f228bb64'),\n",
      " 'cve_ref': 'CVE-2015-3192',\n",
      " 'data_src': 'snyk',\n",
      " 'patches': ['https://github.com/spring-projects/spring-framework/commit/5a711c05ec750f069235597173084c2ee796242'],\n",
      " 'snyk_url': 'https://security.snyk.io/vuln/SNYK-JAVA-ORGSPRINGFRAMEWORK-30164',\n",
      " 'vuln_classes': ['org.springframework.http.converter.xml.SourceHttpMessageConverter',\n",
      "                  'org.springframework.http.converter.xml.Jaxb2RootElementHttpMessageConverter',\n",
      "                  'org.springframework.http.converter.xml.Jaxb2CollectionHttpMessageConverter'],\n",
      " 'vuln_gav': 'org.springframework:spring-web:4.1.6.RELEASE'}\n",
      "\n",
      "------------\n",
      "\n",
      "{'_id': ObjectId('67fc3c9a6baaaadb2f3e08dc'),\n",
      " 'cve_ref': 'CVE-2015-3192',\n",
      " 'data_src': 'mvn_eco',\n",
      " 'patches': ['https://github.com/spring-projects/spring-framework/commit/9c3580d04e84d25a90ef4c249baee1b4e02df15e',\n",
      "             'https://github.com/spring-projects/spring-framework/commit/5a711c05ec750f069235597173084c2ee796242'],\n",
      " 'vuln_classes': ['org.springframework.http.converter.xml.SourceHttpMessageConverter',\n",
      "                  'org.springframework.http.converter.xml.Jaxb2CollectionHttpMessageConverter',\n",
      "                  'org.springframework.http.converter.json.Jackson2ObjectMapperBuilder',\n",
      "                  'org.springframework.http.converter.xml.Jaxb2RootElementHttpMessageConverter'],\n",
      " 'vuln_gav': 'org.springframework:spring-web:4.1.6.RELEASE'}\n",
      "\n",
      "@@@@@@@@@@@@@@@\n",
      "\n",
      "{'_id': ObjectId('67fc3a33251ac280f228abf1'),\n",
      " 'cve_ref': 'CVE-2016-1000352',\n",
      " 'data_src': 'snyk',\n",
      " 'patches': ['https://github.com/bcgit/bc-java/commit/9385b0ebd277724b167fe1d1456e3c112112be1f'],\n",
      " 'snyk_url': 'https://security.snyk.io/vuln/SNYK-JAVA-ORGBOUNCYCASTLE-32366',\n",
      " 'vuln_classes': ['org.bouncycastle.jcajce.provider.asymmetric.EC',\n",
      "                  'org.bouncycastle.jcajce.provider.asymmetric.dh.IESCipher',\n",
      "                  'org.bouncycastle.jcajce.provider.asymmetric.ies.AlgorithmParametersSpi',\n",
      "                  'org.bouncycastle.jce.spec.IESParameterSpec',\n",
      "                  'org.bouncycastle.jcajce.provider.asymmetric.ec.IESCipher',\n",
      "                  'org.bouncycastle.jcajce.provider.asymmetric.util.IESUtil',\n",
      "                  'org.bouncycastle.jcajce.provider.asymmetric.DH'],\n",
      " 'vuln_gav': 'org.bouncycastle:bcprov-jdk15on:1.54'}\n",
      "\n",
      "------------\n",
      "\n",
      "{'_id': ObjectId('67fc3c9a6baaaadb2f3e09b1'),\n",
      " 'cve_ref': 'CVE-2016-1000352',\n",
      " 'data_src': 'mvn_eco',\n",
      " 'patches': ['https://github.com/bcgit/bc-java/commit/9385b0ebd277724b167fe1d1456e3c112112be1f'],\n",
      " 'vuln_classes': ['org.bouncycastle.jcajce.provider.asymmetric.dh.AlgorithmParametersSpi',\n",
      "                  'org.bouncycastle.jcajce.provider.asymmetric.EC',\n",
      "                  'org.bouncycastle.jcajce.provider.asymmetric.util.IESUtil',\n",
      "                  'org.bouncycastle.jcajce.provider.asymmetric.DH',\n",
      "                  'org.bouncycastle.jce.spec.IESParameterSpec',\n",
      "                  'org.bouncycastle.jcajce.provider.asymmetric.dh.IESCipher',\n",
      "                  'org.bouncycastle.jcajce.provider.asymmetric.ec.IESCipher'],\n",
      " 'vuln_gav': 'org.bouncycastle:bcprov-jdk15on:1.54'}\n",
      "\n",
      "@@@@@@@@@@@@@@@\n",
      "\n",
      "{'_id': ObjectId('67fc3a33251ac280f228adc3'),\n",
      " 'cve_ref': 'CVE-2018-1000632',\n",
      " 'data_src': 'snyk',\n",
      " 'patches': ['https://github.com/dom4j/dom4j/commit/e598eb43d418744c4dbf62f647dd2381c9ce9387'],\n",
      " 'snyk_url': 'https://security.snyk.io/vuln/SNYK-JAVA-ORGDOM4J-32474',\n",
      " 'vuln_classes': ['org.dom4j.tree.QNameCache',\n",
      "                  'org.dom4j.QName',\n",
      "                  'org.dom4j.Namespace'],\n",
      " 'vuln_gav': 'org.dom4j:dom4j:2.1.0'}\n",
      "\n",
      "------------\n",
      "\n",
      "{'_id': ObjectId('67fc3c9a6baaaadb2f3e0b26'),\n",
      " 'cve_ref': 'CVE-2018-1000632',\n",
      " 'data_src': 'mvn_eco',\n",
      " 'patches': ['https://github.com/dom4j/dom4j/commit/e598eb43d418744c4dbf62f647dd2381c9ce9387'],\n",
      " 'vuln_classes': ['org.dom4j.dom.DOMNamespace',\n",
      "                  'org.dom4j.tree.QNameCache',\n",
      "                  'org.dom4j.QName'],\n",
      " 'vuln_gav': 'org.dom4j:dom4j:2.1.0'}\n",
      "\n",
      "@@@@@@@@@@@@@@@\n",
      "\n",
      "{'_id': ObjectId('67fc3a33251ac280f228a33d'),\n",
      " 'cve_ref': 'CVE-2013-7285',\n",
      " 'data_src': 'snyk',\n",
      " 'patches': ['https://github.com/x-stream/xstream/commit/6344867dce6767af7d0fe34fb393271a6456672d'],\n",
      " 'snyk_url': 'https://security.snyk.io/vuln/SNYK-JAVA-COMTHOUGHTWORKSXSTREAM-460764',\n",
      " 'vuln_classes': ['com.thoughtworks.xstream.XStream',\n",
      "                  'com.thoughtworks.xstream.mapper.CachingMapper'],\n",
      " 'vuln_gav': 'com.thoughtworks.xstream:xstream:1.4.10'}\n",
      "\n",
      "------------\n",
      "\n",
      "{'_id': ObjectId('67fc3c9a6baaaadb2f3e0a67'),\n",
      " 'cve_ref': 'CVE-2013-7285',\n",
      " 'data_src': 'mvn_eco',\n",
      " 'patches': ['https://github.com/x-stream/xstream/commit/6344867dce6767af7d0fe34fb393271a6456672d'],\n",
      " 'vuln_classes': ['com.thoughtworks.xstream.XStream',\n",
      "                  'com.thoughtworks.xstream.mapper.CachingMapper',\n",
      "                  'com.thoughtworks.xstream.converters.reflection.ReflectionConverter'],\n",
      " 'vuln_gav': 'com.thoughtworks.xstream:xstream:1.4.10'}\n",
      "\n",
      "@@@@@@@@@@@@@@@\n",
      "\n"
     ]
    },
    {
     "data": {
      "text/plain": [
       "9"
      ]
     },
     "execution_count": 12,
     "metadata": {},
     "output_type": "execute_result"
    }
   ],
   "execution_count": 12
  },
  {
   "cell_type": "markdown",
   "source": [
    "have to remove modified classes that are not in the jar (libio)"
   ],
   "metadata": {
    "collapsed": false
   },
   "id": "e0111a22731d2270"
  },
  {
   "metadata": {
    "ExecuteTime": {
     "end_time": "2025-04-13T22:38:39.380507Z",
     "start_time": "2025-04-13T22:38:39.377737Z"
    }
   },
   "cell_type": "code",
   "source": "",
   "id": "c93598da86a7a528",
   "outputs": [],
   "execution_count": null
  },
  {
   "cell_type": "code",
   "source": [
    "mvn_eco_vuln_gav_cve_ref = set((x['vuln_gav'], x['cve_ref']) for x in mvn_eco_vuln_data)\n",
    "len(mvn_eco_vuln_gav_cve_ref), len(list(x for x in libio_vuln_data if (x['vuln_gav'], x['cve_ref']) not in mvn_eco_vuln_gav_cve_ref))"
   ],
   "metadata": {
    "collapsed": false,
    "ExecuteTime": {
     "end_time": "2025-04-13T22:38:39.451725Z",
     "start_time": "2025-04-13T22:38:39.442051Z"
    }
   },
   "id": "5543efed099f56a4",
   "outputs": [
    {
     "data": {
      "text/plain": [
       "(829, 6789)"
      ]
     },
     "execution_count": 13,
     "metadata": {},
     "output_type": "execute_result"
    }
   ],
   "execution_count": 13
  },
  {
   "cell_type": "code",
   "source": [
    "libio_vuln_gav_cve_ref = set((x['vuln_gav'], x['cve_ref']) for x in libio_vuln_data)\n",
    "len(libio_vuln_gav_cve_ref), len(list(x for x in mvn_eco_vuln_data if (x['vuln_gav'], x['cve_ref']) not in libio_vuln_gav_cve_ref))"
   ],
   "metadata": {
    "collapsed": false,
    "ExecuteTime": {
     "end_time": "2025-04-13T22:38:39.561330Z",
     "start_time": "2025-04-13T22:38:39.520104Z"
    }
   },
   "id": "49def78880cc56ee",
   "outputs": [
    {
     "data": {
      "text/plain": [
       "(6856, 754)"
      ]
     },
     "execution_count": 14,
     "metadata": {},
     "output_type": "execute_result"
    }
   ],
   "execution_count": 14
  },
  {
   "cell_type": "code",
   "source": [
    "db.mergedVuln.drop()\n",
    "db.mergedVuln.insert_many(libio_vuln_data)\n",
    "_ = db.mergedVuln.insert_many(x for x in mvn_eco_vuln_data if (x['vuln_gav'], x['cve_ref']) not in libio_vuln_gav_cve_ref)"
   ],
   "metadata": {
    "collapsed": false,
    "ExecuteTime": {
     "end_time": "2025-04-13T22:38:39.712381Z",
     "start_time": "2025-04-13T22:38:39.621545Z"
    }
   },
   "id": "a190e3ee0556938",
   "outputs": [],
   "execution_count": 15
  },
  {
   "cell_type": "code",
   "source": [
    "uniq_cve = set()\n",
    "uniq_cve_ga = set()\n",
    "uniq_cve_gav_set = set()\n",
    "\n",
    "for it in db.mergedVuln.find():\n",
    "    cve_ref = it['cve_ref']\n",
    "    if cve_ref == '':\n",
    "        cve_ref = it['snyk_url']\n",
    "    \n",
    "    assert cve_ref != '' and cve_ref is not None\n",
    "    \n",
    "    uniq_cve.add(cve_ref)\n",
    "    uniq_cve_ga.add((cve_ref, ':'.join(it['vuln_gav'].split(':')[:-1])))\n",
    "    uniq_cve_gav_set.add((cve_ref, it['vuln_gav']))\n",
    "\n",
    "print(len(uniq_cve))  \n",
    "print(len(uniq_cve_ga))\n",
    "print(len(uniq_cve_gav_set))"
   ],
   "metadata": {
    "collapsed": false,
    "ExecuteTime": {
     "end_time": "2025-04-13T22:38:39.891523Z",
     "start_time": "2025-04-13T22:38:39.778373Z"
    }
   },
   "id": "438e8d247e163149",
   "outputs": [
    {
     "name": "stdout",
     "output_type": "stream",
     "text": [
      "954\n",
      "993\n",
      "7618\n"
     ]
    }
   ],
   "execution_count": 16
  }
 ],
 "metadata": {
  "kernelspec": {
   "display_name": "Python 3",
   "language": "python",
   "name": "python3"
  },
  "language_info": {
   "codemirror_mode": {
    "name": "ipython",
    "version": 2
   },
   "file_extension": ".py",
   "mimetype": "text/x-python",
   "name": "python",
   "nbconvert_exporter": "python",
   "pygments_lexer": "ipython2",
   "version": "2.7.6"
  }
 },
 "nbformat": 4,
 "nbformat_minor": 5
}
