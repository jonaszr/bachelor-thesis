{
 "cells": [
  {
   "cell_type": "code",
   "metadata": {
    "collapsed": true,
    "ExecuteTime": {
     "end_time": "2025-04-13T22:39:18.795877Z",
     "start_time": "2025-04-13T22:39:18.722086Z"
    }
   },
   "source": [
    "import kotlinx.coroutines.Dispatchers\n",
    "import kotlinx.coroutines.async\n",
    "import kotlinx.coroutines.awaitAll\n",
    "import kotlinx.coroutines.runBlocking\n",
    "import com.google.common.hash.Hashing"
   ],
   "outputs": [],
   "execution_count": 6
  },
  {
   "cell_type": "code",
   "source": [
    "import io.github.cdimascio.dotenv.Dotenv\n",
    "import java.nio.file.Paths\n",
    "\n",
    "val dotenv = Dotenv.load()\n",
    "val dataDir = dotenv.get(\"DATA_DIR\").let { Paths.get(it).toFile() }.also { it.mkdirs() }\n",
    "dataDir"
   ],
   "metadata": {
    "collapsed": false,
    "ExecuteTime": {
     "end_time": "2025-04-13T22:39:19.062131Z",
     "start_time": "2025-04-13T22:39:18.820212Z"
    }
   },
   "outputs": [
    {
     "data": {
      "text/plain": [
       "/home/j.zeidler@GDAAG.DE/private/ba3/bachelor-thesis/data"
      ]
     },
     "execution_count": 7,
     "metadata": {},
     "output_type": "execute_result"
    }
   ],
   "execution_count": 7
  },
  {
   "cell_type": "code",
   "source": [
    "import org.bson.BsonDocument\n",
    "import org.litote.kmongo.*\n",
    "\n",
    "val client = KMongo.createClient(\"mongodb://localhost:42692/\")\n",
    "val db = client.getDatabase(\"s5_snyk_libio\")\n",
    "val mergedVuln = db.getCollection<BsonDocument>(\"mergedVuln\")"
   ],
   "metadata": {
    "collapsed": false,
    "ExecuteTime": {
     "end_time": "2025-04-13T22:39:19.291514Z",
     "start_time": "2025-04-13T22:39:19.134383Z"
    }
   },
   "outputs": [],
   "execution_count": 8
  },
  {
   "metadata": {
    "ExecuteTime": {
     "end_time": "2025-04-13T22:39:19.540391Z",
     "start_time": "2025-04-13T22:39:19.299980Z"
    }
   },
   "cell_type": "code",
   "source": [
    "import com.mongodb.client.*\n",
    "\n",
    "private class MongoCursorIterable<T>(private val cursor: MongoCursor<T>) : MongoCursor<T> by cursor, Iterable<T> {\n",
    "\n",
    "    override fun iterator(): Iterator<T> = cursor\n",
    "}\n",
    "\n",
    "private fun <T> MongoIterable<T>.kCursor(): MongoCursorIterable<T> = MongoCursorIterable(iterator())\n",
    "\n",
    "fun <T, R> MongoIterable<T>.useCursor(block: (Iterable<T>) -> R): R {\n",
    "    return kCursor().use(block)\n",
    "}"
   ],
   "outputs": [],
   "execution_count": 9
  },
  {
   "cell_type": "code",
   "source": [
    "val mergedVulnGavs = mergedVuln.find().useCursor { blk ->\n",
    "    blk.map {\n",
    "        it[\"vuln_gav\"]!!.asString().value\n",
    "    }\n",
    "}.toSet()\n",
    "mergedVulnGavs.count()"
   ],
   "metadata": {
    "collapsed": false,
    "ExecuteTime": {
     "end_time": "2025-04-13T22:39:20.051038Z",
     "start_time": "2025-04-13T22:39:19.548474Z"
    }
   },
   "outputs": [
    {
     "data": {
      "text/plain": [
       "3809"
      ]
     },
     "execution_count": 10,
     "metadata": {},
     "output_type": "execute_result"
    }
   ],
   "execution_count": 10
  },
  {
   "cell_type": "code",
   "source": [
    "val jarsDir = dataDir.resolve(\"interim/jars\").also { it.mkdirs() }\n",
    "\n",
    "fun gavToJarUrl(packageGAV: String): String\n",
    "{\n",
    "    val parts = packageGAV.split(\":\")\n",
    "    return parts[0].replace('.', '/') + \"/\" + parts[1] + \"/\" + parts[2] + \"/\" + parts[1] + \"-\" + parts[2] + \".jar\"\n",
    "}"
   ],
   "metadata": {
    "collapsed": false,
    "ExecuteTime": {
     "end_time": "2025-04-13T22:39:20.369095Z",
     "start_time": "2025-04-13T22:39:20.137225Z"
    }
   },
   "outputs": [],
   "execution_count": 11
  },
  {
   "cell_type": "code",
   "source": [
    "val gavToJar = mergedVulnGavs\n",
    "    .map {\n",
    "        val jarPath = jarsDir.resolve(gavToJarUrl(it))\n",
    "        if (!jarPath.isFile()) null\n",
    "        else it to jarPath\n",
    "    }\n",
    "    .filterNotNull()\n",
    "    .toMap()\n",
    "gavToJar.count()  // 3856"
   ],
   "metadata": {
    "collapsed": false,
    "ExecuteTime": {
     "end_time": "2025-04-13T22:39:21.999792Z",
     "start_time": "2025-04-13T22:39:20.378910Z"
    }
   },
   "outputs": [
    {
     "data": {
      "text/plain": [
       "3809"
      ]
     },
     "execution_count": 12,
     "metadata": {},
     "output_type": "execute_result"
    }
   ],
   "execution_count": 12
  },
  {
   "cell_type": "code",
   "source": [
    "import java.io.FileNotFoundException\n",
    "import java.util.zip.ZipFile\n",
    "\n",
    "fun classExistsInJar(jar: File, classFilePath: String): Boolean {\n",
    "    if (!jar.isFile()) {\n",
    "        throw FileNotFoundException(\"jar file not found: ${jar.absolutePath}\")\n",
    "    }\n",
    "    \n",
    "    val jarAsZip = ZipFile(jar)\n",
    "    val entry = jarAsZip.getEntry(classFilePath)\n",
    "    if (entry == null)\n",
    "        return false\n",
    "    \n",
    "    return true\n",
    "}"
   ],
   "metadata": {
    "collapsed": false,
    "ExecuteTime": {
     "end_time": "2025-04-13T22:39:22.218212Z",
     "start_time": "2025-04-13T22:39:22.066083Z"
    }
   },
   "outputs": [],
   "execution_count": 13
  },
  {
   "cell_type": "code",
   "source": [
    "import org.bson.BsonArray\n",
    "\n",
    "val filteredItems = mergedVuln.find().useCursor { blk ->\n",
    "    blk.filter {\n",
    "        gavToJar.containsKey(it[\"vuln_gav\"]!!.asString().value)\n",
    "    }.map {\n",
    "        val jar = gavToJar[it[\"vuln_gav\"]!!.asString().value]!!\n",
    "        val modifiedClassesInJar = it[\"vuln_classes\"]!!.asArray()\n",
    "        for (cls in modifiedClassesInJar)\n",
    "            if (!classExistsInJar(jar,cls.asString().value.replace('.', '/') + \".class\")) print(cls)\n",
    "    }.filterNotNull()\n",
    "}"
   ],
   "metadata": {
    "collapsed": false,
    "ExecuteTime": {
     "end_time": "2025-04-13T22:39:28.355090Z",
     "start_time": "2025-04-13T22:39:22.224639Z"
    }
   },
   "outputs": [],
   "execution_count": 14
  }
 ],
 "metadata": {
  "kernelspec": {
   "display_name": "Kotlin",
   "language": "kotlin",
   "name": "kotlin"
  },
  "language_info": {
   "name": "kotlin",
   "version": "1.9.0",
   "mimetype": "text/x-kotlin",
   "file_extension": ".kt",
   "pygments_lexer": "kotlin",
   "codemirror_mode": "text/x-kotlin",
   "nbconvert_exporter": ""
  },
  "ktnbPluginMetadata": {
   "projectDependencies": true
  }
 },
 "nbformat": 4,
 "nbformat_minor": 0
}
