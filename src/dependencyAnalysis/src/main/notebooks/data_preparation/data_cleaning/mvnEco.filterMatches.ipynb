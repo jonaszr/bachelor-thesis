{
 "cells": [
  {
   "cell_type": "code",
   "metadata": {
    "collapsed": true,
    "ExecuteTime": {
     "end_time": "2025-04-11T13:35:07.299225Z",
     "start_time": "2025-04-11T13:35:07.149623Z"
    }
   },
   "source": [
    "import kotlinx.coroutines.Dispatchers\n",
    "import kotlinx.coroutines.async\n",
    "import kotlinx.coroutines.awaitAll\n",
    "import kotlinx.coroutines.runBlocking\n",
    "import com.google.common.hash.Hashing"
   ],
   "outputs": [],
   "execution_count": 1
  },
  {
   "cell_type": "code",
   "source": [
    "import io.github.cdimascio.dotenv.Dotenv\n",
    "import java.nio.file.Paths\n",
    "\n",
    "val dotenv = Dotenv.load()\n",
    "val dataDir = dotenv.get(\"DATA_DIR\").let { Paths.get(it).toFile() }.also { it.mkdirs() }\n",
    "dataDir"
   ],
   "metadata": {
    "collapsed": false,
    "ExecuteTime": {
     "end_time": "2025-04-11T13:35:07.662503Z",
     "start_time": "2025-04-11T13:35:07.305453Z"
    }
   },
   "outputs": [
    {
     "data": {
      "text/plain": [
       "/home/j.zeidler@GDAAG.DE/private/ba3/bachelor-thesis/data"
      ]
     },
     "execution_count": 2,
     "metadata": {},
     "output_type": "execute_result"
    }
   ],
   "execution_count": 2
  },
  {
   "cell_type": "code",
   "source": [
    "import org.bson.BsonDocument\n",
    "import org.litote.kmongo.*\n",
    "\n",
    "val client = KMongo.createClient(\"mongodb://localhost:42692/\")\n",
    "val db = client.getDatabase(\"s5_snyk_libio\")\n",
    "val mvnEcoVuln = db.getCollection<BsonDocument>(\"mvnEcoVuln\")"
   ],
   "metadata": {
    "collapsed": false,
    "ExecuteTime": {
     "end_time": "2025-04-11T13:35:09.317074Z",
     "start_time": "2025-04-11T13:35:07.679605Z"
    }
   },
   "outputs": [],
   "execution_count": 3
  },
  {
   "metadata": {
    "ExecuteTime": {
     "end_time": "2025-04-11T13:35:09.826836Z",
     "start_time": "2025-04-11T13:35:09.322882Z"
    }
   },
   "cell_type": "code",
   "source": [
    "import com.mongodb.client.*\n",
    "\n",
    "private class MongoCursorIterable<T>(private val cursor: MongoCursor<T>) : MongoCursor<T> by cursor, Iterable<T> {\n",
    "\n",
    "    override fun iterator(): Iterator<T> = cursor\n",
    "}\n",
    "\n",
    "private fun <T> MongoIterable<T>.kCursor(): MongoCursorIterable<T> = MongoCursorIterable(iterator())\n",
    "\n",
    "fun <T, R> MongoIterable<T>.useCursor(block: (Iterable<T>) -> R): R {\n",
    "    return kCursor().use(block)\n",
    "}"
   ],
   "outputs": [],
   "execution_count": 4
  },
  {
   "cell_type": "code",
   "source": [
    "val vulnGavs = mvnEcoVuln.find().useCursor { blk ->\n",
    "    blk.map {\n",
    "        it[\"vuln_gav\"]!!.asString().value\n",
    "    }\n",
    "}.toSet()\n",
    "\n",
    "vulnGavs.count()"
   ],
   "metadata": {
    "collapsed": false,
    "ExecuteTime": {
     "end_time": "2025-04-11T13:35:10.387381Z",
     "start_time": "2025-04-11T13:35:09.831988Z"
    }
   },
   "outputs": [
    {
     "data": {
      "text/plain": [
       "613"
      ]
     },
     "execution_count": 5,
     "metadata": {},
     "output_type": "execute_result"
    }
   ],
   "execution_count": 5
  },
  {
   "cell_type": "code",
   "source": [
    "val jarsDir = dataDir.resolve(\"interim/jars\").also { it.mkdirs() }\n",
    "\n",
    "fun gavToJarUrl(packageGAV: String): String\n",
    "{\n",
    "    val parts = packageGAV.split(\":\")\n",
    "    return parts[0].replace('.', '/') + \"/\" + parts[1] + \"/\" + parts[2] + \"/\" + parts[1] + \"-\" + parts[2] + \".jar\"\n",
    "}"
   ],
   "metadata": {
    "collapsed": false,
    "ExecuteTime": {
     "end_time": "2025-04-11T13:35:10.597755Z",
     "start_time": "2025-04-11T13:35:10.404058Z"
    }
   },
   "outputs": [],
   "execution_count": 6
  },
  {
   "cell_type": "code",
   "source": [
    "val gavToJar = vulnGavs\n",
    "    .map {\n",
    "        val jarPath = jarsDir.resolve(gavToJarUrl(it))\n",
    "        if (!jarPath.isFile()) null\n",
    "        else it to jarPath\n",
    "    }\n",
    "    .filterNotNull()\n",
    "    .toMap()\n",
    "gavToJar.count()  // 3856"
   ],
   "metadata": {
    "collapsed": false,
    "ExecuteTime": {
     "end_time": "2025-04-11T13:35:10.829484Z",
     "start_time": "2025-04-11T13:35:10.602867Z"
    }
   },
   "outputs": [
    {
     "data": {
      "text/plain": [
       "611"
      ]
     },
     "execution_count": 7,
     "metadata": {},
     "output_type": "execute_result"
    }
   ],
   "execution_count": 7
  },
  {
   "cell_type": "code",
   "source": [
    "import java.io.FileNotFoundException\n",
    "import java.util.zip.ZipFile\n",
    "\n",
    "fun classExistsInJar(jar: File, classFilePath: String): Boolean {\n",
    "    if (!jar.isFile()) {\n",
    "        throw FileNotFoundException(\"jar file not found: ${jar.absolutePath}\")\n",
    "    }\n",
    "    \n",
    "    val jarAsZip = ZipFile(jar)\n",
    "    val entry = jarAsZip.getEntry(classFilePath)\n",
    "    if (entry == null)\n",
    "        return false\n",
    "    \n",
    "    return true\n",
    "}"
   ],
   "metadata": {
    "collapsed": false,
    "ExecuteTime": {
     "end_time": "2025-04-11T13:35:10.985757Z",
     "start_time": "2025-04-11T13:35:10.847470Z"
    }
   },
   "outputs": [],
   "execution_count": 8
  },
  {
   "cell_type": "code",
   "source": [
    "import org.bson.BsonArray\n",
    "\n",
    "val filteredItems = mvnEcoVuln.find().useCursor { blk ->\n",
    "    blk.filter {\n",
    "        gavToJar.containsKey(it[\"vuln_gav\"]!!.asString().value)\n",
    "    }.map {\n",
    "        val jar = gavToJar[it[\"vuln_gav\"]!!.asString().value]!!\n",
    "        val modifiedClassesInJar = it[\"vuln_classes\"]!!.asArray().values.filter {\n",
    "            classExistsInJar(\n",
    "                jar, it.asString().value.replace('.', '/') + \".class\"\n",
    "            )\n",
    "        }\n",
    "\n",
    "        if (modifiedClassesInJar.isEmpty()) return@map null\n",
    "\n",
    "        it[\"vuln_classes\"] = BsonArray(modifiedClassesInJar)\n",
    "        it\n",
    "    }.filterNotNull()\n",
    "}"
   ],
   "metadata": {
    "collapsed": false,
    "ExecuteTime": {
     "end_time": "2025-04-11T13:35:13.407177Z",
     "start_time": "2025-04-11T13:35:10.990873Z"
    }
   },
   "outputs": [],
   "execution_count": 9
  },
  {
   "cell_type": "code",
   "source": [
    "filteredItems.count()"
   ],
   "metadata": {
    "collapsed": false,
    "ExecuteTime": {
     "end_time": "2025-04-11T13:35:13.494562Z",
     "start_time": "2025-04-11T13:35:13.412649Z"
    }
   },
   "outputs": [
    {
     "data": {
      "text/plain": [
       "829"
      ]
     },
     "execution_count": 10,
     "metadata": {},
     "output_type": "execute_result"
    }
   ],
   "execution_count": 10
  },
  {
   "cell_type": "code",
   "source": [
    "filteredItems.map { it[\"vuln_gav\"]!!.asString().value }.toSet().count()"
   ],
   "metadata": {
    "collapsed": false,
    "ExecuteTime": {
     "end_time": "2025-04-11T13:35:13.687652Z",
     "start_time": "2025-04-11T13:35:13.558263Z"
    }
   },
   "outputs": [
    {
     "data": {
      "text/plain": [
       "611"
      ]
     },
     "execution_count": 11,
     "metadata": {},
     "output_type": "execute_result"
    }
   ],
   "execution_count": 11
  },
  {
   "cell_type": "code",
   "source": [
    "mvnEcoVuln.drop()\n",
    "mvnEcoVuln.insertMany(filteredItems)"
   ],
   "metadata": {
    "collapsed": false,
    "ExecuteTime": {
     "end_time": "2025-04-11T13:35:14.025151Z",
     "start_time": "2025-04-11T13:35:13.753497Z"
    }
   },
   "outputs": [
    {
     "data": {
      "text/plain": [
       "AcknowledgedInsertManyResult{insertedIds={0=BsonObjectId{value=67f9147e6e91fd4e04c23faf}, 1=BsonObjectId{value=67f9147e6e91fd4e04c23fb0}, 2=BsonObjectId{value=67f9147e6e91fd4e04c23fb1}, 3=BsonObjectId{value=67f9147e6e91fd4e04c23fb2}, 4=BsonObjectId{value=67f9147e6e91fd4e04c23fb3}, 5=BsonObjectId{value=67f9147e6e91fd4e04c23fb4}, 6=BsonObjectId{value=67f9147e6e91fd4e04c23fb5}, 7=BsonObjectId{value=67f9147e6e91fd4e04c23fb6}, 8=BsonObjectId{value=67f9147e6e91fd4e04c23fb7}, 9=BsonObjectId{value=67f9147e6e91fd4e04c23fb9}, 10=BsonObjectId{value=67f9147e6e91fd4e04c23fba}, 11=BsonObjectId{value=67f9147e6e91fd4e04c23fbb}, 12=BsonObjectId{value=67f9147e6e91fd4e04c23fbc}, 13=BsonObjectId{value=67f9147e6e91fd4e04c23fbd}, 14=BsonObjectId{value=67f9147e6e91fd4e04c23fbe}, 15=BsonObjectId{value=67f9147e6e91fd4e04c23fbf}, 16=BsonObjectId{value=67f9147e6e91fd4e04c23fc0}, 17=BsonObjectId{value=67f9147e6e91fd4e04c23fc1}, 18=BsonObjectId{value=67f9147e6e91fd4e04c23fc2}, 19=BsonObjectId{value=67f9147e6e91fd4e04c23fc3}, 20=BsonObjectId{value=67f9147e6e91fd4e04c23fc4}, 21=BsonObjectId{value=67f9147e6e91fd4e04c23fc5}, 22=BsonObjectId{value=67f9147e6e91fd4e04c23fc6}, 23=BsonObjectId{value=67f9147e6e91fd4e04c23fc7}, 24=BsonObjectId{value=67f9147e6e91fd4e04c23fc8}, 25=BsonObjectId{value=67f9147e6e91fd4e04c23fc9}, 26=BsonObjectId{value=67f9147e6e91fd4e04c23fca}, 27=BsonObjectId{value=67f9147e6e91fd4e04c23fcb}, 28=BsonObjectId{value=67f9147e6e91fd4e04c23fcc}, 29=BsonObjectId{value=67f9147e6e91fd4e04c23fcd}, 30=BsonObjectId{value=67f9147e6e91fd4e04c23fce}, 31=BsonObjectId{value=67f9147e6e91fd4e04c23fcf}, 32=BsonObjectId{value=67f9147e6e91fd4e04c23fd0}, 33=BsonObjectId{value=67f9147e6e91fd4e04c23fd1}, 34=BsonObjectId{value=67f9147e6e91fd4e04c23fd2}, 35=BsonObjectId{value=67f9147e6e91fd4e04c23fd3}, 36=BsonObjectId{value=67f9147e6e91fd4e04c23fd4}, 37=BsonObjectId{value=67f9147e6e91fd4e04c23fd5}, 38=BsonObjectId{value=67f9147e6e91fd4e04c23fd6}, 39=BsonObjectId{value=67f9147e6e91fd4e04c23fd7}, 40=BsonObjectId{value=67f9147e6e91fd4e04c23fd8}, 41=BsonObjectId{value=67f9147e6e91fd4e04c23fd9}, 42=BsonObjectId{value=67f9147e6e91fd4e04c23fda}, 43=BsonObjectId{value=67f9147e6e91fd4e04c23fdb}, 44=BsonObjectId{value=67f9147e6e91fd4e04c23fdc}, 45=BsonObjectId{value=67f9147e6e91fd4e04c23fdd}, 46=BsonObjectId{value=67f9147e6e91fd4e04c23fde}, 47=BsonObjectId{value=67f9147e6e91fd4e04c23fdf}, 48=BsonObjectId{value=67f9147e6e91fd4e04c23fe0}, 49=BsonObjectId{value=67f9147e6e91fd4e04c23fe1}, 50=BsonObjectId{value=67f9147e6e91fd4e04c23fe2}, 51=BsonObjectId{value=67f9147e6e91fd4e04c23fe3}, 52=BsonObjectId{value=67f9147e6e91fd4e04c23fe4}, 53=BsonObjectId{value=67f9147e6e91fd4e04c23fe5}, 54=BsonObjectId{value=67f9147e6e91fd4e04c23fe6}, 55=BsonObjectId{value=67f9147e6e91fd4e04c23fe7}, 56=BsonObjectId{value=67f9147e6e91fd4e04c23fe8}, 57=BsonObjectId{value=67f9147e6e91fd4e04c23fe9}, 58=BsonObjectId{value=67f9147e6e91fd4e04c23fea}, 59=BsonObjectId{value=67f9147e6e91fd4e04c23feb}, 60=BsonObjectId{value=67f9147e6e91fd4e04c23fec}, 61=BsonObjectId{value=67f9147e6e91fd4e04c23fed}, 62=BsonObjectId{value=67f9147e6e91fd4e04c23fee}, 63=BsonObjectId{value=67f9147e6e91fd4e04c23fef}, 64=BsonObjectId{value=67f9147e6e91fd4e04c23ff0}, 65=BsonObjectId{value=67f9147e6e91fd4e04c23ff1}, 66=BsonObjectId{value=67f9147e6e91fd4e04c23ff2}, 67=BsonObjectId{value=67f9147e6e91fd4e04c23ff3}, 68=BsonObjectId{value=67f9147e6e91fd4e04c23ff4}, 69=BsonObjectId{value=67f9147e6e91fd4e04c23ff5}, 70=BsonObjectId{value=67f9147e6e91fd4e04c23ff6}, 71=BsonObjectId{value=67f9147e6e91fd4e04c23ff7}, 72=BsonObjectId{value=67f9147e6e91fd4e04c23ff8}, 73=BsonObjectId{value=67f9147e6e91fd4e04c23ff9}, 74=BsonObjectId{value=67f9147e6e91fd4e04c23ffa}, 75=BsonObjectId{value=67f9147e6e91fd4e04c23ffb}, 76=BsonObjectId{value=67f9147e6e91fd4e04c23ffc}, 77=BsonObjectId{value=67f9147e6e91fd4e04c23ffd}, 78=BsonObjectId{value=67f9147e6e91fd4e04c23ffe}, 79=BsonObjectId{value=67f9147e6e91fd4e04c23fff}, 80=BsonObjectId{value=67f9147e6e91fd4e04c24000}, 81=BsonObjectId{value=67f9147e6e91fd4e04c24001}, 82=BsonObjectId{value=67f9147e6e91fd4e04c24002}, 83=BsonObjectId{value=67f9147e6e91fd4e04c24003}, 84=BsonObjectId{value=67f9147e6e91fd4e04c24004}, 85=BsonObjectId{value=67f9147e6e91fd4e04c24005}, 86=BsonObjectId{value=67f9147e6e91fd4e04c24006}, 87=BsonObjectId{value=67f9147e6e91fd4e04c24007}, 88=BsonObjectId{value=67f9147e6e91fd4e04c24008}, 89=BsonObjectId{value=67f9147e6e91fd4e04c24009}, 90=BsonObjectId{value=67f9147e6e91fd4e04c2400a}, 91=BsonObjectId{value=67f9147e6e91fd4e04c2400b}, 92=BsonObjectId{value=67f9147e6e91fd4e04c2400c}, 93=BsonObjectId{value=67f9147e6e91fd4e04c2400d}, 94=BsonObjectId{value=67f9147e6e91fd4e04c2400e}, 95=BsonObjectId{value=67f9147e6e91fd4e04c2400f}, 96=BsonObjectId{value=67f9147e6e91fd4e04c24010}, 97=BsonObjectId{value=67f9147e6e91fd4e04c24011}, 98=BsonObjectId{value=67f9147e6e91fd4e04c24012}, 99=BsonObjectId{value=67f9147e6e91fd4e04c24013}, 100=BsonObjectId{value=67f9147e6e91fd4e04c24014}, 101=BsonObjectId{value=67f9147e6e91fd4e04c24015}, 102=BsonObjectId{value=67f9147e6e91fd4e04c24016}, 103=BsonObjectId{value=67f9147e6e91fd4e04c24017}, 104=BsonObjectId{value=67f9147e6e91fd4e04c24018}, 105=BsonObjectId{value=67f9147e6e91fd4e04c24019}, 106=BsonObjectId{value=67f9147e6e91fd4e04c2401a}, 107=BsonObjectId{value=67f9147e6e91fd4e04c2401b}, 108=BsonObjectId{value=67f9147e6e91fd4e04c2401c}, 109=BsonObjectId{value=67f9147e6e91fd4e04c2401d}, 110=BsonObjectId{value=67f9147e6e91fd4e04c2401e}, 111=BsonObjectId{value=67f9147e6e91fd4e04c2401f}, 112=BsonObjectId{value=67f9147e6e91fd4e04c24020}, 113=BsonObjectId{value=67f9147e6e91fd4e04c24021}, 114=BsonObjectId{value=67f9147e6e91fd4e04c24022}, 115=BsonObjectId{value=67f9147e6e91fd4e04c24023}, 116=BsonObjectId{value=67f9147e6e91fd4e04c24024}, 117=BsonObjectId{value=67f9147e6e91fd4e04c24025}, 118=BsonObjectId{value=67f9147e6e91fd4e04c24026}, 119=BsonObjectId{value=67f9147e6e91fd4e04c24027}, 120=BsonObjectId{value=67f9147e6e91fd4e04c24028}, 121=BsonObjectId{value=67f9147e6e91fd4e04c24029}, 122=BsonObjectId{value=67f9147e6e91fd4e04c2402a}, 123=BsonObjectId{value=67f9147e6e91fd4e04c2402b}, 124=BsonObjectId{value=67f9147e6e91fd4e04c2402c}, 125=BsonObjectId{value=67f9147e6e91fd4e04c2402d}, 126=BsonObjectId{value=67f9147e6e91fd4e04c2402e}, 127=BsonObjectId{value=67f9147e6e91fd4e04c2402f}, 128=BsonObjectId{value=67f9147e6e91fd4e04c24030}, 129=BsonObjectId{value=67f9147e6e91fd4e04c24031}, 130=BsonObjectId{value=67f9147e6e91fd4e04c24032}, 131=BsonObjectId{value=67f9147e6e91fd4e04c24033}, 132=BsonObjectId{value=67f9147e6e91fd4e04c24034}, 133=BsonObjectId{value=67f9147e6e91fd4e04c24035}, 134=BsonObjectId{value=67f9147e6e91fd4e04c24036}, 135=BsonObjectId{value=67f9147e6e91fd4e04c24037}, 136=BsonObjectId{value=67f9147e6e91fd4e04c24038}, 137=BsonObjectId{value=67f9147e6e91fd4e04c24039}, 138=BsonObjectId{value=67f9147e6e91fd4e04c2403a}, 139=BsonObjectId{value=67f9147e6e91fd4e04c2403b}, 140=BsonObjectId{value=67f9147e6e91fd4e04c2403c}, 141=BsonObjectId{value=67f9147e6e91fd4e04c2403d}, 142=BsonObjectId{value=67f9147e6e91fd4e04c2403e}, 143=BsonObjectId{value=67f9147e6e91fd4e04c2403f}, 144=BsonObjectId{value=67f9147e6e91fd4e04c24040}, 145=BsonObjectId{value=67f9147e6e91fd4e04c24041}, 146=BsonObjectId{value=67f9147e6e91fd4e04c24042}, 147=BsonObjectId{value=67f9147e6e91fd4e04c24043}, 148=BsonObjectId{value=67f9147e6e91fd4e04c24044}, 149=BsonObjectId{value=67f9147e6e91fd4e04c24045}, 150=BsonObjectId{value=67f9147e6e91fd4e04c24046}, 151=BsonObjectId{value=67f9147e6e91fd4e04c24047}, 152=BsonObjectId{value=67f9147e6e91fd4e04c24048}, 153=BsonObjectId{value=67f9147e6e91fd4e04c24049}, 154=BsonObjectId{value=67f9147e6e91fd4e04c2404a}, 155=BsonObjectId{value=67f9147e6e91fd4e04c2404b}, 156=BsonObjectId{value=67f9147e6e91fd4e04c2404c}, 157=BsonObjectId{value=67f9147e6e91fd4e04c2404d}, 158=BsonObjectId{value=67f9147e6e91fd4e04c2404e}, 159=BsonObjectId{value=67f9147e6e91fd4e04c2404f}, 160=BsonObjectId{value=67f9147e6e91fd4e04c24050}, 161=BsonObjectId{value=67f9147e6e91fd4e04c24051}, 162=BsonObjectId{value=67f9147e6e91fd4e04c24052}, 163=BsonObjectId{value=67f9147e6e91fd4e04c24053}, 164=BsonObjectId{value=67f9147e6e91fd4e04c24054}, 165=BsonObjectId{value=67f9147e6e91fd4e04c24055}, 166=BsonObjectId{value=67f9147e6e91fd4e04c24056}, 167=BsonObjectId{value=67f9147e6e91fd4e04c24057}, 168=BsonObjectId{value=67f9147e6e91fd4e04c24058}, 169=BsonObjectId{value=67f9147e6e91fd4e04c24059}, 170=BsonObjectId{value=67f9147e6e91fd4e04c2405a}, 171=BsonObjectId{value=67f9147e6e91fd4e04c2405b}, 172=BsonObjectId{value=67f9147e6e91fd4e04c2405c}, 173=BsonObjectId{value=67f9147e6e91fd4e04c2405d}, 174=BsonObjectId{value=67f9147e6e91fd4e04c2405e}, 175=BsonObjectId{value=67f9147e6e91fd4e04c2405f}, 176=BsonObjectId{value=67f9147e6e91fd4e04c24060}, 177=BsonObjectId{value=67f9147e6e91fd4e04c24061}, 178=BsonObjectId{value=67f9147e6e91fd4e04c24062}, 179=BsonObjectId{value=67f9147e6e91fd4e04c24063}, 180=BsonObjectId{value=67f9147e6e91fd4e04c24064}, 181=BsonObjectId{value=67f9147e6e91fd4e04c24065}, 182=BsonObjectId{value=67f9147e6e91fd4e04c24066}, 183=BsonObjectId{value=67f9147e6e91fd4e04c24067}, 184=BsonObjectId{value=67f9147e6e91fd4e04c24068}, 185=BsonObjectId{value=67f9147e6e91fd4e04c24069}, 186=BsonObjectId{value=67f9147e6e91fd4e04c2406a}, 187=BsonObjectId{value=67f9147e6e91fd4e04c2406b}, 188=BsonObjectId{value=67f9147e6e91fd4e04c2406c}, 189=BsonObjectId{value=67f9147e6e91fd4e04c2406d}, 190=BsonObjectId{value=67f9147e6e91fd4e04c2406e}, 191=BsonObjectId{value=67f9147e6e91fd4e04c2406f}, 192=BsonObjectId{value=67f9147e6e91fd4e04c24070}, 193=BsonObjectId{value=67f9147e6e91fd4e04c24071}, 194=BsonObjectId{value=67f9147e6e91fd4e04c24072}, 195=BsonObjectId{value=67f9147e6e91fd4e04c24073}, 196=BsonObjectId{value=67f9147e6e91fd4e04c24074}, 197=BsonObjectId{value=67f9147e6e91fd4e04c24075}, 198=BsonObjectId{value=67f9147e6e91fd4e04c24076}, 199=BsonObjectId{value=67f9147e6e91fd4e04c24077}, 200=BsonObjectId{value=67f9147e6e91fd4e04c24078}, 201=BsonObjectId{value=67f9147e6e91fd4e04c24079}, 202=BsonObjectId{value=67f9147e6e91fd4e04c2407a}, 203=BsonObjectId{value=67f9147e6e91fd4e04c2407b}, 204=BsonObjectId{value=67f9147e6e91fd4e04c2407c}, 205=BsonObjectId{value=67f9147e6e91fd4e04c2407d}, 206=BsonObjectId{value=67f9147e6e91fd4e04c2407e}, 207=BsonObjectId{value=67f9147e6e91fd4e04c2407f}, 208=BsonObjectId{value=67f9147e6e91fd4e04c24080}, 209=BsonObjectId{value=67f9147e6e91fd4e04c24081}, 210=BsonObjectId{value=67f9147e6e91fd4e04c24082}, 211=BsonObjectId{value=67f9147e6e91fd4e04c24083}, 212=BsonObjectId{value=67f9147e6e91fd4e04c24084}, 213=BsonObjectId{value=67f9147e6e91fd4e04c24085}, 214=BsonObjectId{value=67f9147e6e91fd4e04c24086}, 215=BsonObjectId{value=67f9147e6e91fd4e04c24087}, 216=BsonObjectId{value=67f9147e6e91fd4e04c24088}, 217=BsonObjectId{value=67f9147e6e91fd4e04c24089}, 218=BsonObjectId{value=67f9147e6e91fd4e04c2408a}, 219=BsonObjectId{value=67f9147e6e91fd4e04c2408b}, 220=BsonObjectId{value=67f9147e6e91fd4e04c2408c}, 221=BsonObjectId{value=67f9147e6e91fd4e04c2408d}, 222=BsonObjectId{value=67f9147e6e91fd4e04c2408e}, 223=BsonObjectId{value=67f9147e6e91fd4e04c2408f}, 224=BsonObjectId{value=67f9147e6e91fd4e04c24090}, 225=BsonObjectId{value=67f9147e6e91fd4e04c24091}, 226=BsonObjectId{value=67f9147e6e91fd4e04c24092}, 227=BsonObjectId{value=67f9147e6e91fd4e04c24093}, 228=BsonObjectId{value=67f9147e6e91fd4e04c24094}, 229=BsonObjectId{value=67f9147e6e91fd4e04c24095}, 230=BsonObjectId{value=67f9147e6e91fd4e04c24096}, 231=BsonObjectId{value=67f9147e6e91fd4e04c24097}, 232=BsonObjectId{value=67f9147e6e91fd4e04c24098}, 233=BsonObjectId{value=67f9147e6e91fd4e04c24099}, 234=BsonObjectId{value=67f9147e6e91fd4e04c2409a}, 235=BsonObjectId{value=67f9147e6e91fd4e04c2409b}, 236=BsonObjectId{value=67f9147e6e91fd4e04c2409c}, 237=BsonObjectId{value=67f9147e6e91fd4e04c2409d}, 238=BsonObjectId{value=67f9147e6e91fd4e04c2409e}, 239=BsonObjectId{value=67f9147e6e91fd4e04c2409f}, 240=BsonObjectId{value=67f9147e6e91fd4e04c240a0}, 241=BsonObjectId{value=67f9147e6e91fd4e04c240a1}, 242=BsonObjectId{value=67f9147e6e91fd4e04c240a2}, 243=BsonObjectId{value=67f9147e6e91fd4e04c240a3}, 244=BsonObjectId{value=67f9147e6e91fd4e04c240a4}, 245=BsonObjectId{value=67f9147e6e91fd4e04c240a5}, 246=BsonObjectId{value=67f9147e6e91fd4e04c240a6}, 247=BsonObjectId{value=67f9147e6e91fd4e04c240a7}, 248=BsonObjectId{value=67f9147e6e91fd4e04c240a8}, 249=BsonObjectId{value=67f9147e6e91fd4e04c240a9}, 250=BsonObjectId{value=67f9147e6e91fd4e04c240aa}, 251=BsonObjectId{value=67f9147e6e91fd4e04c240ab}, 252=BsonObjectId{value=67f9147e6e91fd4e04c240ac}, 253=BsonObjectId{value=67f9147e6e91fd4e04c240ad}, 254=BsonObjectId{value=67f9147e6e91fd4e04c240ae}, 255=BsonObjectId{value=67f9147e6e91fd4e04c240af}, 256=BsonObjectId{value=67f9147e6e91fd4e04c240b0}, 257=BsonObjectId{value=67f9147e6e91fd4e04c240b1}, 258=BsonObjectId{value=67f9147e6e91fd4e04c240b2}, 259=BsonObjectId{value=67f9147e6e91fd4e04c240b3}, 260=BsonObjectId{value=67f9147e6e91fd4e04c240b4}, 261=BsonObjectId{value=67f9147e6e91fd4e04c240b5}, 262=BsonObjectId{value=67f9147e6e91fd4e04c240b6}, 263=BsonObjectId{value=67f9147e6e91fd4e04c240b7}, 264=BsonObjectId{value=67f9147e6e91fd4e04c240b8}, 265=BsonObjectId{value=67f9147e6e91fd4e04c240b9}, 266=BsonObjectId{value=67f9147e6e91fd4e04c240ba}, 267=BsonObjectId{value=67f9147e6e91fd4e04c240bb}, 268=BsonObjectId{value=67f9147e6e91fd4e04c240bc}, 269=BsonObjectId{value=67f9147e6e91fd4e04c240bd}, 270=BsonObjectId{value=67f9147e6e91fd4e04c240be}, 271=BsonObjectId{value=67f9147e6e91fd4e04c240bf}, 272=BsonObjectId{value=67f9147e6e91fd4e04c240c0}, 273=BsonObjectId{value=67f9147e6e91fd4e04c240c1}, 274=BsonObjectId{value=67f9147e6e91fd4e04c240c2}, 275=BsonObjectId{value=67f9147e6e91fd4e04c240c3}, 276=BsonObjectId{value=67f9147e6e91fd4e04c240c4}, 277=BsonObjectId{value=67f9147e6e91fd4e04c240c5}, 278=BsonObjectId{value=67f9147e6e91fd4e04c240c6}, 279=BsonObjectId{value=67f9147e6e91fd4e04c240c7}, 280=BsonObjectId{value=67f9147e6e91fd4e04c240c8}, 281=BsonObjectId{value=67f9147e6e91fd4e04c240c9}, 282=BsonObjectId{value=67f9147e6e91fd4e04c240ca}, 283=BsonObjectId{value=67f9147e6e91fd4e04c240cb}, 284=BsonObjectId{value=67f9147e6e91fd4e04c240cc}, 285=BsonObjectId{value=67f9147e6e91fd4e04c240cd}, 286=BsonObjectId{value=67f9147e6e91fd4e04c240ce}, 287=BsonObjectId{value=67f9147e6e91fd4e04c240cf}, 288=BsonObjectId{value=67f9147e6e91fd4e04c240d0}, 289=BsonObjectId{value=67f9147e6e91fd4e04c240d1}, 290=BsonObjectId{value=67f9147e6e91fd4e04c240d2}, 291=BsonObjectId{value=67f9147e6e91fd4e04c240d3}, 292=BsonObjectId{value=67f9147e6e91fd4e04c240d4}, 293=BsonObjectId{value=67f9147e6e91fd4e04c240d5}, 294=BsonObjectId{value=67f9147e6e91fd4e04c240d6}, 295=BsonObjectId{value=67f9147e6e91fd4e04c240d7}, 296=BsonObjectId{value=67f9147e6e91fd4e04c240d8}, 297=BsonObjectId{value=67f9147e6e91fd4e04c240d9}, 298=BsonObjectId{value=67f9147e6e91fd4e04c240da}, 299=BsonObjectId{value=67f9147e6e91fd4e04c240db}, 300=BsonObjectId{value=67f9147e6e91fd4e04c240dc}, 301=BsonObjectId{value=67f9147e6e91fd4e04c240dd}, 302=BsonObjectId{value=67f9147e6e91fd4e04c240de}, 303=BsonObjectId{value=67f9147e6e91fd4e04c240df}, 304=BsonObjectId{value=67f9147e6e91fd4e04c240e0}, 305=BsonObjectId{value=67f9147e6e91fd4e04c240e1}, 306=BsonObjectId{value=67f9147e6e91fd4e04c240e2}, 307=BsonObjectId{value=67f9147e6e91fd4e04c240e3}, 308=BsonObjectId{value=67f9147e6e91fd4e04c240e4}, 309=BsonObjectId{value=67f9147e6e91fd4e04c240e5}, 310=BsonObjectId{value=67f9147e6e91fd4e04c240e6}, 311=BsonObjectId{value=67f9147e6e91fd4e04c240e7}, 312=BsonObjectId{value=67f9147e6e91fd4e04c240e8}, 313=BsonObjectId{value=67f9147e6e91fd4e04c240e9}, 314=BsonObjectId{value=67f9147e6e91fd4e04c240ea}, 315=BsonObjectId{value=67f9147e6e91fd4e04c240eb}, 316=BsonObjectId{value=67f9147e6e91fd4e04c240ec}, 317=BsonObjectId{value=67f9147e6e91fd4e04c240ed}, 318=BsonObjectId{value=67f9147e6e91fd4e04c240ee}, 319=BsonObjectId{value=67f9147e6e91fd4e04c240ef}, 320=BsonObjectId{value=67f9147e6e91fd4e04c240f0}, 321=BsonObjectId{value=67f9147e6e91fd4e04c240f1}, 322=BsonObjectId{value=67f9147e6e91fd4e04c240f2}, 323=BsonObjectId{value=67f9147e6e91fd4e04c240f3}, 324=BsonObjectId{value=67f9147e6e91fd4e04c240f4}, 325=BsonObjectId{value=67f9147e6e91fd4e04c240f5}, 326=BsonObjectId{value=67f9147e6e91fd4e04c240f6}, 327=BsonObjectId{value=67f9147e6e91fd4e04c240f7}, 328=BsonObjectId{value=67f9147e6e91fd4e04c240f8}, 329=BsonObjectId{value=67f9147e6e91fd4e04c240f9}, 330=BsonObjectId{value=67f9147e6e91fd4e04c240fa}, 331=BsonObjectId{value=67f9147e6e91fd4e04c240fb}, 332=BsonObjectId{value=67f9147e6e91fd4e04c240fc}, 333=BsonObjectId{value=67f9147e6e91fd4e04c240fd}, 334=BsonObjectId{value=67f9147e6e91fd4e04c240fe}, 335=BsonObjectId{value=67f9147e6e91fd4e04c240ff}, 336=BsonObjectId{value=67f9147e6e91fd4e04c24100}, 337=BsonObjectId{value=67f9147e6e91fd4e04c24101}, 338=BsonObjectId{value=67f9147e6e91fd4e04c24102}, 339=BsonObjectId{value=67f9147e6e91fd4e04c24103}, 340=BsonObjectId{value=67f9147e6e91fd4e04c24104}, 341=BsonObjectId{value=67f9147e6e91fd4e04c24105}, 342=BsonObjectId{value=67f9147e6e91fd4e04c24106}, 343=BsonObjectId{value=67f9147e6e91fd4e04c24107}, 344=BsonObjectId{value=67f9147e6e91fd4e04c24108}, 345=BsonObjectId{value=67f9147e6e91fd4e04c24109}, 346=BsonObjectId{value=67f9147e6e91fd4e04c2410a}, 347=BsonObjectId{value=67f9147e6e91fd4e04c2410b}, 348=BsonObjectId{value=67f9147e6e91fd4e04c2410c}, 349=BsonObjectId{value=67f9147e6e91fd4e04c2410d}, 350=BsonObjectId{value=67f9147e6e91fd4e04c2410e}, 351=BsonObjectId{value=67f9147e6e91fd4e04c2410f}, 352=BsonObjectId{value=67f9147e6e91fd4e04c24110}, 353=BsonObjectId{value=67f9147e6e91fd4e04c24111}, 354=BsonObjectId{value=67f9147e6e91fd4e04c24112}, 355=BsonObjectId{value=67f9147e6e91fd4e04c24113}, 356=BsonObjectId{value=67f9147e6e91fd4e04c24114}, 357=BsonObjectId{value=67f9147e6e91fd4e04c24115}, 358=BsonObjectId{value=67f9147e6e91fd4e04c24116}, 359=BsonObjectId{value=67f9147e6e91fd4e04c24117}, 360=BsonObjectId{value=67f9147e6e91fd4e04c24118}, 361=BsonObjectId{value=67f9147e6e91fd4e04c24119}, 362=BsonObjectId{value=67f9147e6e91fd4e04c2411a}, 363=BsonObjectId{value=67f9147e6e91fd4e04c2411b}, 364=BsonObjectId{value=67f9147e6e91fd4e04c2411c}, 365=BsonObjectId{value=67f9147e6e91fd4e04c2411d}, 366=BsonObjectId{value=67f9147e6e91fd4e04c2411e}, 367=BsonObjectId{value=67f9147e6e91fd4e04c2411f}, 368=BsonObjectId{value=67f9147e6e91fd4e04c24120}, 369=BsonObjectId{value=67f9147e6e91fd4e04c24122}, 370=BsonObjectId{value=67f9147e6e91fd4e04c24123}, 371=BsonObjectId{value=67f9147e6e91fd4e04c24124}, 372=BsonObjectId{value=67f9147e6e91fd4e04c24125}, 373=BsonObjectId{value=67f9147e6e91fd4e04c24126}, 374=BsonObjectId{value=67f9147e6e91fd4e04c24127}, 375=BsonObjectId{value=67f9147e6e91fd4e04c24128}, 376=BsonObjectId{value=67f9147e6e91fd4e04c24129}, 377=BsonObjectId{value=67f9147e6e91fd4e04c2412a}, 378=BsonObjectId{value=67f9147e6e91fd4e04c2412b}, 379=BsonObjectId{value=67f9147e6e91fd4e04c2412c}, 380=BsonObjectId{value=67f9147e6e91fd4e04c2412d}, 381=BsonObjectId{value=67f9147e6e91fd4e04c2412e}, 382=BsonObjectId{value=67f9147e6e91fd4e04c2412f}, 383=BsonObjectId{value=67f9147e6e91fd4e04c24130}, 384=BsonObjectId{value=67f9147e6e91fd4e04c24131}, 385=BsonObjectId{value=67f9147e6e91fd4e04c24132}, 386=BsonObjectId{value=67f9147e6e91fd4e04c24133}, 387=BsonObjectId{value=67f9147e6e91fd4e04c24134}, 388=BsonObjectId{value=67f9147e6e91fd4e04c24135}, 389=BsonObjectId{value=67f9147e6e91fd4e04c24136}, 390=BsonObjectId{value=67f9147e6e91fd4e04c24137}, 391=BsonObjectId{value=67f9147e6e91fd4e04c24138}, 392=BsonObjectId{value=67f9147e6e91fd4e04c24139}, 393=BsonObjectId{value=67f9147e6e91fd4e04c2413a}, 394=BsonObjectId{value=67f9147e6e91fd4e04c2413b}, 395=BsonObjectId{value=67f9147e6e91fd4e04c2413c}, 396=BsonObjectId{value=67f9147e6e91fd4e04c2413d}, 397=BsonObjectId{value=67f9147e6e91fd4e04c2413e}, 398=BsonObjectId{value=67f9147e6e91fd4e04c2413f}, 399=BsonObjectId{value=67f9147e6e91fd4e04c24140}, 400=BsonObjectId{value=67f9147e6e91fd4e04c24141}, 401=BsonObjectId{value=67f9147e6e91fd4e04c24142}, 402=BsonObjectId{value=67f9147e6e91fd4e04c24143}, 403=BsonObjectId{value=67f9147e6e91fd4e04c24144}, 404=BsonObjectId{value=67f9147e6e91fd4e04c24145}, 405=BsonObjectId{value=67f9147e6e91fd4e04c24146}, 406=BsonObjectId{value=67f9147e6e91fd4e04c24147}, 407=BsonObjectId{value=67f9147e6e91fd4e04c24148}, 408=BsonObjectId{value=67f9147e6e91fd4e04c24149}, 409=BsonObjectId{value=67f9147e6e91fd4e04c2414a}, 410=BsonObjectId{value=67f9147e6e91fd4e04c2414b}, 411=BsonObjectId{value=67f9147e6e91fd4e04c2414c}, 412=BsonObjectId{value=67f9147e6e91fd4e04c2414d}, 413=BsonObjectId{value=67f9147e6e91fd4e04c2414e}, 414=BsonObjectId{value=67f9147e6e91fd4e04c2414f}, 415=BsonObjectId{value=67f9147e6e91fd4e04c24150}, 416=BsonObjectId{value=67f9147e6e91fd4e04c24151}, 417=BsonObjectId{value=67f9147e6e91fd4e04c24152}, 418=BsonObjectId{value=67f9147e6e91fd4e04c24153}, 419=BsonObjectId{value=67f9147e6e91fd4e04c24154}, 420=BsonObjectId{value=67f9147e6e91fd4e04c24155}, 421=BsonObjectId{value=67f9147e6e91fd4e04c24156}, 422=BsonObjectId{value=67f9147e6e91fd4e04c24157}, 423=BsonObjectId{value=67f9147e6e91fd4e04c24158}, 424=BsonObjectId{value=67f9147e6e91fd4e04c24159}, 425=BsonObjectId{value=67f9147e6e91fd4e04c2415a}, 426=BsonObjectId{value=67f9147e6e91fd4e04c2415b}, 427=BsonObjectId{value=67f9147e6e91fd4e04c2415c}, 428=BsonObjectId{value=67f9147e6e91fd4e04c2415d}, 429=BsonObjectId{value=67f9147e6e91fd4e04c2415e}, 430=BsonObjectId{value=67f9147e6e91fd4e04c2415f}, 431=BsonObjectId{value=67f9147e6e91fd4e04c24160}, 432=BsonObjectId{value=67f9147e6e91fd4e04c24161}, 433=BsonObjectId{value=67f9147e6e91fd4e04c24162}, 434=BsonObjectId{value=67f9147e6e91fd4e04c24164}, 435=BsonObjectId{value=67f9147e6e91fd4e04c24165}, 436=BsonObjectId{value=67f9147e6e91fd4e04c24166}, 437=BsonObjectId{value=67f9147e6e91fd4e04c24167}, 438=BsonObjectId{value=67f9147e6e91fd4e04c24168}, 439=BsonObjectId{value=67f9147e6e91fd4e04c24169}, 440=BsonObjectId{value=67f9147e6e91fd4e04c2416a}, 441=BsonObjectId{value=67f9147e6e91fd4e04c2416b}, 442=BsonObjectId{value=67f9147e6e91fd4e04c2416c}, 443=BsonObjectId{value=67f9147e6e91fd4e04c2416d}, 444=BsonObjectId{value=67f9147e6e91fd4e04c2416e}, 445=BsonObjectId{value=67f9147e6e91fd4e04c2416f}, 446=BsonObjectId{value=67f9147e6e91fd4e04c24170}, 447=BsonObjectId{value=67f9147e6e91fd4e04c24171}, 448=BsonObjectId{value=67f9147e6e91fd4e04c24172}, 449=BsonObjectId{value=67f9147e6e91fd4e04c24173}, 450=BsonObjectId{value=67f9147e6e91fd4e04c24174}, 451=BsonObjectId{value=67f9147e6e91fd4e04c24175}, 452=BsonObjectId{value=67f9147e6e91fd4e04c24176}, 453=BsonObjectId{value=67f9147e6e91fd4e04c24177}, 454=BsonObjectId{value=67f9147e6e91fd4e04c24178}, 455=BsonObjectId{value=67f9147e6e91fd4e04c24179}, 456=BsonObjectId{value=67f9147e6e91fd4e04c2417a}, 457=BsonObjectId{value=67f9147e6e91fd4e04c2417b}, 458=BsonObjectId{value=67f9147e6e91fd4e04c2417c}, 459=BsonObjectId{value=67f9147e6e91fd4e04c2417d}, 460=BsonObjectId{value=67f9147e6e91fd4e04c2417e}, 461=BsonObjectId{value=67f9147e6e91fd4e04c2417f}, 462=BsonObjectId{value=67f9147e6e91fd4e04c24180}, 463=BsonObjectId{value=67f9147e6e91fd4e04c24181}, 464=BsonObjectId{value=67f9147e6e91fd4e04c24182}, 465=BsonObjectId{value=67f9147e6e91fd4e04c24183}, 466=BsonObjectId{value=67f9147e6e91fd4e04c24184}, 467=BsonObjectId{value=67f9147e6e91fd4e04c24185}, 468=BsonObjectId{value=67f9147e6e91fd4e04c24186}, 469=BsonObjectId{value=67f9147e6e91fd4e04c24187}, 470=BsonObjectId{value=67f9147e6e91fd4e04c24188}, 471=BsonObjectId{value=67f9147e6e91fd4e04c24189}, 472=BsonObjectId{value=67f9147e6e91fd4e04c2418a}, 473=BsonObjectId{value=67f9147e6e91fd4e04c2418b}, 474=BsonObjectId{value=67f9147e6e91fd4e04c2418c}, 475=BsonObjectId{value=67f9147e6e91fd4e04c2418d}, 476=BsonObjectId{value=67f9147e6e91fd4e04c2418e}, 477=BsonObjectId{value=67f9147e6e91fd4e04c2418f}, 478=BsonObjectId{value=67f9147e6e91fd4e04c24190}, 479=BsonObjectId{value=67f9147e6e91fd4e04c24191}, 480=BsonObjectId{value=67f9147e6e91fd4e04c24192}, 481=BsonObjectId{value=67f9147e6e91fd4e04c24193}, 482=BsonObjectId{value=67f9147e6e91fd4e04c24194}, 483=BsonObjectId{value=67f9147e6e91fd4e04c24195}, 484=BsonObjectId{value=67f9147e6e91fd4e04c24196}, 485=BsonObjectId{value=67f9147e6e91fd4e04c24197}, 486=BsonObjectId{value=67f9147e6e91fd4e04c24198}, 487=BsonObjectId{value=67f9147e6e91fd4e04c24199}, 488=BsonObjectId{value=67f9147e6e91fd4e04c2419a}, 489=BsonObjectId{value=67f9147e6e91fd4e04c2419b}, 490=BsonObjectId{value=67f9147e6e91fd4e04c2419c}, 491=BsonObjectId{value=67f9147e6e91fd4e04c2419d}, 492=BsonObjectId{value=67f9147e6e91fd4e04c2419e}, 493=BsonObjectId{value=67f9147e6e91fd4e04c2419f}, 494=BsonObjectId{value=67f9147e6e91fd4e04c241a0}, 495=BsonObjectId{value=67f9147e6e91fd4e04c241a1}, 496=BsonObjectId{value=67f9147e6e91fd4e04c241a2}, 497=BsonObjectId{value=67f9147e6e91fd4e04c241a3}, 498=BsonObjectId{value=67f9147e6e91fd4e04c241a4}, 499=BsonObjectId{value=67f9147e6e91fd4e04c241a5}, 500=BsonObjectId{value=67f9147e6e91fd4e04c241a6}, 501=BsonObjectId{value=67f9147e6e91fd4e04c241a7}, 502=BsonObjectId{value=67f9147e6e91fd4e04c241a8}, 503=BsonObjectId{value=67f9147e6e91fd4e04c241a9}, 504=BsonObjectId{value=67f9147e6e91fd4e04c241aa}, 505=BsonObjectId{value=67f9147e6e91fd4e04c241ab}, 506=BsonObjectId{value=67f9147e6e91fd4e04c241ac}, 507=BsonObjectId{value=67f9147e6e91fd4e04c241ad}, 508=BsonObjectId{value=67f9147e6e91fd4e04c241ae}, 509=BsonObjectId{value=67f9147e6e91fd4e04c241af}, 510=BsonObjectId{value=67f9147e6e91fd4e04c241b0}, 511=BsonObjectId{value=67f9147e6e91fd4e04c241b1}, 512=BsonObjectId{value=67f9147e6e91fd4e04c241b2}, 513=BsonObjectId{value=67f9147e6e91fd4e04c241b3}, 514=BsonObjectId{value=67f9147e6e91fd4e04c241b4}, 515=BsonObjectId{value=67f9147e6e91fd4e04c241b5}, 516=BsonObjectId{value=67f9147e6e91fd4e04c241b6}, 517=BsonObjectId{value=67f9147e6e91fd4e04c241b7}, 518=BsonObjectId{value=67f9147e6e91fd4e04c241b8}, 519=BsonObjectId{value=67f9147e6e91fd4e04c241b9}, 520=BsonObjectId{value=67f9147e6e91fd4e04c241ba}, 521=BsonObjectId{value=67f9147e6e91fd4e04c241bb}, 522=BsonObjectId{value=67f9147e6e91fd4e04c241bc}, 523=BsonObjectId{value=67f9147e6e91fd4e04c241bd}, 524=BsonObjectId{value=67f9147e6e91fd4e04c241be}, 525=BsonObjectId{value=67f9147e6e91fd4e04c241bf}, 526=BsonObjectId{value=67f9147e6e91fd4e04c241c0}, 527=BsonObjectId{value=67f9147e6e91fd4e04c241c1}, 528=BsonObjectId{value=67f9147e6e91fd4e04c241c2}, 529=BsonObjectId{value=67f9147e6e91fd4e04c241c3}, 530=BsonObjectId{value=67f9147e6e91fd4e04c241c4}, 531=BsonObjectId{value=67f9147e6e91fd4e04c241c5}, 532=BsonObjectId{value=67f9147e6e91fd4e04c241c6}, 533=BsonObjectId{value=67f9147e6e91fd4e04c241c7}, 534=BsonObjectId{value=67f9147e6e91fd4e04c241c8}, 535=BsonObjectId{value=67f9147e6e91fd4e04c241c9}, 536=BsonObjectId{value=67f9147e6e91fd4e04c241ca}, 537=BsonObjectId{value=67f9147e6e91fd4e04c241cb}, 538=BsonObjectId{value=67f9147e6e91fd4e04c241cc}, 539=BsonObjectId{value=67f9147e6e91fd4e04c241cd}, 540=BsonObjectId{value=67f9147e6e91fd4e04c241ce}, 541=BsonObjectId{value=67f9147e6e91fd4e04c241cf}, 542=BsonObjectId{value=67f9147e6e91fd4e04c241d0}, 543=BsonObjectId{value=67f9147e6e91fd4e04c241d1}, 544=BsonObjectId{value=67f9147e6e91fd4e04c241d2}, 545=BsonObjectId{value=67f9147e6e91fd4e04c241d3}, 546=BsonObjectId{value=67f9147e6e91fd4e04c241d4}, 547=BsonObjectId{value=67f9147e6e91fd4e04c241d5}, 548=BsonObjectId{value=67f9147e6e91fd4e04c241d6}, 549=BsonObjectId{value=67f9147e6e91fd4e04c241d7}, 550=BsonObjectId{value=67f9147e6e91fd4e04c241d8}, 551=BsonObjectId{value=67f9147e6e91fd4e04c241d9}, 552=BsonObjectId{value=67f9147e6e91fd4e04c241da}, 553=BsonObjectId{value=67f9147e6e91fd4e04c241db}, 554=BsonObjectId{value=67f9147e6e91fd4e04c241dc}, 555=BsonObjectId{value=67f9147e6e91fd4e04c241dd}, 556=BsonObjectId{value=67f9147e6e91fd4e04c241de}, 557=BsonObjectId{value=67f9147e6e91fd4e04c241df}, 558=BsonObjectId{value=67f9147e6e91fd4e04c241e0}, 559=BsonObjectId{value=67f9147e6e91fd4e04c241e1}, 560=BsonObjectId{value=67f9147e6e91fd4e04c241e2}, 561=BsonObjectId{value=67f9147e6e91fd4e04c241e3}, 562=BsonObjectId{value=67f9147e6e91fd4e04c241e4}, 563=BsonObjectId{value=67f9147e6e91fd4e04c241e5}, 564=BsonObjectId{value=67f9147e6e91fd4e04c241e6}, 565=BsonObjectId{value=67f9147e6e91fd4e04c241e7}, 566=BsonObjectId{value=67f9147e6e91fd4e04c241e8}, 567=BsonObjectId{value=67f9147e6e91fd4e04c241e9}, 568=BsonObjectId{value=67f9147e6e91fd4e04c241ea}, 569=BsonObjectId{value=67f9147e6e91fd4e04c241eb}, 570=BsonObjectId{value=67f9147e6e91fd4e04c241ec}, 571=BsonObjectId{value=67f9147e6e91fd4e04c241ed}, 572=BsonObjectId{value=67f9147e6e91fd4e04c241ee}, 573=BsonObjectId{value=67f9147e6e91fd4e04c241ef}, 574=BsonObjectId{value=67f9147e6e91fd4e04c241f0}, 575=BsonObjectId{value=67f9147e6e91fd4e04c241f1}, 576=BsonObjectId{value=67f9147e6e91fd4e04c241f2}, 577=BsonObjectId{value=67f9147e6e91fd4e04c241f3}, 578=BsonObjectId{value=67f9147e6e91fd4e04c241f4}, 579=BsonObjectId{value=67f9147e6e91fd4e04c241f5}, 580=BsonObjectId{value=67f9147e6e91fd4e04c241f6}, 581=BsonObjectId{value=67f9147e6e91fd4e04c241f7}, 582=BsonObjectId{value=67f9147e6e91fd4e04c241f8}, 583=BsonObjectId{value=67f9147e6e91fd4e04c241f9}, 584=BsonObjectId{value=67f9147e6e91fd4e04c241fa}, 585=BsonObjectId{value=67f9147e6e91fd4e04c241fb}, 586=BsonObjectId{value=67f9147e6e91fd4e04c241fc}, 587=BsonObjectId{value=67f9147e6e91fd4e04c241fd}, 588=BsonObjectId{value=67f9147e6e91fd4e04c241fe}, 589=BsonObjectId{value=67f9147e6e91fd4e04c241ff}, 590=BsonObjectId{value=67f9147e6e91fd4e04c24200}, 591=BsonObjectId{value=67f9147e6e91fd4e04c24201}, 592=BsonObjectId{value=67f9147e6e91fd4e04c24202}, 593=BsonObjectId{value=67f9147e6e91fd4e04c24203}, 594=BsonObjectId{value=67f9147e6e91fd4e04c24204}, 595=BsonObjectId{value=67f9147e6e91fd4e04c24205}, 596=BsonObjectId{value=67f9147e6e91fd4e04c24206}, 597=BsonObjectId{value=67f9147e6e91fd4e04c24207}, 598=BsonObjectId{value=67f9147e6e91fd4e04c24208}, 599=BsonObjectId{value=67f9147e6e91fd4e04c24209}, 600=BsonObjectId{value=67f9147e6e91fd4e04c2420a}, 601=BsonObjectId{value=67f9147e6e91fd4e04c2420b}, 602=BsonObjectId{value=67f9147e6e91fd4e04c2420c}, 603=BsonObjectId{value=67f9147e6e91fd4e04c2420d}, 604=BsonObjectId{value=67f9147e6e91fd4e04c2420e}, 605=BsonObjectId{value=67f9147e6e91fd4e04c2420f}, 606=BsonObjectId{value=67f9147e6e91fd4e04c24210}, 607=BsonObjectId{value=67f9147e6e91fd4e04c24211}, 608=BsonObjectId{value=67f9147e6e91fd4e04c24212}, 609=BsonObjectId{value=67f9147e6e91fd4e04c24213}, 610=BsonObjectId{value=67f9147e6e91fd4e04c24214}, 611=BsonObjectId{value=67f9147e6e91fd4e04c24215}, 612=BsonObjectId{value=67f9147e6e91fd4e04c24216}, 613=BsonObjectId{value=67f9147e6e91fd4e04c24217}, 614=BsonObjectId{value=67f9147e6e91fd4e04c24218}, 615=BsonObjectId{value=67f9147e6e91fd4e04c24219}, 616=BsonObjectId{value=67f9147e6e91fd4e04c2421a}, 617=BsonObjectId{value=67f9147e6e91fd4e04c2421b}, 618=BsonObjectId{value=67f9147e6e91fd4e04c2421c}, 619=BsonObjectId{value=67f9147e6e91fd4e04c2421d}, 620=BsonObjectId{value=67f9147e6e91fd4e04c2421e}, 621=BsonObjectId{value=67f9147e6e91fd4e04c2421f}, 622=BsonObjectId{value=67f9147e6e91fd4e04c24220}, 623=BsonObjectId{value=67f9147e6e91fd4e04c24221}, 624=BsonObjectId{value=67f9147e6e91fd4e04c24222}, 625=BsonObjectId{value=67f9147e6e91fd4e04c24223}, 626=BsonObjectId{value=67f9147e6e91fd4e04c24224}, 627=BsonObjectId{value=67f9147e6e91fd4e04c24225}, 628=BsonObjectId{value=67f9147e6e91fd4e04c24226}, 629=BsonObjectId{value=67f9147e6e91fd4e04c24227}, 630=BsonObjectId{value=67f9147e6e91fd4e04c24228}, 631=BsonObjectId{value=67f9147e6e91fd4e04c24229}, 632=BsonObjectId{value=67f9147e6e91fd4e04c2422a}, 633=BsonObjectId{value=67f9147e6e91fd4e04c2422b}, 634=BsonObjectId{value=67f9147e6e91fd4e04c2422c}, 635=BsonObjectId{value=67f9147e6e91fd4e04c2422d}, 636=BsonObjectId{value=67f9147e6e91fd4e04c2422e}, 637=BsonObjectId{value=67f9147e6e91fd4e04c2422f}, 638=BsonObjectId{value=67f9147e6e91fd4e04c24230}, 639=BsonObjectId{value=67f9147e6e91fd4e04c24231}, 640=BsonObjectId{value=67f9147e6e91fd4e04c24232}, 641=BsonObjectId{value=67f9147e6e91fd4e04c24233}, 642=BsonObjectId{value=67f9147e6e91fd4e04c24234}, 643=BsonObjectId{value=67f9147e6e91fd4e04c24235}, 644=BsonObjectId{value=67f9147e6e91fd4e04c24236}, 645=BsonObjectId{value=67f9147e6e91fd4e04c24237}, 646=BsonObjectId{value=67f9147e6e91fd4e04c24238}, 647=BsonObjectId{value=67f9147e6e91fd4e04c24239}, 648=BsonObjectId{value=67f9147e6e91fd4e04c2423a}, 649=BsonObjectId{value=67f9147e6e91fd4e04c2423b}, 650=BsonObjectId{value=67f9147e6e91fd4e04c2423c}, 651=BsonObjectId{value=67f9147e6e91fd4e04c2423d}, 652=BsonObjectId{value=67f9147e6e91fd4e04c2423e}, 653=BsonObjectId{value=67f9147e6e91fd4e04c2423f}, 654=BsonObjectId{value=67f9147e6e91fd4e04c24240}, 655=BsonObjectId{value=67f9147e6e91fd4e04c24241}, 656=BsonObjectId{value=67f9147e6e91fd4e04c24242}, 657=BsonObjectId{value=67f9147e6e91fd4e04c24243}, 658=BsonObjectId{value=67f9147e6e91fd4e04c24244}, 659=BsonObjectId{value=67f9147e6e91fd4e04c24245}, 660=BsonObjectId{value=67f9147e6e91fd4e04c24246}, 661=BsonObjectId{value=67f9147e6e91fd4e04c24247}, 662=BsonObjectId{value=67f9147e6e91fd4e04c24248}, 663=BsonObjectId{value=67f9147e6e91fd4e04c24249}, 664=BsonObjectId{value=67f9147e6e91fd4e04c2424a}, 665=BsonObjectId{value=67f9147e6e91fd4e04c2424b}, 666=BsonObjectId{value=67f9147e6e91fd4e04c2424c}, 667=BsonObjectId{value=67f9147e6e91fd4e04c2424d}, 668=BsonObjectId{value=67f9147e6e91fd4e04c2424e}, 669=BsonObjectId{value=67f9147e6e91fd4e04c2424f}, 670=BsonObjectId{value=67f9147e6e91fd4e04c24250}, 671=BsonObjectId{value=67f9147e6e91fd4e04c24251}, 672=BsonObjectId{value=67f9147e6e91fd4e04c24252}, 673=BsonObjectId{value=67f9147e6e91fd4e04c24253}, 674=BsonObjectId{value=67f9147e6e91fd4e04c24254}, 675=BsonObjectId{value=67f9147e6e91fd4e04c24255}, 676=BsonObjectId{value=67f9147e6e91fd4e04c24256}, 677=BsonObjectId{value=67f9147e6e91fd4e04c24257}, 678=BsonObjectId{value=67f9147e6e91fd4e04c24258}, 679=BsonObjectId{value=67f9147e6e91fd4e04c24259}, 680=BsonObjectId{value=67f9147e6e91fd4e04c2425a}, 681=BsonObjectId{value=67f9147e6e91fd4e04c2425b}, 682=BsonObjectId{value=67f9147e6e91fd4e04c2425c}, 683=BsonObjectId{value=67f9147e6e91fd4e04c2425d}, 684=BsonObjectId{value=67f9147e6e91fd4e04c2425e}, 685=BsonObjectId{value=67f9147e6e91fd4e04c2425f}, 686=BsonObjectId{value=67f9147e6e91fd4e04c24260}, 687=BsonObjectId{value=67f9147e6e91fd4e04c24261}, 688=BsonObjectId{value=67f9147e6e91fd4e04c24262}, 689=BsonObjectId{value=67f9147e6e91fd4e04c24263}, 690=BsonObjectId{value=67f9147e6e91fd4e04c24264}, 691=BsonObjectId{value=67f9147e6e91fd4e04c24265}, 692=BsonObjectId{value=67f9147e6e91fd4e04c24266}, 693=BsonObjectId{value=67f9147e6e91fd4e04c24267}, 694=BsonObjectId{value=67f9147e6e91fd4e04c24268}, 695=BsonObjectId{value=67f9147e6e91fd4e04c24269}, 696=BsonObjectId{value=67f9147e6e91fd4e04c2426a}, 697=BsonObjectId{value=67f9147e6e91fd4e04c2426b}, 698=BsonObjectId{value=67f9147e6e91fd4e04c2426c}, 699=BsonObjectId{value=67f9147e6e91fd4e04c2426d}, 700=BsonObjectId{value=67f9147e6e91fd4e04c2426e}, 701=BsonObjectId{value=67f9147e6e91fd4e04c2426f}, 702=BsonObjectId{value=67f9147e6e91fd4e04c24270}, 703=BsonObjectId{value=67f9147e6e91fd4e04c24271}, 704=BsonObjectId{value=67f9147e6e91fd4e04c24272}, 705=BsonObjectId{value=67f9147e6e91fd4e04c24273}, 706=BsonObjectId{value=67f9147e6e91fd4e04c24274}, 707=BsonObjectId{value=67f9147e6e91fd4e04c24275}, 708=BsonObjectId{value=67f9147e6e91fd4e04c24276}, 709=BsonObjectId{value=67f9147e6e91fd4e04c24277}, 710=BsonObjectId{value=67f9147e6e91fd4e04c24278}, 711=BsonObjectId{value=67f9147e6e91fd4e04c24279}, 712=BsonObjectId{value=67f9147e6e91fd4e04c2427a}, 713=BsonObjectId{value=67f9147e6e91fd4e04c2427b}, 714=BsonObjectId{value=67f9147e6e91fd4e04c2427c}, 715=BsonObjectId{value=67f9147e6e91fd4e04c2427d}, 716=BsonObjectId{value=67f9147e6e91fd4e04c2427e}, 717=BsonObjectId{value=67f9147e6e91fd4e04c2427f}, 718=BsonObjectId{value=67f9147e6e91fd4e04c24280}, 719=BsonObjectId{value=67f9147e6e91fd4e04c24281}, 720=BsonObjectId{value=67f9147e6e91fd4e04c24282}, 721=BsonObjectId{value=67f9147e6e91fd4e04c24283}, 722=BsonObjectId{value=67f9147e6e91fd4e04c24284}, 723=BsonObjectId{value=67f9147e6e91fd4e04c24285}, 724=BsonObjectId{value=67f9147e6e91fd4e04c24286}, 725=BsonObjectId{value=67f9147e6e91fd4e04c24287}, 726=BsonObjectId{value=67f9147e6e91fd4e04c24288}, 727=BsonObjectId{value=67f9147e6e91fd4e04c24289}, 728=BsonObjectId{value=67f9147e6e91fd4e04c2428a}, 729=BsonObjectId{value=67f9147e6e91fd4e04c2428b}, 730=BsonObjectId{value=67f9147e6e91fd4e04c2428c}, 731=BsonObjectId{value=67f9147e6e91fd4e04c2428d}, 732=BsonObjectId{value=67f9147e6e91fd4e04c2428e}, 733=BsonObjectId{value=67f9147e6e91fd4e04c2428f}, 734=BsonObjectId{value=67f9147e6e91fd4e04c24290}, 735=BsonObjectId{value=67f9147e6e91fd4e04c24291}, 736=BsonObjectId{value=67f9147e6e91fd4e04c24292}, 737=BsonObjectId{value=67f9147e6e91fd4e04c24293}, 738=BsonObjectId{value=67f9147e6e91fd4e04c24294}, 739=BsonObjectId{value=67f9147e6e91fd4e04c24295}, 740=BsonObjectId{value=67f9147e6e91fd4e04c24296}, 741=BsonObjectId{value=67f9147e6e91fd4e04c24297}, 742=BsonObjectId{value=67f9147e6e91fd4e04c24298}, 743=BsonObjectId{value=67f9147e6e91fd4e04c24299}, 744=BsonObjectId{value=67f9147e6e91fd4e04c2429a}, 745=BsonObjectId{value=67f9147e6e91fd4e04c2429b}, 746=BsonObjectId{value=67f9147e6e91fd4e04c2429c}, 747=BsonObjectId{value=67f9147e6e91fd4e04c2429d}, 748=BsonObjectId{value=67f9147e6e91fd4e04c2429e}, 749=BsonObjectId{value=67f9147e6e91fd4e04c2429f}, 750=BsonObjectId{value=67f9147e6e91fd4e04c242a0}, 751=BsonObjectId{value=67f9147e6e91fd4e04c242a1}, 752=BsonObjectId{value=67f9147e6e91fd4e04c242a2}, 753=BsonObjectId{value=67f9147e6e91fd4e04c242a3}, 754=BsonObjectId{value=67f9147e6e91fd4e04c242a4}, 755=BsonObjectId{value=67f9147e6e91fd4e04c242a5}, 756=BsonObjectId{value=67f9147e6e91fd4e04c242a6}, 757=BsonObjectId{value=67f9147e6e91fd4e04c242a7}, 758=BsonObjectId{value=67f9147e6e91fd4e04c242a8}, 759=BsonObjectId{value=67f9147e6e91fd4e04c242a9}, 760=BsonObjectId{value=67f9147e6e91fd4e04c242aa}, 761=BsonObjectId{value=67f9147e6e91fd4e04c242ab}, 762=BsonObjectId{value=67f9147e6e91fd4e04c242ac}, 763=BsonObjectId{value=67f9147e6e91fd4e04c242ad}, 764=BsonObjectId{value=67f9147e6e91fd4e04c242ae}, 765=BsonObjectId{value=67f9147e6e91fd4e04c242af}, 766=BsonObjectId{value=67f9147e6e91fd4e04c242b0}, 767=BsonObjectId{value=67f9147e6e91fd4e04c242b1}, 768=BsonObjectId{value=67f9147e6e91fd4e04c242b2}, 769=BsonObjectId{value=67f9147e6e91fd4e04c242b3}, 770=BsonObjectId{value=67f9147e6e91fd4e04c242b4}, 771=BsonObjectId{value=67f9147e6e91fd4e04c242b5}, 772=BsonObjectId{value=67f9147e6e91fd4e04c242b6}, 773=BsonObjectId{value=67f9147e6e91fd4e04c242b7}, 774=BsonObjectId{value=67f9147e6e91fd4e04c242b8}, 775=BsonObjectId{value=67f9147e6e91fd4e04c242b9}, 776=BsonObjectId{value=67f9147e6e91fd4e04c242ba}, 777=BsonObjectId{value=67f9147e6e91fd4e04c242bb}, 778=BsonObjectId{value=67f9147e6e91fd4e04c242bc}, 779=BsonObjectId{value=67f9147e6e91fd4e04c242bd}, 780=BsonObjectId{value=67f9147e6e91fd4e04c242be}, 781=BsonObjectId{value=67f9147e6e91fd4e04c242bf}, 782=BsonObjectId{value=67f9147e6e91fd4e04c242c0}, 783=BsonObjectId{value=67f9147e6e91fd4e04c242c1}, 784=BsonObjectId{value=67f9147e6e91fd4e04c242c2}, 785=BsonObjectId{value=67f9147e6e91fd4e04c242c3}, 786=BsonObjectId{value=67f9147e6e91fd4e04c242c4}, 787=BsonObjectId{value=67f9147e6e91fd4e04c242c5}, 788=BsonObjectId{value=67f9147e6e91fd4e04c242c6}, 789=BsonObjectId{value=67f9147e6e91fd4e04c242c7}, 790=BsonObjectId{value=67f9147e6e91fd4e04c242c8}, 791=BsonObjectId{value=67f9147e6e91fd4e04c242c9}, 792=BsonObjectId{value=67f9147e6e91fd4e04c242ca}, 793=BsonObjectId{value=67f9147e6e91fd4e04c242cb}, 794=BsonObjectId{value=67f9147e6e91fd4e04c242cc}, 795=BsonObjectId{value=67f9147e6e91fd4e04c242cd}, 796=BsonObjectId{value=67f9147e6e91fd4e04c242ce}, 797=BsonObjectId{value=67f9147e6e91fd4e04c242cf}, 798=BsonObjectId{value=67f9147e6e91fd4e04c242d0}, 799=BsonObjectId{value=67f9147e6e91fd4e04c242d1}, 800=BsonObjectId{value=67f9147e6e91fd4e04c242d2}, 801=BsonObjectId{value=67f9147e6e91fd4e04c242d3}, 802=BsonObjectId{value=67f9147e6e91fd4e04c242d4}, 803=BsonObjectId{value=67f9147e6e91fd4e04c242d5}, 804=BsonObjectId{value=67f9147e6e91fd4e04c242d6}, 805=BsonObjectId{value=67f9147e6e91fd4e04c242d7}, 806=BsonObjectId{value=67f9147e6e91fd4e04c242d8}, 807=BsonObjectId{value=67f9147e6e91fd4e04c242d9}, 808=BsonObjectId{value=67f9147e6e91fd4e04c242da}, 809=BsonObjectId{value=67f9147e6e91fd4e04c242db}, 810=BsonObjectId{value=67f9147e6e91fd4e04c242dc}, 811=BsonObjectId{value=67f9147e6e91fd4e04c242dd}, 812=BsonObjectId{value=67f9147e6e91fd4e04c242de}, 813=BsonObjectId{value=67f9147e6e91fd4e04c242df}, 814=BsonObjectId{value=67f9147e6e91fd4e04c242e0}, 815=BsonObjectId{value=67f9147e6e91fd4e04c242e1}, 816=BsonObjectId{value=67f9147e6e91fd4e04c242e2}, 817=BsonObjectId{value=67f9147e6e91fd4e04c242e3}, 818=BsonObjectId{value=67f9147e6e91fd4e04c242e4}, 819=BsonObjectId{value=67f9147e6e91fd4e04c242e5}, 820=BsonObjectId{value=67f9147e6e91fd4e04c242e6}, 821=BsonObjectId{value=67f9147e6e91fd4e04c242e7}, 822=BsonObjectId{value=67f9147e6e91fd4e04c242e8}, 823=BsonObjectId{value=67f9147e6e91fd4e04c242e9}, 824=BsonObjectId{value=67f9147e6e91fd4e04c242ea}, 825=BsonObjectId{value=67f9147e6e91fd4e04c242eb}, 826=BsonObjectId{value=67f9147e6e91fd4e04c242ec}, 827=BsonObjectId{value=67f9147e6e91fd4e04c242ed}, 828=BsonObjectId{value=67f9147e6e91fd4e04c242ee}}}"
      ]
     },
     "execution_count": 12,
     "metadata": {},
     "output_type": "execute_result"
    }
   ],
   "execution_count": 12
  }
 ],
 "metadata": {
  "kernelspec": {
   "display_name": "Kotlin",
   "language": "kotlin",
   "name": "kotlin"
  },
  "language_info": {
   "name": "kotlin",
   "version": "1.9.0",
   "mimetype": "text/x-kotlin",
   "file_extension": ".kt",
   "pygments_lexer": "kotlin",
   "codemirror_mode": "text/x-kotlin",
   "nbconvert_exporter": ""
  },
  "ktnbPluginMetadata": {
   "projectDependencies": true
  }
 },
 "nbformat": 4,
 "nbformat_minor": 0
}
