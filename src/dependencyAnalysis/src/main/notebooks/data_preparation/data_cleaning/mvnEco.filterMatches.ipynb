{
 "cells": [
  {
   "cell_type": "code",
   "metadata": {
    "collapsed": true,
    "ExecuteTime": {
     "end_time": "2025-04-13T22:38:25.079165Z",
     "start_time": "2025-04-13T22:38:24.941741Z"
    }
   },
   "source": [
    "import kotlinx.coroutines.Dispatchers\n",
    "import kotlinx.coroutines.async\n",
    "import kotlinx.coroutines.awaitAll\n",
    "import kotlinx.coroutines.runBlocking\n",
    "import com.google.common.hash.Hashing"
   ],
   "outputs": [],
   "execution_count": 13
  },
  {
   "cell_type": "code",
   "source": [
    "import io.github.cdimascio.dotenv.Dotenv\n",
    "import java.nio.file.Paths\n",
    "\n",
    "val dotenv = Dotenv.load()\n",
    "val dataDir = dotenv.get(\"DATA_DIR\").let { Paths.get(it).toFile() }.also { it.mkdirs() }\n",
    "dataDir"
   ],
   "metadata": {
    "collapsed": false,
    "ExecuteTime": {
     "end_time": "2025-04-13T22:38:25.205799Z",
     "start_time": "2025-04-13T22:38:25.095992Z"
    }
   },
   "outputs": [
    {
     "data": {
      "text/plain": [
       "/home/j.zeidler@GDAAG.DE/private/ba3/bachelor-thesis/data"
      ]
     },
     "execution_count": 14,
     "metadata": {},
     "output_type": "execute_result"
    }
   ],
   "execution_count": 14
  },
  {
   "cell_type": "code",
   "source": [
    "import org.bson.BsonDocument\n",
    "import org.litote.kmongo.*\n",
    "\n",
    "val client = KMongo.createClient(\"mongodb://localhost:42692/\")\n",
    "val db = client.getDatabase(\"s5_snyk_libio\")\n",
    "val mvnEcoVuln = db.getCollection<BsonDocument>(\"mvnEcoVuln\")"
   ],
   "metadata": {
    "collapsed": false,
    "ExecuteTime": {
     "end_time": "2025-04-13T22:38:25.311691Z",
     "start_time": "2025-04-13T22:38:25.215330Z"
    }
   },
   "outputs": [],
   "execution_count": 15
  },
  {
   "metadata": {
    "ExecuteTime": {
     "end_time": "2025-04-13T22:38:25.535489Z",
     "start_time": "2025-04-13T22:38:25.317569Z"
    }
   },
   "cell_type": "code",
   "source": [
    "import com.mongodb.client.*\n",
    "\n",
    "private class MongoCursorIterable<T>(private val cursor: MongoCursor<T>) : MongoCursor<T> by cursor, Iterable<T> {\n",
    "\n",
    "    override fun iterator(): Iterator<T> = cursor\n",
    "}\n",
    "\n",
    "private fun <T> MongoIterable<T>.kCursor(): MongoCursorIterable<T> = MongoCursorIterable(iterator())\n",
    "\n",
    "fun <T, R> MongoIterable<T>.useCursor(block: (Iterable<T>) -> R): R {\n",
    "    return kCursor().use(block)\n",
    "}"
   ],
   "outputs": [],
   "execution_count": 16
  },
  {
   "cell_type": "code",
   "source": [
    "val vulnGavs = mvnEcoVuln.find().useCursor { blk ->\n",
    "    blk.map {\n",
    "        it[\"vuln_gav\"]!!.asString().value\n",
    "    }\n",
    "}.toSet()\n",
    "\n",
    "vulnGavs.count()"
   ],
   "metadata": {
    "collapsed": false,
    "ExecuteTime": {
     "end_time": "2025-04-13T22:38:25.767169Z",
     "start_time": "2025-04-13T22:38:25.549155Z"
    }
   },
   "outputs": [
    {
     "data": {
      "text/plain": [
       "613"
      ]
     },
     "execution_count": 17,
     "metadata": {},
     "output_type": "execute_result"
    }
   ],
   "execution_count": 17
  },
  {
   "cell_type": "code",
   "source": [
    "val jarsDir = dataDir.resolve(\"interim/jars\").also { it.mkdirs() }\n",
    "\n",
    "fun gavToJarUrl(packageGAV: String): String\n",
    "{\n",
    "    val parts = packageGAV.split(\":\")\n",
    "    return parts[0].replace('.', '/') + \"/\" + parts[1] + \"/\" + parts[2] + \"/\" + parts[1] + \"-\" + parts[2] + \".jar\"\n",
    "}"
   ],
   "metadata": {
    "collapsed": false,
    "ExecuteTime": {
     "end_time": "2025-04-13T22:38:25.906177Z",
     "start_time": "2025-04-13T22:38:25.783710Z"
    }
   },
   "outputs": [],
   "execution_count": 18
  },
  {
   "cell_type": "code",
   "source": [
    "val gavToJar = vulnGavs\n",
    "    .map {\n",
    "        val jarPath = jarsDir.resolve(gavToJarUrl(it))\n",
    "        if (!jarPath.isFile()) null\n",
    "        else it to jarPath\n",
    "    }\n",
    "    .filterNotNull()\n",
    "    .toMap()\n",
    "gavToJar.count()  // 3856"
   ],
   "metadata": {
    "collapsed": false,
    "ExecuteTime": {
     "end_time": "2025-04-13T22:38:26.061780Z",
     "start_time": "2025-04-13T22:38:25.915152Z"
    }
   },
   "outputs": [
    {
     "data": {
      "text/plain": [
       "611"
      ]
     },
     "execution_count": 19,
     "metadata": {},
     "output_type": "execute_result"
    }
   ],
   "execution_count": 19
  },
  {
   "cell_type": "code",
   "source": [
    "import java.io.FileNotFoundException\n",
    "import java.util.zip.ZipFile\n",
    "\n",
    "fun classExistsInJar(jar: File, classFilePath: String): Boolean {\n",
    "    if (!jar.isFile()) {\n",
    "        throw FileNotFoundException(\"jar file not found: ${jar.absolutePath}\")\n",
    "    }\n",
    "    \n",
    "    val jarAsZip = ZipFile(jar)\n",
    "    val entry = jarAsZip.getEntry(classFilePath)\n",
    "    if (entry == null)\n",
    "        return false\n",
    "    \n",
    "    return true\n",
    "}"
   ],
   "metadata": {
    "collapsed": false,
    "ExecuteTime": {
     "end_time": "2025-04-13T22:38:26.328245Z",
     "start_time": "2025-04-13T22:38:26.170531Z"
    }
   },
   "outputs": [],
   "execution_count": 20
  },
  {
   "cell_type": "code",
   "source": [
    "import org.bson.BsonArray\n",
    "\n",
    "val filteredItems = mvnEcoVuln.find().useCursor { blk ->\n",
    "    blk.filter {\n",
    "        gavToJar.containsKey(it[\"vuln_gav\"]!!.asString().value)\n",
    "    }.map {\n",
    "        val jar = gavToJar[it[\"vuln_gav\"]!!.asString().value]!!\n",
    "        val modifiedClassesInJar = it[\"vuln_classes\"]!!.asArray().values.filter {\n",
    "            classExistsInJar(\n",
    "                jar, it.asString().value.replace('.', '/') + \".class\"\n",
    "            )\n",
    "        }\n",
    "\n",
    "        if (modifiedClassesInJar.isEmpty()) return@map null\n",
    "\n",
    "        it[\"vuln_classes\"] = BsonArray(modifiedClassesInJar)\n",
    "        it\n",
    "    }.filterNotNull()\n",
    "}"
   ],
   "metadata": {
    "collapsed": false,
    "ExecuteTime": {
     "end_time": "2025-04-13T22:38:28.654889Z",
     "start_time": "2025-04-13T22:38:26.333633Z"
    }
   },
   "outputs": [],
   "execution_count": 21
  },
  {
   "cell_type": "code",
   "source": [
    "filteredItems.count()"
   ],
   "metadata": {
    "collapsed": false,
    "ExecuteTime": {
     "end_time": "2025-04-13T22:38:28.739920Z",
     "start_time": "2025-04-13T22:38:28.661123Z"
    }
   },
   "outputs": [
    {
     "data": {
      "text/plain": [
       "829"
      ]
     },
     "execution_count": 22,
     "metadata": {},
     "output_type": "execute_result"
    }
   ],
   "execution_count": 22
  },
  {
   "cell_type": "code",
   "source": [
    "filteredItems.map { it[\"vuln_gav\"]!!.asString().value }.toSet().count()"
   ],
   "metadata": {
    "collapsed": false,
    "ExecuteTime": {
     "end_time": "2025-04-13T22:38:28.936729Z",
     "start_time": "2025-04-13T22:38:28.820087Z"
    }
   },
   "outputs": [
    {
     "data": {
      "text/plain": [
       "611"
      ]
     },
     "execution_count": 23,
     "metadata": {},
     "output_type": "execute_result"
    }
   ],
   "execution_count": 23
  },
  {
   "cell_type": "code",
   "source": [
    "mvnEcoVuln.drop()\n",
    "mvnEcoVuln.insertMany(filteredItems)"
   ],
   "metadata": {
    "collapsed": false,
    "ExecuteTime": {
     "end_time": "2025-04-13T22:38:29.188823Z",
     "start_time": "2025-04-13T22:38:29.004825Z"
    }
   },
   "outputs": [
    {
     "data": {
      "text/plain": [
       "AcknowledgedInsertManyResult{insertedIds={0=BsonObjectId{value=67fc3c9a6baaaadb2f3e0852}, 1=BsonObjectId{value=67fc3c9a6baaaadb2f3e0853}, 2=BsonObjectId{value=67fc3c9a6baaaadb2f3e0854}, 3=BsonObjectId{value=67fc3c9a6baaaadb2f3e0855}, 4=BsonObjectId{value=67fc3c9a6baaaadb2f3e0856}, 5=BsonObjectId{value=67fc3c9a6baaaadb2f3e0857}, 6=BsonObjectId{value=67fc3c9a6baaaadb2f3e0858}, 7=BsonObjectId{value=67fc3c9a6baaaadb2f3e0859}, 8=BsonObjectId{value=67fc3c9a6baaaadb2f3e085a}, 9=BsonObjectId{value=67fc3c9a6baaaadb2f3e085c}, 10=BsonObjectId{value=67fc3c9a6baaaadb2f3e085d}, 11=BsonObjectId{value=67fc3c9a6baaaadb2f3e085e}, 12=BsonObjectId{value=67fc3c9a6baaaadb2f3e085f}, 13=BsonObjectId{value=67fc3c9a6baaaadb2f3e0860}, 14=BsonObjectId{value=67fc3c9a6baaaadb2f3e0861}, 15=BsonObjectId{value=67fc3c9a6baaaadb2f3e0862}, 16=BsonObjectId{value=67fc3c9a6baaaadb2f3e0863}, 17=BsonObjectId{value=67fc3c9a6baaaadb2f3e0864}, 18=BsonObjectId{value=67fc3c9a6baaaadb2f3e0865}, 19=BsonObjectId{value=67fc3c9a6baaaadb2f3e0866}, 20=BsonObjectId{value=67fc3c9a6baaaadb2f3e0867}, 21=BsonObjectId{value=67fc3c9a6baaaadb2f3e0868}, 22=BsonObjectId{value=67fc3c9a6baaaadb2f3e0869}, 23=BsonObjectId{value=67fc3c9a6baaaadb2f3e086a}, 24=BsonObjectId{value=67fc3c9a6baaaadb2f3e086b}, 25=BsonObjectId{value=67fc3c9a6baaaadb2f3e086c}, 26=BsonObjectId{value=67fc3c9a6baaaadb2f3e086d}, 27=BsonObjectId{value=67fc3c9a6baaaadb2f3e086e}, 28=BsonObjectId{value=67fc3c9a6baaaadb2f3e086f}, 29=BsonObjectId{value=67fc3c9a6baaaadb2f3e0870}, 30=BsonObjectId{value=67fc3c9a6baaaadb2f3e0871}, 31=BsonObjectId{value=67fc3c9a6baaaadb2f3e0872}, 32=BsonObjectId{value=67fc3c9a6baaaadb2f3e0873}, 33=BsonObjectId{value=67fc3c9a6baaaadb2f3e0874}, 34=BsonObjectId{value=67fc3c9a6baaaadb2f3e0875}, 35=BsonObjectId{value=67fc3c9a6baaaadb2f3e0876}, 36=BsonObjectId{value=67fc3c9a6baaaadb2f3e0877}, 37=BsonObjectId{value=67fc3c9a6baaaadb2f3e0878}, 38=BsonObjectId{value=67fc3c9a6baaaadb2f3e0879}, 39=BsonObjectId{value=67fc3c9a6baaaadb2f3e087a}, 40=BsonObjectId{value=67fc3c9a6baaaadb2f3e087b}, 41=BsonObjectId{value=67fc3c9a6baaaadb2f3e087c}, 42=BsonObjectId{value=67fc3c9a6baaaadb2f3e087d}, 43=BsonObjectId{value=67fc3c9a6baaaadb2f3e087e}, 44=BsonObjectId{value=67fc3c9a6baaaadb2f3e087f}, 45=BsonObjectId{value=67fc3c9a6baaaadb2f3e0880}, 46=BsonObjectId{value=67fc3c9a6baaaadb2f3e0881}, 47=BsonObjectId{value=67fc3c9a6baaaadb2f3e0882}, 48=BsonObjectId{value=67fc3c9a6baaaadb2f3e0883}, 49=BsonObjectId{value=67fc3c9a6baaaadb2f3e0884}, 50=BsonObjectId{value=67fc3c9a6baaaadb2f3e0885}, 51=BsonObjectId{value=67fc3c9a6baaaadb2f3e0886}, 52=BsonObjectId{value=67fc3c9a6baaaadb2f3e0887}, 53=BsonObjectId{value=67fc3c9a6baaaadb2f3e0888}, 54=BsonObjectId{value=67fc3c9a6baaaadb2f3e0889}, 55=BsonObjectId{value=67fc3c9a6baaaadb2f3e088a}, 56=BsonObjectId{value=67fc3c9a6baaaadb2f3e088b}, 57=BsonObjectId{value=67fc3c9a6baaaadb2f3e088c}, 58=BsonObjectId{value=67fc3c9a6baaaadb2f3e088d}, 59=BsonObjectId{value=67fc3c9a6baaaadb2f3e088e}, 60=BsonObjectId{value=67fc3c9a6baaaadb2f3e088f}, 61=BsonObjectId{value=67fc3c9a6baaaadb2f3e0890}, 62=BsonObjectId{value=67fc3c9a6baaaadb2f3e0891}, 63=BsonObjectId{value=67fc3c9a6baaaadb2f3e0892}, 64=BsonObjectId{value=67fc3c9a6baaaadb2f3e0893}, 65=BsonObjectId{value=67fc3c9a6baaaadb2f3e0894}, 66=BsonObjectId{value=67fc3c9a6baaaadb2f3e0895}, 67=BsonObjectId{value=67fc3c9a6baaaadb2f3e0896}, 68=BsonObjectId{value=67fc3c9a6baaaadb2f3e0897}, 69=BsonObjectId{value=67fc3c9a6baaaadb2f3e0898}, 70=BsonObjectId{value=67fc3c9a6baaaadb2f3e0899}, 71=BsonObjectId{value=67fc3c9a6baaaadb2f3e089a}, 72=BsonObjectId{value=67fc3c9a6baaaadb2f3e089b}, 73=BsonObjectId{value=67fc3c9a6baaaadb2f3e089c}, 74=BsonObjectId{value=67fc3c9a6baaaadb2f3e089d}, 75=BsonObjectId{value=67fc3c9a6baaaadb2f3e089e}, 76=BsonObjectId{value=67fc3c9a6baaaadb2f3e089f}, 77=BsonObjectId{value=67fc3c9a6baaaadb2f3e08a0}, 78=BsonObjectId{value=67fc3c9a6baaaadb2f3e08a1}, 79=BsonObjectId{value=67fc3c9a6baaaadb2f3e08a2}, 80=BsonObjectId{value=67fc3c9a6baaaadb2f3e08a3}, 81=BsonObjectId{value=67fc3c9a6baaaadb2f3e08a4}, 82=BsonObjectId{value=67fc3c9a6baaaadb2f3e08a5}, 83=BsonObjectId{value=67fc3c9a6baaaadb2f3e08a6}, 84=BsonObjectId{value=67fc3c9a6baaaadb2f3e08a7}, 85=BsonObjectId{value=67fc3c9a6baaaadb2f3e08a8}, 86=BsonObjectId{value=67fc3c9a6baaaadb2f3e08a9}, 87=BsonObjectId{value=67fc3c9a6baaaadb2f3e08aa}, 88=BsonObjectId{value=67fc3c9a6baaaadb2f3e08ab}, 89=BsonObjectId{value=67fc3c9a6baaaadb2f3e08ac}, 90=BsonObjectId{value=67fc3c9a6baaaadb2f3e08ad}, 91=BsonObjectId{value=67fc3c9a6baaaadb2f3e08ae}, 92=BsonObjectId{value=67fc3c9a6baaaadb2f3e08af}, 93=BsonObjectId{value=67fc3c9a6baaaadb2f3e08b0}, 94=BsonObjectId{value=67fc3c9a6baaaadb2f3e08b1}, 95=BsonObjectId{value=67fc3c9a6baaaadb2f3e08b2}, 96=BsonObjectId{value=67fc3c9a6baaaadb2f3e08b3}, 97=BsonObjectId{value=67fc3c9a6baaaadb2f3e08b4}, 98=BsonObjectId{value=67fc3c9a6baaaadb2f3e08b5}, 99=BsonObjectId{value=67fc3c9a6baaaadb2f3e08b6}, 100=BsonObjectId{value=67fc3c9a6baaaadb2f3e08b7}, 101=BsonObjectId{value=67fc3c9a6baaaadb2f3e08b8}, 102=BsonObjectId{value=67fc3c9a6baaaadb2f3e08b9}, 103=BsonObjectId{value=67fc3c9a6baaaadb2f3e08ba}, 104=BsonObjectId{value=67fc3c9a6baaaadb2f3e08bb}, 105=BsonObjectId{value=67fc3c9a6baaaadb2f3e08bc}, 106=BsonObjectId{value=67fc3c9a6baaaadb2f3e08bd}, 107=BsonObjectId{value=67fc3c9a6baaaadb2f3e08be}, 108=BsonObjectId{value=67fc3c9a6baaaadb2f3e08bf}, 109=BsonObjectId{value=67fc3c9a6baaaadb2f3e08c0}, 110=BsonObjectId{value=67fc3c9a6baaaadb2f3e08c1}, 111=BsonObjectId{value=67fc3c9a6baaaadb2f3e08c2}, 112=BsonObjectId{value=67fc3c9a6baaaadb2f3e08c3}, 113=BsonObjectId{value=67fc3c9a6baaaadb2f3e08c4}, 114=BsonObjectId{value=67fc3c9a6baaaadb2f3e08c5}, 115=BsonObjectId{value=67fc3c9a6baaaadb2f3e08c6}, 116=BsonObjectId{value=67fc3c9a6baaaadb2f3e08c7}, 117=BsonObjectId{value=67fc3c9a6baaaadb2f3e08c8}, 118=BsonObjectId{value=67fc3c9a6baaaadb2f3e08c9}, 119=BsonObjectId{value=67fc3c9a6baaaadb2f3e08ca}, 120=BsonObjectId{value=67fc3c9a6baaaadb2f3e08cb}, 121=BsonObjectId{value=67fc3c9a6baaaadb2f3e08cc}, 122=BsonObjectId{value=67fc3c9a6baaaadb2f3e08cd}, 123=BsonObjectId{value=67fc3c9a6baaaadb2f3e08ce}, 124=BsonObjectId{value=67fc3c9a6baaaadb2f3e08cf}, 125=BsonObjectId{value=67fc3c9a6baaaadb2f3e08d0}, 126=BsonObjectId{value=67fc3c9a6baaaadb2f3e08d1}, 127=BsonObjectId{value=67fc3c9a6baaaadb2f3e08d2}, 128=BsonObjectId{value=67fc3c9a6baaaadb2f3e08d3}, 129=BsonObjectId{value=67fc3c9a6baaaadb2f3e08d4}, 130=BsonObjectId{value=67fc3c9a6baaaadb2f3e08d5}, 131=BsonObjectId{value=67fc3c9a6baaaadb2f3e08d6}, 132=BsonObjectId{value=67fc3c9a6baaaadb2f3e08d7}, 133=BsonObjectId{value=67fc3c9a6baaaadb2f3e08d8}, 134=BsonObjectId{value=67fc3c9a6baaaadb2f3e08d9}, 135=BsonObjectId{value=67fc3c9a6baaaadb2f3e08da}, 136=BsonObjectId{value=67fc3c9a6baaaadb2f3e08db}, 137=BsonObjectId{value=67fc3c9a6baaaadb2f3e08dc}, 138=BsonObjectId{value=67fc3c9a6baaaadb2f3e08dd}, 139=BsonObjectId{value=67fc3c9a6baaaadb2f3e08de}, 140=BsonObjectId{value=67fc3c9a6baaaadb2f3e08df}, 141=BsonObjectId{value=67fc3c9a6baaaadb2f3e08e0}, 142=BsonObjectId{value=67fc3c9a6baaaadb2f3e08e1}, 143=BsonObjectId{value=67fc3c9a6baaaadb2f3e08e2}, 144=BsonObjectId{value=67fc3c9a6baaaadb2f3e08e3}, 145=BsonObjectId{value=67fc3c9a6baaaadb2f3e08e4}, 146=BsonObjectId{value=67fc3c9a6baaaadb2f3e08e5}, 147=BsonObjectId{value=67fc3c9a6baaaadb2f3e08e6}, 148=BsonObjectId{value=67fc3c9a6baaaadb2f3e08e7}, 149=BsonObjectId{value=67fc3c9a6baaaadb2f3e08e8}, 150=BsonObjectId{value=67fc3c9a6baaaadb2f3e08e9}, 151=BsonObjectId{value=67fc3c9a6baaaadb2f3e08ea}, 152=BsonObjectId{value=67fc3c9a6baaaadb2f3e08eb}, 153=BsonObjectId{value=67fc3c9a6baaaadb2f3e08ec}, 154=BsonObjectId{value=67fc3c9a6baaaadb2f3e08ed}, 155=BsonObjectId{value=67fc3c9a6baaaadb2f3e08ee}, 156=BsonObjectId{value=67fc3c9a6baaaadb2f3e08ef}, 157=BsonObjectId{value=67fc3c9a6baaaadb2f3e08f0}, 158=BsonObjectId{value=67fc3c9a6baaaadb2f3e08f1}, 159=BsonObjectId{value=67fc3c9a6baaaadb2f3e08f2}, 160=BsonObjectId{value=67fc3c9a6baaaadb2f3e08f3}, 161=BsonObjectId{value=67fc3c9a6baaaadb2f3e08f4}, 162=BsonObjectId{value=67fc3c9a6baaaadb2f3e08f5}, 163=BsonObjectId{value=67fc3c9a6baaaadb2f3e08f6}, 164=BsonObjectId{value=67fc3c9a6baaaadb2f3e08f7}, 165=BsonObjectId{value=67fc3c9a6baaaadb2f3e08f8}, 166=BsonObjectId{value=67fc3c9a6baaaadb2f3e08f9}, 167=BsonObjectId{value=67fc3c9a6baaaadb2f3e08fa}, 168=BsonObjectId{value=67fc3c9a6baaaadb2f3e08fb}, 169=BsonObjectId{value=67fc3c9a6baaaadb2f3e08fc}, 170=BsonObjectId{value=67fc3c9a6baaaadb2f3e08fd}, 171=BsonObjectId{value=67fc3c9a6baaaadb2f3e08fe}, 172=BsonObjectId{value=67fc3c9a6baaaadb2f3e08ff}, 173=BsonObjectId{value=67fc3c9a6baaaadb2f3e0900}, 174=BsonObjectId{value=67fc3c9a6baaaadb2f3e0901}, 175=BsonObjectId{value=67fc3c9a6baaaadb2f3e0902}, 176=BsonObjectId{value=67fc3c9a6baaaadb2f3e0903}, 177=BsonObjectId{value=67fc3c9a6baaaadb2f3e0904}, 178=BsonObjectId{value=67fc3c9a6baaaadb2f3e0905}, 179=BsonObjectId{value=67fc3c9a6baaaadb2f3e0906}, 180=BsonObjectId{value=67fc3c9a6baaaadb2f3e0907}, 181=BsonObjectId{value=67fc3c9a6baaaadb2f3e0908}, 182=BsonObjectId{value=67fc3c9a6baaaadb2f3e0909}, 183=BsonObjectId{value=67fc3c9a6baaaadb2f3e090a}, 184=BsonObjectId{value=67fc3c9a6baaaadb2f3e090b}, 185=BsonObjectId{value=67fc3c9a6baaaadb2f3e090c}, 186=BsonObjectId{value=67fc3c9a6baaaadb2f3e090d}, 187=BsonObjectId{value=67fc3c9a6baaaadb2f3e090e}, 188=BsonObjectId{value=67fc3c9a6baaaadb2f3e090f}, 189=BsonObjectId{value=67fc3c9a6baaaadb2f3e0910}, 190=BsonObjectId{value=67fc3c9a6baaaadb2f3e0911}, 191=BsonObjectId{value=67fc3c9a6baaaadb2f3e0912}, 192=BsonObjectId{value=67fc3c9a6baaaadb2f3e0913}, 193=BsonObjectId{value=67fc3c9a6baaaadb2f3e0914}, 194=BsonObjectId{value=67fc3c9a6baaaadb2f3e0915}, 195=BsonObjectId{value=67fc3c9a6baaaadb2f3e0916}, 196=BsonObjectId{value=67fc3c9a6baaaadb2f3e0917}, 197=BsonObjectId{value=67fc3c9a6baaaadb2f3e0918}, 198=BsonObjectId{value=67fc3c9a6baaaadb2f3e0919}, 199=BsonObjectId{value=67fc3c9a6baaaadb2f3e091a}, 200=BsonObjectId{value=67fc3c9a6baaaadb2f3e091b}, 201=BsonObjectId{value=67fc3c9a6baaaadb2f3e091c}, 202=BsonObjectId{value=67fc3c9a6baaaadb2f3e091d}, 203=BsonObjectId{value=67fc3c9a6baaaadb2f3e091e}, 204=BsonObjectId{value=67fc3c9a6baaaadb2f3e091f}, 205=BsonObjectId{value=67fc3c9a6baaaadb2f3e0920}, 206=BsonObjectId{value=67fc3c9a6baaaadb2f3e0921}, 207=BsonObjectId{value=67fc3c9a6baaaadb2f3e0922}, 208=BsonObjectId{value=67fc3c9a6baaaadb2f3e0923}, 209=BsonObjectId{value=67fc3c9a6baaaadb2f3e0924}, 210=BsonObjectId{value=67fc3c9a6baaaadb2f3e0925}, 211=BsonObjectId{value=67fc3c9a6baaaadb2f3e0926}, 212=BsonObjectId{value=67fc3c9a6baaaadb2f3e0927}, 213=BsonObjectId{value=67fc3c9a6baaaadb2f3e0928}, 214=BsonObjectId{value=67fc3c9a6baaaadb2f3e0929}, 215=BsonObjectId{value=67fc3c9a6baaaadb2f3e092a}, 216=BsonObjectId{value=67fc3c9a6baaaadb2f3e092b}, 217=BsonObjectId{value=67fc3c9a6baaaadb2f3e092c}, 218=BsonObjectId{value=67fc3c9a6baaaadb2f3e092d}, 219=BsonObjectId{value=67fc3c9a6baaaadb2f3e092e}, 220=BsonObjectId{value=67fc3c9a6baaaadb2f3e092f}, 221=BsonObjectId{value=67fc3c9a6baaaadb2f3e0930}, 222=BsonObjectId{value=67fc3c9a6baaaadb2f3e0931}, 223=BsonObjectId{value=67fc3c9a6baaaadb2f3e0932}, 224=BsonObjectId{value=67fc3c9a6baaaadb2f3e0933}, 225=BsonObjectId{value=67fc3c9a6baaaadb2f3e0934}, 226=BsonObjectId{value=67fc3c9a6baaaadb2f3e0935}, 227=BsonObjectId{value=67fc3c9a6baaaadb2f3e0936}, 228=BsonObjectId{value=67fc3c9a6baaaadb2f3e0937}, 229=BsonObjectId{value=67fc3c9a6baaaadb2f3e0938}, 230=BsonObjectId{value=67fc3c9a6baaaadb2f3e0939}, 231=BsonObjectId{value=67fc3c9a6baaaadb2f3e093a}, 232=BsonObjectId{value=67fc3c9a6baaaadb2f3e093b}, 233=BsonObjectId{value=67fc3c9a6baaaadb2f3e093c}, 234=BsonObjectId{value=67fc3c9a6baaaadb2f3e093d}, 235=BsonObjectId{value=67fc3c9a6baaaadb2f3e093e}, 236=BsonObjectId{value=67fc3c9a6baaaadb2f3e093f}, 237=BsonObjectId{value=67fc3c9a6baaaadb2f3e0940}, 238=BsonObjectId{value=67fc3c9a6baaaadb2f3e0941}, 239=BsonObjectId{value=67fc3c9a6baaaadb2f3e0942}, 240=BsonObjectId{value=67fc3c9a6baaaadb2f3e0943}, 241=BsonObjectId{value=67fc3c9a6baaaadb2f3e0944}, 242=BsonObjectId{value=67fc3c9a6baaaadb2f3e0945}, 243=BsonObjectId{value=67fc3c9a6baaaadb2f3e0946}, 244=BsonObjectId{value=67fc3c9a6baaaadb2f3e0947}, 245=BsonObjectId{value=67fc3c9a6baaaadb2f3e0948}, 246=BsonObjectId{value=67fc3c9a6baaaadb2f3e0949}, 247=BsonObjectId{value=67fc3c9a6baaaadb2f3e094a}, 248=BsonObjectId{value=67fc3c9a6baaaadb2f3e094b}, 249=BsonObjectId{value=67fc3c9a6baaaadb2f3e094c}, 250=BsonObjectId{value=67fc3c9a6baaaadb2f3e094d}, 251=BsonObjectId{value=67fc3c9a6baaaadb2f3e094e}, 252=BsonObjectId{value=67fc3c9a6baaaadb2f3e094f}, 253=BsonObjectId{value=67fc3c9a6baaaadb2f3e0950}, 254=BsonObjectId{value=67fc3c9a6baaaadb2f3e0951}, 255=BsonObjectId{value=67fc3c9a6baaaadb2f3e0952}, 256=BsonObjectId{value=67fc3c9a6baaaadb2f3e0953}, 257=BsonObjectId{value=67fc3c9a6baaaadb2f3e0954}, 258=BsonObjectId{value=67fc3c9a6baaaadb2f3e0955}, 259=BsonObjectId{value=67fc3c9a6baaaadb2f3e0956}, 260=BsonObjectId{value=67fc3c9a6baaaadb2f3e0957}, 261=BsonObjectId{value=67fc3c9a6baaaadb2f3e0958}, 262=BsonObjectId{value=67fc3c9a6baaaadb2f3e0959}, 263=BsonObjectId{value=67fc3c9a6baaaadb2f3e095a}, 264=BsonObjectId{value=67fc3c9a6baaaadb2f3e095b}, 265=BsonObjectId{value=67fc3c9a6baaaadb2f3e095c}, 266=BsonObjectId{value=67fc3c9a6baaaadb2f3e095d}, 267=BsonObjectId{value=67fc3c9a6baaaadb2f3e095e}, 268=BsonObjectId{value=67fc3c9a6baaaadb2f3e095f}, 269=BsonObjectId{value=67fc3c9a6baaaadb2f3e0960}, 270=BsonObjectId{value=67fc3c9a6baaaadb2f3e0961}, 271=BsonObjectId{value=67fc3c9a6baaaadb2f3e0962}, 272=BsonObjectId{value=67fc3c9a6baaaadb2f3e0963}, 273=BsonObjectId{value=67fc3c9a6baaaadb2f3e0964}, 274=BsonObjectId{value=67fc3c9a6baaaadb2f3e0965}, 275=BsonObjectId{value=67fc3c9a6baaaadb2f3e0966}, 276=BsonObjectId{value=67fc3c9a6baaaadb2f3e0967}, 277=BsonObjectId{value=67fc3c9a6baaaadb2f3e0968}, 278=BsonObjectId{value=67fc3c9a6baaaadb2f3e0969}, 279=BsonObjectId{value=67fc3c9a6baaaadb2f3e096a}, 280=BsonObjectId{value=67fc3c9a6baaaadb2f3e096b}, 281=BsonObjectId{value=67fc3c9a6baaaadb2f3e096c}, 282=BsonObjectId{value=67fc3c9a6baaaadb2f3e096d}, 283=BsonObjectId{value=67fc3c9a6baaaadb2f3e096e}, 284=BsonObjectId{value=67fc3c9a6baaaadb2f3e096f}, 285=BsonObjectId{value=67fc3c9a6baaaadb2f3e0970}, 286=BsonObjectId{value=67fc3c9a6baaaadb2f3e0971}, 287=BsonObjectId{value=67fc3c9a6baaaadb2f3e0972}, 288=BsonObjectId{value=67fc3c9a6baaaadb2f3e0973}, 289=BsonObjectId{value=67fc3c9a6baaaadb2f3e0974}, 290=BsonObjectId{value=67fc3c9a6baaaadb2f3e0975}, 291=BsonObjectId{value=67fc3c9a6baaaadb2f3e0976}, 292=BsonObjectId{value=67fc3c9a6baaaadb2f3e0977}, 293=BsonObjectId{value=67fc3c9a6baaaadb2f3e0978}, 294=BsonObjectId{value=67fc3c9a6baaaadb2f3e0979}, 295=BsonObjectId{value=67fc3c9a6baaaadb2f3e097a}, 296=BsonObjectId{value=67fc3c9a6baaaadb2f3e097b}, 297=BsonObjectId{value=67fc3c9a6baaaadb2f3e097c}, 298=BsonObjectId{value=67fc3c9a6baaaadb2f3e097d}, 299=BsonObjectId{value=67fc3c9a6baaaadb2f3e097e}, 300=BsonObjectId{value=67fc3c9a6baaaadb2f3e097f}, 301=BsonObjectId{value=67fc3c9a6baaaadb2f3e0980}, 302=BsonObjectId{value=67fc3c9a6baaaadb2f3e0981}, 303=BsonObjectId{value=67fc3c9a6baaaadb2f3e0982}, 304=BsonObjectId{value=67fc3c9a6baaaadb2f3e0983}, 305=BsonObjectId{value=67fc3c9a6baaaadb2f3e0984}, 306=BsonObjectId{value=67fc3c9a6baaaadb2f3e0985}, 307=BsonObjectId{value=67fc3c9a6baaaadb2f3e0986}, 308=BsonObjectId{value=67fc3c9a6baaaadb2f3e0987}, 309=BsonObjectId{value=67fc3c9a6baaaadb2f3e0988}, 310=BsonObjectId{value=67fc3c9a6baaaadb2f3e0989}, 311=BsonObjectId{value=67fc3c9a6baaaadb2f3e098a}, 312=BsonObjectId{value=67fc3c9a6baaaadb2f3e098b}, 313=BsonObjectId{value=67fc3c9a6baaaadb2f3e098c}, 314=BsonObjectId{value=67fc3c9a6baaaadb2f3e098d}, 315=BsonObjectId{value=67fc3c9a6baaaadb2f3e098e}, 316=BsonObjectId{value=67fc3c9a6baaaadb2f3e098f}, 317=BsonObjectId{value=67fc3c9a6baaaadb2f3e0990}, 318=BsonObjectId{value=67fc3c9a6baaaadb2f3e0991}, 319=BsonObjectId{value=67fc3c9a6baaaadb2f3e0992}, 320=BsonObjectId{value=67fc3c9a6baaaadb2f3e0993}, 321=BsonObjectId{value=67fc3c9a6baaaadb2f3e0994}, 322=BsonObjectId{value=67fc3c9a6baaaadb2f3e0995}, 323=BsonObjectId{value=67fc3c9a6baaaadb2f3e0996}, 324=BsonObjectId{value=67fc3c9a6baaaadb2f3e0997}, 325=BsonObjectId{value=67fc3c9a6baaaadb2f3e0998}, 326=BsonObjectId{value=67fc3c9a6baaaadb2f3e0999}, 327=BsonObjectId{value=67fc3c9a6baaaadb2f3e099a}, 328=BsonObjectId{value=67fc3c9a6baaaadb2f3e099b}, 329=BsonObjectId{value=67fc3c9a6baaaadb2f3e099c}, 330=BsonObjectId{value=67fc3c9a6baaaadb2f3e099d}, 331=BsonObjectId{value=67fc3c9a6baaaadb2f3e099e}, 332=BsonObjectId{value=67fc3c9a6baaaadb2f3e099f}, 333=BsonObjectId{value=67fc3c9a6baaaadb2f3e09a0}, 334=BsonObjectId{value=67fc3c9a6baaaadb2f3e09a1}, 335=BsonObjectId{value=67fc3c9a6baaaadb2f3e09a2}, 336=BsonObjectId{value=67fc3c9a6baaaadb2f3e09a3}, 337=BsonObjectId{value=67fc3c9a6baaaadb2f3e09a4}, 338=BsonObjectId{value=67fc3c9a6baaaadb2f3e09a5}, 339=BsonObjectId{value=67fc3c9a6baaaadb2f3e09a6}, 340=BsonObjectId{value=67fc3c9a6baaaadb2f3e09a7}, 341=BsonObjectId{value=67fc3c9a6baaaadb2f3e09a8}, 342=BsonObjectId{value=67fc3c9a6baaaadb2f3e09a9}, 343=BsonObjectId{value=67fc3c9a6baaaadb2f3e09aa}, 344=BsonObjectId{value=67fc3c9a6baaaadb2f3e09ab}, 345=BsonObjectId{value=67fc3c9a6baaaadb2f3e09ac}, 346=BsonObjectId{value=67fc3c9a6baaaadb2f3e09ad}, 347=BsonObjectId{value=67fc3c9a6baaaadb2f3e09ae}, 348=BsonObjectId{value=67fc3c9a6baaaadb2f3e09af}, 349=BsonObjectId{value=67fc3c9a6baaaadb2f3e09b0}, 350=BsonObjectId{value=67fc3c9a6baaaadb2f3e09b1}, 351=BsonObjectId{value=67fc3c9a6baaaadb2f3e09b2}, 352=BsonObjectId{value=67fc3c9a6baaaadb2f3e09b3}, 353=BsonObjectId{value=67fc3c9a6baaaadb2f3e09b4}, 354=BsonObjectId{value=67fc3c9a6baaaadb2f3e09b5}, 355=BsonObjectId{value=67fc3c9a6baaaadb2f3e09b6}, 356=BsonObjectId{value=67fc3c9a6baaaadb2f3e09b7}, 357=BsonObjectId{value=67fc3c9a6baaaadb2f3e09b8}, 358=BsonObjectId{value=67fc3c9a6baaaadb2f3e09b9}, 359=BsonObjectId{value=67fc3c9a6baaaadb2f3e09ba}, 360=BsonObjectId{value=67fc3c9a6baaaadb2f3e09bb}, 361=BsonObjectId{value=67fc3c9a6baaaadb2f3e09bc}, 362=BsonObjectId{value=67fc3c9a6baaaadb2f3e09bd}, 363=BsonObjectId{value=67fc3c9a6baaaadb2f3e09be}, 364=BsonObjectId{value=67fc3c9a6baaaadb2f3e09bf}, 365=BsonObjectId{value=67fc3c9a6baaaadb2f3e09c0}, 366=BsonObjectId{value=67fc3c9a6baaaadb2f3e09c1}, 367=BsonObjectId{value=67fc3c9a6baaaadb2f3e09c2}, 368=BsonObjectId{value=67fc3c9a6baaaadb2f3e09c3}, 369=BsonObjectId{value=67fc3c9a6baaaadb2f3e09c5}, 370=BsonObjectId{value=67fc3c9a6baaaadb2f3e09c6}, 371=BsonObjectId{value=67fc3c9a6baaaadb2f3e09c7}, 372=BsonObjectId{value=67fc3c9a6baaaadb2f3e09c8}, 373=BsonObjectId{value=67fc3c9a6baaaadb2f3e09c9}, 374=BsonObjectId{value=67fc3c9a6baaaadb2f3e09ca}, 375=BsonObjectId{value=67fc3c9a6baaaadb2f3e09cb}, 376=BsonObjectId{value=67fc3c9a6baaaadb2f3e09cc}, 377=BsonObjectId{value=67fc3c9a6baaaadb2f3e09cd}, 378=BsonObjectId{value=67fc3c9a6baaaadb2f3e09ce}, 379=BsonObjectId{value=67fc3c9a6baaaadb2f3e09cf}, 380=BsonObjectId{value=67fc3c9a6baaaadb2f3e09d0}, 381=BsonObjectId{value=67fc3c9a6baaaadb2f3e09d1}, 382=BsonObjectId{value=67fc3c9a6baaaadb2f3e09d2}, 383=BsonObjectId{value=67fc3c9a6baaaadb2f3e09d3}, 384=BsonObjectId{value=67fc3c9a6baaaadb2f3e09d4}, 385=BsonObjectId{value=67fc3c9a6baaaadb2f3e09d5}, 386=BsonObjectId{value=67fc3c9a6baaaadb2f3e09d6}, 387=BsonObjectId{value=67fc3c9a6baaaadb2f3e09d7}, 388=BsonObjectId{value=67fc3c9a6baaaadb2f3e09d8}, 389=BsonObjectId{value=67fc3c9a6baaaadb2f3e09d9}, 390=BsonObjectId{value=67fc3c9a6baaaadb2f3e09da}, 391=BsonObjectId{value=67fc3c9a6baaaadb2f3e09db}, 392=BsonObjectId{value=67fc3c9a6baaaadb2f3e09dc}, 393=BsonObjectId{value=67fc3c9a6baaaadb2f3e09dd}, 394=BsonObjectId{value=67fc3c9a6baaaadb2f3e09de}, 395=BsonObjectId{value=67fc3c9a6baaaadb2f3e09df}, 396=BsonObjectId{value=67fc3c9a6baaaadb2f3e09e0}, 397=BsonObjectId{value=67fc3c9a6baaaadb2f3e09e1}, 398=BsonObjectId{value=67fc3c9a6baaaadb2f3e09e2}, 399=BsonObjectId{value=67fc3c9a6baaaadb2f3e09e3}, 400=BsonObjectId{value=67fc3c9a6baaaadb2f3e09e4}, 401=BsonObjectId{value=67fc3c9a6baaaadb2f3e09e5}, 402=BsonObjectId{value=67fc3c9a6baaaadb2f3e09e6}, 403=BsonObjectId{value=67fc3c9a6baaaadb2f3e09e7}, 404=BsonObjectId{value=67fc3c9a6baaaadb2f3e09e8}, 405=BsonObjectId{value=67fc3c9a6baaaadb2f3e09e9}, 406=BsonObjectId{value=67fc3c9a6baaaadb2f3e09ea}, 407=BsonObjectId{value=67fc3c9a6baaaadb2f3e09eb}, 408=BsonObjectId{value=67fc3c9a6baaaadb2f3e09ec}, 409=BsonObjectId{value=67fc3c9a6baaaadb2f3e09ed}, 410=BsonObjectId{value=67fc3c9a6baaaadb2f3e09ee}, 411=BsonObjectId{value=67fc3c9a6baaaadb2f3e09ef}, 412=BsonObjectId{value=67fc3c9a6baaaadb2f3e09f0}, 413=BsonObjectId{value=67fc3c9a6baaaadb2f3e09f1}, 414=BsonObjectId{value=67fc3c9a6baaaadb2f3e09f2}, 415=BsonObjectId{value=67fc3c9a6baaaadb2f3e09f3}, 416=BsonObjectId{value=67fc3c9a6baaaadb2f3e09f4}, 417=BsonObjectId{value=67fc3c9a6baaaadb2f3e09f5}, 418=BsonObjectId{value=67fc3c9a6baaaadb2f3e09f6}, 419=BsonObjectId{value=67fc3c9a6baaaadb2f3e09f7}, 420=BsonObjectId{value=67fc3c9a6baaaadb2f3e09f8}, 421=BsonObjectId{value=67fc3c9a6baaaadb2f3e09f9}, 422=BsonObjectId{value=67fc3c9a6baaaadb2f3e09fa}, 423=BsonObjectId{value=67fc3c9a6baaaadb2f3e09fb}, 424=BsonObjectId{value=67fc3c9a6baaaadb2f3e09fc}, 425=BsonObjectId{value=67fc3c9a6baaaadb2f3e09fd}, 426=BsonObjectId{value=67fc3c9a6baaaadb2f3e09fe}, 427=BsonObjectId{value=67fc3c9a6baaaadb2f3e09ff}, 428=BsonObjectId{value=67fc3c9a6baaaadb2f3e0a00}, 429=BsonObjectId{value=67fc3c9a6baaaadb2f3e0a01}, 430=BsonObjectId{value=67fc3c9a6baaaadb2f3e0a02}, 431=BsonObjectId{value=67fc3c9a6baaaadb2f3e0a03}, 432=BsonObjectId{value=67fc3c9a6baaaadb2f3e0a04}, 433=BsonObjectId{value=67fc3c9a6baaaadb2f3e0a05}, 434=BsonObjectId{value=67fc3c9a6baaaadb2f3e0a07}, 435=BsonObjectId{value=67fc3c9a6baaaadb2f3e0a08}, 436=BsonObjectId{value=67fc3c9a6baaaadb2f3e0a09}, 437=BsonObjectId{value=67fc3c9a6baaaadb2f3e0a0a}, 438=BsonObjectId{value=67fc3c9a6baaaadb2f3e0a0b}, 439=BsonObjectId{value=67fc3c9a6baaaadb2f3e0a0c}, 440=BsonObjectId{value=67fc3c9a6baaaadb2f3e0a0d}, 441=BsonObjectId{value=67fc3c9a6baaaadb2f3e0a0e}, 442=BsonObjectId{value=67fc3c9a6baaaadb2f3e0a0f}, 443=BsonObjectId{value=67fc3c9a6baaaadb2f3e0a10}, 444=BsonObjectId{value=67fc3c9a6baaaadb2f3e0a11}, 445=BsonObjectId{value=67fc3c9a6baaaadb2f3e0a12}, 446=BsonObjectId{value=67fc3c9a6baaaadb2f3e0a13}, 447=BsonObjectId{value=67fc3c9a6baaaadb2f3e0a14}, 448=BsonObjectId{value=67fc3c9a6baaaadb2f3e0a15}, 449=BsonObjectId{value=67fc3c9a6baaaadb2f3e0a16}, 450=BsonObjectId{value=67fc3c9a6baaaadb2f3e0a17}, 451=BsonObjectId{value=67fc3c9a6baaaadb2f3e0a18}, 452=BsonObjectId{value=67fc3c9a6baaaadb2f3e0a19}, 453=BsonObjectId{value=67fc3c9a6baaaadb2f3e0a1a}, 454=BsonObjectId{value=67fc3c9a6baaaadb2f3e0a1b}, 455=BsonObjectId{value=67fc3c9a6baaaadb2f3e0a1c}, 456=BsonObjectId{value=67fc3c9a6baaaadb2f3e0a1d}, 457=BsonObjectId{value=67fc3c9a6baaaadb2f3e0a1e}, 458=BsonObjectId{value=67fc3c9a6baaaadb2f3e0a1f}, 459=BsonObjectId{value=67fc3c9a6baaaadb2f3e0a20}, 460=BsonObjectId{value=67fc3c9a6baaaadb2f3e0a21}, 461=BsonObjectId{value=67fc3c9a6baaaadb2f3e0a22}, 462=BsonObjectId{value=67fc3c9a6baaaadb2f3e0a23}, 463=BsonObjectId{value=67fc3c9a6baaaadb2f3e0a24}, 464=BsonObjectId{value=67fc3c9a6baaaadb2f3e0a25}, 465=BsonObjectId{value=67fc3c9a6baaaadb2f3e0a26}, 466=BsonObjectId{value=67fc3c9a6baaaadb2f3e0a27}, 467=BsonObjectId{value=67fc3c9a6baaaadb2f3e0a28}, 468=BsonObjectId{value=67fc3c9a6baaaadb2f3e0a29}, 469=BsonObjectId{value=67fc3c9a6baaaadb2f3e0a2a}, 470=BsonObjectId{value=67fc3c9a6baaaadb2f3e0a2b}, 471=BsonObjectId{value=67fc3c9a6baaaadb2f3e0a2c}, 472=BsonObjectId{value=67fc3c9a6baaaadb2f3e0a2d}, 473=BsonObjectId{value=67fc3c9a6baaaadb2f3e0a2e}, 474=BsonObjectId{value=67fc3c9a6baaaadb2f3e0a2f}, 475=BsonObjectId{value=67fc3c9a6baaaadb2f3e0a30}, 476=BsonObjectId{value=67fc3c9a6baaaadb2f3e0a31}, 477=BsonObjectId{value=67fc3c9a6baaaadb2f3e0a32}, 478=BsonObjectId{value=67fc3c9a6baaaadb2f3e0a33}, 479=BsonObjectId{value=67fc3c9a6baaaadb2f3e0a34}, 480=BsonObjectId{value=67fc3c9a6baaaadb2f3e0a35}, 481=BsonObjectId{value=67fc3c9a6baaaadb2f3e0a36}, 482=BsonObjectId{value=67fc3c9a6baaaadb2f3e0a37}, 483=BsonObjectId{value=67fc3c9a6baaaadb2f3e0a38}, 484=BsonObjectId{value=67fc3c9a6baaaadb2f3e0a39}, 485=BsonObjectId{value=67fc3c9a6baaaadb2f3e0a3a}, 486=BsonObjectId{value=67fc3c9a6baaaadb2f3e0a3b}, 487=BsonObjectId{value=67fc3c9a6baaaadb2f3e0a3c}, 488=BsonObjectId{value=67fc3c9a6baaaadb2f3e0a3d}, 489=BsonObjectId{value=67fc3c9a6baaaadb2f3e0a3e}, 490=BsonObjectId{value=67fc3c9a6baaaadb2f3e0a3f}, 491=BsonObjectId{value=67fc3c9a6baaaadb2f3e0a40}, 492=BsonObjectId{value=67fc3c9a6baaaadb2f3e0a41}, 493=BsonObjectId{value=67fc3c9a6baaaadb2f3e0a42}, 494=BsonObjectId{value=67fc3c9a6baaaadb2f3e0a43}, 495=BsonObjectId{value=67fc3c9a6baaaadb2f3e0a44}, 496=BsonObjectId{value=67fc3c9a6baaaadb2f3e0a45}, 497=BsonObjectId{value=67fc3c9a6baaaadb2f3e0a46}, 498=BsonObjectId{value=67fc3c9a6baaaadb2f3e0a47}, 499=BsonObjectId{value=67fc3c9a6baaaadb2f3e0a48}, 500=BsonObjectId{value=67fc3c9a6baaaadb2f3e0a49}, 501=BsonObjectId{value=67fc3c9a6baaaadb2f3e0a4a}, 502=BsonObjectId{value=67fc3c9a6baaaadb2f3e0a4b}, 503=BsonObjectId{value=67fc3c9a6baaaadb2f3e0a4c}, 504=BsonObjectId{value=67fc3c9a6baaaadb2f3e0a4d}, 505=BsonObjectId{value=67fc3c9a6baaaadb2f3e0a4e}, 506=BsonObjectId{value=67fc3c9a6baaaadb2f3e0a4f}, 507=BsonObjectId{value=67fc3c9a6baaaadb2f3e0a50}, 508=BsonObjectId{value=67fc3c9a6baaaadb2f3e0a51}, 509=BsonObjectId{value=67fc3c9a6baaaadb2f3e0a52}, 510=BsonObjectId{value=67fc3c9a6baaaadb2f3e0a53}, 511=BsonObjectId{value=67fc3c9a6baaaadb2f3e0a54}, 512=BsonObjectId{value=67fc3c9a6baaaadb2f3e0a55}, 513=BsonObjectId{value=67fc3c9a6baaaadb2f3e0a56}, 514=BsonObjectId{value=67fc3c9a6baaaadb2f3e0a57}, 515=BsonObjectId{value=67fc3c9a6baaaadb2f3e0a58}, 516=BsonObjectId{value=67fc3c9a6baaaadb2f3e0a59}, 517=BsonObjectId{value=67fc3c9a6baaaadb2f3e0a5a}, 518=BsonObjectId{value=67fc3c9a6baaaadb2f3e0a5b}, 519=BsonObjectId{value=67fc3c9a6baaaadb2f3e0a5c}, 520=BsonObjectId{value=67fc3c9a6baaaadb2f3e0a5d}, 521=BsonObjectId{value=67fc3c9a6baaaadb2f3e0a5e}, 522=BsonObjectId{value=67fc3c9a6baaaadb2f3e0a5f}, 523=BsonObjectId{value=67fc3c9a6baaaadb2f3e0a60}, 524=BsonObjectId{value=67fc3c9a6baaaadb2f3e0a61}, 525=BsonObjectId{value=67fc3c9a6baaaadb2f3e0a62}, 526=BsonObjectId{value=67fc3c9a6baaaadb2f3e0a63}, 527=BsonObjectId{value=67fc3c9a6baaaadb2f3e0a64}, 528=BsonObjectId{value=67fc3c9a6baaaadb2f3e0a65}, 529=BsonObjectId{value=67fc3c9a6baaaadb2f3e0a66}, 530=BsonObjectId{value=67fc3c9a6baaaadb2f3e0a67}, 531=BsonObjectId{value=67fc3c9a6baaaadb2f3e0a68}, 532=BsonObjectId{value=67fc3c9a6baaaadb2f3e0a69}, 533=BsonObjectId{value=67fc3c9a6baaaadb2f3e0a6a}, 534=BsonObjectId{value=67fc3c9a6baaaadb2f3e0a6b}, 535=BsonObjectId{value=67fc3c9a6baaaadb2f3e0a6c}, 536=BsonObjectId{value=67fc3c9a6baaaadb2f3e0a6d}, 537=BsonObjectId{value=67fc3c9a6baaaadb2f3e0a6e}, 538=BsonObjectId{value=67fc3c9a6baaaadb2f3e0a6f}, 539=BsonObjectId{value=67fc3c9a6baaaadb2f3e0a70}, 540=BsonObjectId{value=67fc3c9a6baaaadb2f3e0a71}, 541=BsonObjectId{value=67fc3c9a6baaaadb2f3e0a72}, 542=BsonObjectId{value=67fc3c9a6baaaadb2f3e0a73}, 543=BsonObjectId{value=67fc3c9a6baaaadb2f3e0a74}, 544=BsonObjectId{value=67fc3c9a6baaaadb2f3e0a75}, 545=BsonObjectId{value=67fc3c9a6baaaadb2f3e0a76}, 546=BsonObjectId{value=67fc3c9a6baaaadb2f3e0a77}, 547=BsonObjectId{value=67fc3c9a6baaaadb2f3e0a78}, 548=BsonObjectId{value=67fc3c9a6baaaadb2f3e0a79}, 549=BsonObjectId{value=67fc3c9a6baaaadb2f3e0a7a}, 550=BsonObjectId{value=67fc3c9a6baaaadb2f3e0a7b}, 551=BsonObjectId{value=67fc3c9a6baaaadb2f3e0a7c}, 552=BsonObjectId{value=67fc3c9a6baaaadb2f3e0a7d}, 553=BsonObjectId{value=67fc3c9a6baaaadb2f3e0a7e}, 554=BsonObjectId{value=67fc3c9a6baaaadb2f3e0a7f}, 555=BsonObjectId{value=67fc3c9a6baaaadb2f3e0a80}, 556=BsonObjectId{value=67fc3c9a6baaaadb2f3e0a81}, 557=BsonObjectId{value=67fc3c9a6baaaadb2f3e0a82}, 558=BsonObjectId{value=67fc3c9a6baaaadb2f3e0a83}, 559=BsonObjectId{value=67fc3c9a6baaaadb2f3e0a84}, 560=BsonObjectId{value=67fc3c9a6baaaadb2f3e0a85}, 561=BsonObjectId{value=67fc3c9a6baaaadb2f3e0a86}, 562=BsonObjectId{value=67fc3c9a6baaaadb2f3e0a87}, 563=BsonObjectId{value=67fc3c9a6baaaadb2f3e0a88}, 564=BsonObjectId{value=67fc3c9a6baaaadb2f3e0a89}, 565=BsonObjectId{value=67fc3c9a6baaaadb2f3e0a8a}, 566=BsonObjectId{value=67fc3c9a6baaaadb2f3e0a8b}, 567=BsonObjectId{value=67fc3c9a6baaaadb2f3e0a8c}, 568=BsonObjectId{value=67fc3c9a6baaaadb2f3e0a8d}, 569=BsonObjectId{value=67fc3c9a6baaaadb2f3e0a8e}, 570=BsonObjectId{value=67fc3c9a6baaaadb2f3e0a8f}, 571=BsonObjectId{value=67fc3c9a6baaaadb2f3e0a90}, 572=BsonObjectId{value=67fc3c9a6baaaadb2f3e0a91}, 573=BsonObjectId{value=67fc3c9a6baaaadb2f3e0a92}, 574=BsonObjectId{value=67fc3c9a6baaaadb2f3e0a93}, 575=BsonObjectId{value=67fc3c9a6baaaadb2f3e0a94}, 576=BsonObjectId{value=67fc3c9a6baaaadb2f3e0a95}, 577=BsonObjectId{value=67fc3c9a6baaaadb2f3e0a96}, 578=BsonObjectId{value=67fc3c9a6baaaadb2f3e0a97}, 579=BsonObjectId{value=67fc3c9a6baaaadb2f3e0a98}, 580=BsonObjectId{value=67fc3c9a6baaaadb2f3e0a99}, 581=BsonObjectId{value=67fc3c9a6baaaadb2f3e0a9a}, 582=BsonObjectId{value=67fc3c9a6baaaadb2f3e0a9b}, 583=BsonObjectId{value=67fc3c9a6baaaadb2f3e0a9c}, 584=BsonObjectId{value=67fc3c9a6baaaadb2f3e0a9d}, 585=BsonObjectId{value=67fc3c9a6baaaadb2f3e0a9e}, 586=BsonObjectId{value=67fc3c9a6baaaadb2f3e0a9f}, 587=BsonObjectId{value=67fc3c9a6baaaadb2f3e0aa0}, 588=BsonObjectId{value=67fc3c9a6baaaadb2f3e0aa1}, 589=BsonObjectId{value=67fc3c9a6baaaadb2f3e0aa2}, 590=BsonObjectId{value=67fc3c9a6baaaadb2f3e0aa3}, 591=BsonObjectId{value=67fc3c9a6baaaadb2f3e0aa4}, 592=BsonObjectId{value=67fc3c9a6baaaadb2f3e0aa5}, 593=BsonObjectId{value=67fc3c9a6baaaadb2f3e0aa6}, 594=BsonObjectId{value=67fc3c9a6baaaadb2f3e0aa7}, 595=BsonObjectId{value=67fc3c9a6baaaadb2f3e0aa8}, 596=BsonObjectId{value=67fc3c9a6baaaadb2f3e0aa9}, 597=BsonObjectId{value=67fc3c9a6baaaadb2f3e0aaa}, 598=BsonObjectId{value=67fc3c9a6baaaadb2f3e0aab}, 599=BsonObjectId{value=67fc3c9a6baaaadb2f3e0aac}, 600=BsonObjectId{value=67fc3c9a6baaaadb2f3e0aad}, 601=BsonObjectId{value=67fc3c9a6baaaadb2f3e0aae}, 602=BsonObjectId{value=67fc3c9a6baaaadb2f3e0aaf}, 603=BsonObjectId{value=67fc3c9a6baaaadb2f3e0ab0}, 604=BsonObjectId{value=67fc3c9a6baaaadb2f3e0ab1}, 605=BsonObjectId{value=67fc3c9a6baaaadb2f3e0ab2}, 606=BsonObjectId{value=67fc3c9a6baaaadb2f3e0ab3}, 607=BsonObjectId{value=67fc3c9a6baaaadb2f3e0ab4}, 608=BsonObjectId{value=67fc3c9a6baaaadb2f3e0ab5}, 609=BsonObjectId{value=67fc3c9a6baaaadb2f3e0ab6}, 610=BsonObjectId{value=67fc3c9a6baaaadb2f3e0ab7}, 611=BsonObjectId{value=67fc3c9a6baaaadb2f3e0ab8}, 612=BsonObjectId{value=67fc3c9a6baaaadb2f3e0ab9}, 613=BsonObjectId{value=67fc3c9a6baaaadb2f3e0aba}, 614=BsonObjectId{value=67fc3c9a6baaaadb2f3e0abb}, 615=BsonObjectId{value=67fc3c9a6baaaadb2f3e0abc}, 616=BsonObjectId{value=67fc3c9a6baaaadb2f3e0abd}, 617=BsonObjectId{value=67fc3c9a6baaaadb2f3e0abe}, 618=BsonObjectId{value=67fc3c9a6baaaadb2f3e0abf}, 619=BsonObjectId{value=67fc3c9a6baaaadb2f3e0ac0}, 620=BsonObjectId{value=67fc3c9a6baaaadb2f3e0ac1}, 621=BsonObjectId{value=67fc3c9a6baaaadb2f3e0ac2}, 622=BsonObjectId{value=67fc3c9a6baaaadb2f3e0ac3}, 623=BsonObjectId{value=67fc3c9a6baaaadb2f3e0ac4}, 624=BsonObjectId{value=67fc3c9a6baaaadb2f3e0ac5}, 625=BsonObjectId{value=67fc3c9a6baaaadb2f3e0ac6}, 626=BsonObjectId{value=67fc3c9a6baaaadb2f3e0ac7}, 627=BsonObjectId{value=67fc3c9a6baaaadb2f3e0ac8}, 628=BsonObjectId{value=67fc3c9a6baaaadb2f3e0ac9}, 629=BsonObjectId{value=67fc3c9a6baaaadb2f3e0aca}, 630=BsonObjectId{value=67fc3c9a6baaaadb2f3e0acb}, 631=BsonObjectId{value=67fc3c9a6baaaadb2f3e0acc}, 632=BsonObjectId{value=67fc3c9a6baaaadb2f3e0acd}, 633=BsonObjectId{value=67fc3c9a6baaaadb2f3e0ace}, 634=BsonObjectId{value=67fc3c9a6baaaadb2f3e0acf}, 635=BsonObjectId{value=67fc3c9a6baaaadb2f3e0ad0}, 636=BsonObjectId{value=67fc3c9a6baaaadb2f3e0ad1}, 637=BsonObjectId{value=67fc3c9a6baaaadb2f3e0ad2}, 638=BsonObjectId{value=67fc3c9a6baaaadb2f3e0ad3}, 639=BsonObjectId{value=67fc3c9a6baaaadb2f3e0ad4}, 640=BsonObjectId{value=67fc3c9a6baaaadb2f3e0ad5}, 641=BsonObjectId{value=67fc3c9a6baaaadb2f3e0ad6}, 642=BsonObjectId{value=67fc3c9a6baaaadb2f3e0ad7}, 643=BsonObjectId{value=67fc3c9a6baaaadb2f3e0ad8}, 644=BsonObjectId{value=67fc3c9a6baaaadb2f3e0ad9}, 645=BsonObjectId{value=67fc3c9a6baaaadb2f3e0ada}, 646=BsonObjectId{value=67fc3c9a6baaaadb2f3e0adb}, 647=BsonObjectId{value=67fc3c9a6baaaadb2f3e0adc}, 648=BsonObjectId{value=67fc3c9a6baaaadb2f3e0add}, 649=BsonObjectId{value=67fc3c9a6baaaadb2f3e0ade}, 650=BsonObjectId{value=67fc3c9a6baaaadb2f3e0adf}, 651=BsonObjectId{value=67fc3c9a6baaaadb2f3e0ae0}, 652=BsonObjectId{value=67fc3c9a6baaaadb2f3e0ae1}, 653=BsonObjectId{value=67fc3c9a6baaaadb2f3e0ae2}, 654=BsonObjectId{value=67fc3c9a6baaaadb2f3e0ae3}, 655=BsonObjectId{value=67fc3c9a6baaaadb2f3e0ae4}, 656=BsonObjectId{value=67fc3c9a6baaaadb2f3e0ae5}, 657=BsonObjectId{value=67fc3c9a6baaaadb2f3e0ae6}, 658=BsonObjectId{value=67fc3c9a6baaaadb2f3e0ae7}, 659=BsonObjectId{value=67fc3c9a6baaaadb2f3e0ae8}, 660=BsonObjectId{value=67fc3c9a6baaaadb2f3e0ae9}, 661=BsonObjectId{value=67fc3c9a6baaaadb2f3e0aea}, 662=BsonObjectId{value=67fc3c9a6baaaadb2f3e0aeb}, 663=BsonObjectId{value=67fc3c9a6baaaadb2f3e0aec}, 664=BsonObjectId{value=67fc3c9a6baaaadb2f3e0aed}, 665=BsonObjectId{value=67fc3c9a6baaaadb2f3e0aee}, 666=BsonObjectId{value=67fc3c9a6baaaadb2f3e0aef}, 667=BsonObjectId{value=67fc3c9a6baaaadb2f3e0af0}, 668=BsonObjectId{value=67fc3c9a6baaaadb2f3e0af1}, 669=BsonObjectId{value=67fc3c9a6baaaadb2f3e0af2}, 670=BsonObjectId{value=67fc3c9a6baaaadb2f3e0af3}, 671=BsonObjectId{value=67fc3c9a6baaaadb2f3e0af4}, 672=BsonObjectId{value=67fc3c9a6baaaadb2f3e0af5}, 673=BsonObjectId{value=67fc3c9a6baaaadb2f3e0af6}, 674=BsonObjectId{value=67fc3c9a6baaaadb2f3e0af7}, 675=BsonObjectId{value=67fc3c9a6baaaadb2f3e0af8}, 676=BsonObjectId{value=67fc3c9a6baaaadb2f3e0af9}, 677=BsonObjectId{value=67fc3c9a6baaaadb2f3e0afa}, 678=BsonObjectId{value=67fc3c9a6baaaadb2f3e0afb}, 679=BsonObjectId{value=67fc3c9a6baaaadb2f3e0afc}, 680=BsonObjectId{value=67fc3c9a6baaaadb2f3e0afd}, 681=BsonObjectId{value=67fc3c9a6baaaadb2f3e0afe}, 682=BsonObjectId{value=67fc3c9a6baaaadb2f3e0aff}, 683=BsonObjectId{value=67fc3c9a6baaaadb2f3e0b00}, 684=BsonObjectId{value=67fc3c9a6baaaadb2f3e0b01}, 685=BsonObjectId{value=67fc3c9a6baaaadb2f3e0b02}, 686=BsonObjectId{value=67fc3c9a6baaaadb2f3e0b03}, 687=BsonObjectId{value=67fc3c9a6baaaadb2f3e0b04}, 688=BsonObjectId{value=67fc3c9a6baaaadb2f3e0b05}, 689=BsonObjectId{value=67fc3c9a6baaaadb2f3e0b06}, 690=BsonObjectId{value=67fc3c9a6baaaadb2f3e0b07}, 691=BsonObjectId{value=67fc3c9a6baaaadb2f3e0b08}, 692=BsonObjectId{value=67fc3c9a6baaaadb2f3e0b09}, 693=BsonObjectId{value=67fc3c9a6baaaadb2f3e0b0a}, 694=BsonObjectId{value=67fc3c9a6baaaadb2f3e0b0b}, 695=BsonObjectId{value=67fc3c9a6baaaadb2f3e0b0c}, 696=BsonObjectId{value=67fc3c9a6baaaadb2f3e0b0d}, 697=BsonObjectId{value=67fc3c9a6baaaadb2f3e0b0e}, 698=BsonObjectId{value=67fc3c9a6baaaadb2f3e0b0f}, 699=BsonObjectId{value=67fc3c9a6baaaadb2f3e0b10}, 700=BsonObjectId{value=67fc3c9a6baaaadb2f3e0b11}, 701=BsonObjectId{value=67fc3c9a6baaaadb2f3e0b12}, 702=BsonObjectId{value=67fc3c9a6baaaadb2f3e0b13}, 703=BsonObjectId{value=67fc3c9a6baaaadb2f3e0b14}, 704=BsonObjectId{value=67fc3c9a6baaaadb2f3e0b15}, 705=BsonObjectId{value=67fc3c9a6baaaadb2f3e0b16}, 706=BsonObjectId{value=67fc3c9a6baaaadb2f3e0b17}, 707=BsonObjectId{value=67fc3c9a6baaaadb2f3e0b18}, 708=BsonObjectId{value=67fc3c9a6baaaadb2f3e0b19}, 709=BsonObjectId{value=67fc3c9a6baaaadb2f3e0b1a}, 710=BsonObjectId{value=67fc3c9a6baaaadb2f3e0b1b}, 711=BsonObjectId{value=67fc3c9a6baaaadb2f3e0b1c}, 712=BsonObjectId{value=67fc3c9a6baaaadb2f3e0b1d}, 713=BsonObjectId{value=67fc3c9a6baaaadb2f3e0b1e}, 714=BsonObjectId{value=67fc3c9a6baaaadb2f3e0b1f}, 715=BsonObjectId{value=67fc3c9a6baaaadb2f3e0b20}, 716=BsonObjectId{value=67fc3c9a6baaaadb2f3e0b21}, 717=BsonObjectId{value=67fc3c9a6baaaadb2f3e0b22}, 718=BsonObjectId{value=67fc3c9a6baaaadb2f3e0b23}, 719=BsonObjectId{value=67fc3c9a6baaaadb2f3e0b24}, 720=BsonObjectId{value=67fc3c9a6baaaadb2f3e0b25}, 721=BsonObjectId{value=67fc3c9a6baaaadb2f3e0b26}, 722=BsonObjectId{value=67fc3c9a6baaaadb2f3e0b27}, 723=BsonObjectId{value=67fc3c9a6baaaadb2f3e0b28}, 724=BsonObjectId{value=67fc3c9a6baaaadb2f3e0b29}, 725=BsonObjectId{value=67fc3c9a6baaaadb2f3e0b2a}, 726=BsonObjectId{value=67fc3c9a6baaaadb2f3e0b2b}, 727=BsonObjectId{value=67fc3c9a6baaaadb2f3e0b2c}, 728=BsonObjectId{value=67fc3c9a6baaaadb2f3e0b2d}, 729=BsonObjectId{value=67fc3c9a6baaaadb2f3e0b2e}, 730=BsonObjectId{value=67fc3c9a6baaaadb2f3e0b2f}, 731=BsonObjectId{value=67fc3c9a6baaaadb2f3e0b30}, 732=BsonObjectId{value=67fc3c9a6baaaadb2f3e0b31}, 733=BsonObjectId{value=67fc3c9a6baaaadb2f3e0b32}, 734=BsonObjectId{value=67fc3c9a6baaaadb2f3e0b33}, 735=BsonObjectId{value=67fc3c9a6baaaadb2f3e0b34}, 736=BsonObjectId{value=67fc3c9a6baaaadb2f3e0b35}, 737=BsonObjectId{value=67fc3c9a6baaaadb2f3e0b36}, 738=BsonObjectId{value=67fc3c9a6baaaadb2f3e0b37}, 739=BsonObjectId{value=67fc3c9a6baaaadb2f3e0b38}, 740=BsonObjectId{value=67fc3c9a6baaaadb2f3e0b39}, 741=BsonObjectId{value=67fc3c9a6baaaadb2f3e0b3a}, 742=BsonObjectId{value=67fc3c9a6baaaadb2f3e0b3b}, 743=BsonObjectId{value=67fc3c9a6baaaadb2f3e0b3c}, 744=BsonObjectId{value=67fc3c9a6baaaadb2f3e0b3d}, 745=BsonObjectId{value=67fc3c9a6baaaadb2f3e0b3e}, 746=BsonObjectId{value=67fc3c9a6baaaadb2f3e0b3f}, 747=BsonObjectId{value=67fc3c9a6baaaadb2f3e0b40}, 748=BsonObjectId{value=67fc3c9a6baaaadb2f3e0b41}, 749=BsonObjectId{value=67fc3c9a6baaaadb2f3e0b42}, 750=BsonObjectId{value=67fc3c9a6baaaadb2f3e0b43}, 751=BsonObjectId{value=67fc3c9a6baaaadb2f3e0b44}, 752=BsonObjectId{value=67fc3c9a6baaaadb2f3e0b45}, 753=BsonObjectId{value=67fc3c9a6baaaadb2f3e0b46}, 754=BsonObjectId{value=67fc3c9a6baaaadb2f3e0b47}, 755=BsonObjectId{value=67fc3c9a6baaaadb2f3e0b48}, 756=BsonObjectId{value=67fc3c9a6baaaadb2f3e0b49}, 757=BsonObjectId{value=67fc3c9a6baaaadb2f3e0b4a}, 758=BsonObjectId{value=67fc3c9a6baaaadb2f3e0b4b}, 759=BsonObjectId{value=67fc3c9a6baaaadb2f3e0b4c}, 760=BsonObjectId{value=67fc3c9a6baaaadb2f3e0b4d}, 761=BsonObjectId{value=67fc3c9a6baaaadb2f3e0b4e}, 762=BsonObjectId{value=67fc3c9a6baaaadb2f3e0b4f}, 763=BsonObjectId{value=67fc3c9a6baaaadb2f3e0b50}, 764=BsonObjectId{value=67fc3c9a6baaaadb2f3e0b51}, 765=BsonObjectId{value=67fc3c9a6baaaadb2f3e0b52}, 766=BsonObjectId{value=67fc3c9a6baaaadb2f3e0b53}, 767=BsonObjectId{value=67fc3c9a6baaaadb2f3e0b54}, 768=BsonObjectId{value=67fc3c9a6baaaadb2f3e0b55}, 769=BsonObjectId{value=67fc3c9a6baaaadb2f3e0b56}, 770=BsonObjectId{value=67fc3c9a6baaaadb2f3e0b57}, 771=BsonObjectId{value=67fc3c9a6baaaadb2f3e0b58}, 772=BsonObjectId{value=67fc3c9a6baaaadb2f3e0b59}, 773=BsonObjectId{value=67fc3c9a6baaaadb2f3e0b5a}, 774=BsonObjectId{value=67fc3c9a6baaaadb2f3e0b5b}, 775=BsonObjectId{value=67fc3c9a6baaaadb2f3e0b5c}, 776=BsonObjectId{value=67fc3c9a6baaaadb2f3e0b5d}, 777=BsonObjectId{value=67fc3c9a6baaaadb2f3e0b5e}, 778=BsonObjectId{value=67fc3c9a6baaaadb2f3e0b5f}, 779=BsonObjectId{value=67fc3c9a6baaaadb2f3e0b60}, 780=BsonObjectId{value=67fc3c9a6baaaadb2f3e0b61}, 781=BsonObjectId{value=67fc3c9a6baaaadb2f3e0b62}, 782=BsonObjectId{value=67fc3c9a6baaaadb2f3e0b63}, 783=BsonObjectId{value=67fc3c9a6baaaadb2f3e0b64}, 784=BsonObjectId{value=67fc3c9a6baaaadb2f3e0b65}, 785=BsonObjectId{value=67fc3c9a6baaaadb2f3e0b66}, 786=BsonObjectId{value=67fc3c9a6baaaadb2f3e0b67}, 787=BsonObjectId{value=67fc3c9a6baaaadb2f3e0b68}, 788=BsonObjectId{value=67fc3c9a6baaaadb2f3e0b69}, 789=BsonObjectId{value=67fc3c9a6baaaadb2f3e0b6a}, 790=BsonObjectId{value=67fc3c9a6baaaadb2f3e0b6b}, 791=BsonObjectId{value=67fc3c9a6baaaadb2f3e0b6c}, 792=BsonObjectId{value=67fc3c9a6baaaadb2f3e0b6d}, 793=BsonObjectId{value=67fc3c9a6baaaadb2f3e0b6e}, 794=BsonObjectId{value=67fc3c9a6baaaadb2f3e0b6f}, 795=BsonObjectId{value=67fc3c9a6baaaadb2f3e0b70}, 796=BsonObjectId{value=67fc3c9a6baaaadb2f3e0b71}, 797=BsonObjectId{value=67fc3c9a6baaaadb2f3e0b72}, 798=BsonObjectId{value=67fc3c9a6baaaadb2f3e0b73}, 799=BsonObjectId{value=67fc3c9a6baaaadb2f3e0b74}, 800=BsonObjectId{value=67fc3c9a6baaaadb2f3e0b75}, 801=BsonObjectId{value=67fc3c9a6baaaadb2f3e0b76}, 802=BsonObjectId{value=67fc3c9a6baaaadb2f3e0b77}, 803=BsonObjectId{value=67fc3c9a6baaaadb2f3e0b78}, 804=BsonObjectId{value=67fc3c9a6baaaadb2f3e0b79}, 805=BsonObjectId{value=67fc3c9a6baaaadb2f3e0b7a}, 806=BsonObjectId{value=67fc3c9a6baaaadb2f3e0b7b}, 807=BsonObjectId{value=67fc3c9a6baaaadb2f3e0b7c}, 808=BsonObjectId{value=67fc3c9a6baaaadb2f3e0b7d}, 809=BsonObjectId{value=67fc3c9a6baaaadb2f3e0b7e}, 810=BsonObjectId{value=67fc3c9a6baaaadb2f3e0b7f}, 811=BsonObjectId{value=67fc3c9a6baaaadb2f3e0b80}, 812=BsonObjectId{value=67fc3c9a6baaaadb2f3e0b81}, 813=BsonObjectId{value=67fc3c9a6baaaadb2f3e0b82}, 814=BsonObjectId{value=67fc3c9a6baaaadb2f3e0b83}, 815=BsonObjectId{value=67fc3c9a6baaaadb2f3e0b84}, 816=BsonObjectId{value=67fc3c9a6baaaadb2f3e0b85}, 817=BsonObjectId{value=67fc3c9a6baaaadb2f3e0b86}, 818=BsonObjectId{value=67fc3c9a6baaaadb2f3e0b87}, 819=BsonObjectId{value=67fc3c9a6baaaadb2f3e0b88}, 820=BsonObjectId{value=67fc3c9a6baaaadb2f3e0b89}, 821=BsonObjectId{value=67fc3c9a6baaaadb2f3e0b8a}, 822=BsonObjectId{value=67fc3c9a6baaaadb2f3e0b8b}, 823=BsonObjectId{value=67fc3c9a6baaaadb2f3e0b8c}, 824=BsonObjectId{value=67fc3c9a6baaaadb2f3e0b8d}, 825=BsonObjectId{value=67fc3c9a6baaaadb2f3e0b8e}, 826=BsonObjectId{value=67fc3c9a6baaaadb2f3e0b8f}, 827=BsonObjectId{value=67fc3c9a6baaaadb2f3e0b90}, 828=BsonObjectId{value=67fc3c9a6baaaadb2f3e0b91}}}"
      ]
     },
     "execution_count": 24,
     "metadata": {},
     "output_type": "execute_result"
    }
   ],
   "execution_count": 24
  }
 ],
 "metadata": {
  "kernelspec": {
   "display_name": "Kotlin",
   "language": "kotlin",
   "name": "kotlin"
  },
  "language_info": {
   "name": "kotlin",
   "version": "1.9.0",
   "mimetype": "text/x-kotlin",
   "file_extension": ".kt",
   "pygments_lexer": "kotlin",
   "codemirror_mode": "text/x-kotlin",
   "nbconvert_exporter": ""
  },
  "ktnbPluginMetadata": {
   "projectDependencies": true
  }
 },
 "nbformat": 4,
 "nbformat_minor": 0
}
