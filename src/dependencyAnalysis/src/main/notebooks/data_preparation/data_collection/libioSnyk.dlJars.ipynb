{
 "cells": [
  {
   "cell_type": "code",
   "metadata": {
    "collapsed": true,
    "ExecuteTime": {
     "end_time": "2025-04-14T14:09:10.383428Z",
     "start_time": "2025-04-14T14:09:10.327276Z"
    }
   },
   "source": [
    "import kotlinx.coroutines.Dispatchers\n",
    "import kotlinx.coroutines.async\n",
    "import kotlinx.coroutines.awaitAll\n",
    "import kotlinx.coroutines.runBlocking\n",
    "import com.google.common.hash.Hashing"
   ],
   "outputs": [],
   "execution_count": 9
  },
  {
   "cell_type": "code",
   "metadata": {
    "collapsed": false,
    "ExecuteTime": {
     "end_time": "2025-04-14T14:09:10.902543Z",
     "start_time": "2025-04-14T14:09:10.682133Z"
    }
   },
   "source": [
    "import io.github.cdimascio.dotenv.Dotenv\n",
    "import java.nio.file.Paths\n",
    "\n",
    "val dotenv = Dotenv.load()\n",
    "val dataDir = dotenv.get(\"DATA_DIR\").let { Paths.get(it).toFile() }.also { it.mkdirs() }\n",
    "dataDir"
   ],
   "outputs": [
    {
     "data": {
      "text/plain": [
       "/home/j.zeidler@GDAAG.DE/private/ba3/bachelor-thesis/data"
      ]
     },
     "execution_count": 10,
     "metadata": {},
     "output_type": "execute_result"
    }
   ],
   "execution_count": 10
  },
  {
   "cell_type": "code",
   "metadata": {
    "collapsed": false,
    "ExecuteTime": {
     "end_time": "2025-04-14T14:09:11.187109Z",
     "start_time": "2025-04-14T14:09:11.058548Z"
    }
   },
   "source": [
    "import org.bson.BsonDocument\n",
    "import org.litote.kmongo.*\n",
    "\n",
    "val client = KMongo.createClient(\"mongodb://localhost:42692/\")\n",
    "val db = client.getDatabase(\"s5_snyk_libio\")\n",
    "val libioVuln = db.getCollection<BsonDocument>(\"libioVuln\")"
   ],
   "outputs": [],
   "execution_count": 11
  },
  {
   "cell_type": "code",
   "metadata": {
    "ExecuteTime": {
     "end_time": "2025-04-14T14:09:11.737382Z",
     "start_time": "2025-04-14T14:09:11.448092Z"
    }
   },
   "source": [
    "import com.mongodb.client.*\n",
    "\n",
    "private class MongoCursorIterable<T>(private val cursor: MongoCursor<T>) : MongoCursor<T> by cursor, Iterable<T> {\n",
    "\n",
    "    override fun iterator(): Iterator<T> = cursor\n",
    "}\n",
    "\n",
    "private fun <T> MongoIterable<T>.kCursor(): MongoCursorIterable<T> = MongoCursorIterable(iterator())\n",
    "\n",
    "fun <T, R> MongoIterable<T>.useCursor(block: (Iterable<T>) -> R): R {\n",
    "    return kCursor().use(block)\n",
    "}"
   ],
   "outputs": [],
   "execution_count": 12
  },
  {
   "cell_type": "code",
   "metadata": {
    "collapsed": false,
    "ExecuteTime": {
     "end_time": "2025-04-14T14:09:13.988373Z",
     "start_time": "2025-04-14T14:09:13.129323Z"
    }
   },
   "source": [
    "val vulnGavs = libioVuln.find().useCursor { blk ->\n",
    "    blk.map {\n",
    "        it[\"vuln_gav\"]!!.asString().value\n",
    "    }\n",
    "}.toSet()\n",
    "\n",
    "vulnGavs.count()"
   ],
   "outputs": [
    {
     "data": {
      "text/plain": [
       "3853"
      ]
     },
     "execution_count": 13,
     "metadata": {},
     "output_type": "execute_result"
    }
   ],
   "execution_count": 13
  },
  {
   "cell_type": "code",
   "metadata": {
    "collapsed": false,
    "ExecuteTime": {
     "end_time": "2025-04-14T14:09:15.642162Z",
     "start_time": "2025-04-14T14:09:15.364168Z"
    }
   },
   "source": [
    "val jarsDir = dataDir.resolve(\"interim/jars\").also { it.mkdirs() }\n",
    "\n",
    "fun gavToJarUrl(packageGAV: String): String\n",
    "{\n",
    "    val parts = packageGAV.split(\":\")\n",
    "    return parts[0].replace('.', '/') + \"/\" + parts[1] + \"/\" + parts[2] + \"/\" + parts[1] + \"-\" + parts[2] + \".jar\"\n",
    "}"
   ],
   "outputs": [],
   "execution_count": 14
  },
  {
   "cell_type": "code",
   "metadata": {
    "collapsed": false,
    "ExecuteTime": {
     "end_time": "2025-04-14T14:09:16.240486Z",
     "start_time": "2025-04-14T14:09:15.888850Z"
    }
   },
   "source": [
    "fun _aria2cDlTxt(repoUrl: String) =\n",
    "    vulnGavs.map {\n",
    "        val jarUrl = gavToJarUrl(it)\n",
    "        val jarPath = jarsDir.resolve(jarUrl).also { it.parentFile.mkdirs() }.relativeTo(jarsDir).path\n",
    "        val dlUrl = \"$repoUrl/$jarUrl\"\n",
    "        \"$dlUrl\\n\\tout=$jarPath\"\n",
    "    }.joinToString(\"\\n\")\n",
    "\n",
    "val aria2DlTxtMvn = _aria2cDlTxt(\"https://repo1.maven.org/maven2\")\n",
    "// val aria2DlTxtMvn = _aria2cDlTxt(\"https://repo.jenkins-ci.org/releases\")\n",
    "// DISPLAY(aria2DlTxtMvn)\n",
    "jarsDir.resolve(\"dl.txt\").writeText(aria2DlTxtMvn)"
   ],
   "outputs": [],
   "execution_count": 15
  },
  {
   "cell_type": "markdown",
   "metadata": {
    "collapsed": false
   },
   "source": [
    "now run aria2c"
   ]
  },
  {
   "cell_type": "code",
   "metadata": {
    "collapsed": false,
    "ExecuteTime": {
     "end_time": "2025-04-14T14:08:33.055209Z",
     "start_time": "2025-04-14T14:08:32.473414Z"
    }
   },
   "source": [
    "val gavToJar = vulnGavs\n",
    "    .map {\n",
    "        val jarPath = jarsDir.resolve(gavToJarUrl(it))\n",
    "        if (!jarPath.isFile()) null\n",
    "        else it to jarPath.relativeTo(dataDir).path\n",
    "    }\n",
    "    .filterNotNull()\n",
    "    .toMap()\n",
    "gavToJar.count()"
   ],
   "outputs": [
    {
     "data": {
      "text/plain": [
       "3852"
      ]
     },
     "execution_count": 8,
     "metadata": {},
     "output_type": "execute_result"
    }
   ],
   "execution_count": 8
  },
  {
   "cell_type": "code",
   "metadata": {
    "collapsed": false,
    "ExecuteTime": {
     "end_time": "2025-04-13T22:29:47.422097Z",
     "start_time": "2025-04-13T22:29:47.262150Z"
    }
   },
   "source": [
    "gavToJar.asSequence().shuffled().first()"
   ],
   "outputs": [
    {
     "data": {
      "text/plain": [
       "org.jsoup:jsoup:1.3.3=interim/jars/org/jsoup/jsoup/1.3.3/jsoup-1.3.3.jar"
      ]
     },
     "execution_count": 11,
     "metadata": {},
     "output_type": "execute_result"
    }
   ],
   "execution_count": 11
  }
 ],
 "metadata": {
  "kernelspec": {
   "display_name": "Kotlin",
   "language": "kotlin",
   "name": "kotlin"
  },
  "ktnbPluginMetadata": {
   "projectDependencies": true
  },
  "language_info": {
   "codemirror_mode": "text/x-kotlin",
   "file_extension": ".kt",
   "mimetype": "text/x-kotlin",
   "name": "kotlin",
   "nbconvert_exporter": "",
   "pygments_lexer": "kotlin",
   "version": "1.9.23"
  }
 },
 "nbformat": 4,
 "nbformat_minor": 0
}
