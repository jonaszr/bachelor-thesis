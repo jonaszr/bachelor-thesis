{
 "cells": [
  {
   "cell_type": "code",
   "metadata": {
    "collapsed": false,
    "jupyter": {
     "outputs_hidden": false
    },
    "ExecuteTime": {
     "end_time": "2025-04-13T22:25:06.853953Z",
     "start_time": "2025-04-13T22:25:06.791166Z"
    }
   },
   "source": [
    "import io.github.cdimascio.dotenv.Dotenv\n",
    "import java.nio.file.Paths\n",
    "import com.fasterxml.jackson.databind.JsonNode\n",
    "import org.litote.kmongo.*"
   ],
   "outputs": [],
   "execution_count": 1
  },
  {
   "cell_type": "code",
   "metadata": {
    "collapsed": false,
    "jupyter": {
     "outputs_hidden": false
    },
    "ExecuteTime": {
     "end_time": "2025-04-13T22:25:08.192943Z",
     "start_time": "2025-04-13T22:25:06.863482Z"
    }
   },
   "source": [
    "import org.bson.BsonDocument\n",
    "\n",
    "val client = KMongo.createClient(\"mongodb://localhost:42692/\")\n",
    "val db = client.getDatabase(\"s5_snyk_libio\")"
   ],
   "outputs": [],
   "execution_count": 2
  },
  {
   "cell_type": "code",
   "metadata": {
    "collapsed": false,
    "jupyter": {
     "outputs_hidden": false
    },
    "ExecuteTime": {
     "end_time": "2025-04-13T22:25:08.310044Z",
     "start_time": "2025-04-13T22:25:08.199573Z"
    }
   },
   "source": [
    "val patchCommitCollection = db.getCollection(\"patchCommitsLibio\")"
   ],
   "outputs": [],
   "execution_count": 3
  },
  {
   "cell_type": "code",
   "metadata": {
    "collapsed": false,
    "jupyter": {
     "outputs_hidden": false
    },
    "ExecuteTime": {
     "end_time": "2025-04-13T22:25:09.119811Z",
     "start_time": "2025-04-13T22:25:08.316920Z"
    }
   },
   "source": [
    "import com.mongodb.client.*\n",
    "\n",
    "private class MongoCursorIterable<T>(private val cursor: MongoCursor<T>) : MongoCursor<T> by cursor, Iterable<T> {\n",
    "\n",
    "    override fun iterator(): Iterator<T> = cursor\n",
    "}\n",
    "\n",
    "private fun <T> MongoIterable<T>.kCursor(): MongoCursorIterable<T> = MongoCursorIterable(iterator())\n",
    "\n",
    "fun <T, R> MongoIterable<T>.useCursor(block: (Iterable<T>) -> R): R {\n",
    "    return kCursor().use(block)\n",
    "}"
   ],
   "outputs": [],
   "execution_count": 4
  },
  {
   "cell_type": "code",
   "metadata": {
    "collapsed": false,
    "jupyter": {
     "outputs_hidden": false
    },
    "ExecuteTime": {
     "end_time": "2025-04-13T22:25:09.786761Z",
     "start_time": "2025-04-13T22:25:09.126887Z"
    }
   },
   "source": [
    "import com.github.javaparser.JavaParser\n",
    "\n",
    "fun getClassNameOfJavaSource(javaSrc: String): String?\n",
    "{\n",
    "    val cu = JavaParser().parse(javaSrc)\n",
    "    val packageName = cu.result.get().packageDeclaration.get().name.toString()\n",
    "\n",
    "    val typeDec = cu.result.get().types.firstOrNull()\n",
    "\n",
    "    val res = if (typeDec == null) null\n",
    "    else (if (packageName.isNotEmpty()) \"$packageName.\" else \"\") + typeDec.name.toString()\n",
    "\n",
    "    return res\n",
    "}"
   ],
   "outputs": [],
   "execution_count": 5
  },
  {
   "cell_type": "code",
   "metadata": {
    "collapsed": false,
    "jupyter": {
     "outputs_hidden": false
    },
    "ExecuteTime": {
     "end_time": "2025-04-13T22:25:09.995111Z",
     "start_time": "2025-04-13T22:25:09.794778Z"
    }
   },
   "source": [
    "patchCommitCollection.countDocuments()"
   ],
   "outputs": [
    {
     "data": {
      "text/plain": [
       "1153"
      ]
     },
     "execution_count": 6,
     "metadata": {},
     "output_type": "execute_result"
    }
   ],
   "execution_count": 6
  },
  {
   "cell_type": "code",
   "metadata": {
    "collapsed": false,
    "jupyter": {
     "outputs_hidden": false
    },
    "ExecuteTime": {
     "end_time": "2025-04-13T22:25:29.828317Z",
     "start_time": "2025-04-13T22:25:10.020414Z"
    }
   },
   "source": [
    "val patchCommitRecordsWithModifiedClass = patchCommitCollection.find().useCursor { blk ->\n",
    "    blk.map {\n",
    "        it[\"modifiedClass\"] = try {\n",
    "            getClassNameOfJavaSource(it[\"modifiedFileSrcBefore\"] as String)\n",
    "        } catch (e: Exception) {\n",
    "            null\n",
    "        }\n",
    "        it\n",
    "    }.filterNotNull()\n",
    "}.toList().also { println(it.count()) }"
   ],
   "outputs": [
    {
     "name": "stdout",
     "output_type": "stream",
     "text": [
      "1153\n"
     ]
    }
   ],
   "execution_count": 7
  },
  {
   "cell_type": "code",
   "metadata": {
    "collapsed": false,
    "jupyter": {
     "outputs_hidden": false
    },
    "ExecuteTime": {
     "end_time": "2025-04-13T22:25:31.865843Z",
     "start_time": "2025-04-13T22:25:29.853503Z"
    }
   },
   "source": [
    "patchCommitRecordsWithModifiedClass\n",
    "    .forEach {\n",
    "        patchCommitCollection.replaceOneById(it[\"_id\"]!!, it)\n",
    "    }"
   ],
   "outputs": [],
   "execution_count": 8
  },
  {
   "cell_type": "code",
   "metadata": {
    "ExecuteTime": {
     "end_time": "2025-04-13T22:25:31.878397Z",
     "start_time": "2025-04-13T22:25:31.871789Z"
    }
   },
   "source": [],
   "outputs": [],
   "execution_count": null
  }
 ],
 "metadata": {
  "kernelspec": {
   "display_name": "Kotlin",
   "language": "kotlin",
   "name": "kotlin"
  },
  "ktnbPluginMetadata": {
   "projectDependencies": true
  },
  "language_info": {
   "codemirror_mode": "text/x-kotlin",
   "file_extension": ".kt",
   "mimetype": "text/x-kotlin",
   "name": "python",
   "nbconvert_exporter": "",
   "pygments_lexer": "kotlin",
   "version": "3.10.12"
  }
 },
 "nbformat": 4,
 "nbformat_minor": 4
}
