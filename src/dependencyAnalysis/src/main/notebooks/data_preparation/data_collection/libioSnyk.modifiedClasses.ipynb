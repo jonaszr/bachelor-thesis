{
 "cells": [
  {
   "cell_type": "code",
   "source": [
    "import io.github.cdimascio.dotenv.Dotenv\n",
    "import java.nio.file.Paths\n",
    "import com.fasterxml.jackson.databind.JsonNode\n",
    "import org.litote.kmongo.*"
   ],
   "metadata": {
    "collapsed": false
   },
   "outputs": [],
   "execution_count": null
  },
  {
   "cell_type": "code",
   "source": [
    "import org.bson.BsonDocument\n",
    "\n",
    "val client = KMongo.createClient(\"mongodb://localhost:42692/\")\n",
    "val db = client.getDatabase(\"s5_snyk_libio\")"
   ],
   "metadata": {
    "collapsed": false
   },
   "outputs": [],
   "execution_count": null
  },
  {
   "cell_type": "code",
   "source": [
    "val patchCommitCollection = db.getCollection(\"patchCommitsLibio\")"
   ],
   "metadata": {
    "collapsed": false
   },
   "outputs": [],
   "execution_count": null
  },
  {
   "cell_type": "code",
   "source": [
    "import com.mongodb.client.*\n",
    "\n",
    "private class MongoCursorIterable<T>(private val cursor: MongoCursor<T>) : MongoCursor<T> by cursor, Iterable<T> {\n",
    "\n",
    "    override fun iterator(): Iterator<T> = cursor\n",
    "}\n",
    "\n",
    "private fun <T> MongoIterable<T>.kCursor(): MongoCursorIterable<T> = MongoCursorIterable(iterator())\n",
    "\n",
    "fun <T, R> MongoIterable<T>.useCursor(block: (Iterable<T>) -> R): R {\n",
    "    return kCursor().use(block)\n",
    "}"
   ],
   "metadata": {
    "collapsed": false
   },
   "outputs": [],
   "execution_count": null
  },
  {
   "cell_type": "code",
   "source": [
    "import com.github.javaparser.JavaParser\n",
    "\n",
    "fun getClassNameOfJavaSource(javaSrc: String): String?\n",
    "{\n",
    "    val cu = JavaParser().parse(javaSrc)\n",
    "    val packageName = cu.result.get().packageDeclaration.get().name.toString()\n",
    "\n",
    "    val typeDec = cu.result.get().types.firstOrNull()\n",
    "\n",
    "    val res = if (typeDec == null) null\n",
    "    else (if (packageName.isNotEmpty()) \"$packageName.\" else \"\") + typeDec.name.toString()\n",
    "\n",
    "    return res\n",
    "}"
   ],
   "metadata": {
    "collapsed": false
   },
   "outputs": [],
   "execution_count": null
  },
  {
   "cell_type": "code",
   "source": [
    "patchCommitCollection.countDocuments()"
   ],
   "metadata": {
    "collapsed": false
   },
   "outputs": [],
   "execution_count": null
  },
  {
   "cell_type": "code",
   "source": [
    "val patchCommitRecordsWithModifiedClass = patchCommitCollection.find().useCursor { blk ->\n",
    "    blk.map {\n",
    "        it[\"modifiedClass\"] = try {\n",
    "            getClassNameOfJavaSource(it[\"modifiedFileSrcBefore\"] as String)\n",
    "        } catch (e: Exception) {\n",
    "            null\n",
    "        }\n",
    "        it\n",
    "    }.filterNotNull()\n",
    "}.toList().also { println(it.count()) }"
   ],
   "metadata": {
    "collapsed": false
   },
   "outputs": [],
   "execution_count": null
  },
  {
   "cell_type": "code",
   "source": [
    "patchCommitRecordsWithModifiedClass\n",
    "    .forEach {\n",
    "        patchCommitCollection.replaceOneById(it[\"_id\"]!!, it)\n",
    "    }"
   ],
   "metadata": {
    "collapsed": false
   },
   "outputs": [],
   "execution_count": null
  }
 ],
 "metadata": {
  "kernelspec": {
   "display_name": "Kotlin",
   "language": "kotlin",
   "name": "kotlin"
  },
  "language_info": {
   "name": "kotlin",
   "version": "1.9.0",
   "mimetype": "text/x-kotlin",
   "file_extension": ".kt",
   "pygments_lexer": "kotlin",
   "codemirror_mode": "text/x-kotlin",
   "nbconvert_exporter": ""
  },
  "ktnbPluginMetadata": {
   "projectDependencies": true
  }
 },
 "nbformat": 4,
 "nbformat_minor": 0
}
