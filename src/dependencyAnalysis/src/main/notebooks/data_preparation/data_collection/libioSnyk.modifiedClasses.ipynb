{
 "cells": [
  {
   "cell_type": "code",
   "metadata": {
    "collapsed": false,
    "jupyter": {
     "outputs_hidden": false
    },
    "ExecuteTime": {
     "end_time": "2025-04-11T13:30:54.159421Z",
     "start_time": "2025-04-11T13:30:54.109714Z"
    }
   },
   "source": [
    "import io.github.cdimascio.dotenv.Dotenv\n",
    "import java.nio.file.Paths\n",
    "import com.fasterxml.jackson.databind.JsonNode\n",
    "import org.litote.kmongo.*"
   ],
   "outputs": [],
   "execution_count": 9
  },
  {
   "cell_type": "code",
   "metadata": {
    "collapsed": false,
    "jupyter": {
     "outputs_hidden": false
    },
    "ExecuteTime": {
     "end_time": "2025-04-11T13:30:54.269811Z",
     "start_time": "2025-04-11T13:30:54.177789Z"
    }
   },
   "source": [
    "import org.bson.BsonDocument\n",
    "\n",
    "val client = KMongo.createClient(\"mongodb://localhost:42692/\")\n",
    "val db = client.getDatabase(\"s5_snyk_libio\")"
   ],
   "outputs": [],
   "execution_count": 10
  },
  {
   "cell_type": "code",
   "metadata": {
    "collapsed": false,
    "jupyter": {
     "outputs_hidden": false
    },
    "ExecuteTime": {
     "end_time": "2025-04-11T13:30:54.348768Z",
     "start_time": "2025-04-11T13:30:54.276261Z"
    }
   },
   "source": [
    "val patchCommitCollection = db.getCollection(\"patchCommitsLibio\")"
   ],
   "outputs": [],
   "execution_count": 11
  },
  {
   "cell_type": "code",
   "metadata": {
    "collapsed": false,
    "jupyter": {
     "outputs_hidden": false
    },
    "ExecuteTime": {
     "end_time": "2025-04-11T13:30:54.660167Z",
     "start_time": "2025-04-11T13:30:54.361086Z"
    }
   },
   "source": [
    "import com.mongodb.client.*\n",
    "\n",
    "private class MongoCursorIterable<T>(private val cursor: MongoCursor<T>) : MongoCursor<T> by cursor, Iterable<T> {\n",
    "\n",
    "    override fun iterator(): Iterator<T> = cursor\n",
    "}\n",
    "\n",
    "private fun <T> MongoIterable<T>.kCursor(): MongoCursorIterable<T> = MongoCursorIterable(iterator())\n",
    "\n",
    "fun <T, R> MongoIterable<T>.useCursor(block: (Iterable<T>) -> R): R {\n",
    "    return kCursor().use(block)\n",
    "}"
   ],
   "outputs": [],
   "execution_count": 12
  },
  {
   "cell_type": "code",
   "metadata": {
    "collapsed": false,
    "jupyter": {
     "outputs_hidden": false
    },
    "ExecuteTime": {
     "end_time": "2025-04-11T13:30:54.941586Z",
     "start_time": "2025-04-11T13:30:54.668214Z"
    }
   },
   "source": [
    "import com.github.javaparser.JavaParser\n",
    "\n",
    "fun getClassNameOfJavaSource(javaSrc: String): String?\n",
    "{\n",
    "    val cu = JavaParser().parse(javaSrc)\n",
    "    val packageName = cu.result.get().packageDeclaration.get().name.toString()\n",
    "\n",
    "    val typeDec = cu.result.get().types.firstOrNull()\n",
    "\n",
    "    val res = if (typeDec == null) null\n",
    "    else (if (packageName.isNotEmpty()) \"$packageName.\" else \"\") + typeDec.name.toString()\n",
    "\n",
    "    return res\n",
    "}"
   ],
   "outputs": [],
   "execution_count": 13
  },
  {
   "cell_type": "code",
   "metadata": {
    "collapsed": false,
    "jupyter": {
     "outputs_hidden": false
    },
    "ExecuteTime": {
     "end_time": "2025-04-11T13:30:55.223951Z",
     "start_time": "2025-04-11T13:30:54.952629Z"
    }
   },
   "source": [
    "patchCommitCollection.countDocuments()"
   ],
   "outputs": [
    {
     "data": {
      "text/plain": [
       "1056"
      ]
     },
     "execution_count": 14,
     "metadata": {},
     "output_type": "execute_result"
    }
   ],
   "execution_count": 14
  },
  {
   "cell_type": "code",
   "metadata": {
    "collapsed": false,
    "jupyter": {
     "outputs_hidden": false
    },
    "ExecuteTime": {
     "end_time": "2025-04-11T13:31:03.637476Z",
     "start_time": "2025-04-11T13:30:55.246331Z"
    }
   },
   "source": [
    "val patchCommitRecordsWithModifiedClass = patchCommitCollection.find().useCursor { blk ->\n",
    "    blk.map {\n",
    "        it[\"modifiedClass\"] = try {\n",
    "            getClassNameOfJavaSource(it[\"modifiedFileSrcBefore\"] as String)\n",
    "        } catch (e: Exception) {\n",
    "            null\n",
    "        }\n",
    "        it\n",
    "    }.filterNotNull()\n",
    "}.toList().also { println(it.count()) }"
   ],
   "outputs": [
    {
     "name": "stdout",
     "output_type": "stream",
     "text": [
      "1056\n"
     ]
    }
   ],
   "execution_count": 15
  },
  {
   "cell_type": "code",
   "metadata": {
    "collapsed": false,
    "jupyter": {
     "outputs_hidden": false
    },
    "ExecuteTime": {
     "end_time": "2025-04-11T13:31:04.800299Z",
     "start_time": "2025-04-11T13:31:03.703715Z"
    }
   },
   "source": [
    "patchCommitRecordsWithModifiedClass\n",
    "    .forEach {\n",
    "        patchCommitCollection.replaceOneById(it[\"_id\"]!!, it)\n",
    "    }"
   ],
   "outputs": [],
   "execution_count": 16
  },
  {
   "metadata": {
    "ExecuteTime": {
     "end_time": "2025-04-11T13:31:04.812830Z",
     "start_time": "2025-04-11T13:31:04.805863Z"
    }
   },
   "cell_type": "code",
   "source": "",
   "outputs": [],
   "execution_count": null
  }
 ],
 "metadata": {
  "kernelspec": {
   "display_name": "Kotlin",
   "language": "kotlin",
   "name": "kotlin"
  },
  "ktnbPluginMetadata": {
   "projectDependencies": true
  },
  "language_info": {
   "codemirror_mode": "text/x-kotlin",
   "file_extension": ".kt",
   "mimetype": "text/x-kotlin",
   "name": "python",
   "nbconvert_exporter": "",
   "pygments_lexer": "kotlin",
   "version": "3.10.12"
  }
 },
 "nbformat": 4,
 "nbformat_minor": 4
}
