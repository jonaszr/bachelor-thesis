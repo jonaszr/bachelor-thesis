{
 "cells": [
  {
   "cell_type": "code",
   "metadata": {
    "collapsed": true,
    "ExecuteTime": {
     "end_time": "2025-04-11T14:23:35.105280Z",
     "start_time": "2025-04-11T14:23:34.941109Z"
    }
   },
   "source": [
    "import kotlinx.coroutines.Dispatchers\n",
    "import kotlinx.coroutines.async\n",
    "import kotlinx.coroutines.awaitAll\n",
    "import kotlinx.coroutines.runBlocking\n",
    "import com.google.common.hash.Hashing"
   ],
   "outputs": [],
   "execution_count": 11
  },
  {
   "cell_type": "code",
   "source": [
    "import io.github.cdimascio.dotenv.Dotenv\n",
    "import java.nio.file.Paths\n",
    "\n",
    "val dotenv = Dotenv.load()\n",
    "val dataDir = dotenv.get(\"DATA_DIR\").let { Paths.get(it).toFile() }.also { it.mkdirs() }\n",
    "dataDir"
   ],
   "metadata": {
    "collapsed": false,
    "ExecuteTime": {
     "end_time": "2025-04-11T14:23:35.784255Z",
     "start_time": "2025-04-11T14:23:35.618022Z"
    }
   },
   "outputs": [
    {
     "data": {
      "text/plain": [
       "/home/j.zeidler@GDAAG.DE/private/ba3/bachelor-thesis/data"
      ]
     },
     "execution_count": 12,
     "metadata": {},
     "output_type": "execute_result"
    }
   ],
   "execution_count": 12
  },
  {
   "cell_type": "code",
   "source": [
    "import org.bson.BsonDocument\n",
    "import org.litote.kmongo.*\n",
    "\n",
    "val client = KMongo.createClient(\"mongodb://localhost:42692/\")\n",
    "val db = client.getDatabase(\"s5_snyk_libio\")\n",
    "val mvnEcoVuln = db.getCollection<BsonDocument>(\"mvnEcoVuln\")"
   ],
   "metadata": {
    "collapsed": false,
    "ExecuteTime": {
     "end_time": "2025-04-11T14:23:36.027794Z",
     "start_time": "2025-04-11T14:23:35.871327Z"
    }
   },
   "outputs": [],
   "execution_count": 13
  },
  {
   "metadata": {
    "ExecuteTime": {
     "end_time": "2025-04-11T14:23:36.258242Z",
     "start_time": "2025-04-11T14:23:36.037720Z"
    }
   },
   "cell_type": "code",
   "source": [
    "import com.mongodb.client.*\n",
    "\n",
    "private class MongoCursorIterable<T>(private val cursor: MongoCursor<T>) : MongoCursor<T> by cursor, Iterable<T> {\n",
    "\n",
    "    override fun iterator(): Iterator<T> = cursor\n",
    "}\n",
    "\n",
    "private fun <T> MongoIterable<T>.kCursor(): MongoCursorIterable<T> = MongoCursorIterable(iterator())\n",
    "\n",
    "fun <T, R> MongoIterable<T>.useCursor(block: (Iterable<T>) -> R): R {\n",
    "    return kCursor().use(block)\n",
    "}"
   ],
   "outputs": [],
   "execution_count": 14
  },
  {
   "cell_type": "code",
   "source": [
    "val vulnGavs = mvnEcoVuln.find().useCursor { blk ->\n",
    "    blk.map {\n",
    "        it[\"vuln_gav\"]!!.asString().value\n",
    "    }\n",
    "}.toSet()\n",
    "\n",
    "vulnGavs.count()"
   ],
   "metadata": {
    "collapsed": false,
    "ExecuteTime": {
     "end_time": "2025-04-11T14:23:36.550536Z",
     "start_time": "2025-04-11T14:23:36.292098Z"
    }
   },
   "outputs": [
    {
     "data": {
      "text/plain": [
       "611"
      ]
     },
     "execution_count": 15,
     "metadata": {},
     "output_type": "execute_result"
    }
   ],
   "execution_count": 15
  },
  {
   "cell_type": "code",
   "source": [
    "val jarsDir = dataDir.resolve(\"interim/jars\").also { it.mkdirs() }\n",
    "\n",
    "fun gavToJarUrl(packageGAV: String): String\n",
    "{\n",
    "    val parts = packageGAV.split(\":\")\n",
    "    return parts[0].replace('.', '/') + \"/\" + parts[1] + \"/\" + parts[2] + \"/\" + parts[1] + \"-\" + parts[2] + \".jar\"\n",
    "}"
   ],
   "metadata": {
    "collapsed": false,
    "ExecuteTime": {
     "end_time": "2025-04-11T14:23:37.351022Z",
     "start_time": "2025-04-11T14:23:37.134128Z"
    }
   },
   "outputs": [],
   "execution_count": 16
  },
  {
   "cell_type": "code",
   "source": [
    "fun _aria2cDlTxt(repoUrl: String) =\n",
    "    vulnGavs.map {\n",
    "        val jarUrl = gavToJarUrl(it)\n",
    "        val jarPath = jarsDir.resolve(jarUrl).also { it.parentFile.mkdirs() }.relativeTo(jarsDir).path\n",
    "        val dlUrl = \"$repoUrl/$jarUrl\"\n",
    "        \"$dlUrl\\n\\tout=$jarPath\"\n",
    "    }.joinToString(\"\\n\")\n",
    "\n",
    "val aria2DlTxtMvn = _aria2cDlTxt(\"https://repo1.maven.org/maven2\")\n",
    "// val aria2DlTxtMvn = _aria2cDlTxt(\"https://repo.jenkins-ci.org/releases\")\n",
    "// DISPLAY(aria2DlTxtMvn)\n",
    "jarsDir.resolve(\"dl.txt\").writeText(aria2DlTxtMvn)"
   ],
   "metadata": {
    "collapsed": false,
    "ExecuteTime": {
     "end_time": "2025-04-11T14:23:38.170638Z",
     "start_time": "2025-04-11T14:23:37.781978Z"
    }
   },
   "outputs": [],
   "execution_count": 17
  },
  {
   "cell_type": "markdown",
   "source": [
    "now run aria2c"
   ],
   "metadata": {
    "collapsed": false
   }
  },
  {
   "cell_type": "code",
   "source": [
    "val gavToJar = vulnGavs\n",
    "    .map {\n",
    "        val jarPath = jarsDir.resolve(gavToJarUrl(it))\n",
    "        if (!jarPath.isFile()) null\n",
    "        else it to jarPath.relativeTo(dataDir).path\n",
    "    }\n",
    "    .filterNotNull()\n",
    "    .toMap()\n",
    "gavToJar.count()"
   ],
   "metadata": {
    "collapsed": false,
    "ExecuteTime": {
     "end_time": "2025-04-11T14:23:58.356823Z",
     "start_time": "2025-04-11T14:23:58.178354Z"
    }
   },
   "outputs": [
    {
     "data": {
      "text/plain": [
       "611"
      ]
     },
     "execution_count": 18,
     "metadata": {},
     "output_type": "execute_result"
    }
   ],
   "execution_count": 18
  },
  {
   "cell_type": "code",
   "source": [
    "gavToJar.asSequence().shuffled().first()"
   ],
   "metadata": {
    "collapsed": false,
    "ExecuteTime": {
     "end_time": "2025-04-11T14:24:00.226575Z",
     "start_time": "2025-04-11T14:24:00.020577Z"
    }
   },
   "outputs": [
    {
     "data": {
      "text/plain": [
       "org.apache.tomcat:tomcat-coyote:8.5.20=interim/jars/org/apache/tomcat/tomcat-coyote/8.5.20/tomcat-coyote-8.5.20.jar"
      ]
     },
     "execution_count": 19,
     "metadata": {},
     "output_type": "execute_result"
    }
   ],
   "execution_count": 19
  }
 ],
 "metadata": {
  "kernelspec": {
   "display_name": "Kotlin",
   "language": "kotlin",
   "name": "kotlin"
  },
  "language_info": {
   "name": "kotlin",
   "version": "1.9.0",
   "mimetype": "text/x-kotlin",
   "file_extension": ".kt",
   "pygments_lexer": "kotlin",
   "codemirror_mode": "text/x-kotlin",
   "nbconvert_exporter": ""
  },
  "ktnbPluginMetadata": {
   "projectDependencies": true
  }
 },
 "nbformat": 4,
 "nbformat_minor": 0
}
