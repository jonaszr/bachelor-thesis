{
 "cells": [
  {
   "cell_type": "code",
   "id": "initial_id",
   "metadata": {
    "collapsed": true
   },
   "source": [
    "import collections\n",
    "import json\n",
    "import random\n",
    "import re\n",
    "from itertools import chain\n",
    "from multiprocessing import Pool\n",
    "from pathlib import Path\n",
    "from typing import *\n",
    "\n",
    "import git\n",
    "import pandas as pd\n",
    "import pydriller\n",
    "from pymongo import MongoClient"
   ],
   "outputs": [],
   "execution_count": null
  },
  {
   "cell_type": "code",
   "source": [
    "import dotenv\n",
    "dotenv.load_dotenv()\n",
    "ENV = dotenv.dotenv_values(\".env\")\n",
    "DATA_DIR = Path(ENV[\"DATA_DIR\"])\n",
    "MVN_ECO_DIR = Path(ENV[\"MVN_ECO_DIR\"])\n",
    "DATA_DIR, DATA_DIR.exists(), MVN_ECO_DIR, MVN_ECO_DIR.exists()"
   ],
   "metadata": {
    "collapsed": false
   },
   "id": "90013fddbab8e896",
   "outputs": [],
   "execution_count": null
  },
  {
   "cell_type": "code",
   "source": [
    "mvn_eco_dep_data = pd.read_csv(MVN_ECO_DIR/'csv'/'DEP.csv').to_dict(orient='records')\n",
    "mvn_eco_patch_data = pd.read_csv(MVN_ECO_DIR/'csv'/'PATCH.csv').to_dict(orient='records')\n",
    "mvn_eco_cve_data = pd.read_csv(MVN_ECO_DIR/'csv'/'CVE.csv').to_dict(orient='records')\n",
    "mvn_eco_dep_data[0].keys(), mvn_eco_patch_data[0].keys(), mvn_eco_cve_data[0].keys()"
   ],
   "metadata": {
    "collapsed": false
   },
   "id": "b718ace1a554b65e",
   "outputs": [],
   "execution_count": null
  },
  {
   "cell_type": "code",
   "source": [],
   "metadata": {
    "collapsed": false
   },
   "id": "41583e99a6b16d",
   "outputs": [],
   "execution_count": null
  },
  {
   "cell_type": "code",
   "source": [
    "len(list(x['CVE_ID'] for x in mvn_eco_cve_data)), len(set(x['CVE_ID'] for x in mvn_eco_cve_data)), len(list(x['CVE_ID'] for x in mvn_eco_patch_data)), len(set(x['CVE_ID'] for x in mvn_eco_patch_data))"
   ],
   "metadata": {
    "collapsed": false
   },
   "id": "cb5640004c1b5e71",
   "outputs": [],
   "execution_count": null
  },
  {
   "cell_type": "code",
   "source": [
    "mvn_eco_cve_dict = dict([(x['CVE_ID'], x) for x in mvn_eco_cve_data])\n",
    "mvn_eco_patch_dict = dict([(x['CVE_ID'], x) for x in mvn_eco_patch_data])\n",
    "len(set(mvn_eco_cve_dict.keys()).intersection(set(mvn_eco_patch_dict.keys())))"
   ],
   "metadata": {
    "collapsed": false
   },
   "id": "261b09589803afe0",
   "outputs": [],
   "execution_count": null
  },
  {
   "cell_type": "code",
   "source": [
    "records = list()\n",
    "for cve_id in mvn_eco_cve_dict.keys():\n",
    "    vuln_gav = mvn_eco_patch_dict[cve_id]['G:A:V']\n",
    "    vuln_funs: list[str] = mvn_eco_cve_dict[cve_id]['VUL_FUNs'].split(\";\")\n",
    "    vuln_classes = set()\n",
    "    vuln_methods = set()\n",
    "    for vf in vuln_funs:\n",
    "        vc = vf.split(':')[0].strip()\n",
    "        vc = vc.split('$')[0]\n",
    "        \n",
    "        vm = vf.split(':')[1].split('(')[0].strip()\n",
    "        \n",
    "        if vm == '<init>':\n",
    "            vm = vc.split('.')[-1].strip()\n",
    "        \n",
    "        vm = vc.split('.')[-1].strip() + '::' + vm\n",
    "        \n",
    "        vuln_classes.add(vc)\n",
    "        vuln_methods.add(vm)\n",
    "    \n",
    "    r = dict()\n",
    "    r['data_src'] = 'mvn_eco'\n",
    "    r['cve_ref'] = cve_id\n",
    "    r['vuln_gav'] = vuln_gav\n",
    "    r['vuln_classes'] = list(vuln_classes)\n",
    "    # r['vuln_methods'] = list(vuln_methods)\n",
    "    r['patches'] = mvn_eco_patch_dict[cve_id]['PATCH'].split(';')\n",
    "    \n",
    "    records.append(r)"
   ],
   "metadata": {
    "collapsed": false
   },
   "id": "ccd05df1e97abb72",
   "outputs": [],
   "execution_count": null
  },
  {
   "cell_type": "code",
   "source": [
    "random.choice(records)"
   ],
   "metadata": {
    "collapsed": false
   },
   "id": "aa2d2becbdb0d873",
   "outputs": [],
   "execution_count": null
  },
  {
   "cell_type": "code",
   "source": [
    "client = MongoClient(\"localhost\", 42692)\n",
    "db = client.s5_snyk_libio\n",
    "db.mvnEcoVuln.drop()\n",
    "_ = db.mvnEcoVuln.insert_many(records)"
   ],
   "metadata": {
    "collapsed": false
   },
   "id": "1d6617e8c7788a6e",
   "outputs": [],
   "execution_count": null
  }
 ],
 "metadata": {
  "kernelspec": {
   "display_name": "Python 3",
   "language": "python",
   "name": "python3"
  },
  "language_info": {
   "codemirror_mode": {
    "name": "ipython",
    "version": 2
   },
   "file_extension": ".py",
   "mimetype": "text/x-python",
   "name": "python",
   "nbconvert_exporter": "python",
   "pygments_lexer": "ipython2",
   "version": "2.7.6"
  }
 },
 "nbformat": 4,
 "nbformat_minor": 5
}
