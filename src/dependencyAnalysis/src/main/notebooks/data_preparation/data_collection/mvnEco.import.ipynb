{
 "cells": [
  {
   "cell_type": "code",
   "id": "initial_id",
   "metadata": {
    "collapsed": true,
    "ExecuteTime": {
     "end_time": "2025-04-13T22:37:13.612016Z",
     "start_time": "2025-04-13T22:37:12.796779Z"
    }
   },
   "source": [
    "import collections\n",
    "import json\n",
    "import random\n",
    "import re\n",
    "from itertools import chain\n",
    "from multiprocessing import Pool\n",
    "from pathlib import Path\n",
    "from typing import *\n",
    "\n",
    "import git\n",
    "import pandas as pd\n",
    "import pydriller\n",
    "from pymongo import MongoClient"
   ],
   "outputs": [],
   "execution_count": 1
  },
  {
   "cell_type": "code",
   "source": [
    "import dotenv\n",
    "dotenv.load_dotenv()\n",
    "ENV = dotenv.dotenv_values(\".env\")\n",
    "DATA_DIR = Path(ENV[\"DATA_DIR\"])\n",
    "MVN_ECO_DIR = Path(ENV[\"MVN_ECO_DIR\"])\n",
    "DATA_DIR, DATA_DIR.exists(), MVN_ECO_DIR, MVN_ECO_DIR.exists()"
   ],
   "metadata": {
    "collapsed": false,
    "ExecuteTime": {
     "end_time": "2025-04-13T22:37:13.638045Z",
     "start_time": "2025-04-13T22:37:13.621328Z"
    }
   },
   "id": "90013fddbab8e896",
   "outputs": [
    {
     "data": {
      "text/plain": [
       "(PosixPath('/home/j.zeidler@GDAAG.DE/private/ba3/bachelor-thesis/data'),\n",
       " True,\n",
       " PosixPath('/home/j.zeidler@GDAAG.DE/private/ba3/bachelor-thesis/MavenEcoSysResearch-main'),\n",
       " True)"
      ]
     },
     "execution_count": 2,
     "metadata": {},
     "output_type": "execute_result"
    }
   ],
   "execution_count": 2
  },
  {
   "cell_type": "code",
   "source": [
    "mvn_eco_dep_data = pd.read_csv(MVN_ECO_DIR/'csv'/'DEP.csv').to_dict(orient='records')\n",
    "mvn_eco_patch_data = pd.read_csv(MVN_ECO_DIR/'csv'/'PATCH.csv').to_dict(orient='records')\n",
    "mvn_eco_cve_data = pd.read_csv(MVN_ECO_DIR/'csv'/'CVE.csv').to_dict(orient='records')\n",
    "mvn_eco_dep_data[0].keys(), mvn_eco_patch_data[0].keys(), mvn_eco_cve_data[0].keys()"
   ],
   "metadata": {
    "collapsed": false,
    "ExecuteTime": {
     "end_time": "2025-04-13T22:37:14.185513Z",
     "start_time": "2025-04-13T22:37:13.799143Z"
    }
   },
   "id": "b718ace1a554b65e",
   "outputs": [
    {
     "data": {
      "text/plain": [
       "(dict_keys(['Upstream G:A:V', 'Downstream G:A:V']),\n",
       " dict_keys(['CVE_ID', 'PATCH', 'G:A:V']),\n",
       " dict_keys(['CVE_ID', 'CVSS', 'CWE', 'VUL_FUNs']))"
      ]
     },
     "execution_count": 3,
     "metadata": {},
     "output_type": "execute_result"
    }
   ],
   "execution_count": 3
  },
  {
   "cell_type": "code",
   "source": [],
   "metadata": {
    "collapsed": false,
    "ExecuteTime": {
     "end_time": "2025-04-13T22:37:14.203555Z",
     "start_time": "2025-04-13T22:37:14.200211Z"
    }
   },
   "id": "41583e99a6b16d",
   "outputs": [],
   "execution_count": null
  },
  {
   "cell_type": "code",
   "source": [
    "len(list(x['CVE_ID'] for x in mvn_eco_cve_data)), len(set(x['CVE_ID'] for x in mvn_eco_cve_data)), len(list(x['CVE_ID'] for x in mvn_eco_patch_data)), len(set(x['CVE_ID'] for x in mvn_eco_patch_data))"
   ],
   "metadata": {
    "collapsed": false,
    "ExecuteTime": {
     "end_time": "2025-04-13T22:37:14.252170Z",
     "start_time": "2025-04-13T22:37:14.244273Z"
    }
   },
   "id": "cb5640004c1b5e71",
   "outputs": [
    {
     "data": {
      "text/plain": [
       "(832, 832, 832, 832)"
      ]
     },
     "execution_count": 4,
     "metadata": {},
     "output_type": "execute_result"
    }
   ],
   "execution_count": 4
  },
  {
   "cell_type": "code",
   "source": [
    "mvn_eco_cve_dict = dict([(x['CVE_ID'], x) for x in mvn_eco_cve_data])\n",
    "mvn_eco_patch_dict = dict([(x['CVE_ID'], x) for x in mvn_eco_patch_data])\n",
    "len(set(mvn_eco_cve_dict.keys()).intersection(set(mvn_eco_patch_dict.keys())))"
   ],
   "metadata": {
    "collapsed": false,
    "ExecuteTime": {
     "end_time": "2025-04-13T22:37:14.309316Z",
     "start_time": "2025-04-13T22:37:14.301381Z"
    }
   },
   "id": "261b09589803afe0",
   "outputs": [
    {
     "data": {
      "text/plain": [
       "832"
      ]
     },
     "execution_count": 5,
     "metadata": {},
     "output_type": "execute_result"
    }
   ],
   "execution_count": 5
  },
  {
   "cell_type": "code",
   "source": [
    "records = list()\n",
    "for cve_id in mvn_eco_cve_dict.keys():\n",
    "    vuln_gav = mvn_eco_patch_dict[cve_id]['G:A:V']\n",
    "    vuln_funs: list[str] = mvn_eco_cve_dict[cve_id]['VUL_FUNs'].split(\";\")\n",
    "    vuln_classes = set()\n",
    "    vuln_methods = set()\n",
    "    for vf in vuln_funs:\n",
    "        vc = vf.split(':')[0].strip()\n",
    "        vc = vc.split('$')[0]\n",
    "        \n",
    "        vm = vf.split(':')[1].split('(')[0].strip()\n",
    "        \n",
    "        if vm == '<init>':\n",
    "            vm = vc.split('.')[-1].strip()\n",
    "        \n",
    "        vm = vc.split('.')[-1].strip() + '::' + vm\n",
    "        \n",
    "        vuln_classes.add(vc)\n",
    "        vuln_methods.add(vm)\n",
    "    \n",
    "    r = dict()\n",
    "    r['data_src'] = 'mvn_eco'\n",
    "    r['cve_ref'] = cve_id\n",
    "    r['vuln_gav'] = vuln_gav\n",
    "    r['vuln_classes'] = list(vuln_classes)\n",
    "    # r['vuln_methods'] = list(vuln_methods)\n",
    "    r['patches'] = mvn_eco_patch_dict[cve_id]['PATCH'].split(';')\n",
    "    \n",
    "    records.append(r)"
   ],
   "metadata": {
    "collapsed": false,
    "ExecuteTime": {
     "end_time": "2025-04-13T22:37:14.374994Z",
     "start_time": "2025-04-13T22:37:14.353693Z"
    }
   },
   "id": "ccd05df1e97abb72",
   "outputs": [],
   "execution_count": 6
  },
  {
   "cell_type": "code",
   "source": [
    "random.choice(records)"
   ],
   "metadata": {
    "collapsed": false,
    "ExecuteTime": {
     "end_time": "2025-04-13T22:37:14.426304Z",
     "start_time": "2025-04-13T22:37:14.420364Z"
    }
   },
   "id": "aa2d2becbdb0d873",
   "outputs": [
    {
     "data": {
      "text/plain": [
       "{'data_src': 'mvn_eco',\n",
       " 'cve_ref': 'CVE-2017-15695',\n",
       " 'vuln_gav': 'org.apache.geode:geode-core:1.2.1',\n",
       " 'vuln_classes': ['org.apache.geode.management.internal.cli.functions.MembersForRegionFunction',\n",
       "  'org.apache.geode.security.ResourcePermission',\n",
       "  'org.apache.geode.management.internal.cli.functions.GetRegionDescriptionFunction',\n",
       "  'org.apache.geode.management.internal.cli.functions.GetMemberConfigInformationFunction',\n",
       "  'org.apache.geode.management.internal.cli.functions.CloseDurableCqFunction',\n",
       "  'org.apache.geode.internal.cache.execute.util.FindRestEnabledServersFunction',\n",
       "  'org.apache.geode.management.internal.cli.functions.GetSubscriptionQueueSizeFunction',\n",
       "  'org.apache.geode.management.internal.configuration.functions.RecreateCacheFunction',\n",
       "  'org.apache.geode.management.internal.cli.functions.MemberRegionFunction',\n",
       "  'org.apache.geode.management.internal.cli.functions.CreateAsyncEventQueueFunction',\n",
       "  'org.apache.geode.management.internal.cli.functions.FetchSharedConfigurationStatusFunction',\n",
       "  'org.apache.geode.management.internal.cli.functions.UserFunctionExecution',\n",
       "  'org.apache.geode.management.internal.cli.functions.GetRegionsFunction',\n",
       "  'org.apache.geode.management.internal.cli.functions.CloseDurableClientFunction'],\n",
       " 'patches': ['https://github.com/apache/geode/commit/aa469239860778eb46e09dd7b390aee08f152480',\n",
       "  'https://github.com/apache/geode/commit/00be4f9774e1adf8e7ccc2664da8005fc30bb11d',\n",
       "  'https://github.com/apache/geode/commit/954ccb545d24a9c9a35cbd84023a4d7e07032de0',\n",
       "  'https://github.com/apache/geode/commit/6df14c8b1e3c644f9f810149e80bba0c2f073dab']}"
      ]
     },
     "execution_count": 7,
     "metadata": {},
     "output_type": "execute_result"
    }
   ],
   "execution_count": 7
  },
  {
   "cell_type": "code",
   "source": [
    "client = MongoClient(\"localhost\", 42692)\n",
    "db = client.s5_snyk_libio\n",
    "db.mvnEcoVuln.drop()\n",
    "_ = db.mvnEcoVuln.insert_many(records)"
   ],
   "metadata": {
    "collapsed": false,
    "ExecuteTime": {
     "end_time": "2025-04-13T22:37:14.739885Z",
     "start_time": "2025-04-13T22:37:14.543864Z"
    }
   },
   "id": "1d6617e8c7788a6e",
   "outputs": [],
   "execution_count": 8
  }
 ],
 "metadata": {
  "kernelspec": {
   "display_name": "Python 3",
   "language": "python",
   "name": "python3"
  },
  "language_info": {
   "codemirror_mode": {
    "name": "ipython",
    "version": 2
   },
   "file_extension": ".py",
   "mimetype": "text/x-python",
   "name": "python",
   "nbconvert_exporter": "python",
   "pygments_lexer": "ipython2",
   "version": "2.7.6"
  }
 },
 "nbformat": 4,
 "nbformat_minor": 5
}
