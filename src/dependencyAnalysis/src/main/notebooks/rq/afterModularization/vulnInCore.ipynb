{
 "cells": [
  {
   "cell_type": "code",
   "metadata": {
    "collapsed": true
   },
   "source": [
    "import kotlinx.coroutines.Dispatchers\n",
    "import kotlinx.coroutines.async\n",
    "import kotlinx.coroutines.awaitAll\n",
    "import kotlinx.coroutines.runBlocking\n",
    "import com.google.common.hash.Hashing\n",
    "import io.github.cdimascio.dotenv.Dotenv\n",
    "import java.nio.file.Paths\n",
    "\n",
    "%useLatestDescriptors\n",
    "%use lets-plot\n",
    "\n",
    "class Main\n",
    "\n",
    "val dotenv = Dotenv.load()\n",
    "val dataDir = dotenv.get(\"DATA_DIR\").let { Paths.get(it).toFile() }.also { it.mkdirs() }\n",
    "dataDir"
   ],
   "outputs": [],
   "execution_count": null
  },
  {
   "cell_type": "code",
   "source": [
    "import org.bson.BsonDocument\n",
    "import org.litote.kmongo.*\n",
    "\n",
    "val client = KMongo.createClient(\"mongodb://localhost:42692/\")\n",
    "val db = client.getDatabase(\"s5_snyk_libio\")\n",
    "val vulnCollection = db.getCollection<BsonDocument>(\"mergedVuln\")"
   ],
   "metadata": {
    "collapsed": false
   },
   "outputs": [],
   "execution_count": null
  },
  {
   "metadata": {},
   "cell_type": "code",
   "outputs": [],
   "execution_count": null,
   "source": [
    "import com.mongodb.client.*\n",
    "\n",
    "private class MongoCursorIterable<T>(private val cursor: MongoCursor<T>) : MongoCursor<T> by cursor, Iterable<T> {\n",
    "\n",
    "    override fun iterator(): Iterator<T> = cursor\n",
    "}\n",
    "\n",
    "private fun <T> MongoIterable<T>.kCursor(): MongoCursorIterable<T> = MongoCursorIterable(iterator())\n",
    "\n",
    "fun <T, R> MongoIterable<T>.useCursor(block: (Iterable<T>) -> R): R {\n",
    "    return kCursor().use(block)\n",
    "}"
   ]
  },
  {
   "cell_type": "code",
   "source": [
    "import org.bson.BsonNull\n",
    "import org.bson.BsonString\n",
    "import org.jetbrains.kotlinx.dataframe.math.mean\n",
    "import org.jetbrains.kotlinx.dataframe.math.median\n",
    "\n",
    "val vulnGavToClasses = vulnCollection.find().useCursor { blk ->\n",
    "    blk.map {\n",
    "        val gav = it[\"vuln_gav\"]!!.asString().value\n",
    "        val vulnClasses = it[\"vuln_classes\"]!!.asArray().map { it.asString().value }.toSet()\n",
    "\n",
    "        if (vulnClasses.count() == 0) throw Exception(\"no vuln class (record should have been ommitted previously)\")\n",
    "\n",
    "        gav to vulnClasses\n",
    "    }\n",
    "}.groupBy { it.first }.map { g -> g.key to g.value.flatMap { it -> it.second }.toSet() }.toMap()\n",
    "\n",
    "println(vulnGavToClasses.count())\n",
    "println(vulnGavToClasses.map { it.value.size }.minOrNull())\n",
    "println(vulnGavToClasses.map { it.value.size }.maxOrNull())\n",
    "println(vulnGavToClasses.map { it.value.size }.average())\n",
    "println(vulnGavToClasses.map { it.value.size }.median())"
   ],
   "metadata": {
    "collapsed": false
   },
   "outputs": [],
   "execution_count": null
  },
  {
   "cell_type": "code",
   "source": [
    "val vulnCveGavToClasses = vulnCollection.find().useCursor { blk ->\n",
    "    blk.map {\n",
    "        val gav = it[\"vuln_gav\"]!!.asString().value\n",
    "        val cve = it[\"cve_ref\"]!!.asString().value.let { c -> if (c.isBlank()) it[\"snyk_url\"]!!.asString().value else c }\n",
    "        val vulnClasses = it[\"vuln_classes\"]!!.asArray().map { it.asString().value }.toSet()\n",
    "\n",
    "        if (vulnClasses.count() == 0) throw Exception(\"no vuln class (record should have been ommitted previously)\")\n",
    "\n",
    "        (cve to gav) to vulnClasses\n",
    "    }\n",
    "}.groupBy { it.first }.map { g -> g.key to g.value.flatMap { it -> it.second }.toSet() }.toMap()\n",
    "    \n",
    "println(vulnCveGavToClasses.count())\n",
    "println(vulnCveGavToClasses.map { it.value.size }.minOrNull())\n",
    "println(vulnCveGavToClasses.map { it.value.size }.maxOrNull())\n",
    "println(vulnCveGavToClasses.map { it.value.size }.average())\n",
    "println(vulnCveGavToClasses.map { it.value.size }.median())"
   ],
   "metadata": {
    "collapsed": false
   },
   "outputs": [],
   "execution_count": null
  },
  {
   "cell_type": "code",
   "source": [
    "import scripts.partitionDepGraph.dagP.loadDagpPartitionInfo\n",
    "\n",
    "val partitionInfo = vulnGavToClasses.keys.map { gav ->\n",
    "    gav to loadDagpPartitionInfo(gav)\n",
    "}.toMap()\n",
    "\n",
    "partitionInfo.count()"
   ],
   "metadata": {
    "collapsed": false
   },
   "outputs": [],
   "execution_count": null
  },
  {
   "cell_type": "code",
   "source": [
    "val data = mapOf(\n",
    "    \"partition count\" to partitionInfo.map { it.second.partitionCount },\n",
    ")\n",
    "\n",
    "val p = letsPlot(data) { x = \"partition count\" } +\n",
    "        geomHistogram(alpha = .3, binWidth = 1, center = 0.5) +\n",
    "        xlim(limits = Pair(1, 33)) +\n",
    "        ggsize(1800, 800) \n",
    "p"
   ],
   "metadata": {
    "collapsed": false
   },
   "outputs": [],
   "execution_count": null
  },
  {
   "cell_type": "code",
   "source": [
    "val depGraphCacheDir = dataDir.resolve(\"interim/depGraphCache\")\n",
    "\n",
    "val gavToDepGraphCache = vulnGavToClasses\n",
    "    .map {\n",
    "        val cachePath = depGraphCacheDir.resolve(\"${it.key}.vertices.tsv.zip\")\n",
    "        if (!cachePath.isFile()) throw Exception(\"cache file not found\")\n",
    "        \n",
    "        it.key to cachePath\n",
    "    }\n",
    "    .toMap()\n",
    "gavToDepGraphCache.count()"
   ],
   "metadata": {
    "collapsed": false
   },
   "outputs": [],
   "execution_count": null
  },
  {
   "cell_type": "code",
   "source": [
    "import common.DefaultGraph\n",
    "import io.github.classgraph.ClassInfoList\n",
    "import java.io.File\n",
    "import java.net.URLClassLoader\n",
    "import org.jgrapht.Graph\n",
    "import org.jgrapht.graph.DefaultEdge\n",
    "import org.jgrapht.graph.builder.GraphTypeBuilder\n",
    "\n",
    "fun loadDepGraph(gav: String): DefaultGraph = \n",
    "    scripts.exportDepGraphs.loadDepGraphFromCache(gav)\n",
    "\n",
    "fun loadClassListInfo(gav: String): ClassInfoList =\n",
    "    scripts.exportDepGraphs.loadClassInfoListFromCache(gav)\n",
    "\n",
    "fun loadVertexInfo(gav: String) =\n",
    "    scripts.exportDepGraphs.loadVertexInfo(gav)"
   ],
   "metadata": {
    "collapsed": false
   },
   "outputs": [],
   "execution_count": null
  },
  {
   "cell_type": "code",
   "source": [
    "import com.google.common.collect.Queues\n",
    "\n",
    "/**\n",
    " * returns the depths of each visited node from the starting node\n",
    " */\n",
    "fun bfsOnDepGraph(graph: DefaultGraph, startNode: String): Map<String, Int> {\n",
    "    val expanded = mutableSetOf<String>()\n",
    "    val depthMap = mutableMapOf<String, Int>()\n",
    "    val queue = Queues.newArrayDeque<String>()\n",
    "    queue.add(startNode)\n",
    "    depthMap[startNode] = 0\n",
    "    while (!queue.isEmpty()) {\n",
    "        val node = queue.pop()\n",
    "        expanded.add(node)\n",
    "        val parentDepth = depthMap[node]!!\n",
    "        graph\n",
    "            .outgoingEdgesOf(node)\n",
    "            .map { e -> graph.getEdgeTarget(e) }\n",
    "            .filterNot { expanded.contains(it) }\n",
    "            .forEach { v ->\n",
    "                if (depthMap.containsKey(v)) {\n",
    "                    depthMap[v] = min(depthMap[v]!!, parentDepth + 1)\n",
    "                } else {\n",
    "                    depthMap[v] = parentDepth + 1;\n",
    "                }\n",
    "                queue.add(v)\n",
    "            }\n",
    "    }\n",
    "    return depthMap\n",
    "}"
   ],
   "metadata": {
    "collapsed": false
   },
   "outputs": [],
   "execution_count": null
  },
  {
   "cell_type": "markdown",
   "source": [
    "### how many modules are vuln?"
   ],
   "metadata": {
    "collapsed": false
   }
  },
  {
   "cell_type": "code",
   "source": [
    "import kotlinx.coroutines.async\n",
    "import org.jgrapht.graph.EdgeReversedGraph\n",
    "import org.nield.kotlinstatistics.normalize\n",
    "import org.nield.kotlinstatistics.standardDeviation\n",
    "import java.lang.reflect.Modifier\n",
    "\n",
    "data class VulnAnalysisInfo(\n",
    "    val classCount: Int,\n",
    "    val publicClassCount: Int,\n",
    "    val vulnClassCount: Int,\n",
    "    val vulnPublicClassCount: Int,\n",
    "    \n",
    "    val publicApiInSafeModules: Int,\n",
    "    val publicApiInVulnModules: Int,\n",
    "    \n",
    "    val moduleSizes: List<Int>,\n",
    "    val safeModuleSizes: List<Int>,\n",
    "    val vulnModuleSizes: List<Int>,\n",
    ") {\n",
    "    val moduleCount = moduleSizes.size\n",
    "    val safeModuleCount = safeModuleSizes.size\n",
    "    val vulnModuleCount = vulnModuleSizes.size\n",
    "    \n",
    "    val publicApiInSafeModulesRatio = publicApiInSafeModules.toDouble() / publicClassCount.toDouble()\n",
    "    val publicApiInVulnModulesRatio = publicApiInVulnModules.toDouble() / publicClassCount.toDouble()\n",
    "    \n",
    "    val moduleSizesCV = moduleSizes.standardDeviation() / moduleSizes.average()\n",
    "}\n",
    "\n",
    "val dispatcher = Dispatchers.IO.limitedParallelism(32)\n",
    "\n",
    "@kotlinx.coroutines.ExperimentalCoroutinesApi fun _getVulnAnalysisInfo() =\n",
    "    vulnCveGavToClasses.asSequence().windowed(512, 512, true).flatMapIndexed { batch, w ->\n",
    "        runBlocking {\n",
    "            System.gc()\n",
    "            println(\"processing batch $batch\")\n",
    "            w.map {\n",
    "                async(dispatcher) {\n",
    "                    val gav = it.key.second\n",
    "                    val vulnClasses = it.value\n",
    "\n",
    "                    val depGraph = loadDepGraph(gav)\n",
    "                    val vertexInfo = loadVertexInfo(gav)\n",
    "                    val depPartitionInfo = partitionInfo[gav]!!\n",
    "                    \n",
    "                    if (depPartitionInfo.partToVertices.values.flatten().toSet().size != depGraph.vertexSet().size) {\n",
    "                        error(\"failed sanity check\")\n",
    "                    }\n",
    "\n",
    "                    val publicClasses =\n",
    "                        depGraph.vertexSet().filter { v -> Modifier.isPublic(vertexInfo[v]!!) }\n",
    "\n",
    "                    val distToNearestVuln = mutableMapOf<String, Int>()\n",
    "                    vulnClasses.map {\n",
    "                        bfsOnDepGraph(EdgeReversedGraph(depGraph), it)\n",
    "                    }.forEach { m ->\n",
    "                        m.forEach { v, d ->\n",
    "                            if (distToNearestVuln.containsKey(v)) {\n",
    "                                distToNearestVuln[v] = min(distToNearestVuln[v]!!, d)\n",
    "                            } else {\n",
    "                                distToNearestVuln[v] = d\n",
    "                            }\n",
    "                        }\n",
    "                    }\n",
    "\n",
    "                    val allVulnClasses = distToNearestVuln.keys.toSet()\n",
    "                    val vulnPublicClasses = publicClasses.intersect(allVulnClasses)\n",
    "\n",
    "                    val vulnParts =\n",
    "                        depPartitionInfo.partToVertices.filter { (p, vl) ->\n",
    "                            vl.intersect(allVulnClasses).isNotEmpty()\n",
    "                        }\n",
    "                    \n",
    "                    val classesInVulnParts = vulnParts.values.flatten().toSet()\n",
    "                    \n",
    "                    val safeParts = \n",
    "                        depPartitionInfo.partToVertices.filterNot { (p, vl) -> \n",
    "                            vulnParts.containsKey(p)\n",
    "                        }\n",
    "                    \n",
    "                    val classesInSafeParts = safeParts.values.flatten().toSet()\n",
    "                    \n",
    "                    val publicClassesInSafeParts = \n",
    "                        publicClasses.intersect(classesInSafeParts)\n",
    "                    \n",
    "                    val publicClassesInVulnParts =\n",
    "                        publicClasses.intersect(classesInVulnParts)\n",
    "                    \n",
    "                    if (publicClassesInSafeParts.size + publicClassesInVulnParts.size != publicClasses.size) {\n",
    "                        error(\"size mismatch: ${publicClassesInSafeParts.size} + ${publicClassesInVulnParts.size} != ${publicClasses.size}\")\n",
    "                    }\n",
    "                    \n",
    "                    VulnAnalysisInfo(\n",
    "                        classCount = depGraph.vertexSet().size,\n",
    "                        publicClassCount = publicClasses.size,\n",
    "                        vulnClassCount = allVulnClasses.size,\n",
    "                        vulnPublicClassCount = vulnPublicClasses.size,\n",
    "                        moduleSizes = depPartitionInfo.partToVertices.map { it.value.size }.toList(),\n",
    "                        safeModuleSizes = safeParts.map { it.value.size }.toList(),\n",
    "                        vulnModuleSizes = vulnParts.map { it.value.size }.toList(),\n",
    "                        publicApiInSafeModules = publicClassesInSafeParts.size,\n",
    "                        publicApiInVulnModules = publicClassesInVulnParts.size,\n",
    "                    )\n",
    "                }\n",
    "            }.toList().awaitAll().toList()  //.filter { it.v != null }\n",
    "        }.toList()\n",
    "    }.toList()\n",
    "\n",
    "val res = _getVulnAnalysisInfo()\n",
    "res.count()\n",
    "// println(res.filter { it.msg != null }.map { it.msg!! }.joinToString(\"\\n\"))"
   ],
   "metadata": {
    "collapsed": false
   },
   "outputs": [],
   "execution_count": null
  },
  {
   "cell_type": "code",
   "source": [
    "fun Double.format(digits: Int) =\n",
    "    \"%.${digits}f\".format(this)\n",
    "\n",
    "fun Float.format(digits: Int) =\n",
    "    \"%.${digits}f\".format(this)"
   ],
   "metadata": {
    "collapsed": false
   },
   "outputs": [],
   "execution_count": null
  },
  {
   "cell_type": "code",
   "source": [
    "println(\"${res.map { it.vulnModuleCount.toDouble() / it.moduleCount.toDouble() }.average()}\")\n",
    "println(\"${res.map { it.vulnModuleCount.toDouble() / it.moduleCount.toDouble() }.median()}\")\n",
    "println(\"${res.filter { it.moduleCount > 1 }.map { it.vulnModuleCount.toDouble() / it.moduleCount.toDouble() }.average()}\")\n",
    "println(\"${res.filter { it.moduleCount > 1 }.map { it.vulnModuleCount.toDouble() / it.moduleCount.toDouble() }.median()}\")\n",
    "println(\"${res.map { it.safeModuleCount.toDouble() / it.moduleCount.toDouble() }.average()}\")\n",
    "println(\"${res.map { it.safeModuleCount.toDouble() / it.moduleCount.toDouble() }.median()}\")\n",
    "println(\"${res.filter { it.moduleCount > 1 }.map { it.safeModuleCount.toDouble() / it.moduleCount.toDouble() }.average()}\")\n",
    "println(\"${res.filter { it.moduleCount > 1 }.map { it.safeModuleCount.toDouble() / it.moduleCount.toDouble() }.median()}\")"
   ],
   "metadata": {
    "collapsed": false
   },
   "outputs": [],
   "execution_count": null
  },
  {
   "cell_type": "code",
   "source": [
    "println(\"${res.map { it.vulnModuleSizes.average() / it.classCount }.average()}\")"
   ],
   "metadata": {
    "collapsed": false
   },
   "outputs": [],
   "execution_count": null
  },
  {
   "cell_type": "code",
   "source": [
    "println(\"${res.map { it.moduleSizesCV }.median()}\")\n",
    "println(\"${res.map { it.moduleSizesCV }.average()}\")"
   ],
   "metadata": {
    "collapsed": false
   },
   "outputs": [],
   "execution_count": null
  },
  {
   "cell_type": "code",
   "source": [
    "println(\"${res.map { it.moduleSizes.average() / it.classCount.toDouble() }.average()}\")\n",
    "println(\"${res.map { it.moduleSizes.median() / it.classCount.toDouble() }.average()}\")\n",
    "println(\"${res.map { it.moduleSizes.median() / it.classCount.toDouble() }.median()}\")\n",
    "println(\"${res.map { it.moduleSizes.average() / it.classCount.toDouble() }.median()}\")"
   ],
   "metadata": {
    "collapsed": false
   },
   "outputs": [],
   "execution_count": null
  },
  {
   "cell_type": "code",
   "source": [
    "println(\"${res.map { it.vulnModuleSizes.average() / it.classCount.toDouble() }.average()}\")\n",
    "println(\"${res.map { it.vulnModuleSizes.median() / it.classCount.toDouble() }.average()}\")\n",
    "println(\"${res.map { it.vulnModuleSizes.median() / it.classCount.toDouble() }.median()}\")\n",
    "println(\"${res.map { it.vulnModuleSizes.average() / it.classCount.toDouble() }.median()}\")"
   ],
   "metadata": {
    "collapsed": false
   },
   "outputs": [],
   "execution_count": null
  },
  {
   "cell_type": "code",
   "source": [
    "println(\"${res.map { it.publicApiInSafeModulesRatio }.average()}\")\n",
    "println(\"${res.map { it.publicApiInSafeModulesRatio }.median()}\")\n",
    "println(\"${res.map { it.publicApiInVulnModulesRatio }.average()}\")\n",
    "println(\"${res.map { it.publicApiInVulnModulesRatio }.median()}\")"
   ],
   "metadata": {
    "collapsed": false
   },
   "outputs": [],
   "execution_count": null
  },
  {
   "cell_type": "code",
   "source": [
    "val p =\n",
    "    letsPlot(\n",
    "        mapOf(\"module size cv\" to res.map { it.moduleSizesCV * 100 })\n",
    "    ) { x = \"module size cv\" } + ggsize(1800, 800) +\n",
    "            geomHistogram(alpha = .3, binWidth = 5, center = 2.5) +\n",
    "            xlim(limits = Pair(0, 100))\n",
    "\n",
    "p"
   ],
   "metadata": {
    "collapsed": false
   },
   "outputs": [],
   "execution_count": null
  }
 ],
 "metadata": {
  "kernelspec": {
   "display_name": "Kotlin",
   "language": "kotlin",
   "name": "kotlin"
  },
  "language_info": {
   "name": "kotlin",
   "version": "1.9.0",
   "mimetype": "text/x-kotlin",
   "file_extension": ".kt",
   "pygments_lexer": "kotlin",
   "codemirror_mode": "text/x-kotlin",
   "nbconvert_exporter": ""
  },
  "ktnbPluginMetadata": {
   "projectDependencies": true
  }
 },
 "nbformat": 4,
 "nbformat_minor": 0
}
