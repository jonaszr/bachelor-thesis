{
 "cells": [
  {
   "cell_type": "code",
   "source": [
    "import kotlinx.coroutines.Dispatchers\n",
    "import kotlinx.coroutines.async\n",
    "import kotlinx.coroutines.awaitAll\n",
    "import kotlinx.coroutines.runBlocking\n",
    "import com.google.common.hash.Hashing\n",
    "import io.github.cdimascio.dotenv.Dotenv\n",
    "import java.nio.file.Paths\n",
    "\n",
    "%useLatestDescriptors\n",
    "%use lets-plot\n",
    "\n",
    "class Main\n",
    "\n",
    "val dotenv = Dotenv.load()\n",
    "val dataDir = dotenv.get(\"DATA_DIR\").let { Paths.get(it).toFile() }.also { it.mkdirs() }\n",
    "dataDir"
   ],
   "metadata": {
    "collapsed": false
   },
   "outputs": [],
   "execution_count": null
  },
  {
   "cell_type": "code",
   "source": [
    "import org.bson.BsonDocument\n",
    "import org.litote.kmongo.*\n",
    "\n",
    "val client = KMongo.createClient(\"mongodb://localhost:42692/\")\n",
    "val db = client.getDatabase(\"s5_snyk_libio\")\n",
    "val vulnCollection = db.getCollection<BsonDocument>(\"mergedVuln\")"
   ],
   "metadata": {
    "collapsed": false
   },
   "outputs": [],
   "execution_count": null
  },
  {
   "metadata": {},
   "cell_type": "code",
   "outputs": [],
   "execution_count": null,
   "source": [
    "import com.mongodb.client.*\n",
    "\n",
    "private class MongoCursorIterable<T>(private val cursor: MongoCursor<T>) : MongoCursor<T> by cursor, Iterable<T> {\n",
    "\n",
    "    override fun iterator(): Iterator<T> = cursor\n",
    "}\n",
    "\n",
    "private fun <T> MongoIterable<T>.kCursor(): MongoCursorIterable<T> = MongoCursorIterable(iterator())\n",
    "\n",
    "fun <T, R> MongoIterable<T>.useCursor(block: (Iterable<T>) -> R): R {\n",
    "    return kCursor().use(block)\n",
    "}"
   ]
  },
  {
   "cell_type": "code",
   "source": [
    "import org.bson.BsonNull\n",
    "import org.bson.BsonString\n",
    "import org.jetbrains.kotlinx.dataframe.math.mean\n",
    "import org.jetbrains.kotlinx.dataframe.math.median\n",
    "\n",
    "val vulnGavToClasses = vulnCollection.find().useCursor { blk ->\n",
    "    blk.map {\n",
    "        val gav = it[\"vuln_gav\"]!!.asString().value\n",
    "        val vulnClasses = it[\"vuln_classes\"]!!.asArray().map { it.asString().value }.toSet()\n",
    "\n",
    "        if (vulnClasses.count() == 0) throw Exception(\"no vuln class (record should have been ommitted previously)\")\n",
    "\n",
    "        gav to vulnClasses\n",
    "    }\n",
    "}.groupBy { it.first }.map { g -> g.key to g.value.flatMap { it -> it.second }.toSet() }.toMap()\n",
    "\n",
    "println(vulnGavToClasses.count())\n",
    "println(vulnGavToClasses.map { it.value.size }.minOrNull())\n",
    "println(vulnGavToClasses.map { it.value.size }.maxOrNull())\n",
    "println(vulnGavToClasses.map { it.value.size }.average())\n",
    "println(vulnGavToClasses.map { it.value.size }.median())"
   ],
   "metadata": {
    "collapsed": false
   },
   "outputs": [],
   "execution_count": null
  },
  {
   "cell_type": "code",
   "source": [
    "val vulnCveGavToClasses = vulnCollection.find().useCursor { blk ->\n",
    "    blk.map {\n",
    "        val gav = it[\"vuln_gav\"]!!.asString().value\n",
    "        val cve = it[\"cve_ref\"]!!.asString().value.let { c -> if (c.isBlank()) it[\"snyk_url\"]!!.asString().value else c }\n",
    "        val vulnClasses = it[\"vuln_classes\"]!!.asArray().map { it.asString().value }.toSet()\n",
    "\n",
    "        if (vulnClasses.count() == 0) throw Exception(\"no vuln class (record should have been ommitted previously)\")\n",
    "\n",
    "        (cve to gav) to vulnClasses\n",
    "    }\n",
    "}.groupBy { it.first }.map { g -> g.key to g.value.flatMap { it -> it.second }.toSet() }.toMap()\n",
    "    \n",
    "println(vulnCveGavToClasses.count())\n",
    "println(vulnCveGavToClasses.map { it.value.size }.minOrNull())\n",
    "println(vulnCveGavToClasses.map { it.value.size }.maxOrNull())\n",
    "println(vulnCveGavToClasses.map { it.value.size }.average())\n",
    "println(vulnCveGavToClasses.map { it.value.size }.median())"
   ],
   "metadata": {
    "collapsed": false
   },
   "outputs": [],
   "execution_count": null
  },
  {
   "cell_type": "code",
   "source": [
    "val depGraphCacheDir = dataDir.resolve(\"interim/depGraphCache\")\n",
    "\n",
    "val gavToDepGraphCache = vulnGavToClasses\n",
    "    .map {\n",
    "        val cachePath = depGraphCacheDir.resolve(\"${it.key}.vertices.tsv.zip\")\n",
    "        if (!cachePath.isFile()) throw Exception(\"cache file not found\")\n",
    "        \n",
    "        it.key to cachePath\n",
    "    }\n",
    "    .toMap()\n",
    "gavToDepGraphCache.count()"
   ],
   "metadata": {
    "collapsed": false
   },
   "outputs": [],
   "execution_count": null
  },
  {
   "cell_type": "code",
   "source": [
    "import common.DefaultGraph\n",
    "import io.github.classgraph.ClassInfoList\n",
    "import java.io.File\n",
    "import java.net.URLClassLoader\n",
    "import org.jgrapht.Graph\n",
    "import org.jgrapht.graph.DefaultEdge\n",
    "import org.jgrapht.graph.builder.GraphTypeBuilder\n",
    "\n",
    "fun loadDepGraph(gav: String): DefaultGraph = \n",
    "    scripts.exportDepGraphs.loadDepGraphFromCache(gav)\n",
    "\n",
    "fun loadClassListInfo(gav: String): ClassInfoList =\n",
    "    scripts.exportDepGraphs.loadClassInfoListFromCache(gav)\n",
    "\n",
    "fun loadVertexInfo(gav: String) =\n",
    "    scripts.exportDepGraphs.loadVertexInfo(gav)"
   ],
   "metadata": {
    "collapsed": false
   },
   "outputs": [],
   "execution_count": null
  },
  {
   "cell_type": "markdown",
   "source": [
    "### how much of the public API is reaching vulns?"
   ],
   "metadata": {
    "collapsed": false
   }
  },
  {
   "cell_type": "markdown",
   "source": [
    "#### first we count if it hits \"any\" vuln class:"
   ],
   "metadata": {
    "collapsed": false
   }
  },
  {
   "cell_type": "code",
   "source": [
    "import com.google.common.collect.Queues\n",
    "\n",
    "/**\n",
    " * returns the depths of each visited node from the starting node\n",
    " */\n",
    "fun bfsOnDepGraph(graph: DefaultGraph, startNode: String): Map<String, Int> {\n",
    "    val expanded = mutableSetOf<String>()\n",
    "    val depthMap = mutableMapOf<String, Int>()\n",
    "    val queue = Queues.newArrayDeque<String>()\n",
    "    queue.add(startNode)\n",
    "    depthMap[startNode] = 0\n",
    "    while (!queue.isEmpty()) {\n",
    "        val node = queue.pop()\n",
    "        expanded.add(node)\n",
    "        val parentDepth = depthMap[node]!! \n",
    "        graph\n",
    "            .outgoingEdgesOf(node)\n",
    "            .map { e -> graph.getEdgeTarget(e) }\n",
    "            .filterNot { expanded.contains(it) }\n",
    "            .forEach { v ->\n",
    "                if (depthMap.containsKey(v)) {\n",
    "                    depthMap[v] = min(depthMap[v]!!, parentDepth + 1)\n",
    "                } else {\n",
    "                    depthMap[v] = parentDepth + 1;\n",
    "                }\n",
    "                queue.add(v)\n",
    "            }\n",
    "    }\n",
    "    return depthMap\n",
    "}"
   ],
   "metadata": {
    "collapsed": false
   },
   "outputs": [],
   "execution_count": null
  },
  {
   "cell_type": "code",
   "source": [
    "import common.DefaultGraph\n",
    "import io.github.classgraph.ClassGraph\n",
    "import io.github.classgraph.ClassInfo\n",
    "import io.github.classgraph.ClassInfoList\n",
    "import kotlinx.coroutines.async\n",
    "import org.jgrapht.alg.shortestpath.FloydWarshallShortestPaths\n",
    "import org.jgrapht.alg.shortestpath.GraphMeasurer\n",
    "import org.jgrapht.graph.EdgeReversedGraph\n",
    "import org.jgrapht.traverse.BreadthFirstIterator\n",
    "import java.lang.reflect.Modifier\n",
    "import kotlin.Exception\n",
    "\n",
    "data class VulnAnalysisInfo(\n",
    "    val classCount: Int,\n",
    "    val publicClassCount: Int,\n",
    "    val vulnClassCount: Int,\n",
    "    val vulnPublicClassCount: Int,\n",
    "    val averageDistToVuln: Double,\n",
    "    val minDistToVuln: Int,\n",
    "    val maxDistToVuln: Int,\n",
    "    val medianDistToVuln: Int,\n",
    "    // val publicClassesWithPublicApiCount: Int,\n",
    "    // val depGraph: DefaultGraph,\n",
    ") {\n",
    "    val apiSurfaceRatio = publicClassCount.toDouble() / classCount.toDouble()\n",
    "    val vulnApiSurfaceRatio = vulnPublicClassCount.toDouble() / publicClassCount.toDouble()\n",
    "    val vulnRatio = vulnClassCount.toDouble() / classCount.toDouble()\n",
    "}\n",
    "\n",
    "System.gc()\n",
    "\n",
    "@kotlinx.coroutines.ExperimentalCoroutinesApi fun _vulnInfo() =\n",
    "    Dispatchers.IO.limitedParallelism(32).let { dispatcher ->\n",
    "        vulnCveGavToClasses.asSequence().windowed(512, 512, true).flatMapIndexed { batch, w ->\n",
    "            runBlocking {\n",
    "                System.gc()\n",
    "                println(\"processing batch $batch\")\n",
    "                w.map {\n",
    "                    async(dispatcher) {\n",
    "                        val gav = it.key.second\n",
    "                        val vulnClasses = it.value\n",
    "\n",
    "                        val depGraph = loadDepGraph(gav)\n",
    "                        \n",
    "                        val vertexInfo = loadVertexInfo(gav)\n",
    "\n",
    "                        val publicClasses =\n",
    "                            depGraph.vertexSet().filter { v -> Modifier.isPublic(vertexInfo[v]!!) }\n",
    "\n",
    "                        if (publicClasses.count() > depGraph.vertexSet().count()) {\n",
    "                            error(\"#public classes should be <= #classes\")\n",
    "                        }\n",
    "\n",
    "                        if (publicClasses.count() == 0) {\n",
    "                            return@async Result.failure(Exception(\"no public class in $gav\"))\n",
    "                        }\n",
    "\n",
    "                        val vulnClassesInJar = vulnClasses.intersect(depGraph.vertexSet())\n",
    "                        if (vulnClassesInJar.size != vulnClasses.size) {\n",
    "                            error(\"vuln class number mismatch ${gav}\\n***\\n$vulnClassesInJar\\n***\\n$vulnClasses\")\n",
    "                        }\n",
    "\n",
    "                        val distToNearestVuln = mutableMapOf<String, Int>()\n",
    "                        vulnClassesInJar.map {\n",
    "                            // BreadthFirstIterator(EdgeReversedGraph(depGraph), it).asSequence().toSet()\n",
    "                            bfsOnDepGraph(EdgeReversedGraph(depGraph), it)\n",
    "                        }.forEach { m ->\n",
    "                            m.forEach { v, d -> \n",
    "                                if (distToNearestVuln.containsKey(v)) {\n",
    "                                    distToNearestVuln[v] = min(distToNearestVuln[v]!!, d)\n",
    "                                } else {\n",
    "                                    distToNearestVuln[v] = d\n",
    "                                }\n",
    "                            }\n",
    "                        }\n",
    "                        \n",
    "                        val allVulnClasses = distToNearestVuln.keys.toSet()\n",
    "\n",
    "                        val vulnPublicClasses = publicClasses.intersect(allVulnClasses)\n",
    "\n",
    "                        val vulnPublicClassRatio =\n",
    "                            vulnPublicClasses.count().toDouble() / publicClasses.count().toDouble()\n",
    "\n",
    "                        if (vulnPublicClassRatio > 1) {\n",
    "                            error(\"ratio should be <= 1\")\n",
    "                        }\n",
    "                        \n",
    "                        val averageDistToVuln = distToNearestVuln.values.average()\n",
    "                        val minDistToVuln = distToNearestVuln.values.min()\n",
    "                        val maxDistToVuln = distToNearestVuln.values.max()\n",
    "                        val medianDistToVuln = distToNearestVuln.values.median()\n",
    "                        \n",
    "                        // val classes = loadClassListInfo(gav)\n",
    "                        // val classToClassInfo = classes.filter { it.name in depGraph.vertexSet() }.map { it.name to it }.toMap()\n",
    "\n",
    "                        // val publicClassesWithPublicApi =\n",
    "                        //     publicClasses\n",
    "                        //         .filter { c -> classToClassInfo[c]!!.let { it.methodInfo.any { it.isPublic } || it.fieldInfo.any { it.isPublic } } }\n",
    "                        //         .toSet()\n",
    "\n",
    "                        val res = VulnAnalysisInfo(\n",
    "                            classCount = depGraph.vertexSet().count(),\n",
    "                            publicClassCount = publicClasses.count(),\n",
    "                            vulnClassCount = allVulnClasses.count(),\n",
    "                            vulnPublicClassCount = vulnPublicClasses.count(),\n",
    "                            averageDistToVuln = averageDistToVuln,\n",
    "                            minDistToVuln = minDistToVuln,\n",
    "                            maxDistToVuln = maxDistToVuln,\n",
    "                            medianDistToVuln = medianDistToVuln,\n",
    "                            // publicClassesWithPublicApiCount = publicClassesWithPublicApi.count()\n",
    "                            // depGraph = depGraph,\n",
    "                        )\n",
    "\n",
    "                        return@async Result.success(res)\n",
    "                    }\n",
    "                }.toList().awaitAll().toList()\n",
    "            }.toList().filter { it.isSuccess }.map { it.getOrNull()!! }.toList()\n",
    "        }.toList()\n",
    "    }\n",
    "\n",
    "val vulnInfo = _vulnInfo()\n",
    "vulnInfo.count()"
   ],
   "metadata": {
    "collapsed": false
   },
   "outputs": [],
   "execution_count": null
  },
  {
   "cell_type": "code",
   "source": [
    "System.gc()"
   ],
   "metadata": {
    "collapsed": false
   },
   "outputs": [],
   "execution_count": null
  },
  {
   "cell_type": "code",
   "source": [
    "fun Double.format(digits: Int) =\n",
    "    \"%.${digits}f\".format(this)\n",
    "\n",
    "fun Float.format(digits: Int) =\n",
    "    \"%.${digits}f\".format(this)"
   ],
   "metadata": {
    "collapsed": false
   },
   "outputs": [],
   "execution_count": null
  },
  {
   "cell_type": "code",
   "source": [
    "println(\"classCount median: ${vulnInfo.map { it.classCount }.median()} avg: ${vulnInfo.map { it.classCount }.average().format(2)}\")\n",
    "println(\"publicClassCount median: ${vulnInfo.map { it.publicClassCount }.median()} avg: ${vulnInfo.map { it.publicClassCount }.average().format(2)}\")\n",
    "// DISPLAY(\"publicClassesWithPublicApiCount: ${vulnInfo.map { it.publicClassesWithPublicApiCount }.median()}\")\n",
    "println(\"vulnClassCount median: ${vulnInfo.map { it.vulnClassCount }.median()} avg: ${vulnInfo.map { it.vulnClassCount }.average().format(2)}\")\n",
    "println(\"vulnPublicClassCount median: ${vulnInfo.map { it.vulnPublicClassCount }.median()} avg: ${vulnInfo.map { it.vulnPublicClassCount }.average().format(2)}\")\n",
    "println(\"apiSurfaceRatio median: ${vulnInfo.map { it.apiSurfaceRatio * 100 }.median().format(2)} avg: ${vulnInfo.map { it.apiSurfaceRatio * 100 }.average().format(2)}\")\n",
    "// DISPLAY(\"publicClassesWithPublicApiRatio: ${vulnInfo.map { it.publicClassesWithPublicApiCount.toDouble() / it.classCount.toDouble() }.map { it * 100 }.median()}\")\n",
    "println(\"vulnApiSurfaceRatio median: ${vulnInfo.map { it.vulnApiSurfaceRatio * 100 }.median().format(2)} avg: ${vulnInfo.map { it.vulnApiSurfaceRatio * 100 }.average().format(2)}\")"
   ],
   "metadata": {
    "collapsed": false
   },
   "outputs": [],
   "execution_count": null
  },
  {
   "cell_type": "code",
   "source": [
    "val p =\n",
    "    letsPlot(mapOf(\n",
    "        \"number of classes\" to vulnInfo.map { it.classCount.coerceAtMost(2800) })\n",
    "    ) +\n",
    "            geomHistogram(alpha = .3, binWidth = 200, center = 100) { x = \"number of classes\"; } +\n",
    "            xlim(limits = Pair(0, 3000)) +\n",
    "            ggsize(1800, 800)\n",
    "p"
   ],
   "metadata": {
    "collapsed": false
   },
   "outputs": [],
   "execution_count": null
  },
  {
   "cell_type": "code",
   "source": [
    "val p =\n",
    "    letsPlot(mapOf(\n",
    "        \"number of public classes\" to vulnInfo.map { it.publicClassCount.coerceAtMost(2800) })\n",
    "    ) +\n",
    "            geomHistogram(alpha = .3, binWidth = 200, center = 100) { x = \"number of public classes\"; } +\n",
    "            xlim(limits = Pair(0, 3000)) +\n",
    "            ggsize(1800, 800)\n",
    "p"
   ],
   "metadata": {
    "collapsed": false
   },
   "outputs": [],
   "execution_count": null
  },
  {
   "cell_type": "code",
   "source": [
    "val p =\n",
    "    letsPlot(mapOf(\n",
    "        \"number of vulnerable classes\" to vulnInfo.map { it.vulnClassCount.coerceAtMost(2800) })\n",
    "    ) +\n",
    "            geomHistogram(alpha = .3, binWidth = 200, center = 100) { x = \"number of vulnerable classes\"; } +\n",
    "            xlim(limits = Pair(0, 3000)) +\n",
    "            ggsize(1800, 800)\n",
    "p"
   ],
   "metadata": {
    "collapsed": false
   },
   "outputs": [],
   "execution_count": null
  },
  {
   "cell_type": "code",
   "source": [
    "val p =\n",
    "    letsPlot(mapOf(\n",
    "        \"number of vuln public classes\" to vulnInfo.map { it.vulnPublicClassCount.coerceAtMost(2800) })\n",
    "    ) +\n",
    "            geomHistogram(alpha = .3, binWidth = 200, center = 100) { x = \"number of vuln public classes\"; } +\n",
    "            xlim(limits = Pair(0, 3000)) +\n",
    "            ggsize(1800, 800)\n",
    "p"
   ],
   "metadata": {
    "collapsed": false
   },
   "outputs": [],
   "execution_count": null
  },
  {
   "cell_type": "code",
   "source": [
    "val p =\n",
    "    letsPlot(mapOf(\n",
    "        \"apiSurfaceRatio\" to vulnInfo.map { it.apiSurfaceRatio * 100 })\n",
    "    ) +\n",
    "            geomHistogram(alpha = .3, binWidth = 5, center = 2.5) { x = \"apiSurfaceRatio\"; } +\n",
    "            xlim(limits = Pair(0, 100)) +\n",
    "            ggsize(1800, 800)\n",
    "p"
   ],
   "metadata": {
    "collapsed": false
   },
   "outputs": [],
   "execution_count": null
  },
  {
   "cell_type": "code",
   "source": [
    "val p =\n",
    "    letsPlot(mapOf(\n",
    "        \"vulnApiSurfaceRatio\" to vulnInfo.map { it.vulnApiSurfaceRatio * 100 })\n",
    "    ) +\n",
    "            geomHistogram(alpha = .3, binWidth = 5, center = 2.5) { x = \"vulnApiSurfaceRatio\"; } +\n",
    "            xlim(limits = Pair(0, 100)) +\n",
    "            ggsize(1800, 800)\n",
    "p"
   ],
   "metadata": {
    "collapsed": false
   },
   "outputs": [],
   "execution_count": null
  },
  {
   "cell_type": "markdown",
   "source": [
    "what is the depth of vulnerability from public classes?"
   ],
   "metadata": {
    "collapsed": false
   }
  },
  {
   "cell_type": "code",
   "source": [
    "println(\"medianDistanceToVuln median: ${vulnInfo.map { it.medianDistToVuln }.median()} avg: ${vulnInfo.map { it.medianDistToVuln }.average().format(2)}\")\n",
    "println(\"averageDistanceToVuln median: ${vulnInfo.map { it.averageDistToVuln }.median()} avg: ${vulnInfo.map { it.averageDistToVuln }.average().format(2)}\")\n",
    "println(\"minDistanceToVuln median: ${vulnInfo.map { it.minDistToVuln }.median()} avg: ${vulnInfo.map { it.minDistToVuln }.average().format(2)}\")\n",
    "println(\"maxDistanceToVuln median: ${vulnInfo.map { it.maxDistToVuln }.median()} avg: ${vulnInfo.map { it.maxDistToVuln }.average().format(2)}\")"
   ],
   "metadata": {
    "collapsed": false
   },
   "outputs": [],
   "execution_count": null
  },
  {
   "cell_type": "code",
   "source": [
    "val p =\n",
    "    letsPlot(mapOf(\n",
    "        \"medianDistanceToVuln\" to vulnInfo.map { it.medianDistToVuln })\n",
    "    ) +\n",
    "            geomHistogram(alpha = .3, binWidth = 1, center = .5) { x = \"medianDistanceToVuln\"; } +\n",
    "            xlim(limits = Pair(0, 10)) +\n",
    "            ggsize(1800, 800)\n",
    "p"
   ],
   "metadata": {
    "collapsed": false
   },
   "outputs": [],
   "execution_count": null
  },
  {
   "cell_type": "code",
   "source": [
    "val p =\n",
    "    letsPlot(mapOf(\n",
    "        \"averageDistanceToVuln\" to vulnInfo.map { it.averageDistToVuln })\n",
    "    ) +\n",
    "            geomHistogram(alpha = .3, binWidth = 1, center = .5) { x = \"averageDistanceToVuln\"; } +\n",
    "            xlim(limits = Pair(0, 10)) +\n",
    "            ggsize(1800, 800)\n",
    "p"
   ],
   "metadata": {
    "collapsed": false
   },
   "outputs": [],
   "execution_count": null
  },
  {
   "cell_type": "code",
   "source": [
    "val p =\n",
    "    letsPlot(\n",
    "        mapOf(\"minDistanceToVuln\" to vulnInfo.map { it.maxDistToVuln })\n",
    "    ) { x = \"minDistanceToVuln\" } + ggsize(1800, 800) +\n",
    "            geomHistogram(alpha = .3, binWidth = 1, center = .5) +\n",
    "            geomDensity(alpha = 0, size = 1, adjust = 2) { y = \"..count..\" } + \n",
    "            xlim(limits = Pair(0, 30))\n",
    "\n",
    "p"
   ],
   "metadata": {
    "collapsed": false
   },
   "outputs": [],
   "execution_count": null
  }
 ],
 "metadata": {
  "kernelspec": {
   "display_name": "Kotlin",
   "language": "kotlin",
   "name": "kotlin"
  },
  "language_info": {
   "name": "kotlin",
   "version": "1.9.0",
   "mimetype": "text/x-kotlin",
   "file_extension": ".kt",
   "pygments_lexer": "kotlin",
   "codemirror_mode": "text/x-kotlin",
   "nbconvert_exporter": ""
  },
  "ktnbPluginMetadata": {
   "projectDependencies": true
  }
 },
 "nbformat": 4,
 "nbformat_minor": 0
}
