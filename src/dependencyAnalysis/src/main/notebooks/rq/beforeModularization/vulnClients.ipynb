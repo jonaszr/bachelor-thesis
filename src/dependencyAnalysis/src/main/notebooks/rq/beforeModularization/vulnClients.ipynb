{
 "cells": [
  {
   "cell_type": "code",
   "source": [
    "import kotlinx.coroutines.Dispatchers\n",
    "import kotlinx.coroutines.async\n",
    "import kotlinx.coroutines.awaitAll\n",
    "import kotlinx.coroutines.runBlocking\n",
    "import com.google.common.hash.Hashing\n",
    "import io.github.cdimascio.dotenv.Dotenv\n",
    "import java.nio.file.Paths\n",
    "\n",
    "%useLatestDescriptors\n",
    "%use lets-plot\n",
    "\n",
    "class Main\n",
    "\n",
    "val dotenv = Dotenv.load()\n",
    "val dataDir = dotenv.get(\"DATA_DIR\").let { Paths.get(it).toFile() }.also { it.mkdirs() }\n",
    "dataDir"
   ],
   "metadata": {
    "collapsed": false
   },
   "outputs": [],
   "execution_count": null
  },
  {
   "cell_type": "code",
   "source": [
    "import org.bson.BsonDocument\n",
    "import org.litote.kmongo.*\n",
    "\n",
    "val client = KMongo.createClient(\"mongodb://localhost:42692/\")\n",
    "val db = client.getDatabase(\"s5_snyk_libio\")\n",
    "val vulnCollection = db.getCollection<BsonDocument>(\"mergedVuln\")\n",
    "val vulnClientCollection = db.getCollection<BsonDocument>(\"mergedVulnClients\")"
   ],
   "metadata": {
    "collapsed": false
   },
   "outputs": [],
   "execution_count": null
  },
  {
   "metadata": {},
   "cell_type": "code",
   "outputs": [],
   "execution_count": null,
   "source": [
    "import com.mongodb.client.*\n",
    "\n",
    "private class MongoCursorIterable<T>(private val cursor: MongoCursor<T>) : MongoCursor<T> by cursor, Iterable<T> {\n",
    "\n",
    "    override fun iterator(): Iterator<T> = cursor\n",
    "}\n",
    "\n",
    "private fun <T> MongoIterable<T>.kCursor(): MongoCursorIterable<T> = MongoCursorIterable(iterator())\n",
    "\n",
    "fun <T, R> MongoIterable<T>.useCursor(block: (Iterable<T>) -> R): R {\n",
    "    return kCursor().use(block)\n",
    "}"
   ]
  },
  {
   "cell_type": "code",
   "source": [
    "import org.nield.kotlinstatistics.median\n",
    "\n",
    "val vulnCveGavToClasses = vulnCollection.find().useCursor { blk ->\n",
    "    blk.map {\n",
    "        val gav = it[\"vuln_gav\"]!!.asString().value\n",
    "        val cve = it[\"cve_ref\"]!!.asString().value.let { c -> if (c.isBlank()) it[\"snyk_url\"]!!.asString().value else c }\n",
    "        val vulnClasses = it[\"vuln_classes\"]!!.asArray().map { it.asString().value }.toSet()\n",
    "\n",
    "        if (vulnClasses.count() == 0) throw Exception(\"no vuln class (record should have been ommitted previously)\")\n",
    "\n",
    "        (cve to gav) to vulnClasses\n",
    "    }\n",
    "}.groupBy { it.first }.map { g -> g.key to g.value.flatMap { it -> it.second }.toSet() }.toMap()\n",
    "    \n",
    "println(vulnCveGavToClasses.count())\n",
    "println(vulnCveGavToClasses.map { it.value.size }.minOrNull())\n",
    "println(vulnCveGavToClasses.map { it.value.size }.maxOrNull())\n",
    "println(vulnCveGavToClasses.map { it.value.size }.average())\n",
    "println(vulnCveGavToClasses.map { it.value.size }.median())"
   ],
   "metadata": {
    "collapsed": false
   },
   "outputs": [],
   "execution_count": null
  },
  {
   "cell_type": "code",
   "source": [
    "val vulnCveGavPairToClasses = vulnClientCollection.find().useCursor { blk ->\n",
    "    blk.map {\n",
    "        val dep_gav = it[\"dep_gav\"]!!.asString().value\n",
    "        val client_gav = it[\"client_gav\"]!!.asString().value\n",
    "        val cve = it[\"cve\"]!!.asString().value.let { c -> if (c.isBlank()) it[\"snyk_url\"]!!.asString().value else c }\n",
    "        val vulnClasses = vulnCveGavToClasses[cve to dep_gav]!!\n",
    "        \n",
    "        if (vulnClasses.count() == 0) throw Exception(\"no vuln class (record should have been ommitted previously)\")\n",
    "\n",
    "        Triple(cve, dep_gav, client_gav) to vulnClasses\n",
    "    }\n",
    "}.groupBy { it.first }.map { g -> g.key to g.value.flatMap { it -> it.second }.toSet() }.toMap()\n",
    "    \n",
    "println(vulnCveGavPairToClasses.count())\n",
    "println(vulnCveGavPairToClasses.map { it.value.size }.minOrNull())\n",
    "println(vulnCveGavPairToClasses.map { it.value.size }.maxOrNull())\n",
    "println(vulnCveGavPairToClasses.map { it.value.size }.average())\n",
    "println(vulnCveGavPairToClasses.map { it.value.size }.median())\n",
    "println(vulnCveGavPairToClasses.keys.map { it.second }.toSet().count()) // are no client for some of the libs in our dataset"
   ],
   "metadata": {
    "collapsed": false
   },
   "outputs": [],
   "execution_count": null
  },
  {
   "cell_type": "code",
   "source": [
    "import common.DefaultGraph\n",
    "import io.github.classgraph.ClassInfoList\n",
    "import java.io.File\n",
    "import java.net.URLClassLoader\n",
    "import org.jgrapht.Graph\n",
    "import org.jgrapht.graph.DefaultEdge\n",
    "import org.jgrapht.graph.builder.GraphTypeBuilder\n",
    "\n",
    "fun loadDepGraph(gav: String): DefaultGraph = \n",
    "    scripts.exportDepGraphs.loadDepGraphFromCache(gav)\n",
    "\n",
    "fun loadClassListInfo(gav: String): ClassInfoList =\n",
    "    scripts.exportDepGraphs.loadClassInfoListFromCache(gav)\n",
    "\n",
    "fun loadVertexInfo(gav: String) =\n",
    "    scripts.exportDepGraphs.loadVertexInfo(gav)\n",
    "\n",
    "fun loadDepGraph(depGav: String, clientGav: String): DefaultGraph = \n",
    "    scripts.exportPairDepGraphs.loadDepGraphFromCache(depGav, clientGav)\n",
    "\n",
    "fun loadClassListInfo(depGav: String, clientGav: String): ClassInfoList =\n",
    "    scripts.exportPairDepGraphs.loadClassInfoListFromCache(depGav, clientGav)\n",
    "\n",
    "fun loadVertexInfo(depGav: String, clientGav: String) =\n",
    "    scripts.exportPairDepGraphs.loadVertexInfo(depGav, clientGav)"
   ],
   "metadata": {
    "collapsed": false
   },
   "outputs": [],
   "execution_count": null
  },
  {
   "cell_type": "code",
   "source": [
    "import com.google.common.collect.Queues\n",
    "\n",
    "/**\n",
    " * returns the depths of each visited node from the starting node\n",
    " */\n",
    "fun bfsOnDepGraph(graph: DefaultGraph, startNode: String): Map<String, Int> {\n",
    "    val expanded = mutableSetOf<String>()\n",
    "    val depthMap = mutableMapOf<String, Int>()\n",
    "    val queue = Queues.newArrayDeque<String>()\n",
    "    queue.add(startNode)\n",
    "    depthMap[startNode] = 0\n",
    "    while (!queue.isEmpty()) {\n",
    "        val node = queue.pop()\n",
    "        expanded.add(node)\n",
    "        val parentDepth = depthMap[node]!! \n",
    "        graph\n",
    "            .outgoingEdgesOf(node)\n",
    "            .map { e -> graph.getEdgeTarget(e) }\n",
    "            .filterNot { expanded.contains(it) }\n",
    "            .forEach { v ->\n",
    "                if (depthMap.containsKey(v)) {\n",
    "                    depthMap[v] = min(depthMap[v]!!, parentDepth + 1)\n",
    "                } else {\n",
    "                    depthMap[v] = parentDepth + 1;\n",
    "                }\n",
    "                queue.add(v)\n",
    "            }\n",
    "    }\n",
    "    return depthMap\n",
    "}"
   ],
   "metadata": {
    "collapsed": false
   },
   "outputs": [],
   "execution_count": null
  },
  {
   "cell_type": "code",
   "source": [
    "import common.DefaultGraph\n",
    "import io.github.classgraph.ClassGraph\n",
    "import io.github.classgraph.ClassInfo\n",
    "import io.github.classgraph.ClassInfoList\n",
    "import kotlinx.coroutines.Dispatchers\n",
    "import kotlinx.coroutines.async\n",
    "import kotlinx.coroutines.runBlocking\n",
    "import org.jgrapht.alg.shortestpath.FloydWarshallShortestPaths\n",
    "import org.jgrapht.alg.shortestpath.GraphMeasurer\n",
    "import org.jgrapht.graph.EdgeReversedGraph\n",
    "import org.jgrapht.traverse.BreadthFirstIterator\n",
    "import java.lang.reflect.Modifier\n",
    "import kotlin.Exception\n",
    "\n",
    "data class VulnAnalysisInfo(\n",
    "    val depClassCount: Int,\n",
    "    val depVulnClassCount: Int,\n",
    "    val clientClassCount: Int,\n",
    "    val depPublicClassCount: Int,\n",
    "    val clientPublicClassCount: Int,\n",
    "    val clientVulnClassCount: Int,\n",
    "    val clientVulnPublicClassCount: Int,\n",
    "    val depVulnPublicClassCount: Int,\n",
    "    val referenedPublicClassCount: Int,\n",
    "    val referenedVulnPublicClassCount: Int,\n",
    ") {\n",
    "    val depVulnRatio = depVulnClassCount.toDouble() / depClassCount.toDouble()\n",
    "    val depApiSurfaceRatio = depPublicClassCount.toDouble() / depClassCount.toDouble()\n",
    "    val depVulnApiSurfaceRatio = depVulnPublicClassCount.toDouble() / depPublicClassCount.toDouble()\n",
    "\n",
    "    val clientVulnRatio = clientVulnClassCount.toDouble() / clientClassCount.toDouble()\n",
    "    val clientApiSurfaceRatio = clientPublicClassCount.toDouble() / clientClassCount.toDouble()\n",
    "    val clientVulnApiSurfaceRatio = clientVulnPublicClassCount.toDouble() / clientPublicClassCount.toDouble()\n",
    "}\n",
    "\n",
    "System.gc()\n",
    "\n",
    "@kotlinx.coroutines.ExperimentalCoroutinesApi fun _vulnInfo() =\n",
    "    Dispatchers.IO.limitedParallelism(32).let { dispatcher ->\n",
    "        vulnCveGavPairToClasses.asSequence().windowed(512, 512, true).flatMapIndexed { batch, w ->\n",
    "            runBlocking {\n",
    "                System.gc()\n",
    "                println(\"processing batch $batch\")\n",
    "                w.map {\n",
    "                    async(dispatcher) {\n",
    "                        val depGav = it.key.second\n",
    "                        val clientGav = it.key.third\n",
    "                        val vulnClasses = it.value\n",
    "\n",
    "                        val depGraph = loadDepGraph(depGav, clientGav)\n",
    "\n",
    "                        val vertexInfo = loadVertexInfo(depGav, clientGav)\n",
    "                        val depVertexInfo = loadVertexInfo(depGav)\n",
    "                        val clientVertexInfo = vertexInfo.filterNot { depVertexInfo.containsKey(it.key) }.toMap()\n",
    "\n",
    "                        val depPublicClasses =\n",
    "                            depGraph\n",
    "                                .vertexSet()\n",
    "                                .filter { v -> depVertexInfo.containsKey(v) && Modifier.isPublic(vertexInfo[v]!!) }\n",
    "\n",
    "                        val publicApiUsages = depGraph.edgeSet().map { e ->\n",
    "                            val s = depGraph.getEdgeSource(e)\n",
    "                            val t = depGraph.getEdgeTarget(e)\n",
    "                            if (clientVertexInfo.keys.contains(s) && depVertexInfo.keys.contains(t)) s to t\n",
    "                            else null\n",
    "                        }.filterNotNull()\n",
    "\n",
    "                        val depPublicClassesUsedByClient = publicApiUsages.map { it.second }.toSet()\n",
    "\n",
    "                        val vulnDepPublicClassesUsedByClient = depPublicClassesUsedByClient.intersect(vulnClasses)\n",
    "\n",
    "                        val clientVulnRoots =\n",
    "                            publicApiUsages\n",
    "                                .filter { vulnDepPublicClassesUsedByClient.contains(it.second) }\n",
    "                                .map { it.first }\n",
    "\n",
    "                        val distToNearestVuln = mutableMapOf<String, Int>()\n",
    "                        vulnClasses.map {\n",
    "                            bfsOnDepGraph(EdgeReversedGraph(depGraph), it)\n",
    "                        }.forEach { m ->\n",
    "                            m.forEach { v, d ->\n",
    "                                if (distToNearestVuln.containsKey(v)) {\n",
    "                                    distToNearestVuln[v] = min(distToNearestVuln[v]!!, d)\n",
    "                                } else {\n",
    "                                    distToNearestVuln[v] = d\n",
    "                                }\n",
    "                            }\n",
    "                        }\n",
    "\n",
    "                        val allVulnClasses = distToNearestVuln.keys.toSet()\n",
    "                        val allClientVulnClasses = allVulnClasses.intersect(clientVertexInfo.keys)\n",
    "                        val clientPublicClasses = clientVertexInfo.keys.filter { v ->\n",
    "                            Modifier.isPublic(clientVertexInfo[v]!!)\n",
    "                        }\n",
    "                        val publicClientVulnClasses = allClientVulnClasses.intersect(clientPublicClasses)\n",
    "\n",
    "                        val depVulnClasses = distToNearestVuln.keys.filter { v ->\n",
    "                            depVertexInfo.containsKey(v)\n",
    "                        }.toSet()\n",
    "\n",
    "                        val depVulnPublicClasses = distToNearestVuln.keys.filter { v ->\n",
    "                            depVertexInfo.containsKey(v) && Modifier.isPublic(depVertexInfo[v]!!)\n",
    "                        }.toSet()\n",
    "\n",
    "                        val res = VulnAnalysisInfo(\n",
    "                            depClassCount = depVertexInfo.keys.size,\n",
    "                            depPublicClassCount = depPublicClasses.size,\n",
    "                            depVulnPublicClassCount = depVulnPublicClasses.size,\n",
    "                            depVulnClassCount = depVulnClasses.size,\n",
    "                            clientClassCount = clientVertexInfo.keys.size,\n",
    "                            clientPublicClassCount = clientPublicClasses.size,\n",
    "                            clientVulnClassCount = allClientVulnClasses.size,\n",
    "                            clientVulnPublicClassCount = publicClientVulnClasses.size,\n",
    "                            referenedPublicClassCount = depPublicClassesUsedByClient.size,\n",
    "                            referenedVulnPublicClassCount = vulnDepPublicClassesUsedByClient.size,\n",
    "                        )\n",
    "\n",
    "                        return@async Result.success(res)\n",
    "                    }\n",
    "                }.toList().awaitAll().toList()\n",
    "            }.toList().filter { it.isSuccess }.map { it.getOrNull()!! }.toList()\n",
    "        }.toList()\n",
    "    }\n",
    "\n",
    "val vulnInfo = _vulnInfo()\n",
    "vulnInfo.count()"
   ],
   "metadata": {
    "collapsed": false
   },
   "outputs": [],
   "execution_count": null
  },
  {
   "cell_type": "code",
   "source": [
    "fun Double.format(digits: Int) =\n",
    "    \"%.${digits}f\".format(this)\n",
    "\n",
    "fun Float.format(digits: Int) =\n",
    "    \"%.${digits}f\".format(this)"
   ],
   "metadata": {
    "collapsed": false
   },
   "outputs": [],
   "execution_count": null
  },
  {
   "cell_type": "code",
   "source": [
    "println(\"depClassCount median: ${vulnInfo.map { it.depClassCount }.median()} avg: ${vulnInfo.map { it.depClassCount }.average().format(2)}\")\n",
    "println(\"depClassCount min: ${vulnInfo.map { it.depClassCount }.min()} max: ${vulnInfo.map { it.depClassCount }.max()}\")\n",
    "println(\"depPublicClassCount median: ${vulnInfo.map { it.depPublicClassCount }.median()} avg: ${vulnInfo.map { it.depPublicClassCount }.average().format(2)}\")\n",
    "println(\"depVulnClassCount median: ${vulnInfo.map { it.depVulnClassCount }.median()} avg: ${vulnInfo.map { it.depVulnClassCount }.average().format(2)}\")\n",
    "println(\"depVulnPublicClassCount median: ${vulnInfo.map { it.depVulnPublicClassCount }.median()} avg: ${vulnInfo.map { it.depVulnPublicClassCount }.average().format(2)}\")\n",
    "println(\"depApiSurfaceRatio median: ${vulnInfo.map { it.depApiSurfaceRatio * 100 }.median().format(2)} avg: ${vulnInfo.map { it.depApiSurfaceRatio * 100 }.average().format(2)}\")\n",
    "println(\"depVulnApiSurfaceRatio median: ${vulnInfo.map { it.depVulnApiSurfaceRatio * 100 }.median().format(2)} avg: ${vulnInfo.map { it.depVulnApiSurfaceRatio * 100 }.average().format(2)}\")"
   ],
   "metadata": {
    "collapsed": false
   },
   "outputs": [],
   "execution_count": null
  },
  {
   "cell_type": "code",
   "source": [
    "import kotlin.Double.Companion\n",
    "\n",
    "println(\"clientClassCount median: ${vulnInfo.map { it.clientClassCount }.median()} avg: ${vulnInfo.map { it.clientClassCount }.average().format(2)}\")\n",
    "println(\"clientPublicClassCount median: ${vulnInfo.map { it.clientPublicClassCount }.median()} avg: ${vulnInfo.map { it.clientPublicClassCount }.average().format(2)}\")\n",
    "println(\"clientVulnClassCount median: ${vulnInfo.map { it.clientVulnClassCount }.median()} avg: ${vulnInfo.map { it.clientVulnClassCount }.average().format(2)}\")\n",
    "println(\"clientVulnPublicClassCount median: ${vulnInfo.map { it.clientVulnPublicClassCount }.median()} avg: ${vulnInfo.map { it.clientVulnPublicClassCount }.average().format(2)}\")\n",
    "println(\"clientApiSurfaceRatio median: ${vulnInfo.filterNot { it.clientApiSurfaceRatio.isNaN() }.map { it.clientApiSurfaceRatio * 100 }.median().format(2)} avg: ${vulnInfo.filterNot { it.clientApiSurfaceRatio.isNaN() }.map { it.clientApiSurfaceRatio * 100 }.average().format(2)}\")\n",
    "println(\"clientVulnApiSurfaceRatio median: ${vulnInfo.filterNot { it.clientVulnApiSurfaceRatio.isNaN() }.map { it.clientVulnApiSurfaceRatio * 100 }.median().format(2)} avg: ${vulnInfo.filterNot { it.clientVulnApiSurfaceRatio.isNaN() }.map { it.clientVulnApiSurfaceRatio * 100 }.average().format(2)}\")"
   ],
   "metadata": {
    "collapsed": false
   },
   "outputs": [],
   "execution_count": null
  },
  {
   "cell_type": "code",
   "source": [
    "val safeClientCount = vulnInfo.filter { it.clientVulnClassCount == 0 }.count()\n",
    "val vulnClientCount = vulnInfo.filter { it.clientVulnClassCount > 0 }.count()\n",
    "println(\"safe clients: ${safeClientCount} ratio: ${(safeClientCount.toDouble() / vulnInfo.count()).format(2)}\")\n",
    "println(\"vuln clients: ${vulnClientCount} ratio: ${(vulnClientCount.toDouble() / vulnInfo.count()).format(2)}\")"
   ],
   "metadata": {
    "collapsed": false
   },
   "outputs": [],
   "execution_count": null
  },
  {
   "cell_type": "code",
   "source": [
    "val nonSafeClientsInfo = vulnInfo.filter { it.clientPublicClassCount > 0 && it.clientVulnClassCount > 0 }\n",
    "nonSafeClientsInfo.count()"
   ],
   "metadata": {
    "collapsed": false
   },
   "outputs": [],
   "execution_count": null
  },
  {
   "cell_type": "code",
   "source": [
    "println(\"clientClassCount median: ${nonSafeClientsInfo.map { it.clientClassCount }.median()} avg: ${nonSafeClientsInfo.map { it.clientClassCount }.average().format(2)}\")\n",
    "println(\"clientPublicClassCount median: ${nonSafeClientsInfo.map { it.clientPublicClassCount }.median()} avg: ${nonSafeClientsInfo.map { it.clientPublicClassCount }.average().format(2)}\")\n",
    "println(\"clientVulnClassCount median: ${nonSafeClientsInfo.map { it.clientVulnClassCount }.median()} avg: ${nonSafeClientsInfo.map { it.clientVulnClassCount }.average().format(2)}\")\n",
    "println(\"clientVulnPublicClassCount median: ${nonSafeClientsInfo.map { it.clientVulnPublicClassCount }.median()} avg: ${nonSafeClientsInfo.map { it.clientVulnPublicClassCount }.average().format(2)}\")\n",
    "println(\"clientApiSurfaceRatio median: ${nonSafeClientsInfo.map { it.clientApiSurfaceRatio * 100 }.median().format(2)} avg: ${nonSafeClientsInfo.map { it.clientApiSurfaceRatio * 100 }.average().format(2)}\")\n",
    "println(\"clientVulnApiSurfaceRatio median: ${nonSafeClientsInfo.map { it.clientVulnApiSurfaceRatio * 100 }.median().format(2)} avg: ${nonSafeClientsInfo.map { it.clientVulnApiSurfaceRatio * 100 }.average().format(2)}\")"
   ],
   "metadata": {
    "collapsed": false
   },
   "outputs": [],
   "execution_count": null
  },
  {
   "cell_type": "code",
   "source": [
    "import org.jetbrains.kotlinx.dataframe.math.median\n",
    "\n",
    "println(\"(vulnInfo) referenedPublicClassCount median: ${vulnInfo.map { it.referenedPublicClassCount }.median()} average: ${vulnInfo.map { it.referenedPublicClassCount }.average()}\")\n",
    "println(\"referenedPublicClassCount median: ${nonSafeClientsInfo.map { it.referenedPublicClassCount }.median()} average: ${nonSafeClientsInfo.map { it.referenedPublicClassCount }.average()}\")\n",
    "println(\"referenedVulnPublicClassCount median: ${nonSafeClientsInfo.map { it.referenedVulnPublicClassCount * 100 }.median()} average: ${nonSafeClientsInfo.map { it.referenedVulnPublicClassCount }.average()}\")"
   ],
   "metadata": {
    "collapsed": false
   },
   "outputs": [],
   "execution_count": null
  },
  {
   "cell_type": "code",
   "source": [
    "val p =\n",
    "    letsPlot(\n",
    "        mapOf(\"clientClassCount\" to vulnInfo.filter{it.clientClassCount > 5_000}.map { it.clientClassCount })\n",
    "    ) { x = \"clientClassCount\" } + ggsize(1800, 800) +\n",
    "            geomHistogram(alpha = .3, binWidth = 10, center = 5) \n",
    "            // xlim(limits = Pair(0, 500))\n",
    "\n",
    "p"
   ],
   "metadata": {
    "collapsed": false
   },
   "outputs": [],
   "execution_count": null
  },
  {
   "cell_type": "code",
   "source": [
    "val p =\n",
    "    letsPlot(\n",
    "        mapOf(\"depClassCount\" to vulnInfo.filter{it.depClassCount > 5_000}.map { it.depClassCount })\n",
    "    ) { x = \"depClassCount\" } + ggsize(1800, 800) +\n",
    "            geomHistogram(alpha = .3, binWidth = 10, center = 5) \n",
    "            // xlim(limits = Pair(0, 500))\n",
    "\n",
    "p"
   ],
   "metadata": {
    "collapsed": false
   },
   "outputs": [],
   "execution_count": null
  },
  {
   "cell_type": "code",
   "source": [
    "ggsave(p, \"/tmp/hist.svg\")\n",
    "ggsave(p, \"/tmp/hist.png\")"
   ],
   "metadata": {
    "collapsed": false
   },
   "outputs": [],
   "execution_count": null
  },
  {
   "cell_type": "code",
   "source": [
    "val p =\n",
    "    letsPlot(\n",
    "        mapOf(\"clientClassCount\" to vulnInfo.map { it.clientClassCount.coerceAtMost(490) })\n",
    "    ) { x = \"clientClassCount\" } + ggsize(1800, 800) +\n",
    "            geomHistogram(alpha = .3, binWidth = 10, center = 5) +\n",
    "            xlim(limits = Pair(0, 500))\n",
    "\n",
    "p"
   ],
   "metadata": {
    "collapsed": false
   },
   "outputs": [],
   "execution_count": null
  },
  {
   "cell_type": "code",
   "source": [
    "val p =\n",
    "    letsPlot(\n",
    "        mapOf(\"clientApiSurfaceRatio\" to vulnInfo.map { it.clientApiSurfaceRatio * 100 })\n",
    "    ) { x = \"clientApiSurfaceRatio\" } + ggsize(1800, 800) +\n",
    "            geomHistogram(alpha = .3, binWidth = 2, center = 1) +\n",
    "            xlim(limits = Pair(0, 100))\n",
    "\n",
    "p"
   ],
   "metadata": {
    "collapsed": false
   },
   "outputs": [],
   "execution_count": null
  },
  {
   "cell_type": "code",
   "source": [
    "val p =\n",
    "    letsPlot(\n",
    "        mapOf(\"clientVulnClassCount\" to vulnInfo.map { it.clientVulnClassCount.coerceAtMost(19) })\n",
    "    ) { x = \"clientVulnClassCount\" } + ggsize(1800, 800) +\n",
    "            geomHistogram(alpha = .3, binWidth = 1, center = .5) +\n",
    "            xlim(limits = Pair(0, 20))\n",
    "\n",
    "p"
   ],
   "metadata": {
    "collapsed": false
   },
   "outputs": [],
   "execution_count": null
  },
  {
   "cell_type": "code",
   "source": [
    "val p =\n",
    "    letsPlot(\n",
    "        mapOf(\"clientVulnClassCount\" to vulnInfo.filter { it.clientVulnClassCount > 0 }.map { it.clientVulnClassCount.coerceAtMost(500) })\n",
    "    ) { x = \"clientVulnClassCount\" } + ggsize(1800, 800) +\n",
    "            geomHistogram(alpha = .3, binWidth = 1, center = .5) +\n",
    "            xlim(limits = Pair(0, 501))\n",
    "\n",
    "p"
   ],
   "metadata": {
    "collapsed": false
   },
   "outputs": [],
   "execution_count": null
  }
 ],
 "metadata": {
  "kernelspec": {
   "display_name": "Kotlin",
   "language": "kotlin",
   "name": "kotlin"
  },
  "language_info": {
   "name": "kotlin",
   "version": "1.9.0",
   "mimetype": "text/x-kotlin",
   "file_extension": ".kt",
   "pygments_lexer": "kotlin",
   "codemirror_mode": "text/x-kotlin",
   "nbconvert_exporter": ""
  },
  "ktnbPluginMetadata": {
   "projectDependencies": true
  }
 },
 "nbformat": 4,
 "nbformat_minor": 0
}
