{
 "cells": [
  {
   "cell_type": "code",
   "metadata": {
    "collapsed": true
   },
   "source": [
    "import kotlinx.coroutines.Dispatchers\n",
    "import kotlinx.coroutines.async\n",
    "import kotlinx.coroutines.awaitAll\n",
    "import kotlinx.coroutines.runBlocking\n",
    "import com.google.common.hash.Hashing\n",
    "import io.github.cdimascio.dotenv.Dotenv\n",
    "import java.nio.file.Paths\n",
    "\n",
    "%useLatestDescriptors\n",
    "%use lets-plot\n",
    "\n",
    "class Main\n",
    "\n",
    "val dotenv = Dotenv.load()\n",
    "val dataDir = dotenv.get(\"DATA_DIR\").let { Paths.get(it).toFile() }.also { it.mkdirs() }\n",
    "dataDir"
   ],
   "outputs": [],
   "execution_count": null
  },
  {
   "cell_type": "code",
   "source": [
    "import org.bson.BsonDocument\n",
    "import org.litote.kmongo.*\n",
    "\n",
    "val client = KMongo.createClient(\"mongodb://localhost:42692/\")\n",
    "val db = client.getDatabase(\"s5_snyk_libio\")\n",
    "val vulnCollection = db.getCollection<BsonDocument>(\"mergedVuln\")"
   ],
   "metadata": {
    "collapsed": false
   },
   "outputs": [],
   "execution_count": null
  },
  {
   "metadata": {},
   "cell_type": "code",
   "outputs": [],
   "execution_count": null,
   "source": [
    "import com.mongodb.client.*\n",
    "\n",
    "private class MongoCursorIterable<T>(private val cursor: MongoCursor<T>) : MongoCursor<T> by cursor, Iterable<T> {\n",
    "\n",
    "    override fun iterator(): Iterator<T> = cursor\n",
    "}\n",
    "\n",
    "private fun <T> MongoIterable<T>.kCursor(): MongoCursorIterable<T> = MongoCursorIterable(iterator())\n",
    "\n",
    "fun <T, R> MongoIterable<T>.useCursor(block: (Iterable<T>) -> R): R {\n",
    "    return kCursor().use(block)\n",
    "}"
   ]
  },
  {
   "cell_type": "code",
   "source": [
    "import org.bson.BsonNull\n",
    "import org.bson.BsonString\n",
    "import org.jetbrains.kotlinx.dataframe.math.mean\n",
    "import org.jetbrains.kotlinx.dataframe.math.median\n",
    "\n",
    "val vulnGavToClasses = vulnCollection.find().useCursor { blk ->\n",
    "    blk.map {\n",
    "        val gav = it[\"vuln_gav\"]!!.asString().value\n",
    "        val vulnClasses = it[\"vuln_classes\"]!!.asArray().map { it.asString().value }.toSet()\n",
    "\n",
    "        if (vulnClasses.count() == 0) throw Exception(\"no vuln class (record should have been ommitted previously)\")\n",
    "\n",
    "        gav to vulnClasses\n",
    "    }\n",
    "}.groupBy { it.first }.map { g -> g.key to g.value.flatMap { it -> it.second }.toSet() }.toMap()\n",
    "\n",
    "println(vulnGavToClasses.count())\n",
    "println(vulnGavToClasses.map { it.value.size }.minOrNull())\n",
    "println(vulnGavToClasses.map { it.value.size }.maxOrNull())\n",
    "println(vulnGavToClasses.map { it.value.size }.average())\n",
    "println(vulnGavToClasses.map { it.value.size }.median())"
   ],
   "metadata": {
    "collapsed": false
   },
   "outputs": [],
   "execution_count": null
  },
  {
   "cell_type": "code",
   "source": [
    "val vulnCveGavToClasses = vulnCollection.find().useCursor { blk ->\n",
    "    blk.map {\n",
    "        val gav = it[\"vuln_gav\"]!!.asString().value\n",
    "        val cve = it[\"cve_ref\"]!!.asString().value.let { c -> if (c.isBlank()) it[\"snyk_url\"]!!.asString().value else c }\n",
    "        val vulnClasses = it[\"vuln_classes\"]!!.asArray().map { it.asString().value }.toSet()\n",
    "\n",
    "        if (vulnClasses.count() == 0) throw Exception(\"no vuln class (record should have been ommitted previously)\")\n",
    "\n",
    "        (cve to gav) to vulnClasses\n",
    "    }\n",
    "}.groupBy { it.first }.map { g -> g.key to g.value.flatMap { it -> it.second }.toSet() }.toMap()\n",
    "    \n",
    "println(vulnCveGavToClasses.count())\n",
    "println(vulnCveGavToClasses.map { it.value.size }.minOrNull())\n",
    "println(vulnCveGavToClasses.map { it.value.size }.maxOrNull())\n",
    "println(vulnCveGavToClasses.map { it.value.size }.average())\n",
    "println(vulnCveGavToClasses.map { it.value.size }.median())"
   ],
   "metadata": {
    "collapsed": false
   },
   "outputs": [],
   "execution_count": null
  },
  {
   "cell_type": "code",
   "source": [
    "val data = mapOf(\n",
    "    \"x\" to vulnCveGavToClasses.map { it.value.size } + vulnGavToClasses.map { it.value.size },\n",
    "    \"t\" to vulnCveGavToClasses.map { \"vulnGavClassesPair\" } + vulnGavToClasses.map { \"vulnGavToClasses\" }\n",
    ")\n",
    "\n",
    "val p = letsPlot(data) +\n",
    "        geomHistogram(alpha = .3, binWidth = 1, center = 1.5) { x = \"x\"; color = \"t\"; fill = \"t\" } +\n",
    "        xlim(limits = Pair(1, 10)) +\n",
    "        ggsize(1800, 800) \n",
    "p"
   ],
   "metadata": {
    "collapsed": false
   },
   "outputs": [],
   "execution_count": null
  },
  {
   "cell_type": "code",
   "source": [
    "vulnCveGavToClasses.asSequence().shuffled().first()"
   ],
   "metadata": {
    "collapsed": false
   },
   "outputs": [],
   "execution_count": null
  },
  {
   "cell_type": "code",
   "source": [
    "val depGraphCacheDir = dataDir.resolve(\"interim/depGraphCache\")\n",
    "\n",
    "val gavToDepGraphCache = vulnGavToClasses\n",
    "    .map {\n",
    "        val cachePath = depGraphCacheDir.resolve(\"${it.key}.vertices.tsv.zip\")\n",
    "        if (!cachePath.isFile()) throw Exception(\"cache file not found\")\n",
    "        \n",
    "        it.key to cachePath\n",
    "    }\n",
    "    .toMap()\n",
    "gavToDepGraphCache.count()"
   ],
   "metadata": {
    "collapsed": false
   },
   "outputs": [],
   "execution_count": null
  },
  {
   "cell_type": "markdown",
   "source": [
    "there are 3812 gavs"
   ],
   "metadata": {
    "collapsed": false
   }
  },
  {
   "cell_type": "code",
   "source": [
    "import common.DefaultGraph\n",
    "import io.github.classgraph.ClassInfoList\n",
    "import java.io.File\n",
    "import java.net.URLClassLoader\n",
    "import org.jgrapht.Graph\n",
    "import org.jgrapht.graph.DefaultEdge\n",
    "import org.jgrapht.graph.builder.GraphTypeBuilder\n",
    "\n",
    "fun loadDepGraph(gav: String): DefaultGraph = \n",
    "    scripts.exportDepGraphs.loadDepGraphFromCache(gav)\n",
    "\n",
    "fun loadClassListInfo(gav: String): ClassInfoList =\n",
    "    scripts.exportDepGraphs.loadClassInfoListFromCache(gav)\n",
    "\n",
    "fun loadVertexInfo(gav: String) =\n",
    "    scripts.exportDepGraphs.loadVertexInfo(gav)"
   ],
   "metadata": {
    "collapsed": false
   },
   "outputs": [],
   "execution_count": null
  },
  {
   "cell_type": "code",
   "source": [
    "// import common.toJGraph\n",
    "// import io.github.classgraph.ClassGraph\n",
    "// import io.github.classgraph.ClassInfoList\n",
    "// import kotlinx.coroutines.async\n",
    "// import org.jgrapht.alg.shortestpath.GraphMeasurer\n",
    "// import org.jgrapht.graph.EdgeReversedGraph\n",
    "// import org.jgrapht.traverse.BreadthFirstIterator\n",
    "//\n",
    "// data class GeneralStat(\n",
    "//     // val radius: Double,\n",
    "//     val diameter: Double,\n",
    "// )\n",
    "//\n",
    "// val dispatcher = Dispatchers.IO.limitedParallelism(32)\n",
    "//\n",
    "// @kotlinx.coroutines.ExperimentalCoroutinesApi fun _getGeneralStats() =\n",
    "//     vulnGavToClasses.keys.asSequence().windowed(512, 512, true).flatMapIndexed { batch, w ->\n",
    "//         runBlocking {\n",
    "//             System.gc()\n",
    "//             println(\"processing batch $batch\")\n",
    "//             w.map {\n",
    "//                 async(dispatcher) {\n",
    "//                     val gav = it\n",
    "//                     val depGraph = loadDepGraph(gav)\n",
    "//                     val graphMeasurer = GraphMeasurer(depGraph)\n",
    "//\n",
    "//                     GeneralStat(\n",
    "//                         // radius = graphMeasurer.radius,\n",
    "//                         diameter = graphMeasurer.diameter,\n",
    "//                     )\n",
    "//                 }\n",
    "//             }.toList().awaitAll().toList()  //.filter { it.v != null }\n",
    "//         }.toList()\n",
    "//     }.toList()\n",
    "//\n",
    "// val stats = _getGeneralStats()\n",
    "// stats.count()"
   ],
   "metadata": {
    "collapsed": false
   },
   "outputs": [],
   "execution_count": null
  },
  {
   "cell_type": "markdown",
   "source": [
    "### how much of the library is dependent on the vuln class?"
   ],
   "metadata": {
    "collapsed": false
   }
  },
  {
   "cell_type": "code",
   "source": [
    "import common.toJGraph\n",
    "import io.github.classgraph.ClassGraph\n",
    "import io.github.classgraph.ClassInfoList\n",
    "import kotlinx.coroutines.async\n",
    "import org.jgrapht.graph.EdgeReversedGraph\n",
    "import org.jgrapht.traverse.BreadthFirstIterator\n",
    "\n",
    "data class Res(\n",
    "    val msg: String? = null,\n",
    "    val v: Triple<List<Double>, Double, Double>? = null,\n",
    "    val v2: Double? = null,\n",
    ")\n",
    "\n",
    "val dispatcher = Dispatchers.IO.limitedParallelism(32)\n",
    "\n",
    "@kotlinx.coroutines.ExperimentalCoroutinesApi fun _gavToVulnRatio() =\n",
    "    vulnCveGavToClasses.asSequence().windowed(512, 512, true).flatMapIndexed { batch, w ->\n",
    "        runBlocking {\n",
    "            System.gc()\n",
    "            println(\"processing batch $batch\")\n",
    "            w.map {\n",
    "                async(dispatcher) {\n",
    "                    val gav = it.key.second\n",
    "                    val vulnClasses = it.value\n",
    "                    \n",
    "                    val depGraph = loadDepGraph(gav)\n",
    "                    \n",
    "                    val vulnClassesInJar = vulnClasses.intersect(depGraph.vertexSet())\n",
    "                    if (vulnClassesInJar.size != vulnClasses.size) {\n",
    "                        println(\"vuln class number mismatch ${gav}\")\n",
    "                        println(\"$vulnClassesInJar\")\n",
    "                        println(\"$vulnClasses\")\n",
    "                    }\n",
    "\n",
    "                    val x = vulnClassesInJar.map {\n",
    "                        val _vulnClasses =\n",
    "                            BreadthFirstIterator(EdgeReversedGraph(depGraph), it).asSequence().toSet()\n",
    "\n",
    "                        val vulnRatio = _vulnClasses.size.toDouble() / depGraph.vertexSet().size.toDouble()\n",
    "                        _vulnClasses to vulnRatio\n",
    "                    }\n",
    "\n",
    "                    val vulnClassRatioList = x.map { it.second }\n",
    "                    val vulnRatioMedian = vulnClassRatioList.median()\n",
    "                    val vulnRatioAvg = vulnClassRatioList.average()\n",
    "\n",
    "                    val allVulnClasses = x.flatMap { it.first }.toSet()\n",
    "\n",
    "                    Res(\n",
    "                        v = Triple(vulnClassRatioList, vulnRatioMedian, vulnRatioAvg),\n",
    "                        v2 = allVulnClasses.count().toDouble() / depGraph.vertexSet().count().toDouble()\n",
    "                    )\n",
    "                }\n",
    "            }.toList().awaitAll().toList()  //.filter { it.v != null }\n",
    "        }.toList()\n",
    "    }.toList()\n",
    "\n",
    "val res = _gavToVulnRatio()\n",
    "\n",
    "// println(res.filter { it.msg != null }.map { it.msg!! }.joinToString(\"\\n\"))"
   ],
   "metadata": {
    "collapsed": false
   },
   "outputs": [],
   "execution_count": null
  },
  {
   "cell_type": "code",
   "source": [
    "val gavToVulnRatioPerClass = res.map { it.v!! }.toList()\n",
    "val gavToVulnRatioTotal = res.map { it.v2!! }.toList()\n",
    "gavToVulnRatioPerClass.count()"
   ],
   "metadata": {
    "collapsed": false
   },
   "outputs": [],
   "execution_count": null
  },
  {
   "cell_type": "code",
   "source": [
    "// ([vuln ratio], vuln ratio median, vuln ratio avg)\n",
    "gavToVulnRatioPerClass.sortedByDescending { abs(it.third - it.second) }.joinToString(\"\\n\")"
   ],
   "metadata": {
    "collapsed": false
   },
   "outputs": [],
   "execution_count": null
  },
  {
   "cell_type": "code",
   "source": [
    "gavToVulnRatioPerClass.flatMap {\n",
    "    it.first\n",
    "}.average()"
   ],
   "metadata": {
    "collapsed": false
   },
   "outputs": [],
   "execution_count": null
  },
  {
   "cell_type": "code",
   "source": [
    "gavToVulnRatioPerClass.flatMap {\n",
    "    it.first\n",
    "}.median()"
   ],
   "metadata": {
    "collapsed": false
   },
   "outputs": [],
   "execution_count": null
  },
  {
   "cell_type": "code",
   "source": [
    "gavToVulnRatioTotal.sorted().joinToString(\", \")"
   ],
   "metadata": {
    "collapsed": false
   },
   "outputs": [],
   "execution_count": null
  },
  {
   "cell_type": "code",
   "source": [
    "// this is what we care the most\n",
    "println(gavToVulnRatioTotal.median())\n",
    "println(gavToVulnRatioTotal.average())"
   ],
   "metadata": {
    "collapsed": false
   },
   "outputs": [],
   "execution_count": null
  },
  {
   "cell_type": "code",
   "source": [
    "val data = mapOf(\n",
    "    \"x\" to gavToVulnRatioPerClass.map { it.second * 100 } + gavToVulnRatioTotal.map { it * 100 },\n",
    "    \"color\" to gavToVulnRatioPerClass.map { \"vulnRatioMedianPerClass\" } + gavToVulnRatioTotal.map { \"vulnRatioMedian\" },\n",
    ")\n",
    "\n",
    "val p = letsPlot(data) +\n",
    "        geomHistogram(alpha = .6, binWidth = 5, center = 0, position = positionDodge()) { x = \"x\"; color = \"color\"; fill = \"color\"} +\n",
    "        xlim(Pair(0, 100)) +\n",
    "        ggsize(1400, 700)\n",
    "p"
   ],
   "metadata": {
    "collapsed": false
   },
   "outputs": [],
   "execution_count": null
  },
  {
   "cell_type": "markdown",
   "source": [
    "there is little dependency on vuln classes. it means we can hope that if we modularize the libraries, most artifacts (modules) will be non-vulnerable and still usable."
   ],
   "metadata": {
    "collapsed": false
   }
  }
 ],
 "metadata": {
  "kernelspec": {
   "display_name": "Kotlin",
   "language": "kotlin",
   "name": "kotlin"
  },
  "language_info": {
   "name": "kotlin",
   "version": "1.9.0",
   "mimetype": "text/x-kotlin",
   "file_extension": ".kt",
   "pygments_lexer": "kotlin",
   "codemirror_mode": "text/x-kotlin",
   "nbconvert_exporter": ""
  },
  "ktnbPluginMetadata": {
   "projectDependencies": true
  }
 },
 "nbformat": 4,
 "nbformat_minor": 0
}
